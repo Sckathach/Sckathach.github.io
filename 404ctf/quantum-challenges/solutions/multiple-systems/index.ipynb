{
 "cells": [
  {
   "cell_type": "raw",
   "id": "3881b24d-3bd5-42df-9bef-56c7495f83fc",
   "metadata": {},
   "source": [
    "---\n",
    "title: \"Solution Challenge 3: Let's get serious\"\n",
    "author: \"Le magicien quantique\"\n",
    "format: html\n",
    "toc: true\n",
    "number-sections: true\n",
    "date: \"05/12/2024\"\n",
    "date-format: long\n",
    "---"
   ]
  },
  {
   "cell_type": "markdown",
   "id": "55349f7c-05fa-4a31-9c59-94705f93e507",
   "metadata": {},
   "source": [
    "## Before we begin\n",
    "\n",
    "Here are versions of the utility functions for 1 and 2 qubits."
   ]
  },
  {
   "cell_type": "code",
   "execution_count": 1,
   "id": "d2ae73a7-84be-49d4-9a81-31f1aa0a3950",
   "metadata": {
    "ExecuteTime": {
     "end_time": "2024-05-18T08:07:44.276633Z",
     "start_time": "2024-05-18T08:07:42.756743Z"
    }
   },
   "outputs": [],
   "source": [
    "from perceval import pdisplay, PS, BS, Circuit, BasicState, Processor, PERM\n",
    "from perceval.components import Unitary\n",
    "from perceval.backends import BackendFactory\n",
    "from perceval.algorithm import Analyzer, Sampler\n",
    "import perceval as pcvl\n",
    "from exqalibur import FockState\n",
    "\n",
    "from qiskit.visualization import plot_bloch_multivector\n",
    "from qiskit.quantum_info import Statevector\n",
    "\n",
    "import matplotlib.pyplot as plt\n",
    "from numpy import pi, cos, sin, sqrt\n",
    "import numpy as np\n",
    "\n",
    "from typing import List, Dict, Tuple, Union, Optional\n",
    "\n",
    "qubits = {\n",
    "    \"0\": BasicState([1, 0]),\n",
    "    \"1\": BasicState([0, 1]),\n",
    "    \"00\": BasicState([1, 0, 1, 0]),\n",
    "    \"01\": BasicState([1, 0, 0, 1]),\n",
    "    \"10\": BasicState([0, 1, 1, 0]),\n",
    "    \"11\": BasicState([0, 1, 0, 1])\n",
    "}\n",
    "qubits_ = {qubits[k]: k for k in qubits}\n",
    "sqlist = [qubits[\"0\"], qubits[\"1\"]]\n",
    "mqlist = [qubits[\"00\"], qubits[\"01\"], qubits[\"10\"], qubits[\"11\"]]\n",
    "\n",
    "def analyze(circuit: Circuit, input_states: Optional[FockState] = None, output_states: Optional[FockState] = None) \\\n",
    "        -> None:\n",
    "    if len(circuit.depths()) == 2:\n",
    "        states = sqlist\n",
    "    else:\n",
    "        states = mqlist\n",
    "\n",
    "    if input_states is None:\n",
    "        input_states = states\n",
    "    if output_states is None:\n",
    "        output_states = states\n",
    "\n",
    "    p = Processor(\"Naive\", circuit)\n",
    "    a = Analyzer(p, input_states, output_states, mapping=qubits_)\n",
    "    pdisplay(a)\n",
    "\n",
    "def amplitudes(circuit: Circuit, input_state: Optional[FockState] = None, output_states: Optional[FockState] = None) \\\n",
    "        -> (complex, complex):\n",
    "    if input_state is None:\n",
    "        if len(circuit.depths()) == 2:\n",
    "            input_state = qubits[\"0\"]\n",
    "        else:\n",
    "            input_state = qubits[\"00\"]\n",
    "\n",
    "    if output_states is None:\n",
    "        if len(circuit.depths()) == 2:\n",
    "            output_states = sqlist\n",
    "        else:\n",
    "            output_states = mqlist\n",
    "\n",
    "    b = BackendFactory.get_backend(\"Naive\")\n",
    "    b.set_circuit(circuit)\n",
    "    b.set_input_state(input_state)\n",
    "    return {qubits_[k]: roundc(b.prob_amplitude(k)) for k in output_states}\n",
    "\n",
    "def measure2p(processor: Processor, input_state: Optional[FockState] = None) -> None:\n",
    "    if input_state is None:\n",
    "        input_state = qubits[\"00\"]\n",
    "\n",
    "    # We enforce the rule: the sum of photons per pair of rails must be equal to 1.\n",
    "    processor.set_postselection(pcvl.utils.PostSelect(\"[0,1]==1 & [2,3]==1\"))\n",
    "    processor.min_detected_photons_filter(0)\n",
    "    \n",
    "    # Finally, we take the measurement:\n",
    "    processor.with_input(input_state)\n",
    "    measure2p_s = pcvl.algorithm.Sampler(processor)\n",
    "\n",
    "    print(f\"Input: {qubits_[input_state]}\")\n",
    "    for k, v in measure2p_s.probs()[\"results\"].items():\n",
    "        print(f\"> {qubits_[k]}: {round(v, 2)}\")\n",
    "\n",
    "def roundc(c, decimals: int = 2):\n",
    "    return round(c.real, decimals) + round(c.imag, decimals) * 1j"
   ]
  },
  {
   "cell_type": "markdown",
   "id": "c205ecad-b578-4a2a-a27b-619ca4fc8a44",
   "metadata": {},
   "source": [
    "![dicaprio_laugh_meme.jpg](memes/challenge_3-english.jpg)\n",
    "\n",
    "## Multiple Systems\n",
    "\n",
    "The concepts discussed for simple systems, *concatenation of gates, measurements, probabilities*..., are still valid for **multiple systems**. To add a qubit, you will need to apply **tensor products to the gates** as well as to the basis states.\n",
    "\n",
    "Suppose we have a qubit $A$ and a qubit $B$, respectively in states $|\\psi\\rangle$ and $|\\phi\\rangle$. Then the system $(A, B)$ is in the state $|\\psi\\rangle \\otimes |\\phi\\rangle = |\\psi \\otimes \\phi\\rangle$ (depending on the writing conventions).\n",
    "\n",
    "The canonical basis then becomes:\n",
    "$$\n",
    "|00\\rangle = |0\\rangle \\otimes |0\\rangle = \\begin{pmatrix} 1 \\\\ 0 \\end{pmatrix}\\otimes \\begin{pmatrix} 1 \\\\ 0 \\end{pmatrix} = \\begin{pmatrix}\n",
    "1 \\times \\begin{pmatrix} 1 \\\\ 0 \\end{pmatrix} \\\\ \n",
    "0 \\times \\begin{pmatrix} 1 \\\\ 0 \\end{pmatrix} \n",
    "\\end{pmatrix} = \\begin{pmatrix} 1 \\\\ 0 \\\\ 0 \\\\ 0  \\end{pmatrix},\n",
    "$$\n",
    "$$\n",
    "|01\\rangle = \\begin{pmatrix} 0 \\\\ 1 \\\\ 0 \\\\ 0  \\end{pmatrix}, \n",
    "$$\n",
    "$$\n",
    "|10\\rangle = \\begin{pmatrix} 0 \\\\ 0 \\\\ 1 \\\\ 0  \\end{pmatrix},\n",
    "$$\n",
    "$$\n",
    "|11\\rangle = \\begin{pmatrix} 0 \\\\ 0 \\\\ 0 \\\\ 1  \\end{pmatrix}\n",
    "$$\n",
    "\n",
    "It's the same for logic gates: **if we apply $U_1$ to $A$ and $U_2$ to $B$, then we apply $U_1 \\otimes U_2$ to $A \\otimes B$.**\n",
    "\n",
    "For example, if we apply $H$ to $|0\\rangle$ and nothing (i.e., the identity) to $|1\\rangle$. The matrix of the operation on the system is thus $H \\otimes I$. The circuit is as follows:"
   ]
  },
  {
   "cell_type": "code",
   "execution_count": 2,
   "id": "ed97f7ab-8076-4520-95b0-d4ca2ac73e8b",
   "metadata": {
    "ExecuteTime": {
     "end_time": "2024-05-01T20:07:14.869705Z",
     "start_time": "2024-05-01T20:07:14.860940Z"
    }
   },
   "outputs": [
    {
     "data": {
      "image/svg+xml": [
       "<?xml version=\"1.0\" encoding=\"UTF-8\"?>\n",
       "<svg xmlns=\"http://www.w3.org/2000/svg\" xmlns:xlink=\"http://www.w3.org/1999/xlink\"\n",
       "     width=\"257.5\" height=\"281.25\" viewBox=\"-28.0 0 206.0 225.0\">\n",
       "<defs>\n",
       "</defs>\n",
       "<path d=\"M10,25 L25,25\" stroke-width=\"3\" stroke=\"darkred\" stroke-linejoin=\"miter\" fill=\"none\" />\n",
       "<path d=\"M10,75 L25,75\" stroke-width=\"3\" stroke=\"darkred\" stroke-linejoin=\"miter\" fill=\"none\" />\n",
       "<path d=\"M10,125 L25,125\" stroke-width=\"3\" stroke=\"darkred\" stroke-linejoin=\"miter\" fill=\"none\" />\n",
       "<path d=\"M10,175 L25,175\" stroke-width=\"3\" stroke=\"darkred\" stroke-linejoin=\"miter\" fill=\"none\" />\n",
       "<path d=\"M25,25 L53,25 L72,44\" stroke=\"darkred\" stroke-width=\"3\" fill=\"none\" />\n",
       "<path d=\"M78,44 L97,25 L125,25\" stroke=\"darkred\" stroke-width=\"3\" fill=\"none\" />\n",
       "<path d=\"M25,75 L53,75 L72,56\" stroke=\"darkred\" stroke-width=\"3\" fill=\"none\" />\n",
       "<path d=\"M78,56 L97,75 L125,75\" stroke=\"darkred\" stroke-width=\"3\" fill=\"none\" />\n",
       "<path d=\"M50,43 L100,43 L100,57 L50,57 Z\" stroke=\"black\" fill=\"black\" stroke-linejoin=\"miter\" />\n",
       "<text x=\"75\" y=\"85\" font-size=\"7\" text-anchor=\"middle\"></text>\n",
       "<text x=\"75\" y=\"26\" font-size=\"7\" text-anchor=\"middle\"></text>\n",
       "<path d=\"M50,43 L100,43 L100,47 L50,47 Z\" stroke=\"black\" fill=\"lightgray\" stroke-linejoin=\"miter\" />\n",
       "<path d=\"M93,50 L103,50 L103,60 L93,60 Z\" stroke=\"black\" fill=\"aquamarine\" stroke-linejoin=\"miter\" />\n",
       "<text x=\"98\" y=\"57\" font-size=\"6\" text-anchor=\"middle\">H</text>\n",
       "<path d=\"M25,125 L125,125\" stroke=\"darkred\" stroke-width=\"3\" fill=\"none\" />\n",
       "<path d=\"M25,175 L125,175\" stroke=\"darkred\" stroke-width=\"3\" fill=\"none\" />\n",
       "<path d=\"M125,25 L140,25\" stroke-width=\"3\" stroke=\"darkred\" stroke-linejoin=\"miter\" fill=\"none\" />\n",
       "<path d=\"M125,75 L140,75\" stroke-width=\"3\" stroke=\"darkred\" stroke-linejoin=\"miter\" fill=\"none\" />\n",
       "<path d=\"M125,125 L140,125\" stroke-width=\"3\" stroke=\"darkred\" stroke-linejoin=\"miter\" fill=\"none\" />\n",
       "<path d=\"M125,175 L140,175\" stroke-width=\"3\" stroke=\"darkred\" stroke-linejoin=\"miter\" fill=\"none\" />\n",
       "<text x=\"150\" y=\"28\" font-size=\"6\" text-anchor=\"end\">0</text>\n",
       "<text x=\"150\" y=\"78\" font-size=\"6\" text-anchor=\"end\">1</text>\n",
       "<text x=\"150\" y=\"128\" font-size=\"6\" text-anchor=\"end\">2</text>\n",
       "<text x=\"150\" y=\"178\" font-size=\"6\" text-anchor=\"end\">3</text>\n",
       "<text x=\"0\" y=\"28\" font-size=\"6\" text-anchor=\"start\">0</text>\n",
       "<text x=\"0\" y=\"78\" font-size=\"6\" text-anchor=\"start\">1</text>\n",
       "<text x=\"0\" y=\"128\" font-size=\"6\" text-anchor=\"start\">2</text>\n",
       "<text x=\"0\" y=\"178\" font-size=\"6\" text-anchor=\"start\">3</text>\n",
       "</svg>"
      ],
      "text/plain": [
       "<drawsvg.drawing.Drawing at 0x7df1c8e4d1d0>"
      ]
     },
     "execution_count": 2,
     "metadata": {},
     "output_type": "execute_result"
    }
   ],
   "source": [
    "c = Circuit(4) // (0, BS.H())\n",
    "pdisplay(c)"
   ]
  },
  {
   "cell_type": "markdown",
   "id": "b9965913-2c32-4fbb-8ca9-7cf41577fa39",
   "metadata": {},
   "source": [
    "We expect to have: \n",
    "$$\n",
    "\\DeclareMathOperator{\\H}{H}\n",
    "\\DeclareMathOperator{\\I}{I}\n",
    "$$\n",
    "\n",
    "$$\n",
    "|0\\rangle \\otimes |1\\rangle \\rightarrow \\begin{cases} \n",
    "    \\text{Top: } |0\\rangle \\longrightarrow \\H \\longrightarrow \\frac{1}{\\sqrt{2}}|0\\rangle+\\frac{1}{\\sqrt{2}}|1\\rangle \\\\\n",
    "    \\text{Bottom:  } |1\\rangle \\longrightarrow \\I \\longrightarrow |1\\rangle\n",
    "\\end{cases} \\rightarrow \\left(\\frac{1}{\\sqrt{2}}|0\\rangle+\\frac{1}{\\sqrt{2}}|1\\rangle\\right)\\otimes|1\\rangle \n",
    "$$\n",
    "\n",
    "This gives the state: \n",
    "$$\n",
    "\\left(\\frac{1}{\\sqrt{2}}|0\\rangle+\\frac{1}{\\sqrt{2}}|1\\rangle\\right)\\otimes|1\\rangle = \\frac{1}{\\sqrt{2}}|01\\rangle+\\frac{1}{\\sqrt{2}}|11\\rangle\n",
    "$$\n",
    "\n",
    "In practice, we determine the logic gate $U$, where $U = H \\otimes I$, so:\n",
    "$$\n",
    "U = \\frac{1}{\\sqrt{2}}\\begin{pmatrix}1 & 1 \\\\ 1& -1\\end{pmatrix} \\otimes \\begin{pmatrix} 1&0 \\\\ 0& 1 \\end{pmatrix} = \\frac{1}{\\sqrt{2}}\\begin{pmatrix} 1\\times\\begin{pmatrix} 1&0 \\\\ 0& 1 \\end{pmatrix}&1\\times\\begin{pmatrix} 1&0 \\\\ 0& 1 \\end{pmatrix}\\\\1\\times\\begin{pmatrix} 1&0 \\\\ 0& 1 \\end{pmatrix}&-1\\times\\begin{pmatrix} 1&0 \\\\ 0& 1 \\end{pmatrix} \\end{pmatrix}= \\frac{1}{\\sqrt{2}}\\begin{pmatrix} 1&0&1&0\\\\0&1&0&1\\\\1&0&-1&0\\\\0&1&0&-1\\end{pmatrix}\n",
    "$$\n",
    "\n",
    "This gives us with our input: \n",
    "$$\n",
    "|01\\rangle = \\begin{pmatrix} 0\\\\1\\\\0\\\\0\\end{pmatrix}, \n",
    "$$\n",
    "$$\n",
    "\\frac{1}{\\sqrt{2}}\\begin{pmatrix} 1&0&1&0\\\\0&1&0&1\\\\1&0&-1&0\\\\0&1&0&-1\\end{pmatrix} \\begin{pmatrix} 0\\\\1\\\\0\\\\0\\end{pmatrix} = \\frac{1}{\\sqrt{2}}\\begin{pmatrix} 0\\\\1\\\\0\\\\1\\end{pmatrix} = \\frac{1}{\\sqrt{2}} |01\\rangle + \\frac{1}{\\sqrt{2}} |11\\rangle\n",
    "$$\n",
    "\n",
    "Which corresponds exactly to the expected result.\n",
    "\n",
    "*If you would like a more detailed explanation, you can check out this course offered by IBM: https://learning.quantum.ibm.com/course/basics-of-quantum-information/multiple-systems.*\n",
    "\n",
    "### Quantum Entanglement\n",
    "\n",
    "A very interesting property of qubits is that they can be separated, but also **entangled**, meaning they are dependent on each other. This allows, for example, to act on one qubit and obtain information about the second one.\n",
    "\n",
    "If we take the entangled state $|\\psi\\rangle = \\frac{1}{\\sqrt{2}}(|00\\rangle + |11\\rangle)$, and we measure the first qubit (we have a 50% chance of getting $0$ and correspondingly $1$), the state of the second qubit is entirely determined without measuring it! Indeed, if we measure $0$ for the first qubit, then the second is necessarily also $0$. However, since the measurement of the first qubit is random, this does not allow information to be teleported faster than the speed of light, as from the other perspective, one does not know the state of the measurement (before receiving the information through a classical channel, for example).\n",
    "\n",
    "A counterexample is the state $|\\psi\\rangle = \\frac{1}{2}(|00\\rangle + |01\\rangle + |10\\rangle + |11\\rangle) = \\frac{1}{\\sqrt{2}}(|0\\rangle + |1\\rangle) \\otimes \\frac{1}{\\sqrt{2}}(|0\\rangle + |1\\rangle)$. Measuring the first qubit does not give any information about the second; the two qubits are **independent** or **separable**.\n",
    "\n",
    "### The Controlled-NOT (CNOT) Gate\n",
    "\n",
    "The flagship gate of quantum entanglement is the controlled NOT gate (or CNOT or cX). It acts on 2 qubits, and **performs the NOT operation on the second qubit only when the first qubit is $|1\\rangle$, otherwise it leaves it unchanged**. Its matrix is as follows:\n",
    "\n",
    "$$\n",
    "\\DeclareMathOperator{\\CNOT}{CNOT}\n",
    "$$\n",
    "\n",
    "$$\n",
    "\\CNOT = \\begin{pmatrix}1&0&0&0\\\\0&1&0&0\\\\0&0&0&1\\\\0&0&1&0\\end{pmatrix}\n",
    "$$\n",
    "Ou encore : \n",
    "$$\n",
    "\\CNOT = \n",
    "\\begin{cases}\n",
    "    |00 \\rangle \\xrightarrow[]{I \\otimes I} |00 \\rangle \\\\\n",
    "    |01 \\rangle \\xrightarrow[]{I \\otimes I} |01 \\rangle \\\\\n",
    "    |10 \\rangle \\xrightarrow[]{I \\otimes NOT} |11 \\rangle \\\\\n",
    "    |11 \\rangle \\xrightarrow[]{I \\otimes NOT} |10 \\rangle \n",
    "\\end{cases}\n",
    "$$\n",
    "\n",
    "Its implementation with photons is quite technical, and it hides problems related to our way of encoding qubits. Therefore, we will rely on the definition proposed by Quandela to use this gate in our circuits."
   ]
  },
  {
   "cell_type": "code",
   "execution_count": 3,
   "id": "0a5ccea5-9e67-40ea-8568-274617c722f9",
   "metadata": {
    "ExecuteTime": {
     "end_time": "2024-05-01T20:07:14.879469Z",
     "start_time": "2024-05-01T20:07:14.871285Z"
    }
   },
   "outputs": [],
   "source": [
    "from perceval.components import catalog\n",
    "cnot = catalog[\"klm cnot\"].build_circuit()\n",
    "# https://github.com/Quandela/Perceval/blob/main/perceval/components/core_catalog/klm_cnot.py"
   ]
  },
  {
   "cell_type": "code",
   "execution_count": 4,
   "id": "65bb2208-9e10-4ff4-8ae8-1f0730845399",
   "metadata": {
    "ExecuteTime": {
     "end_time": "2024-05-01T20:07:15.212523Z",
     "start_time": "2024-05-01T20:07:14.889439Z"
    }
   },
   "outputs": [
    {
     "data": {
      "image/svg+xml": [
       "<?xml version=\"1.0\" encoding=\"UTF-8\"?>\n",
       "<svg xmlns=\"http://www.w3.org/2000/svg\" xmlns:xlink=\"http://www.w3.org/1999/xlink\"\n",
       "     width=\"1323.75\" height=\"531.25\" viewBox=\"-29.5 0 1059.0 425.0\">\n",
       "<defs>\n",
       "</defs>\n",
       "<path d=\"M10,25 L25,25\" stroke-width=\"3\" stroke=\"darkred\" stroke-linejoin=\"miter\" fill=\"none\" />\n",
       "<path d=\"M10,75 L25,75\" stroke-width=\"3\" stroke=\"darkred\" stroke-linejoin=\"miter\" fill=\"none\" />\n",
       "<path d=\"M10,125 L25,125\" stroke-width=\"3\" stroke=\"darkred\" stroke-linejoin=\"miter\" fill=\"none\" />\n",
       "<path d=\"M10,175 L25,175\" stroke-width=\"3\" stroke=\"darkred\" stroke-linejoin=\"miter\" fill=\"none\" />\n",
       "<path d=\"M10,225 L25,225\" stroke-width=\"3\" stroke=\"darkred\" stroke-linejoin=\"miter\" fill=\"none\" />\n",
       "<path d=\"M10,275 L25,275\" stroke-width=\"3\" stroke=\"darkred\" stroke-linejoin=\"miter\" fill=\"none\" />\n",
       "<path d=\"M10,325 L25,325\" stroke-width=\"3\" stroke=\"darkred\" stroke-linejoin=\"miter\" fill=\"none\" />\n",
       "<path d=\"M10,375 L25,375\" stroke-width=\"3\" stroke=\"darkred\" stroke-linejoin=\"miter\" fill=\"none\" />\n",
       "<path d=\"M28,75 L72,175\" stroke=\"white\" stroke-width=\"6\" fill=\"none\" />\n",
       "<path d=\"M25,75 L28,75 L72,175 L75,175\" stroke=\"darkred\" stroke-width=\"3\" fill=\"none\" />\n",
       "<path d=\"M28,125 L72,275\" stroke=\"white\" stroke-width=\"6\" fill=\"none\" />\n",
       "<path d=\"M25,125 L28,125 L72,275 L75,275\" stroke=\"darkred\" stroke-width=\"3\" fill=\"none\" />\n",
       "<path d=\"M28,175 L72,225\" stroke=\"white\" stroke-width=\"6\" fill=\"none\" />\n",
       "<path d=\"M25,175 L28,175 L72,225 L75,225\" stroke=\"darkred\" stroke-width=\"3\" fill=\"none\" />\n",
       "<path d=\"M28,225 L72,75\" stroke=\"white\" stroke-width=\"6\" fill=\"none\" />\n",
       "<path d=\"M25,225 L28,225 L72,75 L75,75\" stroke=\"darkred\" stroke-width=\"3\" fill=\"none\" />\n",
       "<path d=\"M28,275 L72,125\" stroke=\"white\" stroke-width=\"6\" fill=\"none\" />\n",
       "<path d=\"M25,275 L28,275 L72,125 L75,125\" stroke=\"darkred\" stroke-width=\"3\" fill=\"none\" />\n",
       "<path d=\"M75,225 L103,225 L122,244\" stroke=\"darkred\" stroke-width=\"3\" fill=\"none\" />\n",
       "<path d=\"M128,244 L147,225 L175,225\" stroke=\"darkred\" stroke-width=\"3\" fill=\"none\" />\n",
       "<path d=\"M75,275 L103,275 L122,256\" stroke=\"darkred\" stroke-width=\"3\" fill=\"none\" />\n",
       "<path d=\"M128,256 L147,275 L175,275\" stroke=\"darkred\" stroke-width=\"3\" fill=\"none\" />\n",
       "<path d=\"M100,243 L150,243 L150,257 L100,257 Z\" stroke=\"black\" fill=\"black\" stroke-linejoin=\"miter\" />\n",
       "<text x=\"125\" y=\"285\" font-size=\"7\" text-anchor=\"middle\"></text>\n",
       "<text x=\"125\" y=\"226\" font-size=\"7\" text-anchor=\"middle\"></text>\n",
       "<path d=\"M100,243 L150,243 L150,247 L100,247 Z\" stroke=\"black\" fill=\"lightgray\" stroke-linejoin=\"miter\" />\n",
       "<path d=\"M143,250 L153,250 L153,260 L143,260 Z\" stroke=\"black\" fill=\"aquamarine\" stroke-linejoin=\"miter\" />\n",
       "<text x=\"148\" y=\"257\" font-size=\"6\" text-anchor=\"middle\">H</text>\n",
       "<path d=\"M75,175 L175,175\" stroke=\"darkred\" stroke-width=\"3\" fill=\"none\" />\n",
       "<path d=\"M25,325 L175,325\" stroke=\"darkred\" stroke-width=\"3\" fill=\"none\" />\n",
       "<path d=\"M25,375 L175,375\" stroke=\"darkred\" stroke-width=\"3\" fill=\"none\" />\n",
       "<path d=\"M178,175 L222,225\" stroke=\"white\" stroke-width=\"6\" fill=\"none\" />\n",
       "<path d=\"M175,175 L178,175 L222,225 L225,225\" stroke=\"darkred\" stroke-width=\"3\" fill=\"none\" />\n",
       "<path d=\"M178,225 L222,325\" stroke=\"white\" stroke-width=\"6\" fill=\"none\" />\n",
       "<path d=\"M175,225 L178,225 L222,325 L225,325\" stroke=\"darkred\" stroke-width=\"3\" fill=\"none\" />\n",
       "<path d=\"M178,275 L222,175\" stroke=\"white\" stroke-width=\"6\" fill=\"none\" />\n",
       "<path d=\"M175,275 L178,275 L222,175 L225,175\" stroke=\"darkred\" stroke-width=\"3\" fill=\"none\" />\n",
       "<path d=\"M178,325 L222,375\" stroke=\"white\" stroke-width=\"6\" fill=\"none\" />\n",
       "<path d=\"M175,325 L178,325 L222,375 L225,375\" stroke=\"darkred\" stroke-width=\"3\" fill=\"none\" />\n",
       "<path d=\"M178,375 L222,275\" stroke=\"white\" stroke-width=\"6\" fill=\"none\" />\n",
       "<path d=\"M175,375 L178,375 L222,275 L225,275\" stroke=\"darkred\" stroke-width=\"3\" fill=\"none\" />\n",
       "<path d=\"M225,175 L253,175 L272,194\" stroke=\"darkred\" stroke-width=\"3\" fill=\"none\" />\n",
       "<path d=\"M278,194 L297,175 L325,175\" stroke=\"darkred\" stroke-width=\"3\" fill=\"none\" />\n",
       "<path d=\"M225,225 L253,225 L272,206\" stroke=\"darkred\" stroke-width=\"3\" fill=\"none\" />\n",
       "<path d=\"M278,206 L297,225 L325,225\" stroke=\"darkred\" stroke-width=\"3\" fill=\"none\" />\n",
       "<path d=\"M250,193 L300,193 L300,207 L250,207 Z\" stroke=\"black\" fill=\"black\" stroke-linejoin=\"miter\" />\n",
       "<text x=\"275\" y=\"235\" font-size=\"7\" text-anchor=\"middle\"></text>\n",
       "<text x=\"275\" y=\"176\" font-size=\"7\" text-anchor=\"middle\"></text>\n",
       "<path d=\"M250,193 L300,193 L300,197 L250,197 Z\" stroke=\"black\" fill=\"lightgray\" stroke-linejoin=\"miter\" />\n",
       "<path d=\"M293,200 L303,200 L303,210 L293,210 Z\" stroke=\"black\" fill=\"aquamarine\" stroke-linejoin=\"miter\" />\n",
       "<text x=\"298\" y=\"207\" font-size=\"6\" text-anchor=\"middle\">H</text>\n",
       "<path d=\"M225,275 L325,275\" stroke=\"darkred\" stroke-width=\"3\" fill=\"none\" />\n",
       "<path d=\"M328,175 L372,275\" stroke=\"white\" stroke-width=\"6\" fill=\"none\" />\n",
       "<path d=\"M325,175 L328,175 L372,275 L375,275\" stroke=\"darkred\" stroke-width=\"3\" fill=\"none\" />\n",
       "<path d=\"M328,225 L372,175\" stroke=\"white\" stroke-width=\"6\" fill=\"none\" />\n",
       "<path d=\"M325,225 L328,225 L372,175 L375,175\" stroke=\"darkred\" stroke-width=\"3\" fill=\"none\" />\n",
       "<path d=\"M328,275 L372,225\" stroke=\"white\" stroke-width=\"6\" fill=\"none\" />\n",
       "<path d=\"M325,275 L328,275 L372,225 L375,225\" stroke=\"darkred\" stroke-width=\"3\" fill=\"none\" />\n",
       "<path d=\"M75,125 L375,125\" stroke=\"darkred\" stroke-width=\"3\" fill=\"none\" />\n",
       "<path d=\"M375,125 L403,125 L422,144\" stroke=\"darkred\" stroke-width=\"3\" fill=\"none\" />\n",
       "<path d=\"M428,144 L447,125 L475,125\" stroke=\"darkred\" stroke-width=\"3\" fill=\"none\" />\n",
       "<path d=\"M375,175 L403,175 L422,156\" stroke=\"darkred\" stroke-width=\"3\" fill=\"none\" />\n",
       "<path d=\"M428,156 L447,175 L475,175\" stroke=\"darkred\" stroke-width=\"3\" fill=\"none\" />\n",
       "<path d=\"M400,143 L450,143 L450,157 L400,157 Z\" stroke=\"black\" fill=\"black\" stroke-linejoin=\"miter\" />\n",
       "<text x=\"425\" y=\"180\" font-size=\"7\" text-anchor=\"middle\"></text>\n",
       "<text x=\"425\" y=\"126\" font-size=\"7\" text-anchor=\"middle\">Θ=2.149475</text>\n",
       "<path d=\"M400,143 L450,143 L450,147 L400,147 Z\" stroke=\"black\" fill=\"lightgray\" stroke-linejoin=\"miter\" />\n",
       "<path d=\"M443,150 L453,150 L453,160 L443,160 Z\" stroke=\"black\" fill=\"aquamarine\" stroke-linejoin=\"miter\" />\n",
       "<text x=\"448\" y=\"157\" font-size=\"6\" text-anchor=\"middle\">H</text>\n",
       "<path d=\"M375,225 L403,225 L422,244\" stroke=\"darkred\" stroke-width=\"3\" fill=\"none\" />\n",
       "<path d=\"M428,244 L447,225 L475,225\" stroke=\"darkred\" stroke-width=\"3\" fill=\"none\" />\n",
       "<path d=\"M375,275 L403,275 L422,256\" stroke=\"darkred\" stroke-width=\"3\" fill=\"none\" />\n",
       "<path d=\"M428,256 L447,275 L475,275\" stroke=\"darkred\" stroke-width=\"3\" fill=\"none\" />\n",
       "<path d=\"M400,243 L450,243 L450,257 L400,257 Z\" stroke=\"black\" fill=\"black\" stroke-linejoin=\"miter\" />\n",
       "<text x=\"425\" y=\"280\" font-size=\"7\" text-anchor=\"middle\"></text>\n",
       "<text x=\"425\" y=\"226\" font-size=\"7\" text-anchor=\"middle\">Θ=2.149475</text>\n",
       "<path d=\"M400,243 L450,243 L450,247 L400,247 Z\" stroke=\"black\" fill=\"lightgray\" stroke-linejoin=\"miter\" />\n",
       "<path d=\"M443,250 L453,250 L453,260 L443,260 Z\" stroke=\"black\" fill=\"aquamarine\" stroke-linejoin=\"miter\" />\n",
       "<text x=\"448\" y=\"257\" font-size=\"6\" text-anchor=\"middle\">H</text>\n",
       "<path d=\"M478,175 L522,225\" stroke=\"white\" stroke-width=\"6\" fill=\"none\" />\n",
       "<path d=\"M475,175 L478,175 L522,225 L525,225\" stroke=\"darkred\" stroke-width=\"3\" fill=\"none\" />\n",
       "<path d=\"M478,225 L522,275\" stroke=\"white\" stroke-width=\"6\" fill=\"none\" />\n",
       "<path d=\"M475,225 L478,225 L522,275 L525,275\" stroke=\"darkred\" stroke-width=\"3\" fill=\"none\" />\n",
       "<path d=\"M478,275 L522,175\" stroke=\"white\" stroke-width=\"6\" fill=\"none\" />\n",
       "<path d=\"M475,275 L478,275 L522,175 L525,175\" stroke=\"darkred\" stroke-width=\"3\" fill=\"none\" />\n",
       "<path d=\"M525,175 L553,175 L572,194\" stroke=\"darkred\" stroke-width=\"3\" fill=\"none\" />\n",
       "<path d=\"M578,194 L597,175 L625,175\" stroke=\"darkred\" stroke-width=\"3\" fill=\"none\" />\n",
       "<path d=\"M525,225 L553,225 L572,206\" stroke=\"darkred\" stroke-width=\"3\" fill=\"none\" />\n",
       "<path d=\"M578,206 L597,225 L625,225\" stroke=\"darkred\" stroke-width=\"3\" fill=\"none\" />\n",
       "<path d=\"M550,193 L600,193 L600,207 L550,207 Z\" stroke=\"black\" fill=\"black\" stroke-linejoin=\"miter\" />\n",
       "<text x=\"575\" y=\"235\" font-size=\"7\" text-anchor=\"middle\"></text>\n",
       "<text x=\"575\" y=\"176\" font-size=\"7\" text-anchor=\"middle\"></text>\n",
       "<path d=\"M550,193 L600,193 L600,197 L550,197 Z\" stroke=\"black\" fill=\"lightgray\" stroke-linejoin=\"miter\" />\n",
       "<path d=\"M593,200 L603,200 L603,210 L593,210 Z\" stroke=\"black\" fill=\"aquamarine\" stroke-linejoin=\"miter\" />\n",
       "<text x=\"598\" y=\"207\" font-size=\"6\" text-anchor=\"middle\">H</text>\n",
       "<path d=\"M75,75 L625,75\" stroke=\"darkred\" stroke-width=\"3\" fill=\"none\" />\n",
       "<path d=\"M475,125 L625,125\" stroke=\"darkred\" stroke-width=\"3\" fill=\"none\" />\n",
       "<path d=\"M525,275 L625,275\" stroke=\"darkred\" stroke-width=\"3\" fill=\"none\" />\n",
       "<path d=\"M225,325 L625,325\" stroke=\"darkred\" stroke-width=\"3\" fill=\"none\" />\n",
       "<path d=\"M225,375 L625,375\" stroke=\"darkred\" stroke-width=\"3\" fill=\"none\" />\n",
       "<path d=\"M628,75 L672,175\" stroke=\"white\" stroke-width=\"6\" fill=\"none\" />\n",
       "<path d=\"M625,75 L628,75 L672,175 L675,175\" stroke=\"darkred\" stroke-width=\"3\" fill=\"none\" />\n",
       "<path d=\"M628,125 L672,75\" stroke=\"white\" stroke-width=\"6\" fill=\"none\" />\n",
       "<path d=\"M625,125 L628,125 L672,75 L675,75\" stroke=\"darkred\" stroke-width=\"3\" fill=\"none\" />\n",
       "<path d=\"M628,175 L672,225\" stroke=\"white\" stroke-width=\"6\" fill=\"none\" />\n",
       "<path d=\"M625,175 L628,175 L672,225 L675,225\" stroke=\"darkred\" stroke-width=\"3\" fill=\"none\" />\n",
       "<path d=\"M628,225 L672,125\" stroke=\"white\" stroke-width=\"6\" fill=\"none\" />\n",
       "<path d=\"M625,225 L628,225 L672,125 L675,125\" stroke=\"darkred\" stroke-width=\"3\" fill=\"none\" />\n",
       "<path d=\"M628,275 L672,375\" stroke=\"white\" stroke-width=\"6\" fill=\"none\" />\n",
       "<path d=\"M625,275 L628,275 L672,375 L675,375\" stroke=\"darkred\" stroke-width=\"3\" fill=\"none\" />\n",
       "<path d=\"M628,325 L672,325\" stroke=\"white\" stroke-width=\"6\" fill=\"none\" />\n",
       "<path d=\"M625,325 L628,325 L672,325 L675,325\" stroke=\"darkred\" stroke-width=\"3\" fill=\"none\" />\n",
       "<path d=\"M628,375 L672,275\" stroke=\"white\" stroke-width=\"6\" fill=\"none\" />\n",
       "<path d=\"M625,375 L628,375 L672,275 L675,275\" stroke=\"darkred\" stroke-width=\"3\" fill=\"none\" />\n",
       "<path d=\"M675,125 L703,125 L722,144\" stroke=\"darkred\" stroke-width=\"3\" fill=\"none\" />\n",
       "<path d=\"M728,144 L747,125 L775,125\" stroke=\"darkred\" stroke-width=\"3\" fill=\"none\" />\n",
       "<path d=\"M675,175 L703,175 L722,156\" stroke=\"darkred\" stroke-width=\"3\" fill=\"none\" />\n",
       "<path d=\"M728,156 L747,175 L775,175\" stroke=\"darkred\" stroke-width=\"3\" fill=\"none\" />\n",
       "<path d=\"M700,143 L750,143 L750,157 L700,157 Z\" stroke=\"black\" fill=\"black\" stroke-linejoin=\"miter\" />\n",
       "<text x=\"725\" y=\"180\" font-size=\"7\" text-anchor=\"middle\"></text>\n",
       "<text x=\"725\" y=\"126\" font-size=\"7\" text-anchor=\"middle\">Θ=1.030117</text>\n",
       "<path d=\"M700,143 L750,143 L750,147 L700,147 Z\" stroke=\"black\" fill=\"lightgray\" stroke-linejoin=\"miter\" />\n",
       "<path d=\"M743,150 L753,150 L753,160 L743,160 Z\" stroke=\"black\" fill=\"aquamarine\" stroke-linejoin=\"miter\" />\n",
       "<text x=\"748\" y=\"157\" font-size=\"6\" text-anchor=\"middle\">H</text>\n",
       "<path d=\"M778,125 L822,175\" stroke=\"white\" stroke-width=\"6\" fill=\"none\" />\n",
       "<path d=\"M775,125 L778,125 L822,175 L825,175\" stroke=\"darkred\" stroke-width=\"3\" fill=\"none\" />\n",
       "<path d=\"M778,175 L822,125\" stroke=\"white\" stroke-width=\"6\" fill=\"none\" />\n",
       "<path d=\"M775,175 L778,175 L822,125 L825,125\" stroke=\"darkred\" stroke-width=\"3\" fill=\"none\" />\n",
       "<path d=\"M675,225 L703,225 L722,244\" stroke=\"darkred\" stroke-width=\"3\" fill=\"none\" />\n",
       "<path d=\"M728,244 L747,225 L775,225\" stroke=\"darkred\" stroke-width=\"3\" fill=\"none\" />\n",
       "<path d=\"M675,275 L703,275 L722,256\" stroke=\"darkred\" stroke-width=\"3\" fill=\"none\" />\n",
       "<path d=\"M728,256 L747,275 L775,275\" stroke=\"darkred\" stroke-width=\"3\" fill=\"none\" />\n",
       "<path d=\"M700,243 L750,243 L750,257 L700,257 Z\" stroke=\"black\" fill=\"black\" stroke-linejoin=\"miter\" />\n",
       "<text x=\"725\" y=\"280\" font-size=\"7\" text-anchor=\"middle\"></text>\n",
       "<text x=\"725\" y=\"226\" font-size=\"7\" text-anchor=\"middle\">Θ=1.030117</text>\n",
       "<path d=\"M700,243 L750,243 L750,247 L700,247 Z\" stroke=\"black\" fill=\"lightgray\" stroke-linejoin=\"miter\" />\n",
       "<path d=\"M743,250 L753,250 L753,260 L743,260 Z\" stroke=\"black\" fill=\"aquamarine\" stroke-linejoin=\"miter\" />\n",
       "<text x=\"748\" y=\"257\" font-size=\"6\" text-anchor=\"middle\">H</text>\n",
       "<path d=\"M675,325 L775,325\" stroke=\"darkred\" stroke-width=\"3\" fill=\"none\" />\n",
       "<path d=\"M778,225 L822,275\" stroke=\"white\" stroke-width=\"6\" fill=\"none\" />\n",
       "<path d=\"M775,225 L778,225 L822,275 L825,275\" stroke=\"darkred\" stroke-width=\"3\" fill=\"none\" />\n",
       "<path d=\"M778,275 L822,325\" stroke=\"white\" stroke-width=\"6\" fill=\"none\" />\n",
       "<path d=\"M775,275 L778,275 L822,325 L825,325\" stroke=\"darkred\" stroke-width=\"3\" fill=\"none\" />\n",
       "<path d=\"M778,325 L822,225\" stroke=\"white\" stroke-width=\"6\" fill=\"none\" />\n",
       "<path d=\"M775,325 L778,325 L822,225 L825,225\" stroke=\"darkred\" stroke-width=\"3\" fill=\"none\" />\n",
       "<path d=\"M825,225 L853,225 L872,244\" stroke=\"darkred\" stroke-width=\"3\" fill=\"none\" />\n",
       "<path d=\"M878,244 L897,225 L925,225\" stroke=\"darkred\" stroke-width=\"3\" fill=\"none\" />\n",
       "<path d=\"M825,275 L853,275 L872,256\" stroke=\"darkred\" stroke-width=\"3\" fill=\"none\" />\n",
       "<path d=\"M878,256 L897,275 L925,275\" stroke=\"darkred\" stroke-width=\"3\" fill=\"none\" />\n",
       "<path d=\"M850,243 L900,243 L900,257 L850,257 Z\" stroke=\"black\" fill=\"black\" stroke-linejoin=\"miter\" />\n",
       "<text x=\"875\" y=\"285\" font-size=\"7\" text-anchor=\"middle\"></text>\n",
       "<text x=\"875\" y=\"226\" font-size=\"7\" text-anchor=\"middle\"></text>\n",
       "<path d=\"M850,243 L900,243 L900,247 L850,247 Z\" stroke=\"black\" fill=\"lightgray\" stroke-linejoin=\"miter\" />\n",
       "<path d=\"M893,250 L903,250 L903,260 L893,260 Z\" stroke=\"black\" fill=\"aquamarine\" stroke-linejoin=\"miter\" />\n",
       "<text x=\"898\" y=\"257\" font-size=\"6\" text-anchor=\"middle\">H</text>\n",
       "<path d=\"M675,75 L925,75\" stroke=\"darkred\" stroke-width=\"3\" fill=\"none\" />\n",
       "<path d=\"M825,125 L925,125\" stroke=\"darkred\" stroke-width=\"3\" fill=\"none\" />\n",
       "<path d=\"M825,175 L925,175\" stroke=\"darkred\" stroke-width=\"3\" fill=\"none\" />\n",
       "<path d=\"M928,75 L972,275\" stroke=\"white\" stroke-width=\"6\" fill=\"none\" />\n",
       "<path d=\"M925,75 L928,75 L972,275 L975,275\" stroke=\"darkred\" stroke-width=\"3\" fill=\"none\" />\n",
       "<path d=\"M928,125 L972,225\" stroke=\"white\" stroke-width=\"6\" fill=\"none\" />\n",
       "<path d=\"M925,125 L928,125 L972,225 L975,225\" stroke=\"darkred\" stroke-width=\"3\" fill=\"none\" />\n",
       "<path d=\"M928,175 L972,75\" stroke=\"white\" stroke-width=\"6\" fill=\"none\" />\n",
       "<path d=\"M925,175 L928,175 L972,75 L975,75\" stroke=\"darkred\" stroke-width=\"3\" fill=\"none\" />\n",
       "<path d=\"M928,225 L972,175\" stroke=\"white\" stroke-width=\"6\" fill=\"none\" />\n",
       "<path d=\"M925,225 L928,225 L972,175 L975,175\" stroke=\"darkred\" stroke-width=\"3\" fill=\"none\" />\n",
       "<path d=\"M928,275 L972,125\" stroke=\"white\" stroke-width=\"6\" fill=\"none\" />\n",
       "<path d=\"M925,275 L928,275 L972,125 L975,125\" stroke=\"darkred\" stroke-width=\"3\" fill=\"none\" />\n",
       "<path d=\"M25,25 L975,25\" stroke=\"darkred\" stroke-width=\"3\" fill=\"none\" />\n",
       "<path d=\"M825,325 L975,325\" stroke=\"darkred\" stroke-width=\"3\" fill=\"none\" />\n",
       "<path d=\"M675,375 L975,375\" stroke=\"darkred\" stroke-width=\"3\" fill=\"none\" />\n",
       "<path d=\"M975,25 L990,25\" stroke-width=\"3\" stroke=\"darkred\" stroke-linejoin=\"miter\" fill=\"none\" />\n",
       "<path d=\"M975,75 L990,75\" stroke-width=\"3\" stroke=\"darkred\" stroke-linejoin=\"miter\" fill=\"none\" />\n",
       "<path d=\"M975,125 L990,125\" stroke-width=\"3\" stroke=\"darkred\" stroke-linejoin=\"miter\" fill=\"none\" />\n",
       "<path d=\"M975,175 L990,175\" stroke-width=\"3\" stroke=\"darkred\" stroke-linejoin=\"miter\" fill=\"none\" />\n",
       "<path d=\"M975,225 L990,225\" stroke-width=\"3\" stroke=\"darkred\" stroke-linejoin=\"miter\" fill=\"none\" />\n",
       "<path d=\"M975,275 L990,275\" stroke-width=\"3\" stroke=\"darkred\" stroke-linejoin=\"miter\" fill=\"none\" />\n",
       "<path d=\"M975,325 L990,325\" stroke-width=\"3\" stroke=\"darkred\" stroke-linejoin=\"miter\" fill=\"none\" />\n",
       "<path d=\"M975,375 L990,375\" stroke-width=\"3\" stroke=\"darkred\" stroke-linejoin=\"miter\" fill=\"none\" />\n",
       "<text x=\"1000\" y=\"28\" font-size=\"9\" text-anchor=\"end\">0</text>\n",
       "<text x=\"1000\" y=\"78\" font-size=\"9\" text-anchor=\"end\">1</text>\n",
       "<text x=\"1000\" y=\"128\" font-size=\"9\" text-anchor=\"end\">2</text>\n",
       "<text x=\"1000\" y=\"178\" font-size=\"9\" text-anchor=\"end\">3</text>\n",
       "<text x=\"1000\" y=\"228\" font-size=\"9\" text-anchor=\"end\">4</text>\n",
       "<text x=\"1000\" y=\"278\" font-size=\"9\" text-anchor=\"end\">5</text>\n",
       "<text x=\"1000\" y=\"328\" font-size=\"9\" text-anchor=\"end\">6</text>\n",
       "<text x=\"1000\" y=\"378\" font-size=\"9\" text-anchor=\"end\">7</text>\n",
       "<text x=\"0\" y=\"28\" font-size=\"9\" text-anchor=\"start\">0</text>\n",
       "<text x=\"0\" y=\"78\" font-size=\"9\" text-anchor=\"start\">1</text>\n",
       "<text x=\"0\" y=\"128\" font-size=\"9\" text-anchor=\"start\">2</text>\n",
       "<text x=\"0\" y=\"178\" font-size=\"9\" text-anchor=\"start\">3</text>\n",
       "<text x=\"0\" y=\"228\" font-size=\"9\" text-anchor=\"start\">4</text>\n",
       "<text x=\"0\" y=\"278\" font-size=\"9\" text-anchor=\"start\">5</text>\n",
       "<text x=\"0\" y=\"328\" font-size=\"9\" text-anchor=\"start\">6</text>\n",
       "<text x=\"0\" y=\"378\" font-size=\"9\" text-anchor=\"start\">7</text>\n",
       "</svg>"
      ],
      "text/plain": [
       "<drawsvg.drawing.Drawing at 0x7df1c8d87350>"
      ]
     },
     "execution_count": 4,
     "metadata": {},
     "output_type": "execute_result"
    }
   ],
   "source": [
    "pdisplay(cnot)"
   ]
  },
  {
   "cell_type": "markdown",
   "id": "d25c2cc5-670f-4a75-bb64-ba5b71bc1b7f",
   "metadata": {},
   "source": [
    "### One last point before we go\n",
    "\n",
    "As you have seen, the CNOT gate defined above **involves 8 rails instead of the expected 4**. This is where the technical peculiarity related to photonics lies. For our encoding to work, **the sum of the photons in a pair of rails must be equal to 1**.\n",
    "\n",
    "For example, for the state $|01\\rangle$, we have $1$ photon in the first rail, $0$ in the second and third rails, and $1$ in the fourth rail. If we end up with $1$ photon in the second rail and $1$ photon in the third rail at the end, we know we have the state $|10\\rangle$. But what happens if we get $2$ photons in the first rail and $0$ in the others? Well, that does not correspond to any logical state. It makes sense physically, but not informatically; we can no longer assign qubits to our photonic state.\n",
    "\n",
    "To address this issue, we add control states that will nullify certain results. In our case, everything will be handled automatically through heralded gates and ancilla states.\n",
    "\n",
    "### To summarize:\n",
    "\n",
    "- We let the heralded gates and ancilla states handle the issues.\n",
    "- If we end up with an inconsistent number of photons at the end of our experiment, there's no need to overthink it; the experiment is invalid and needs to be redone.\n",
    "\n",
    "To manage the heralded gates and ancilla states, we will work directly with processors.\n",
    "\n",
    "*More information here: https://perceval.quandela.net/docs/notebooks/Tutorial.html#3.-Two-qubit-gates*"
   ]
  },
  {
   "cell_type": "code",
   "execution_count": 5,
   "id": "e671512d-b97a-4767-90b5-51cc1192dda3",
   "metadata": {
    "ExecuteTime": {
     "end_time": "2024-05-01T20:07:15.485146Z",
     "start_time": "2024-05-01T20:07:15.214062Z"
    }
   },
   "outputs": [
    {
     "data": {
      "image/svg+xml": [
       "<?xml version=\"1.0\" encoding=\"UTF-8\"?>\n",
       "<svg xmlns=\"http://www.w3.org/2000/svg\" xmlns:xlink=\"http://www.w3.org/1999/xlink\"\n",
       "     width=\"1355.0\" height=\"531.25\" viewBox=\"-48.0 0 1084.0 425.0\">\n",
       "<defs>\n",
       "</defs>\n",
       "<path d=\"M10,25 L25,25\" stroke-width=\"3\" stroke=\"darkred\" stroke-linejoin=\"miter\" fill=\"none\" />\n",
       "<path d=\"M10,75 L25,75\" stroke-width=\"3\" stroke=\"darkred\" stroke-linejoin=\"miter\" fill=\"none\" />\n",
       "<path d=\"M10,125 L25,125\" stroke-width=\"3\" stroke=\"darkred\" stroke-linejoin=\"miter\" fill=\"none\" />\n",
       "<path d=\"M10,175 L25,175\" stroke-width=\"3\" stroke=\"darkred\" stroke-linejoin=\"miter\" fill=\"none\" />\n",
       "<path d=\"M27,2 L973,2 L973,398 L27,398 Z\" stroke=\"black\" fill=\"lightblue\" stroke-dasharray=\"1,2\" stroke-linejoin=\"miter\" />\n",
       "<text x=\"29\" y=\"405\" font-size=\"8\" text-anchor=\"start\">HERALDED CNOT</text>\n",
       "<path d=\"M28,75 L72,175\" stroke=\"white\" stroke-width=\"6\" fill=\"none\" />\n",
       "<path d=\"M25,75 L28,75 L72,175 L75,175\" stroke=\"darkred\" stroke-width=\"3\" fill=\"none\" />\n",
       "<path d=\"M28,125 L72,275\" stroke=\"white\" stroke-width=\"6\" fill=\"none\" />\n",
       "<path d=\"M25,125 L28,125 L72,275 L75,275\" stroke=\"darkred\" stroke-width=\"3\" fill=\"none\" />\n",
       "<path d=\"M28,175 L72,225\" stroke=\"white\" stroke-width=\"6\" fill=\"none\" />\n",
       "<path d=\"M25,175 L28,175 L72,225 L75,225\" stroke=\"darkred\" stroke-width=\"3\" fill=\"none\" />\n",
       "<path d=\"M75,225 L103,225 L122,244\" stroke=\"darkred\" stroke-width=\"3\" fill=\"none\" />\n",
       "<path d=\"M128,244 L147,225 L175,225\" stroke=\"darkred\" stroke-width=\"3\" fill=\"none\" />\n",
       "<path d=\"M75,275 L103,275 L122,256\" stroke=\"darkred\" stroke-width=\"3\" fill=\"none\" />\n",
       "<path d=\"M128,256 L147,275 L175,275\" stroke=\"darkred\" stroke-width=\"3\" fill=\"none\" />\n",
       "<path d=\"M100,243 L150,243 L150,257 L100,257 Z\" stroke=\"black\" fill=\"black\" stroke-linejoin=\"miter\" />\n",
       "<text x=\"125\" y=\"285\" font-size=\"7\" text-anchor=\"middle\"></text>\n",
       "<text x=\"125\" y=\"226\" font-size=\"7\" text-anchor=\"middle\"></text>\n",
       "<path d=\"M100,243 L150,243 L150,247 L100,247 Z\" stroke=\"black\" fill=\"lightgray\" stroke-linejoin=\"miter\" />\n",
       "<path d=\"M143,250 L153,250 L153,260 L143,260 Z\" stroke=\"black\" fill=\"aquamarine\" stroke-linejoin=\"miter\" />\n",
       "<text x=\"148\" y=\"257\" font-size=\"6\" text-anchor=\"middle\">H</text>\n",
       "<path d=\"M75,175 L175,175\" stroke=\"darkred\" stroke-width=\"3\" fill=\"none\" />\n",
       "<path d=\"M178,175 L222,225\" stroke=\"white\" stroke-width=\"6\" fill=\"none\" />\n",
       "<path d=\"M175,175 L178,175 L222,225 L225,225\" stroke=\"darkred\" stroke-width=\"3\" fill=\"none\" />\n",
       "<path d=\"M178,225 L222,325\" stroke=\"white\" stroke-width=\"6\" fill=\"none\" />\n",
       "<path d=\"M175,225 L178,225 L222,325 L225,325\" stroke=\"darkred\" stroke-width=\"3\" fill=\"none\" />\n",
       "<path d=\"M178,275 L222,175\" stroke=\"white\" stroke-width=\"6\" fill=\"none\" />\n",
       "<path d=\"M175,275 L178,275 L222,175 L225,175\" stroke=\"darkred\" stroke-width=\"3\" fill=\"none\" />\n",
       "<path d=\"M225,175 L253,175 L272,194\" stroke=\"darkred\" stroke-width=\"3\" fill=\"none\" />\n",
       "<path d=\"M278,194 L297,175 L325,175\" stroke=\"darkred\" stroke-width=\"3\" fill=\"none\" />\n",
       "<path d=\"M225,225 L253,225 L272,206\" stroke=\"darkred\" stroke-width=\"3\" fill=\"none\" />\n",
       "<path d=\"M278,206 L297,225 L325,225\" stroke=\"darkred\" stroke-width=\"3\" fill=\"none\" />\n",
       "<path d=\"M250,193 L300,193 L300,207 L250,207 Z\" stroke=\"black\" fill=\"black\" stroke-linejoin=\"miter\" />\n",
       "<text x=\"275\" y=\"235\" font-size=\"7\" text-anchor=\"middle\"></text>\n",
       "<text x=\"275\" y=\"176\" font-size=\"7\" text-anchor=\"middle\"></text>\n",
       "<path d=\"M250,193 L300,193 L300,197 L250,197 Z\" stroke=\"black\" fill=\"lightgray\" stroke-linejoin=\"miter\" />\n",
       "<path d=\"M293,200 L303,200 L303,210 L293,210 Z\" stroke=\"black\" fill=\"aquamarine\" stroke-linejoin=\"miter\" />\n",
       "<text x=\"298\" y=\"207\" font-size=\"6\" text-anchor=\"middle\">H</text>\n",
       "<path d=\"M328,175 L372,275\" stroke=\"white\" stroke-width=\"6\" fill=\"none\" />\n",
       "<path d=\"M325,175 L328,175 L372,275 L375,275\" stroke=\"darkred\" stroke-width=\"3\" fill=\"none\" />\n",
       "<path d=\"M328,225 L372,175\" stroke=\"white\" stroke-width=\"6\" fill=\"none\" />\n",
       "<path d=\"M325,225 L328,225 L372,175 L375,175\" stroke=\"darkred\" stroke-width=\"3\" fill=\"none\" />\n",
       "<path d=\"M375,125 L403,125 L422,144\" stroke=\"darkred\" stroke-width=\"3\" fill=\"none\" />\n",
       "<path d=\"M428,144 L447,125 L475,125\" stroke=\"darkred\" stroke-width=\"3\" fill=\"none\" />\n",
       "<path d=\"M375,175 L403,175 L422,156\" stroke=\"darkred\" stroke-width=\"3\" fill=\"none\" />\n",
       "<path d=\"M428,156 L447,175 L475,175\" stroke=\"darkred\" stroke-width=\"3\" fill=\"none\" />\n",
       "<path d=\"M400,143 L450,143 L450,157 L400,157 Z\" stroke=\"black\" fill=\"black\" stroke-linejoin=\"miter\" />\n",
       "<text x=\"425\" y=\"180\" font-size=\"7\" text-anchor=\"middle\"></text>\n",
       "<text x=\"425\" y=\"126\" font-size=\"7\" text-anchor=\"middle\">Θ=2.149475</text>\n",
       "<path d=\"M400,143 L450,143 L450,147 L400,147 Z\" stroke=\"black\" fill=\"lightgray\" stroke-linejoin=\"miter\" />\n",
       "<path d=\"M443,150 L453,150 L453,160 L443,160 Z\" stroke=\"black\" fill=\"aquamarine\" stroke-linejoin=\"miter\" />\n",
       "<text x=\"448\" y=\"157\" font-size=\"6\" text-anchor=\"middle\">H</text>\n",
       "<path d=\"M375,225 L403,225 L422,244\" stroke=\"darkred\" stroke-width=\"3\" fill=\"none\" />\n",
       "<path d=\"M428,244 L447,225 L475,225\" stroke=\"darkred\" stroke-width=\"3\" fill=\"none\" />\n",
       "<path d=\"M375,275 L403,275 L422,256\" stroke=\"darkred\" stroke-width=\"3\" fill=\"none\" />\n",
       "<path d=\"M428,256 L447,275 L475,275\" stroke=\"darkred\" stroke-width=\"3\" fill=\"none\" />\n",
       "<path d=\"M400,243 L450,243 L450,257 L400,257 Z\" stroke=\"black\" fill=\"black\" stroke-linejoin=\"miter\" />\n",
       "<text x=\"425\" y=\"280\" font-size=\"7\" text-anchor=\"middle\"></text>\n",
       "<text x=\"425\" y=\"226\" font-size=\"7\" text-anchor=\"middle\">Θ=2.149475</text>\n",
       "<path d=\"M400,243 L450,243 L450,247 L400,247 Z\" stroke=\"black\" fill=\"lightgray\" stroke-linejoin=\"miter\" />\n",
       "<path d=\"M443,250 L453,250 L453,260 L443,260 Z\" stroke=\"black\" fill=\"aquamarine\" stroke-linejoin=\"miter\" />\n",
       "<text x=\"448\" y=\"257\" font-size=\"6\" text-anchor=\"middle\">H</text>\n",
       "<path d=\"M478,175 L522,225\" stroke=\"white\" stroke-width=\"6\" fill=\"none\" />\n",
       "<path d=\"M475,175 L478,175 L522,225 L525,225\" stroke=\"darkred\" stroke-width=\"3\" fill=\"none\" />\n",
       "<path d=\"M478,275 L522,175\" stroke=\"white\" stroke-width=\"6\" fill=\"none\" />\n",
       "<path d=\"M475,275 L478,275 L522,175 L525,175\" stroke=\"darkred\" stroke-width=\"3\" fill=\"none\" />\n",
       "<path d=\"M525,175 L553,175 L572,194\" stroke=\"darkred\" stroke-width=\"3\" fill=\"none\" />\n",
       "<path d=\"M578,194 L597,175 L625,175\" stroke=\"darkred\" stroke-width=\"3\" fill=\"none\" />\n",
       "<path d=\"M525,225 L553,225 L572,206\" stroke=\"darkred\" stroke-width=\"3\" fill=\"none\" />\n",
       "<path d=\"M578,206 L597,225 L625,225\" stroke=\"darkred\" stroke-width=\"3\" fill=\"none\" />\n",
       "<path d=\"M550,193 L600,193 L600,207 L550,207 Z\" stroke=\"black\" fill=\"black\" stroke-linejoin=\"miter\" />\n",
       "<text x=\"575\" y=\"235\" font-size=\"7\" text-anchor=\"middle\"></text>\n",
       "<text x=\"575\" y=\"176\" font-size=\"7\" text-anchor=\"middle\"></text>\n",
       "<path d=\"M550,193 L600,193 L600,197 L550,197 Z\" stroke=\"black\" fill=\"lightgray\" stroke-linejoin=\"miter\" />\n",
       "<path d=\"M593,200 L603,200 L603,210 L593,210 Z\" stroke=\"black\" fill=\"aquamarine\" stroke-linejoin=\"miter\" />\n",
       "<text x=\"598\" y=\"207\" font-size=\"6\" text-anchor=\"middle\">H</text>\n",
       "<path d=\"M225,325 L625,325\" stroke=\"darkred\" stroke-width=\"3\" fill=\"none\" />\n",
       "<path d=\"M628,175 L672,225\" stroke=\"white\" stroke-width=\"6\" fill=\"none\" />\n",
       "<path d=\"M625,175 L628,175 L672,225 L675,225\" stroke=\"darkred\" stroke-width=\"3\" fill=\"none\" />\n",
       "<path d=\"M628,225 L672,125\" stroke=\"white\" stroke-width=\"6\" fill=\"none\" />\n",
       "<path d=\"M625,225 L628,225 L672,125 L675,125\" stroke=\"darkred\" stroke-width=\"3\" fill=\"none\" />\n",
       "<path d=\"M628,325 L672,325\" stroke=\"white\" stroke-width=\"6\" fill=\"none\" />\n",
       "<path d=\"M625,325 L628,325 L672,325 L675,325\" stroke=\"darkred\" stroke-width=\"3\" fill=\"none\" />\n",
       "<path d=\"M675,125 L703,125 L722,144\" stroke=\"darkred\" stroke-width=\"3\" fill=\"none\" />\n",
       "<path d=\"M728,144 L747,125 L775,125\" stroke=\"darkred\" stroke-width=\"3\" fill=\"none\" />\n",
       "<path d=\"M675,175 L703,175 L722,156\" stroke=\"darkred\" stroke-width=\"3\" fill=\"none\" />\n",
       "<path d=\"M728,156 L747,175 L775,175\" stroke=\"darkred\" stroke-width=\"3\" fill=\"none\" />\n",
       "<path d=\"M700,143 L750,143 L750,157 L700,157 Z\" stroke=\"black\" fill=\"black\" stroke-linejoin=\"miter\" />\n",
       "<text x=\"725\" y=\"180\" font-size=\"7\" text-anchor=\"middle\"></text>\n",
       "<text x=\"725\" y=\"126\" font-size=\"7\" text-anchor=\"middle\">Θ=1.030117</text>\n",
       "<path d=\"M700,143 L750,143 L750,147 L700,147 Z\" stroke=\"black\" fill=\"lightgray\" stroke-linejoin=\"miter\" />\n",
       "<path d=\"M743,150 L753,150 L753,160 L743,160 Z\" stroke=\"black\" fill=\"aquamarine\" stroke-linejoin=\"miter\" />\n",
       "<text x=\"748\" y=\"157\" font-size=\"6\" text-anchor=\"middle\">H</text>\n",
       "<path d=\"M778,125 L822,175\" stroke=\"white\" stroke-width=\"6\" fill=\"none\" />\n",
       "<path d=\"M775,125 L778,125 L822,175 L825,175\" stroke=\"darkred\" stroke-width=\"3\" fill=\"none\" />\n",
       "<path d=\"M675,225 L703,225 L722,244\" stroke=\"darkred\" stroke-width=\"3\" fill=\"none\" />\n",
       "<path d=\"M728,244 L747,225 L775,225\" stroke=\"darkred\" stroke-width=\"3\" fill=\"none\" />\n",
       "<path d=\"M675,275 L703,275 L722,256\" stroke=\"darkred\" stroke-width=\"3\" fill=\"none\" />\n",
       "<path d=\"M728,256 L747,275 L775,275\" stroke=\"darkred\" stroke-width=\"3\" fill=\"none\" />\n",
       "<path d=\"M700,243 L750,243 L750,257 L700,257 Z\" stroke=\"black\" fill=\"black\" stroke-linejoin=\"miter\" />\n",
       "<text x=\"725\" y=\"280\" font-size=\"7\" text-anchor=\"middle\"></text>\n",
       "<text x=\"725\" y=\"226\" font-size=\"7\" text-anchor=\"middle\">Θ=1.030117</text>\n",
       "<path d=\"M700,243 L750,243 L750,247 L700,247 Z\" stroke=\"black\" fill=\"lightgray\" stroke-linejoin=\"miter\" />\n",
       "<path d=\"M743,250 L753,250 L753,260 L743,260 Z\" stroke=\"black\" fill=\"aquamarine\" stroke-linejoin=\"miter\" />\n",
       "<text x=\"748\" y=\"257\" font-size=\"6\" text-anchor=\"middle\">H</text>\n",
       "<path d=\"M675,325 L775,325\" stroke=\"darkred\" stroke-width=\"3\" fill=\"none\" />\n",
       "<path d=\"M778,225 L822,275\" stroke=\"white\" stroke-width=\"6\" fill=\"none\" />\n",
       "<path d=\"M775,225 L778,225 L822,275 L825,275\" stroke=\"darkred\" stroke-width=\"3\" fill=\"none\" />\n",
       "<path d=\"M778,325 L822,225\" stroke=\"white\" stroke-width=\"6\" fill=\"none\" />\n",
       "<path d=\"M775,325 L778,325 L822,225 L825,225\" stroke=\"darkred\" stroke-width=\"3\" fill=\"none\" />\n",
       "<path d=\"M825,225 L853,225 L872,244\" stroke=\"darkred\" stroke-width=\"3\" fill=\"none\" />\n",
       "<path d=\"M878,244 L897,225 L925,225\" stroke=\"darkred\" stroke-width=\"3\" fill=\"none\" />\n",
       "<path d=\"M825,275 L853,275 L872,256\" stroke=\"darkred\" stroke-width=\"3\" fill=\"none\" />\n",
       "<path d=\"M878,256 L897,275 L925,275\" stroke=\"darkred\" stroke-width=\"3\" fill=\"none\" />\n",
       "<path d=\"M850,243 L900,243 L900,257 L850,257 Z\" stroke=\"black\" fill=\"black\" stroke-linejoin=\"miter\" />\n",
       "<text x=\"875\" y=\"285\" font-size=\"7\" text-anchor=\"middle\"></text>\n",
       "<text x=\"875\" y=\"226\" font-size=\"7\" text-anchor=\"middle\"></text>\n",
       "<path d=\"M850,243 L900,243 L900,247 L850,247 Z\" stroke=\"black\" fill=\"lightgray\" stroke-linejoin=\"miter\" />\n",
       "<path d=\"M893,250 L903,250 L903,260 L893,260 Z\" stroke=\"black\" fill=\"aquamarine\" stroke-linejoin=\"miter\" />\n",
       "<text x=\"898\" y=\"257\" font-size=\"6\" text-anchor=\"middle\">H</text>\n",
       "<path d=\"M825,175 L925,175\" stroke=\"darkred\" stroke-width=\"3\" fill=\"none\" />\n",
       "<path d=\"M928,175 L972,75\" stroke=\"white\" stroke-width=\"6\" fill=\"none\" />\n",
       "<path d=\"M925,175 L928,175 L972,75 L975,75\" stroke=\"darkred\" stroke-width=\"3\" fill=\"none\" />\n",
       "<path d=\"M928,225 L972,175\" stroke=\"white\" stroke-width=\"6\" fill=\"none\" />\n",
       "<path d=\"M925,225 L928,225 L972,175 L975,175\" stroke=\"darkred\" stroke-width=\"3\" fill=\"none\" />\n",
       "<path d=\"M928,275 L972,125\" stroke=\"white\" stroke-width=\"6\" fill=\"none\" />\n",
       "<path d=\"M925,275 L928,275 L972,125 L975,125\" stroke=\"darkred\" stroke-width=\"3\" fill=\"none\" />\n",
       "<path d=\"M25,25 L975,25\" stroke=\"darkred\" stroke-width=\"3\" fill=\"none\" />\n",
       "<path d=\"M975,25 L990,25\" stroke-width=\"3\" stroke=\"darkred\" stroke-linejoin=\"miter\" fill=\"none\" />\n",
       "<path d=\"M975,75 L990,75\" stroke-width=\"3\" stroke=\"darkred\" stroke-linejoin=\"miter\" fill=\"none\" />\n",
       "<path d=\"M975,125 L990,125\" stroke-width=\"3\" stroke=\"darkred\" stroke-linejoin=\"miter\" fill=\"none\" />\n",
       "<path d=\"M975,175 L990,175\" stroke-width=\"3\" stroke=\"darkred\" stroke-linejoin=\"miter\" fill=\"none\" />\n",
       "<path d=\"M657,175 C657,175,657,165,667,165 L675,165 L675,185 L667,185 C657,185,657,175,657,175 L657,175\" stroke-width=\"1\" stroke=\"black\" stroke-linejoin=\"miter\" fill=\"white\" />\n",
       "<text x=\"663\" y=\"191\" font-size=\"6\" text-anchor=\"middle\" font-style=\"italic\">[herald0]</text>\n",
       "<text x=\"667\" y=\"178\" font-size=\"7\" text-anchor=\"middle\">0</text>\n",
       "<path d=\"M357,125 C357,125,357,115,367,115 L375,115 L375,135 L367,135 C357,135,357,125,357,125 L357,125\" stroke-width=\"1\" stroke=\"black\" stroke-linejoin=\"miter\" fill=\"white\" />\n",
       "<text x=\"363\" y=\"141\" font-size=\"6\" text-anchor=\"middle\" font-style=\"italic\">[herald1]</text>\n",
       "<text x=\"367\" y=\"128\" font-size=\"7\" text-anchor=\"middle\">1</text>\n",
       "<path d=\"M657,275 C657,275,657,265,667,265 L675,265 L675,285 L667,285 C657,285,657,275,657,275 L657,275\" stroke-width=\"1\" stroke=\"black\" stroke-linejoin=\"miter\" fill=\"white\" />\n",
       "<text x=\"663\" y=\"291\" font-size=\"6\" text-anchor=\"middle\" font-style=\"italic\">[herald2]</text>\n",
       "<text x=\"667\" y=\"278\" font-size=\"7\" text-anchor=\"middle\">0</text>\n",
       "<path d=\"M357,225 C357,225,357,215,367,215 L375,215 L375,235 L367,235 C357,235,357,225,357,225 L357,225\" stroke-width=\"1\" stroke=\"black\" stroke-linejoin=\"miter\" fill=\"white\" />\n",
       "<text x=\"363\" y=\"241\" font-size=\"6\" text-anchor=\"middle\" font-style=\"italic\">[herald3]</text>\n",
       "<text x=\"367\" y=\"228\" font-size=\"7\" text-anchor=\"middle\">1</text>\n",
       "<path d=\"M-2,15 L10,15 L10,85 L-2,85 Z\" stroke=\"black\" fill=\"lightgray\" stroke-linejoin=\"miter\" />\n",
       "<text x=\"4\" y=\"27\" font-size=\"7\" text-anchor=\"middle\">0</text>\n",
       "<text x=\"4\" y=\"77\" font-size=\"7\" text-anchor=\"middle\">1</text>\n",
       "<text x=\"-2\" y=\"91\" font-size=\"6\" text-anchor=\"start\" font-style=\"italic\">[0]</text>\n",
       "<path d=\"M-2,115 L10,115 L10,185 L-2,185 Z\" stroke=\"black\" fill=\"lightgray\" stroke-linejoin=\"miter\" />\n",
       "<text x=\"4\" y=\"127\" font-size=\"7\" text-anchor=\"middle\">2</text>\n",
       "<text x=\"4\" y=\"177\" font-size=\"7\" text-anchor=\"middle\">3</text>\n",
       "<text x=\"-2\" y=\"191\" font-size=\"6\" text-anchor=\"start\" font-style=\"italic\">[1]</text>\n",
       "<path d=\"M783,185 L775,185 L775,165 L783,165 C783,165,793,165,793,175 C793,185,783,185,783,185 L783,185\" stroke-width=\"1\" stroke=\"black\" stroke-linejoin=\"miter\" fill=\"white\" />\n",
       "<text x=\"788\" y=\"191\" font-size=\"6\" text-anchor=\"middle\" font-style=\"italic\">[herald0]</text>\n",
       "<text x=\"783\" y=\"178\" font-size=\"7\" text-anchor=\"middle\">0</text>\n",
       "<path d=\"M483,135 L475,135 L475,115 L483,115 C483,115,493,115,493,125 C493,135,483,135,483,135 L483,135\" stroke-width=\"1\" stroke=\"black\" stroke-linejoin=\"miter\" fill=\"white\" />\n",
       "<text x=\"488\" y=\"141\" font-size=\"6\" text-anchor=\"middle\" font-style=\"italic\">[herald1]</text>\n",
       "<text x=\"483\" y=\"128\" font-size=\"7\" text-anchor=\"middle\">1</text>\n",
       "<path d=\"M783,285 L775,285 L775,265 L783,265 C783,265,793,265,793,275 C793,285,783,285,783,285 L783,285\" stroke-width=\"1\" stroke=\"black\" stroke-linejoin=\"miter\" fill=\"white\" />\n",
       "<text x=\"788\" y=\"291\" font-size=\"6\" text-anchor=\"middle\" font-style=\"italic\">[herald2]</text>\n",
       "<text x=\"783\" y=\"278\" font-size=\"7\" text-anchor=\"middle\">0</text>\n",
       "<path d=\"M483,235 L475,235 L475,215 L483,215 C483,215,493,215,493,225 C493,235,483,235,483,235 L483,235\" stroke-width=\"1\" stroke=\"black\" stroke-linejoin=\"miter\" fill=\"white\" />\n",
       "<text x=\"488\" y=\"241\" font-size=\"6\" text-anchor=\"middle\" font-style=\"italic\">[herald3]</text>\n",
       "<text x=\"483\" y=\"228\" font-size=\"7\" text-anchor=\"middle\">1</text>\n",
       "<path d=\"M990,15 L1002,15 L1002,85 L990,85 Z\" stroke=\"black\" fill=\"lightgray\" stroke-linejoin=\"miter\" />\n",
       "<text x=\"996\" y=\"27\" font-size=\"7\" text-anchor=\"middle\">0</text>\n",
       "<text x=\"996\" y=\"77\" font-size=\"7\" text-anchor=\"middle\">1</text>\n",
       "<text x=\"1002\" y=\"91\" font-size=\"6\" text-anchor=\"end\" font-style=\"italic\">[0]</text>\n",
       "<path d=\"M990,115 L1002,115 L1002,185 L990,185 Z\" stroke=\"black\" fill=\"lightgray\" stroke-linejoin=\"miter\" />\n",
       "<text x=\"996\" y=\"127\" font-size=\"7\" text-anchor=\"middle\">2</text>\n",
       "<text x=\"996\" y=\"177\" font-size=\"7\" text-anchor=\"middle\">3</text>\n",
       "<text x=\"1002\" y=\"191\" font-size=\"6\" text-anchor=\"end\" font-style=\"italic\">[1]</text>\n",
       "</svg>"
      ],
      "text/plain": [
       "<drawsvg.drawing.Drawing at 0x7df1c8d94610>"
      ]
     },
     "execution_count": 5,
     "metadata": {},
     "output_type": "execute_result"
    }
   ],
   "source": [
    "p = Processor(\"Naive\", cnot)\n",
    "p.min_detected_photons_filter(0)\n",
    "p.add_herald(4, 0)\n",
    "p.add_herald(5, 1)\n",
    "p.add_herald(6, 0)\n",
    "p.add_herald(7, 1)\n",
    "p.add_port(0, pcvl.Port(pcvl.Encoding.DUAL_RAIL, \"0\"))\n",
    "p.add_port(2, pcvl.Port(pcvl.Encoding.DUAL_RAIL, \"1\"))\n",
    "pdisplay(p, recursive=True)"
   ]
  },
  {
   "cell_type": "code",
   "execution_count": 6,
   "id": "8e597bc8-ab8f-4c74-8be7-1b18362043f7",
   "metadata": {
    "ExecuteTime": {
     "end_time": "2024-05-01T20:07:15.555034Z",
     "start_time": "2024-05-01T20:07:15.486394Z"
    }
   },
   "outputs": [
    {
     "name": "stdout",
     "output_type": "stream",
     "text": [
      "Avec l'entrée : 00\n",
      "> 00: 1.0\n",
      "Avec l'entrée : 10\n",
      "> 11: 1.0\n",
      "Avec l'entrée : 01\n",
      "> 01: 1.0\n",
      "Avec l'entrée : 11\n",
      "> 10: 1.0\n"
     ]
    }
   ],
   "source": [
    "measure2p(p)\n",
    "measure2p(p, input_state=qubits[\"10\"])\n",
    "measure2p(p, input_state=qubits[\"01\"])\n",
    "measure2p(p, input_state=qubits[\"11\"])"
   ]
  },
  {
   "cell_type": "markdown",
   "id": "e3bc6269-c2ae-4f3f-bb22-505035b2653f",
   "metadata": {},
   "source": [
    "## Your Turn!\n",
    "\n",
    "We have seen how to prepare a qubit in any quantum state. Now we will move on to setting up two-qubit states!\n",
    "\n",
    "To start, let's try to prepare what are called **Bell states**. They are widely used because they correspond to **entangled states** and are relatively easy to manipulate. They correspond to the following basis:\n",
    "\n",
    "$$\n",
    "|\\Phi^+\\rangle = \\frac{1}{\\sqrt{2}} (|00\\rangle + |11\\rangle)\n",
    "$$\n",
    "$$\n",
    "|\\Phi^-\\rangle = \\frac{1}{\\sqrt{2}} (|00\\rangle - |11\\rangle)\n",
    "$$\n",
    "$$\n",
    "|\\Psi^+\\rangle = \\frac{1}{\\sqrt{2}} (|01\\rangle + |10\\rangle)\n",
    "$$\n",
    "$$\n",
    "|\\Psi^-\\rangle = \\frac{1}{\\sqrt{2}} (|01\\rangle - |10\\rangle)\n",
    "$$\n",
    "\n",
    "Let's try to prepare the state $|\\Phi^+\\rangle$. A possible approach is as follows: we seek to have a superposed state, so we will need a Hadamard gate or equivalent, and we also need entangled states, so we will need a $\\CNOT$ gate. In practice, this results in:"
   ]
  },
  {
   "cell_type": "code",
   "execution_count": 7,
   "id": "75b93a82-87dc-4a7c-9eec-b274c511bd63",
   "metadata": {
    "ExecuteTime": {
     "end_time": "2024-05-01T20:07:15.572949Z",
     "start_time": "2024-05-01T20:07:15.557869Z"
    }
   },
   "outputs": [
    {
     "data": {
      "image/svg+xml": [
       "<?xml version=\"1.0\" encoding=\"UTF-8\"?>\n",
       "<svg xmlns=\"http://www.w3.org/2000/svg\" xmlns:xlink=\"http://www.w3.org/1999/xlink\"\n",
       "     width=\"1420.0\" height=\"531.25\" viewBox=\"-36.0 0 1136.0 425.0\">\n",
       "<defs>\n",
       "</defs>\n",
       "<path d=\"M10,25 L25,25\" stroke-width=\"3\" stroke=\"darkred\" stroke-linejoin=\"miter\" fill=\"none\" />\n",
       "<path d=\"M10,75 L25,75\" stroke-width=\"3\" stroke=\"darkred\" stroke-linejoin=\"miter\" fill=\"none\" />\n",
       "<path d=\"M10,125 L25,125\" stroke-width=\"3\" stroke=\"darkred\" stroke-linejoin=\"miter\" fill=\"none\" />\n",
       "<path d=\"M10,175 L25,175\" stroke-width=\"3\" stroke=\"darkred\" stroke-linejoin=\"miter\" fill=\"none\" />\n",
       "<path d=\"M27,2 L1073,2 L1073,398 L27,398 Z\" stroke=\"black\" fill=\"lightblue\" stroke-dasharray=\"1,2\" stroke-linejoin=\"miter\" />\n",
       "<text x=\"29\" y=\"405\" font-size=\"8\" text-anchor=\"start\">CPLX</text>\n",
       "<path d=\"M25,25 L53,25 L72,44\" stroke=\"darkred\" stroke-width=\"3\" fill=\"none\" />\n",
       "<path d=\"M78,44 L97,25 L125,25\" stroke=\"darkred\" stroke-width=\"3\" fill=\"none\" />\n",
       "<path d=\"M25,75 L53,75 L72,56\" stroke=\"darkred\" stroke-width=\"3\" fill=\"none\" />\n",
       "<path d=\"M78,56 L97,75 L125,75\" stroke=\"darkred\" stroke-width=\"3\" fill=\"none\" />\n",
       "<path d=\"M50,43 L100,43 L100,57 L50,57 Z\" stroke=\"black\" fill=\"black\" stroke-linejoin=\"miter\" />\n",
       "<text x=\"75\" y=\"85\" font-size=\"7\" text-anchor=\"middle\"></text>\n",
       "<text x=\"75\" y=\"26\" font-size=\"7\" text-anchor=\"middle\"></text>\n",
       "<path d=\"M50,43 L100,43 L100,47 L50,47 Z\" stroke=\"black\" fill=\"lightgray\" stroke-linejoin=\"miter\" />\n",
       "<path d=\"M93,50 L103,50 L103,60 L93,60 Z\" stroke=\"black\" fill=\"aquamarine\" stroke-linejoin=\"miter\" />\n",
       "<text x=\"98\" y=\"57\" font-size=\"6\" text-anchor=\"middle\">H</text>\n",
       "<path d=\"M25,125 L125,125\" stroke=\"darkred\" stroke-width=\"3\" fill=\"none\" />\n",
       "<path d=\"M25,175 L125,175\" stroke=\"darkred\" stroke-width=\"3\" fill=\"none\" />\n",
       "<path d=\"M125,25 L225,25\" stroke=\"darkred\" stroke-width=\"3\" fill=\"none\" />\n",
       "<path d=\"M125,75 L225,75\" stroke=\"darkred\" stroke-width=\"3\" fill=\"none\" />\n",
       "<path d=\"M125,125 L225,125\" stroke=\"darkred\" stroke-width=\"3\" fill=\"none\" />\n",
       "<path d=\"M125,175 L225,175\" stroke=\"darkred\" stroke-width=\"3\" fill=\"none\" />\n",
       "<path d=\"M125,225 L225,225\" stroke=\"darkred\" stroke-width=\"3\" fill=\"none\" />\n",
       "<path d=\"M125,275 L225,275\" stroke=\"darkred\" stroke-width=\"3\" fill=\"none\" />\n",
       "<path d=\"M125,325 L225,325\" stroke=\"darkred\" stroke-width=\"3\" fill=\"none\" />\n",
       "<path d=\"M125,375 L225,375\" stroke=\"darkred\" stroke-width=\"3\" fill=\"none\" />\n",
       "<path d=\"M127.5,2.5 L222.5,2.5 L222.5,397.5 L127.5,397.5 Z\" stroke=\"darkred\" fill=\"lightpink\" stroke-linejoin=\"miter\" />\n",
       "<text x=\"135\" y=\"24\" font-size=\"8\" text-anchor=\"start\" font-weight=\"bold\"><tspan x=\"135\" dy=\"0em\">HERALDED</tspan><tspan x=\"135\" dy=\"1em\">CNOT</tspan></text>\n",
       "<path d=\"M225,25 L240,25\" stroke-width=\"3\" stroke=\"darkred\" stroke-linejoin=\"miter\" fill=\"none\" />\n",
       "<path d=\"M225,75 L240,75\" stroke-width=\"3\" stroke=\"darkred\" stroke-linejoin=\"miter\" fill=\"none\" />\n",
       "<path d=\"M225,125 L240,125\" stroke-width=\"3\" stroke=\"darkred\" stroke-linejoin=\"miter\" fill=\"none\" />\n",
       "<path d=\"M225,175 L240,175\" stroke-width=\"3\" stroke=\"darkred\" stroke-linejoin=\"miter\" fill=\"none\" />\n",
       "<path d=\"M107,225 C107,225,107,215,117,215 L125,215 L125,235 L117,235 C107,235,107,225,107,225 L107,225\" stroke-width=\"1\" stroke=\"black\" stroke-linejoin=\"miter\" fill=\"white\" />\n",
       "<text x=\"113\" y=\"241\" font-size=\"6\" text-anchor=\"middle\" font-style=\"italic\">[herald0]</text>\n",
       "<text x=\"117\" y=\"228\" font-size=\"7\" text-anchor=\"middle\">0</text>\n",
       "<path d=\"M107,275 C107,275,107,265,117,265 L125,265 L125,285 L117,285 C107,285,107,275,107,275 L107,275\" stroke-width=\"1\" stroke=\"black\" stroke-linejoin=\"miter\" fill=\"white\" />\n",
       "<text x=\"113\" y=\"291\" font-size=\"6\" text-anchor=\"middle\" font-style=\"italic\">[herald1]</text>\n",
       "<text x=\"117\" y=\"278\" font-size=\"7\" text-anchor=\"middle\">1</text>\n",
       "<path d=\"M107,325 C107,325,107,315,117,315 L125,315 L125,335 L117,335 C107,335,107,325,107,325 L107,325\" stroke-width=\"1\" stroke=\"black\" stroke-linejoin=\"miter\" fill=\"white\" />\n",
       "<text x=\"113\" y=\"341\" font-size=\"6\" text-anchor=\"middle\" font-style=\"italic\">[herald2]</text>\n",
       "<text x=\"117\" y=\"328\" font-size=\"7\" text-anchor=\"middle\">0</text>\n",
       "<path d=\"M107,375 C107,375,107,365,117,365 L125,365 L125,385 L117,385 C107,385,107,375,107,375 L107,375\" stroke-width=\"1\" stroke=\"black\" stroke-linejoin=\"miter\" fill=\"white\" />\n",
       "<text x=\"113\" y=\"391\" font-size=\"6\" text-anchor=\"middle\" font-style=\"italic\">[herald3]</text>\n",
       "<text x=\"117\" y=\"378\" font-size=\"7\" text-anchor=\"middle\">1</text>\n",
       "<path d=\"M-2,15 L10,15 L10,85 L-2,85 Z\" stroke=\"black\" fill=\"lightgray\" stroke-linejoin=\"miter\" />\n",
       "<text x=\"4\" y=\"27\" font-size=\"7\" text-anchor=\"middle\">0</text>\n",
       "<text x=\"4\" y=\"77\" font-size=\"7\" text-anchor=\"middle\">1</text>\n",
       "<text x=\"-2\" y=\"91\" font-size=\"6\" text-anchor=\"start\" font-style=\"italic\">[0]</text>\n",
       "<path d=\"M-2,115 L10,115 L10,185 L-2,185 Z\" stroke=\"black\" fill=\"lightgray\" stroke-linejoin=\"miter\" />\n",
       "<text x=\"4\" y=\"127\" font-size=\"7\" text-anchor=\"middle\">2</text>\n",
       "<text x=\"4\" y=\"177\" font-size=\"7\" text-anchor=\"middle\">3</text>\n",
       "<text x=\"-2\" y=\"191\" font-size=\"6\" text-anchor=\"start\" font-style=\"italic\">[1]</text>\n",
       "<path d=\"M233,235 L225,235 L225,215 L233,215 C233,215,243,215,243,225 C243,235,233,235,233,235 L233,235\" stroke-width=\"1\" stroke=\"black\" stroke-linejoin=\"miter\" fill=\"white\" />\n",
       "<text x=\"238\" y=\"241\" font-size=\"6\" text-anchor=\"middle\" font-style=\"italic\">[herald0]</text>\n",
       "<text x=\"233\" y=\"228\" font-size=\"7\" text-anchor=\"middle\">0</text>\n",
       "<path d=\"M233,285 L225,285 L225,265 L233,265 C233,265,243,265,243,275 C243,285,233,285,233,285 L233,285\" stroke-width=\"1\" stroke=\"black\" stroke-linejoin=\"miter\" fill=\"white\" />\n",
       "<text x=\"238\" y=\"291\" font-size=\"6\" text-anchor=\"middle\" font-style=\"italic\">[herald1]</text>\n",
       "<text x=\"233\" y=\"278\" font-size=\"7\" text-anchor=\"middle\">1</text>\n",
       "<path d=\"M233,335 L225,335 L225,315 L233,315 C233,315,243,315,243,325 C243,335,233,335,233,335 L233,335\" stroke-width=\"1\" stroke=\"black\" stroke-linejoin=\"miter\" fill=\"white\" />\n",
       "<text x=\"238\" y=\"341\" font-size=\"6\" text-anchor=\"middle\" font-style=\"italic\">[herald2]</text>\n",
       "<text x=\"233\" y=\"328\" font-size=\"7\" text-anchor=\"middle\">0</text>\n",
       "<path d=\"M233,385 L225,385 L225,365 L233,365 C233,365,243,365,243,375 C243,385,233,385,233,385 L233,385\" stroke-width=\"1\" stroke=\"black\" stroke-linejoin=\"miter\" fill=\"white\" />\n",
       "<text x=\"238\" y=\"391\" font-size=\"6\" text-anchor=\"middle\" font-style=\"italic\">[herald3]</text>\n",
       "<text x=\"233\" y=\"378\" font-size=\"7\" text-anchor=\"middle\">1</text>\n",
       "<path d=\"M240,15 L252,15 L252,85 L240,85 Z\" stroke=\"black\" fill=\"lightgray\" stroke-linejoin=\"miter\" />\n",
       "<text x=\"246\" y=\"27\" font-size=\"7\" text-anchor=\"middle\">0</text>\n",
       "<text x=\"246\" y=\"77\" font-size=\"7\" text-anchor=\"middle\">1</text>\n",
       "<text x=\"252\" y=\"91\" font-size=\"6\" text-anchor=\"end\" font-style=\"italic\">[0]</text>\n",
       "<path d=\"M240,115 L252,115 L252,185 L240,185 Z\" stroke=\"black\" fill=\"lightgray\" stroke-linejoin=\"miter\" />\n",
       "<text x=\"246\" y=\"127\" font-size=\"7\" text-anchor=\"middle\">2</text>\n",
       "<text x=\"246\" y=\"177\" font-size=\"7\" text-anchor=\"middle\">3</text>\n",
       "<text x=\"252\" y=\"191\" font-size=\"6\" text-anchor=\"end\" font-style=\"italic\">[1]</text>\n",
       "</svg>"
      ],
      "text/plain": [
       "<drawsvg.drawing.Drawing at 0x7df1c8d8f550>"
      ]
     },
     "execution_count": 7,
     "metadata": {},
     "output_type": "execute_result"
    }
   ],
   "source": [
    "phi_plus = Circuit(8).add(0, BS.H()).add(0, cnot)\n",
    "\n",
    "# Processor Preparation\n",
    "p_plus = Processor(\"Naive\", phi_plus)  # Step 1: Create the processor with the correct circuit\n",
    "p_plus.min_detected_photons_filter(0)       # Step 2: Create the filter to discard failed experiments\n",
    "p_plus.add_herald(4, 0)                     # Add heralds on rails 4, 5, 6, 7\n",
    "p_plus.add_herald(5, 1)                     \n",
    "p_plus.add_herald(6, 0)                     \n",
    "p_plus.add_herald(7, 1)                     \n",
    "p_plus.add_port(0, pcvl.Port(pcvl.Encoding.DUAL_RAIL, \"0\"))  # (Step 4): Optionally specify that we \n",
    "p_plus.add_port(2, pcvl.Port(pcvl.Encoding.DUAL_RAIL, \"1\"))  #      are using rail encoding\n",
    "pdisplay(p_plus, recursive=True)            # Final step: Admire the result/ cry if it does not work"
   ]
  },
  {
   "cell_type": "code",
   "execution_count": 8,
   "id": "a891a5dcb6e7c811",
   "metadata": {
    "ExecuteTime": {
     "end_time": "2024-05-01T20:07:15.597643Z",
     "start_time": "2024-05-01T20:07:15.574155Z"
    },
    "collapsed": false,
    "jupyter": {
     "outputs_hidden": false
    }
   },
   "outputs": [
    {
     "name": "stdout",
     "output_type": "stream",
     "text": [
      "Avec l'entrée : 00\n",
      "> 00: 0.5\n",
      "> 11: 0.5\n"
     ]
    }
   ],
   "source": [
    "measure2p(p_plus)"
   ]
  },
  {
   "cell_type": "markdown",
   "id": "a128485e-5a46-4d15-bc5d-947bb1fb6b73",
   "metadata": {},
   "source": [
    "One can also cheat with: "
   ]
  },
  {
   "cell_type": "code",
   "execution_count": 9,
   "id": "91c44c47-0c8f-4e05-a338-2e01a022c530",
   "metadata": {
    "ExecuteTime": {
     "end_time": "2024-05-01T20:07:15.608899Z",
     "start_time": "2024-05-01T20:07:15.598917Z"
    }
   },
   "outputs": [
    {
     "name": "stdout",
     "output_type": "stream",
     "text": [
      "-sqrt(2)/2*|0,1,0,1>+sqrt(2)/2*|1,0,1,0>\n"
     ]
    }
   ],
   "source": [
    "e = pcvl.utils.stategenerator.StateGenerator(encoding=pcvl.Encoding.DUAL_RAIL)\n",
    "b = e.bell_state(\"phi-\")\n",
    "print(b)"
   ]
  },
  {
   "cell_type": "markdown",
   "id": "fa8fd275-a1b7-4542-ad0e-7480bc02ee8a",
   "metadata": {},
   "source": [
    "## Step 1: Creating Quantum States\n",
    "\n",
    "**1.a)** Create the state:\n",
    "$$\n",
    "|\\psi\\rangle = |11\\rangle\n",
    "$$\n",
    "\n",
    "Starting from our base state, which is $|00\\rangle$. The qubits are accessible via the `qubits` dictionary for testing, although the default input is already $|00\\rangle$.\n",
    "\n",
    "*There are multiple ways to do this. All methods are accepted.*"
   ]
  },
  {
   "cell_type": "markdown",
   "id": "6b224e5a-4409-418c-8eb8-955a0ae27479",
   "metadata": {},
   "source": [
    "<h2 style=\"color:green\">Solution Step 1:</h2>\n",
    "\n",
    "One possibility is as follows:\n",
    "$$\n",
    "|00\\rangle \\xrightarrow{X \\text{qubit 0}} |10\\rangle \\xrightarrow{\\CNOT}  |11\\rangle\n",
    "$$\n",
    "\n",
    "We could also directly apply the NOT gate twice:\n",
    "$$\n",
    "|00\\rangle \\xrightarrow{X \\text{qubit 0}} |10\\rangle \\xrightarrow{X \\text{qubit 1}}   |11\\rangle\n",
    "$$"
   ]
  },
  {
   "cell_type": "code",
   "execution_count": 10,
   "id": "e23f397d-3530-4f89-86cd-9ffb1243444a",
   "metadata": {
    "ExecuteTime": {
     "end_time": "2024-05-01T20:07:15.616352Z",
     "start_time": "2024-05-01T20:07:15.610639Z"
    }
   },
   "outputs": [
    {
     "data": {
      "image/svg+xml": [
       "<?xml version=\"1.0\" encoding=\"UTF-8\"?>\n",
       "<svg xmlns=\"http://www.w3.org/2000/svg\" xmlns:xlink=\"http://www.w3.org/1999/xlink\"\n",
       "     width=\"323.75\" height=\"531.25\" viewBox=\"-29.5 0 259.0 425.0\">\n",
       "<defs>\n",
       "</defs>\n",
       "<path d=\"M10,25 L25,25\" stroke-width=\"3\" stroke=\"darkred\" stroke-linejoin=\"miter\" fill=\"none\" />\n",
       "<path d=\"M10,75 L25,75\" stroke-width=\"3\" stroke=\"darkred\" stroke-linejoin=\"miter\" fill=\"none\" />\n",
       "<path d=\"M10,125 L25,125\" stroke-width=\"3\" stroke=\"darkred\" stroke-linejoin=\"miter\" fill=\"none\" />\n",
       "<path d=\"M10,175 L25,175\" stroke-width=\"3\" stroke=\"darkred\" stroke-linejoin=\"miter\" fill=\"none\" />\n",
       "<path d=\"M10,225 L25,225\" stroke-width=\"3\" stroke=\"darkred\" stroke-linejoin=\"miter\" fill=\"none\" />\n",
       "<path d=\"M10,275 L25,275\" stroke-width=\"3\" stroke=\"darkred\" stroke-linejoin=\"miter\" fill=\"none\" />\n",
       "<path d=\"M10,325 L25,325\" stroke-width=\"3\" stroke=\"darkred\" stroke-linejoin=\"miter\" fill=\"none\" />\n",
       "<path d=\"M10,375 L25,375\" stroke-width=\"3\" stroke=\"darkred\" stroke-linejoin=\"miter\" fill=\"none\" />\n",
       "<path d=\"M28,25 L72,75\" stroke=\"white\" stroke-width=\"6\" fill=\"none\" />\n",
       "<path d=\"M25,25 L28,25 L72,75 L75,75\" stroke=\"darkred\" stroke-width=\"3\" fill=\"none\" />\n",
       "<path d=\"M28,75 L72,25\" stroke=\"white\" stroke-width=\"6\" fill=\"none\" />\n",
       "<path d=\"M25,75 L28,75 L72,25 L75,25\" stroke=\"darkred\" stroke-width=\"3\" fill=\"none\" />\n",
       "<path d=\"M25,125 L75,125\" stroke=\"darkred\" stroke-width=\"3\" fill=\"none\" />\n",
       "<path d=\"M25,175 L75,175\" stroke=\"darkred\" stroke-width=\"3\" fill=\"none\" />\n",
       "<path d=\"M25,225 L75,225\" stroke=\"darkred\" stroke-width=\"3\" fill=\"none\" />\n",
       "<path d=\"M25,275 L75,275\" stroke=\"darkred\" stroke-width=\"3\" fill=\"none\" />\n",
       "<path d=\"M25,325 L75,325\" stroke=\"darkred\" stroke-width=\"3\" fill=\"none\" />\n",
       "<path d=\"M25,375 L75,375\" stroke=\"darkred\" stroke-width=\"3\" fill=\"none\" />\n",
       "<path d=\"M75,25 L175,25\" stroke=\"darkred\" stroke-width=\"3\" fill=\"none\" />\n",
       "<path d=\"M75,75 L175,75\" stroke=\"darkred\" stroke-width=\"3\" fill=\"none\" />\n",
       "<path d=\"M75,125 L175,125\" stroke=\"darkred\" stroke-width=\"3\" fill=\"none\" />\n",
       "<path d=\"M75,175 L175,175\" stroke=\"darkred\" stroke-width=\"3\" fill=\"none\" />\n",
       "<path d=\"M75,225 L175,225\" stroke=\"darkred\" stroke-width=\"3\" fill=\"none\" />\n",
       "<path d=\"M75,275 L175,275\" stroke=\"darkred\" stroke-width=\"3\" fill=\"none\" />\n",
       "<path d=\"M75,325 L175,325\" stroke=\"darkred\" stroke-width=\"3\" fill=\"none\" />\n",
       "<path d=\"M75,375 L175,375\" stroke=\"darkred\" stroke-width=\"3\" fill=\"none\" />\n",
       "<path d=\"M77.5,2.5 L172.5,2.5 L172.5,397.5 L77.5,397.5 Z\" stroke=\"darkred\" fill=\"lightpink\" stroke-linejoin=\"miter\" />\n",
       "<text x=\"85\" y=\"24\" font-size=\"8\" text-anchor=\"start\" font-weight=\"bold\"><tspan x=\"85\" dy=\"0em\">HERALDED</tspan><tspan x=\"85\" dy=\"1em\">CNOT</tspan></text>\n",
       "<path d=\"M175,25 L190,25\" stroke-width=\"3\" stroke=\"darkred\" stroke-linejoin=\"miter\" fill=\"none\" />\n",
       "<path d=\"M175,75 L190,75\" stroke-width=\"3\" stroke=\"darkred\" stroke-linejoin=\"miter\" fill=\"none\" />\n",
       "<path d=\"M175,125 L190,125\" stroke-width=\"3\" stroke=\"darkred\" stroke-linejoin=\"miter\" fill=\"none\" />\n",
       "<path d=\"M175,175 L190,175\" stroke-width=\"3\" stroke=\"darkred\" stroke-linejoin=\"miter\" fill=\"none\" />\n",
       "<path d=\"M175,225 L190,225\" stroke-width=\"3\" stroke=\"darkred\" stroke-linejoin=\"miter\" fill=\"none\" />\n",
       "<path d=\"M175,275 L190,275\" stroke-width=\"3\" stroke=\"darkred\" stroke-linejoin=\"miter\" fill=\"none\" />\n",
       "<path d=\"M175,325 L190,325\" stroke-width=\"3\" stroke=\"darkred\" stroke-linejoin=\"miter\" fill=\"none\" />\n",
       "<path d=\"M175,375 L190,375\" stroke-width=\"3\" stroke=\"darkred\" stroke-linejoin=\"miter\" fill=\"none\" />\n",
       "<text x=\"200\" y=\"28\" font-size=\"9\" text-anchor=\"end\">0</text>\n",
       "<text x=\"200\" y=\"78\" font-size=\"9\" text-anchor=\"end\">1</text>\n",
       "<text x=\"200\" y=\"128\" font-size=\"9\" text-anchor=\"end\">2</text>\n",
       "<text x=\"200\" y=\"178\" font-size=\"9\" text-anchor=\"end\">3</text>\n",
       "<text x=\"200\" y=\"228\" font-size=\"9\" text-anchor=\"end\">4</text>\n",
       "<text x=\"200\" y=\"278\" font-size=\"9\" text-anchor=\"end\">5</text>\n",
       "<text x=\"200\" y=\"328\" font-size=\"9\" text-anchor=\"end\">6</text>\n",
       "<text x=\"200\" y=\"378\" font-size=\"9\" text-anchor=\"end\">7</text>\n",
       "<text x=\"0\" y=\"28\" font-size=\"9\" text-anchor=\"start\">0</text>\n",
       "<text x=\"0\" y=\"78\" font-size=\"9\" text-anchor=\"start\">1</text>\n",
       "<text x=\"0\" y=\"128\" font-size=\"9\" text-anchor=\"start\">2</text>\n",
       "<text x=\"0\" y=\"178\" font-size=\"9\" text-anchor=\"start\">3</text>\n",
       "<text x=\"0\" y=\"228\" font-size=\"9\" text-anchor=\"start\">4</text>\n",
       "<text x=\"0\" y=\"278\" font-size=\"9\" text-anchor=\"start\">5</text>\n",
       "<text x=\"0\" y=\"328\" font-size=\"9\" text-anchor=\"start\">6</text>\n",
       "<text x=\"0\" y=\"378\" font-size=\"9\" text-anchor=\"start\">7</text>\n",
       "</svg>"
      ],
      "text/plain": [
       "<drawsvg.drawing.Drawing at 0x7df1c8dfc810>"
      ]
     },
     "execution_count": 10,
     "metadata": {},
     "output_type": "execute_result"
    }
   ],
   "source": [
    "step_one = Circuit(8).add(0, PERM([1, 0])).add(0, cnot)\n",
    "step_one_double_not = Circuit(4).add(0, PERM([1, 0, 3, 2])) \n",
    "\n",
    "pdisplay(step_one)"
   ]
  },
  {
   "cell_type": "markdown",
   "id": "2a7629772fb71090",
   "metadata": {
    "collapsed": false,
    "jupyter": {
     "outputs_hidden": false
    }
   },
   "source": [
    "If you didn't use a CNOT gate, you can verify with:"
   ]
  },
  {
   "cell_type": "code",
   "execution_count": 11,
   "id": "f72bf82e-1187-4333-9c66-c6a1d2f80142",
   "metadata": {
    "ExecuteTime": {
     "end_time": "2024-05-01T20:07:15.620Z",
     "start_time": "2024-05-01T20:07:15.617328Z"
    }
   },
   "outputs": [],
   "source": [
    "if len(step_one.depths()) == 4:\n",
    "    analyze(step_one)\n",
    "    print(f\"Result : {amplitudes(step_one)}\")\n",
    "    print(\"Solution: {'00': 0j, '01': 0j, '10': 0j, '11': (1+0j)}\")"
   ]
  },
  {
   "cell_type": "markdown",
   "id": "b1afbae34cce3d47",
   "metadata": {
    "collapsed": false,
    "jupyter": {
     "outputs_hidden": false
    }
   },
   "source": [
    "If you used a CNOT gate, you need to set up a processor:"
   ]
  },
  {
   "cell_type": "code",
   "execution_count": 12,
   "id": "ae871260-3bc2-493d-949f-7ba1b1698ad0",
   "metadata": {
    "ExecuteTime": {
     "end_time": "2024-05-01T20:07:15.626202Z",
     "start_time": "2024-05-01T20:07:15.621045Z"
    }
   },
   "outputs": [],
   "source": [
    "if len(step_one.depths()) == 8:\n",
    "    p_step_one = Processor(\"Naive\", step_one)\n",
    "    p_step_one.min_detected_photons_filter(0)\n",
    "    p_step_one.add_herald(4, 0)\n",
    "    p_step_one.add_herald(5, 1)\n",
    "    p_step_one.add_herald(6, 0)\n",
    "    p_step_one.add_herald(7, 1)\n",
    "    p_step_one.add_port(0, pcvl.Port(pcvl.Encoding.DUAL_RAIL, \"0\"))\n",
    "    p_step_one.add_port(2, pcvl.Port(pcvl.Encoding.DUAL_RAIL, \"1\"))\n",
    "    pdisplay(p_step_one, recursive=True)"
   ]
  },
  {
   "cell_type": "code",
   "execution_count": 13,
   "id": "4e518e26-93b2-453e-bf96-0542414050ed",
   "metadata": {
    "ExecuteTime": {
     "end_time": "2024-05-01T20:07:15.652148Z",
     "start_time": "2024-05-01T20:07:15.630221Z"
    }
   },
   "outputs": [
    {
     "name": "stdout",
     "output_type": "stream",
     "text": [
      "Avec l'entrée : 00\n",
      "> 11: 1.0\n",
      "Solution :\n",
      "> 11: 1.0\n"
     ]
    }
   ],
   "source": [
    "measure2p(p_step_one)\n",
    "print(\"Solution:\\n> 11: 1.0\")"
   ]
  },
  {
   "cell_type": "markdown",
   "id": "ff6e249d-1471-4036-8cb7-239826de3c2c",
   "metadata": {},
   "source": [
    "**1.b)** Create the following state:\n",
    "$$\n",
    "|\\psi\\rangle = -\\cos\\frac{\\pi}{6}|00\\rangle-\\sin\\frac{\\pi}{6}|11\\rangle\n",
    "$$"
   ]
  },
  {
   "cell_type": "markdown",
   "id": "c8cd9b98-6959-4340-899e-9e9841ea99fc",
   "metadata": {},
   "source": [
    "<h2 style=\"color:green\">Solution Step 1 bis:</h2>\n",
    "\n",
    "First, we can try to apply the rotation to rail 0:\n",
    "$$\n",
    "|00\\rangle \\xrightarrow{Ry ~\\text{qubit 0}} -\\cos\\frac{\\pi}{6}|00\\rangle-\\sin\\frac{\\pi}{6}|10\\rangle\n",
    "$$\n",
    "\n",
    "Then, simply apply a CNOT to achieve the result:\n",
    "$$\n",
    " -\\cos\\frac{\\pi}{6}|00\\rangle-\\sin\\frac{\\pi}{6}|10\\rangle\\xrightarrow{CNOT}-\\cos\\frac{\\pi}{6}|00\\rangle-\\sin\\frac{\\pi}{6}|11\\rangle\n",
    " $$"
   ]
  },
  {
   "cell_type": "code",
   "execution_count": 14,
   "id": "f2ff4a97-c6ab-4900-aca1-10c703d1d4f0",
   "metadata": {
    "ExecuteTime": {
     "end_time": "2024-05-01T20:07:15.874603Z",
     "start_time": "2024-05-01T20:07:15.653296Z"
    }
   },
   "outputs": [
    {
     "data": {
      "image/svg+xml": [
       "<?xml version=\"1.0\" encoding=\"UTF-8\"?>\n",
       "<svg xmlns=\"http://www.w3.org/2000/svg\" xmlns:xlink=\"http://www.w3.org/1999/xlink\"\n",
       "     width=\"1465.0\" height=\"531.25\" viewBox=\"-36.0 0 1172.0 425.0\">\n",
       "<defs>\n",
       "</defs>\n",
       "<path d=\"M10,25 L25,25\" stroke-width=\"3\" stroke=\"darkred\" stroke-linejoin=\"miter\" fill=\"none\" />\n",
       "<path d=\"M10,75 L25,75\" stroke-width=\"3\" stroke=\"darkred\" stroke-linejoin=\"miter\" fill=\"none\" />\n",
       "<path d=\"M10,125 L25,125\" stroke-width=\"3\" stroke=\"darkred\" stroke-linejoin=\"miter\" fill=\"none\" />\n",
       "<path d=\"M10,175 L25,175\" stroke-width=\"3\" stroke=\"darkred\" stroke-linejoin=\"miter\" fill=\"none\" />\n",
       "<path d=\"M27,2 L1073,2 L1073,398 L27,398 Z\" stroke=\"black\" fill=\"lightblue\" stroke-dasharray=\"1,2\" stroke-linejoin=\"miter\" />\n",
       "<text x=\"29\" y=\"405\" font-size=\"8\" text-anchor=\"start\">CPLX</text>\n",
       "<path d=\"M25,25 L53,25 L72,44\" stroke=\"darkred\" stroke-width=\"3\" fill=\"none\" />\n",
       "<path d=\"M78,44 L97,25 L125,25\" stroke=\"darkred\" stroke-width=\"3\" fill=\"none\" />\n",
       "<path d=\"M25,75 L53,75 L72,56\" stroke=\"darkred\" stroke-width=\"3\" fill=\"none\" />\n",
       "<path d=\"M78,56 L97,75 L125,75\" stroke=\"darkred\" stroke-width=\"3\" fill=\"none\" />\n",
       "<path d=\"M50,43 L100,43 L100,57 L50,57 Z\" stroke=\"black\" fill=\"black\" stroke-linejoin=\"miter\" />\n",
       "<text x=\"75\" y=\"80\" font-size=\"7\" text-anchor=\"middle\"></text>\n",
       "<text x=\"75\" y=\"26\" font-size=\"7\" text-anchor=\"middle\">Θ=pi/3</text>\n",
       "<path d=\"M50,43 L100,43 L100,47 L50,47 Z\" stroke=\"black\" fill=\"lightgray\" stroke-linejoin=\"miter\" />\n",
       "<path d=\"M93,50 L103,50 L103,60 L93,60 Z\" stroke=\"black\" fill=\"lightsalmon\" stroke-linejoin=\"miter\" />\n",
       "<text x=\"98\" y=\"57\" font-size=\"6\" text-anchor=\"middle\">Ry</text>\n",
       "<path d=\"M125,25 L175,25\" stroke=\"darkred\" stroke-width=\"3\" fill=\"none\" />\n",
       "<path d=\"M130,40 L139,40 L153,10 L144,10 L130,40 L139,40 Z\" stroke=\"black\" fill=\"gray\" stroke-linejoin=\"miter\" />\n",
       "<text x=\"147\" y=\"38\" font-size=\"7\" text-anchor=\"start\">Φ=pi</text>\n",
       "<path d=\"M25,125 L125,125\" stroke=\"darkred\" stroke-width=\"3\" fill=\"none\" />\n",
       "<path d=\"M25,175 L125,175\" stroke=\"darkred\" stroke-width=\"3\" fill=\"none\" />\n",
       "<path d=\"M128,75 L172,175\" stroke=\"white\" stroke-width=\"6\" fill=\"none\" />\n",
       "<path d=\"M125,75 L128,75 L172,175 L175,175\" stroke=\"darkred\" stroke-width=\"3\" fill=\"none\" />\n",
       "<path d=\"M128,125 L172,275\" stroke=\"white\" stroke-width=\"6\" fill=\"none\" />\n",
       "<path d=\"M125,125 L128,125 L172,275 L175,275\" stroke=\"darkred\" stroke-width=\"3\" fill=\"none\" />\n",
       "<path d=\"M128,175 L172,225\" stroke=\"white\" stroke-width=\"6\" fill=\"none\" />\n",
       "<path d=\"M125,175 L128,175 L172,225 L175,225\" stroke=\"darkred\" stroke-width=\"3\" fill=\"none\" />\n",
       "<path d=\"M175,225 L203,225 L222,244\" stroke=\"darkred\" stroke-width=\"3\" fill=\"none\" />\n",
       "<path d=\"M228,244 L247,225 L275,225\" stroke=\"darkred\" stroke-width=\"3\" fill=\"none\" />\n",
       "<path d=\"M175,275 L203,275 L222,256\" stroke=\"darkred\" stroke-width=\"3\" fill=\"none\" />\n",
       "<path d=\"M228,256 L247,275 L275,275\" stroke=\"darkred\" stroke-width=\"3\" fill=\"none\" />\n",
       "<path d=\"M200,243 L250,243 L250,257 L200,257 Z\" stroke=\"black\" fill=\"black\" stroke-linejoin=\"miter\" />\n",
       "<text x=\"225\" y=\"285\" font-size=\"7\" text-anchor=\"middle\"></text>\n",
       "<text x=\"225\" y=\"226\" font-size=\"7\" text-anchor=\"middle\"></text>\n",
       "<path d=\"M200,243 L250,243 L250,247 L200,247 Z\" stroke=\"black\" fill=\"lightgray\" stroke-linejoin=\"miter\" />\n",
       "<path d=\"M243,250 L253,250 L253,260 L243,260 Z\" stroke=\"black\" fill=\"aquamarine\" stroke-linejoin=\"miter\" />\n",
       "<text x=\"248\" y=\"257\" font-size=\"6\" text-anchor=\"middle\">H</text>\n",
       "<path d=\"M175,175 L275,175\" stroke=\"darkred\" stroke-width=\"3\" fill=\"none\" />\n",
       "<path d=\"M278,175 L322,225\" stroke=\"white\" stroke-width=\"6\" fill=\"none\" />\n",
       "<path d=\"M275,175 L278,175 L322,225 L325,225\" stroke=\"darkred\" stroke-width=\"3\" fill=\"none\" />\n",
       "<path d=\"M278,225 L322,325\" stroke=\"white\" stroke-width=\"6\" fill=\"none\" />\n",
       "<path d=\"M275,225 L278,225 L322,325 L325,325\" stroke=\"darkred\" stroke-width=\"3\" fill=\"none\" />\n",
       "<path d=\"M278,275 L322,175\" stroke=\"white\" stroke-width=\"6\" fill=\"none\" />\n",
       "<path d=\"M275,275 L278,275 L322,175 L325,175\" stroke=\"darkred\" stroke-width=\"3\" fill=\"none\" />\n",
       "<path d=\"M325,175 L353,175 L372,194\" stroke=\"darkred\" stroke-width=\"3\" fill=\"none\" />\n",
       "<path d=\"M378,194 L397,175 L425,175\" stroke=\"darkred\" stroke-width=\"3\" fill=\"none\" />\n",
       "<path d=\"M325,225 L353,225 L372,206\" stroke=\"darkred\" stroke-width=\"3\" fill=\"none\" />\n",
       "<path d=\"M378,206 L397,225 L425,225\" stroke=\"darkred\" stroke-width=\"3\" fill=\"none\" />\n",
       "<path d=\"M350,193 L400,193 L400,207 L350,207 Z\" stroke=\"black\" fill=\"black\" stroke-linejoin=\"miter\" />\n",
       "<text x=\"375\" y=\"235\" font-size=\"7\" text-anchor=\"middle\"></text>\n",
       "<text x=\"375\" y=\"176\" font-size=\"7\" text-anchor=\"middle\"></text>\n",
       "<path d=\"M350,193 L400,193 L400,197 L350,197 Z\" stroke=\"black\" fill=\"lightgray\" stroke-linejoin=\"miter\" />\n",
       "<path d=\"M393,200 L403,200 L403,210 L393,210 Z\" stroke=\"black\" fill=\"aquamarine\" stroke-linejoin=\"miter\" />\n",
       "<text x=\"398\" y=\"207\" font-size=\"6\" text-anchor=\"middle\">H</text>\n",
       "<path d=\"M428,175 L472,275\" stroke=\"white\" stroke-width=\"6\" fill=\"none\" />\n",
       "<path d=\"M425,175 L428,175 L472,275 L475,275\" stroke=\"darkred\" stroke-width=\"3\" fill=\"none\" />\n",
       "<path d=\"M428,225 L472,175\" stroke=\"white\" stroke-width=\"6\" fill=\"none\" />\n",
       "<path d=\"M425,225 L428,225 L472,175 L475,175\" stroke=\"darkred\" stroke-width=\"3\" fill=\"none\" />\n",
       "<path d=\"M475,125 L503,125 L522,144\" stroke=\"darkred\" stroke-width=\"3\" fill=\"none\" />\n",
       "<path d=\"M528,144 L547,125 L575,125\" stroke=\"darkred\" stroke-width=\"3\" fill=\"none\" />\n",
       "<path d=\"M475,175 L503,175 L522,156\" stroke=\"darkred\" stroke-width=\"3\" fill=\"none\" />\n",
       "<path d=\"M528,156 L547,175 L575,175\" stroke=\"darkred\" stroke-width=\"3\" fill=\"none\" />\n",
       "<path d=\"M500,143 L550,143 L550,157 L500,157 Z\" stroke=\"black\" fill=\"black\" stroke-linejoin=\"miter\" />\n",
       "<text x=\"525\" y=\"180\" font-size=\"7\" text-anchor=\"middle\"></text>\n",
       "<text x=\"525\" y=\"126\" font-size=\"7\" text-anchor=\"middle\">Θ=2.149475</text>\n",
       "<path d=\"M500,143 L550,143 L550,147 L500,147 Z\" stroke=\"black\" fill=\"lightgray\" stroke-linejoin=\"miter\" />\n",
       "<path d=\"M543,150 L553,150 L553,160 L543,160 Z\" stroke=\"black\" fill=\"aquamarine\" stroke-linejoin=\"miter\" />\n",
       "<text x=\"548\" y=\"157\" font-size=\"6\" text-anchor=\"middle\">H</text>\n",
       "<path d=\"M475,225 L503,225 L522,244\" stroke=\"darkred\" stroke-width=\"3\" fill=\"none\" />\n",
       "<path d=\"M528,244 L547,225 L575,225\" stroke=\"darkred\" stroke-width=\"3\" fill=\"none\" />\n",
       "<path d=\"M475,275 L503,275 L522,256\" stroke=\"darkred\" stroke-width=\"3\" fill=\"none\" />\n",
       "<path d=\"M528,256 L547,275 L575,275\" stroke=\"darkred\" stroke-width=\"3\" fill=\"none\" />\n",
       "<path d=\"M500,243 L550,243 L550,257 L500,257 Z\" stroke=\"black\" fill=\"black\" stroke-linejoin=\"miter\" />\n",
       "<text x=\"525\" y=\"280\" font-size=\"7\" text-anchor=\"middle\"></text>\n",
       "<text x=\"525\" y=\"226\" font-size=\"7\" text-anchor=\"middle\">Θ=2.149475</text>\n",
       "<path d=\"M500,243 L550,243 L550,247 L500,247 Z\" stroke=\"black\" fill=\"lightgray\" stroke-linejoin=\"miter\" />\n",
       "<path d=\"M543,250 L553,250 L553,260 L543,260 Z\" stroke=\"black\" fill=\"aquamarine\" stroke-linejoin=\"miter\" />\n",
       "<text x=\"548\" y=\"257\" font-size=\"6\" text-anchor=\"middle\">H</text>\n",
       "<path d=\"M578,175 L622,225\" stroke=\"white\" stroke-width=\"6\" fill=\"none\" />\n",
       "<path d=\"M575,175 L578,175 L622,225 L625,225\" stroke=\"darkred\" stroke-width=\"3\" fill=\"none\" />\n",
       "<path d=\"M578,275 L622,175\" stroke=\"white\" stroke-width=\"6\" fill=\"none\" />\n",
       "<path d=\"M575,275 L578,275 L622,175 L625,175\" stroke=\"darkred\" stroke-width=\"3\" fill=\"none\" />\n",
       "<path d=\"M625,175 L653,175 L672,194\" stroke=\"darkred\" stroke-width=\"3\" fill=\"none\" />\n",
       "<path d=\"M678,194 L697,175 L725,175\" stroke=\"darkred\" stroke-width=\"3\" fill=\"none\" />\n",
       "<path d=\"M625,225 L653,225 L672,206\" stroke=\"darkred\" stroke-width=\"3\" fill=\"none\" />\n",
       "<path d=\"M678,206 L697,225 L725,225\" stroke=\"darkred\" stroke-width=\"3\" fill=\"none\" />\n",
       "<path d=\"M650,193 L700,193 L700,207 L650,207 Z\" stroke=\"black\" fill=\"black\" stroke-linejoin=\"miter\" />\n",
       "<text x=\"675\" y=\"235\" font-size=\"7\" text-anchor=\"middle\"></text>\n",
       "<text x=\"675\" y=\"176\" font-size=\"7\" text-anchor=\"middle\"></text>\n",
       "<path d=\"M650,193 L700,193 L700,197 L650,197 Z\" stroke=\"black\" fill=\"lightgray\" stroke-linejoin=\"miter\" />\n",
       "<path d=\"M693,200 L703,200 L703,210 L693,210 Z\" stroke=\"black\" fill=\"aquamarine\" stroke-linejoin=\"miter\" />\n",
       "<text x=\"698\" y=\"207\" font-size=\"6\" text-anchor=\"middle\">H</text>\n",
       "<path d=\"M325,325 L725,325\" stroke=\"darkred\" stroke-width=\"3\" fill=\"none\" />\n",
       "<path d=\"M728,175 L772,225\" stroke=\"white\" stroke-width=\"6\" fill=\"none\" />\n",
       "<path d=\"M725,175 L728,175 L772,225 L775,225\" stroke=\"darkred\" stroke-width=\"3\" fill=\"none\" />\n",
       "<path d=\"M728,225 L772,125\" stroke=\"white\" stroke-width=\"6\" fill=\"none\" />\n",
       "<path d=\"M725,225 L728,225 L772,125 L775,125\" stroke=\"darkred\" stroke-width=\"3\" fill=\"none\" />\n",
       "<path d=\"M728,325 L772,325\" stroke=\"white\" stroke-width=\"6\" fill=\"none\" />\n",
       "<path d=\"M725,325 L728,325 L772,325 L775,325\" stroke=\"darkred\" stroke-width=\"3\" fill=\"none\" />\n",
       "<path d=\"M775,125 L803,125 L822,144\" stroke=\"darkred\" stroke-width=\"3\" fill=\"none\" />\n",
       "<path d=\"M828,144 L847,125 L875,125\" stroke=\"darkred\" stroke-width=\"3\" fill=\"none\" />\n",
       "<path d=\"M775,175 L803,175 L822,156\" stroke=\"darkred\" stroke-width=\"3\" fill=\"none\" />\n",
       "<path d=\"M828,156 L847,175 L875,175\" stroke=\"darkred\" stroke-width=\"3\" fill=\"none\" />\n",
       "<path d=\"M800,143 L850,143 L850,157 L800,157 Z\" stroke=\"black\" fill=\"black\" stroke-linejoin=\"miter\" />\n",
       "<text x=\"825\" y=\"180\" font-size=\"7\" text-anchor=\"middle\"></text>\n",
       "<text x=\"825\" y=\"126\" font-size=\"7\" text-anchor=\"middle\">Θ=1.030117</text>\n",
       "<path d=\"M800,143 L850,143 L850,147 L800,147 Z\" stroke=\"black\" fill=\"lightgray\" stroke-linejoin=\"miter\" />\n",
       "<path d=\"M843,150 L853,150 L853,160 L843,160 Z\" stroke=\"black\" fill=\"aquamarine\" stroke-linejoin=\"miter\" />\n",
       "<text x=\"848\" y=\"157\" font-size=\"6\" text-anchor=\"middle\">H</text>\n",
       "<path d=\"M878,125 L922,175\" stroke=\"white\" stroke-width=\"6\" fill=\"none\" />\n",
       "<path d=\"M875,125 L878,125 L922,175 L925,175\" stroke=\"darkred\" stroke-width=\"3\" fill=\"none\" />\n",
       "<path d=\"M775,225 L803,225 L822,244\" stroke=\"darkred\" stroke-width=\"3\" fill=\"none\" />\n",
       "<path d=\"M828,244 L847,225 L875,225\" stroke=\"darkred\" stroke-width=\"3\" fill=\"none\" />\n",
       "<path d=\"M775,275 L803,275 L822,256\" stroke=\"darkred\" stroke-width=\"3\" fill=\"none\" />\n",
       "<path d=\"M828,256 L847,275 L875,275\" stroke=\"darkred\" stroke-width=\"3\" fill=\"none\" />\n",
       "<path d=\"M800,243 L850,243 L850,257 L800,257 Z\" stroke=\"black\" fill=\"black\" stroke-linejoin=\"miter\" />\n",
       "<text x=\"825\" y=\"280\" font-size=\"7\" text-anchor=\"middle\"></text>\n",
       "<text x=\"825\" y=\"226\" font-size=\"7\" text-anchor=\"middle\">Θ=1.030117</text>\n",
       "<path d=\"M800,243 L850,243 L850,247 L800,247 Z\" stroke=\"black\" fill=\"lightgray\" stroke-linejoin=\"miter\" />\n",
       "<path d=\"M843,250 L853,250 L853,260 L843,260 Z\" stroke=\"black\" fill=\"aquamarine\" stroke-linejoin=\"miter\" />\n",
       "<text x=\"848\" y=\"257\" font-size=\"6\" text-anchor=\"middle\">H</text>\n",
       "<path d=\"M775,325 L875,325\" stroke=\"darkred\" stroke-width=\"3\" fill=\"none\" />\n",
       "<path d=\"M878,225 L922,275\" stroke=\"white\" stroke-width=\"6\" fill=\"none\" />\n",
       "<path d=\"M875,225 L878,225 L922,275 L925,275\" stroke=\"darkred\" stroke-width=\"3\" fill=\"none\" />\n",
       "<path d=\"M878,325 L922,225\" stroke=\"white\" stroke-width=\"6\" fill=\"none\" />\n",
       "<path d=\"M875,325 L878,325 L922,225 L925,225\" stroke=\"darkred\" stroke-width=\"3\" fill=\"none\" />\n",
       "<path d=\"M925,225 L953,225 L972,244\" stroke=\"darkred\" stroke-width=\"3\" fill=\"none\" />\n",
       "<path d=\"M978,244 L997,225 L1025,225\" stroke=\"darkred\" stroke-width=\"3\" fill=\"none\" />\n",
       "<path d=\"M925,275 L953,275 L972,256\" stroke=\"darkred\" stroke-width=\"3\" fill=\"none\" />\n",
       "<path d=\"M978,256 L997,275 L1025,275\" stroke=\"darkred\" stroke-width=\"3\" fill=\"none\" />\n",
       "<path d=\"M950,243 L1000,243 L1000,257 L950,257 Z\" stroke=\"black\" fill=\"black\" stroke-linejoin=\"miter\" />\n",
       "<text x=\"975\" y=\"285\" font-size=\"7\" text-anchor=\"middle\"></text>\n",
       "<text x=\"975\" y=\"226\" font-size=\"7\" text-anchor=\"middle\"></text>\n",
       "<path d=\"M950,243 L1000,243 L1000,247 L950,247 Z\" stroke=\"black\" fill=\"lightgray\" stroke-linejoin=\"miter\" />\n",
       "<path d=\"M993,250 L1003,250 L1003,260 L993,260 Z\" stroke=\"black\" fill=\"aquamarine\" stroke-linejoin=\"miter\" />\n",
       "<text x=\"998\" y=\"257\" font-size=\"6\" text-anchor=\"middle\">H</text>\n",
       "<path d=\"M925,175 L1025,175\" stroke=\"darkred\" stroke-width=\"3\" fill=\"none\" />\n",
       "<path d=\"M1028,175 L1072,75\" stroke=\"white\" stroke-width=\"6\" fill=\"none\" />\n",
       "<path d=\"M1025,175 L1028,175 L1072,75 L1075,75\" stroke=\"darkred\" stroke-width=\"3\" fill=\"none\" />\n",
       "<path d=\"M1028,225 L1072,175\" stroke=\"white\" stroke-width=\"6\" fill=\"none\" />\n",
       "<path d=\"M1025,225 L1028,225 L1072,175 L1075,175\" stroke=\"darkred\" stroke-width=\"3\" fill=\"none\" />\n",
       "<path d=\"M1028,275 L1072,125\" stroke=\"white\" stroke-width=\"6\" fill=\"none\" />\n",
       "<path d=\"M1025,275 L1028,275 L1072,125 L1075,125\" stroke=\"darkred\" stroke-width=\"3\" fill=\"none\" />\n",
       "<path d=\"M175,25 L1075,25\" stroke=\"darkred\" stroke-width=\"3\" fill=\"none\" />\n",
       "<path d=\"M1075,25 L1090,25\" stroke-width=\"3\" stroke=\"darkred\" stroke-linejoin=\"miter\" fill=\"none\" />\n",
       "<path d=\"M1075,75 L1090,75\" stroke-width=\"3\" stroke=\"darkred\" stroke-linejoin=\"miter\" fill=\"none\" />\n",
       "<path d=\"M1075,125 L1090,125\" stroke-width=\"3\" stroke=\"darkred\" stroke-linejoin=\"miter\" fill=\"none\" />\n",
       "<path d=\"M1075,175 L1090,175\" stroke-width=\"3\" stroke=\"darkred\" stroke-linejoin=\"miter\" fill=\"none\" />\n",
       "<path d=\"M757,175 C757,175,757,165,767,165 L775,165 L775,185 L767,185 C757,185,757,175,757,175 L757,175\" stroke-width=\"1\" stroke=\"black\" stroke-linejoin=\"miter\" fill=\"white\" />\n",
       "<text x=\"763\" y=\"191\" font-size=\"6\" text-anchor=\"middle\" font-style=\"italic\">[herald0]</text>\n",
       "<text x=\"767\" y=\"178\" font-size=\"7\" text-anchor=\"middle\">0</text>\n",
       "<path d=\"M457,125 C457,125,457,115,467,115 L475,115 L475,135 L467,135 C457,135,457,125,457,125 L457,125\" stroke-width=\"1\" stroke=\"black\" stroke-linejoin=\"miter\" fill=\"white\" />\n",
       "<text x=\"463\" y=\"141\" font-size=\"6\" text-anchor=\"middle\" font-style=\"italic\">[herald1]</text>\n",
       "<text x=\"467\" y=\"128\" font-size=\"7\" text-anchor=\"middle\">1</text>\n",
       "<path d=\"M757,275 C757,275,757,265,767,265 L775,265 L775,285 L767,285 C757,285,757,275,757,275 L757,275\" stroke-width=\"1\" stroke=\"black\" stroke-linejoin=\"miter\" fill=\"white\" />\n",
       "<text x=\"763\" y=\"291\" font-size=\"6\" text-anchor=\"middle\" font-style=\"italic\">[herald2]</text>\n",
       "<text x=\"767\" y=\"278\" font-size=\"7\" text-anchor=\"middle\">0</text>\n",
       "<path d=\"M457,225 C457,225,457,215,467,215 L475,215 L475,235 L467,235 C457,235,457,225,457,225 L457,225\" stroke-width=\"1\" stroke=\"black\" stroke-linejoin=\"miter\" fill=\"white\" />\n",
       "<text x=\"463\" y=\"241\" font-size=\"6\" text-anchor=\"middle\" font-style=\"italic\">[herald3]</text>\n",
       "<text x=\"467\" y=\"228\" font-size=\"7\" text-anchor=\"middle\">1</text>\n",
       "<path d=\"M-2,15 L10,15 L10,85 L-2,85 Z\" stroke=\"black\" fill=\"lightgray\" stroke-linejoin=\"miter\" />\n",
       "<text x=\"4\" y=\"27\" font-size=\"7\" text-anchor=\"middle\">0</text>\n",
       "<text x=\"4\" y=\"77\" font-size=\"7\" text-anchor=\"middle\">1</text>\n",
       "<text x=\"-2\" y=\"91\" font-size=\"6\" text-anchor=\"start\" font-style=\"italic\">[0]</text>\n",
       "<path d=\"M-2,115 L10,115 L10,185 L-2,185 Z\" stroke=\"black\" fill=\"lightgray\" stroke-linejoin=\"miter\" />\n",
       "<text x=\"4\" y=\"127\" font-size=\"7\" text-anchor=\"middle\">2</text>\n",
       "<text x=\"4\" y=\"177\" font-size=\"7\" text-anchor=\"middle\">3</text>\n",
       "<text x=\"-2\" y=\"191\" font-size=\"6\" text-anchor=\"start\" font-style=\"italic\">[1]</text>\n",
       "<path d=\"M883,185 L875,185 L875,165 L883,165 C883,165,893,165,893,175 C893,185,883,185,883,185 L883,185\" stroke-width=\"1\" stroke=\"black\" stroke-linejoin=\"miter\" fill=\"white\" />\n",
       "<text x=\"888\" y=\"191\" font-size=\"6\" text-anchor=\"middle\" font-style=\"italic\">[herald0]</text>\n",
       "<text x=\"883\" y=\"178\" font-size=\"7\" text-anchor=\"middle\">0</text>\n",
       "<path d=\"M583,135 L575,135 L575,115 L583,115 C583,115,593,115,593,125 C593,135,583,135,583,135 L583,135\" stroke-width=\"1\" stroke=\"black\" stroke-linejoin=\"miter\" fill=\"white\" />\n",
       "<text x=\"588\" y=\"141\" font-size=\"6\" text-anchor=\"middle\" font-style=\"italic\">[herald1]</text>\n",
       "<text x=\"583\" y=\"128\" font-size=\"7\" text-anchor=\"middle\">1</text>\n",
       "<path d=\"M883,285 L875,285 L875,265 L883,265 C883,265,893,265,893,275 C893,285,883,285,883,285 L883,285\" stroke-width=\"1\" stroke=\"black\" stroke-linejoin=\"miter\" fill=\"white\" />\n",
       "<text x=\"888\" y=\"291\" font-size=\"6\" text-anchor=\"middle\" font-style=\"italic\">[herald2]</text>\n",
       "<text x=\"883\" y=\"278\" font-size=\"7\" text-anchor=\"middle\">0</text>\n",
       "<path d=\"M583,235 L575,235 L575,215 L583,215 C583,215,593,215,593,225 C593,235,583,235,583,235 L583,235\" stroke-width=\"1\" stroke=\"black\" stroke-linejoin=\"miter\" fill=\"white\" />\n",
       "<text x=\"588\" y=\"241\" font-size=\"6\" text-anchor=\"middle\" font-style=\"italic\">[herald3]</text>\n",
       "<text x=\"583\" y=\"228\" font-size=\"7\" text-anchor=\"middle\">1</text>\n",
       "<path d=\"M1090,15 L1102,15 L1102,85 L1090,85 Z\" stroke=\"black\" fill=\"lightgray\" stroke-linejoin=\"miter\" />\n",
       "<text x=\"1096\" y=\"27\" font-size=\"7\" text-anchor=\"middle\">0</text>\n",
       "<text x=\"1096\" y=\"77\" font-size=\"7\" text-anchor=\"middle\">1</text>\n",
       "<text x=\"1102\" y=\"91\" font-size=\"6\" text-anchor=\"end\" font-style=\"italic\">[0]</text>\n",
       "<path d=\"M1090,115 L1102,115 L1102,185 L1090,185 Z\" stroke=\"black\" fill=\"lightgray\" stroke-linejoin=\"miter\" />\n",
       "<text x=\"1096\" y=\"127\" font-size=\"7\" text-anchor=\"middle\">2</text>\n",
       "<text x=\"1096\" y=\"177\" font-size=\"7\" text-anchor=\"middle\">3</text>\n",
       "<text x=\"1102\" y=\"191\" font-size=\"6\" text-anchor=\"end\" font-style=\"italic\">[1]</text>\n",
       "</svg>"
      ],
      "text/plain": [
       "<drawsvg.drawing.Drawing at 0x7df1c8c35450>"
      ]
     },
     "execution_count": 14,
     "metadata": {},
     "output_type": "execute_result"
    }
   ],
   "source": [
    "# Be careful with the signs and the factor of 2 related to the implementation of `BS.Ry`:\n",
    "step_one_more = Circuit(8) // BS.Ry(pi/3) // (0, PS(pi)) // (0, cnot)\n",
    "\n",
    "p_step_one_more = pcvl.Processor(\"Naive\", step_one_more)\n",
    "p_step_one_more.min_detected_photons_filter(0)\n",
    "p_step_one_more.add_herald(4, 0)\n",
    "p_step_one_more.add_herald(5, 1)\n",
    "p_step_one_more.add_herald(6, 0)\n",
    "p_step_one_more.add_herald(7, 1)\n",
    "p_step_one_more.add_port(0, pcvl.Port(pcvl.Encoding.DUAL_RAIL, \"0\"))\n",
    "p_step_one_more.add_port(2, pcvl.Port(pcvl.Encoding.DUAL_RAIL, \"1\"))\n",
    "pdisplay(p_step_one_more, recursive=True)"
   ]
  },
  {
   "cell_type": "code",
   "execution_count": 15,
   "id": "5a2c7cf9-e69e-448b-97f4-2aebe2a279d4",
   "metadata": {
    "ExecuteTime": {
     "end_time": "2024-05-01T20:07:15.902703Z",
     "start_time": "2024-05-01T20:07:15.875772Z"
    }
   },
   "outputs": [
    {
     "name": "stdout",
     "output_type": "stream",
     "text": [
      "Avec l'entrée : 00\n",
      "> 00: 0.75\n",
      "> 11: 0.25\n"
     ]
    }
   ],
   "source": [
    "measure2p(p_step_one_more)"
   ]
  },
  {
   "cell_type": "markdown",
   "id": "6ae1a006-f7ad-45cc-8bf6-3d5eac6a365d",
   "metadata": {},
   "source": [
    "## Step 2: Bell States\n",
    "\n",
    "Once we have successfully created the Bell states, we still need to know how to measure them in order to use them. Similarly to before, to measure in an arbitrary basis $\\mathcal{B}$, we will create the transition matrix from $\\mathcal{B}$ to $\\mathcal{B}_c$, our canonical basis, and then measure in this known basis.\n",
    "\n",
    "Combine different gates to obtain the basis change gate, from the Bell basis to the canonical basis. The tests are below."
   ]
  },
  {
   "cell_type": "markdown",
   "id": "2f0321bf-5fbb-445c-a5ee-e7f917ebb081",
   "metadata": {},
   "source": [
    "<h2 style=\"color:green\">Solution Step 2:</h2>\n",
    "\n",
    "We can either invert the transition matrix from the canonical basis to the Bell basis to obtain the matrix that returns to the canonical basis, or we can simply observe that the Hadamard gate **H** is its own inverse and the **CNOT** gate is also its own inverse. This gives us for $|00\\rangle$:\n",
    "$$\n",
    "|00\\rangle \\xrightarrow{H ~\\text{qubit 0}} \\frac{1}{\\sqrt{2}} |00\\rangle + \\frac{1}{\\sqrt{2}} |10\\rangle \\xrightarrow{CNOT} \\frac{1}{\\sqrt{2}} |00\\rangle + \\frac{1}{\\sqrt{2}} |11\\rangle \\xrightarrow{CNOT} \\frac{1}{\\sqrt{2}} |00\\rangle + \\frac{1}{\\sqrt{2}} |10\\rangle\\xrightarrow{H ~\\text{qubit 0}} |00\\rangle\n",
    "$$"
   ]
  },
  {
   "cell_type": "code",
   "execution_count": 16,
   "id": "eaffd889cd95411f",
   "metadata": {
    "ExecuteTime": {
     "end_time": "2024-05-01T20:07:15.911803Z",
     "start_time": "2024-05-01T20:07:15.904130Z"
    },
    "collapsed": false,
    "jupyter": {
     "outputs_hidden": false
    }
   },
   "outputs": [],
   "source": [
    "step_two = Circuit(8, \"Transition Bell -> Canonical\") // (0, cnot) // (0, BS.H())"
   ]
  },
  {
   "cell_type": "code",
   "execution_count": 17,
   "id": "681042e5595aa1cf",
   "metadata": {
    "ExecuteTime": {
     "end_time": "2024-05-01T20:07:15.927282Z",
     "start_time": "2024-05-01T20:07:15.912957Z"
    },
    "collapsed": false,
    "jupyter": {
     "outputs_hidden": false
    }
   },
   "outputs": [
    {
     "data": {
      "image/svg+xml": [
       "<?xml version=\"1.0\" encoding=\"UTF-8\"?>\n",
       "<svg xmlns=\"http://www.w3.org/2000/svg\" xmlns:xlink=\"http://www.w3.org/1999/xlink\"\n",
       "     width=\"2732.5\" height=\"531.25\" viewBox=\"-36.0 0 2186.0 425.0\">\n",
       "<defs>\n",
       "</defs>\n",
       "<path d=\"M10,25 L25,25\" stroke-width=\"3\" stroke=\"darkred\" stroke-linejoin=\"miter\" fill=\"none\" />\n",
       "<path d=\"M10,75 L25,75\" stroke-width=\"3\" stroke=\"darkred\" stroke-linejoin=\"miter\" fill=\"none\" />\n",
       "<path d=\"M10,125 L25,125\" stroke-width=\"3\" stroke=\"darkred\" stroke-linejoin=\"miter\" fill=\"none\" />\n",
       "<path d=\"M10,175 L25,175\" stroke-width=\"3\" stroke=\"darkred\" stroke-linejoin=\"miter\" fill=\"none\" />\n",
       "<path d=\"M27,2 L2123,2 L2123,398 L27,398 Z\" stroke=\"black\" fill=\"lightblue\" stroke-dasharray=\"1,2\" stroke-linejoin=\"miter\" />\n",
       "<text x=\"29\" y=\"405\" font-size=\"8\" text-anchor=\"start\">CPLX</text>\n",
       "<path d=\"M25,25 L53,25 L72,44\" stroke=\"darkred\" stroke-width=\"3\" fill=\"none\" />\n",
       "<path d=\"M78,44 L97,25 L125,25\" stroke=\"darkred\" stroke-width=\"3\" fill=\"none\" />\n",
       "<path d=\"M25,75 L53,75 L72,56\" stroke=\"darkred\" stroke-width=\"3\" fill=\"none\" />\n",
       "<path d=\"M78,56 L97,75 L125,75\" stroke=\"darkred\" stroke-width=\"3\" fill=\"none\" />\n",
       "<path d=\"M50,43 L100,43 L100,57 L50,57 Z\" stroke=\"black\" fill=\"black\" stroke-linejoin=\"miter\" />\n",
       "<text x=\"75\" y=\"85\" font-size=\"7\" text-anchor=\"middle\"></text>\n",
       "<text x=\"75\" y=\"26\" font-size=\"7\" text-anchor=\"middle\"></text>\n",
       "<path d=\"M50,43 L100,43 L100,47 L50,47 Z\" stroke=\"black\" fill=\"lightgray\" stroke-linejoin=\"miter\" />\n",
       "<path d=\"M93,50 L103,50 L103,60 L93,60 Z\" stroke=\"black\" fill=\"aquamarine\" stroke-linejoin=\"miter\" />\n",
       "<text x=\"98\" y=\"57\" font-size=\"6\" text-anchor=\"middle\">H</text>\n",
       "<path d=\"M25,125 L125,125\" stroke=\"darkred\" stroke-width=\"3\" fill=\"none\" />\n",
       "<path d=\"M25,175 L125,175\" stroke=\"darkred\" stroke-width=\"3\" fill=\"none\" />\n",
       "<path d=\"M125,25 L225,25\" stroke=\"darkred\" stroke-width=\"3\" fill=\"none\" />\n",
       "<path d=\"M125,75 L225,75\" stroke=\"darkred\" stroke-width=\"3\" fill=\"none\" />\n",
       "<path d=\"M125,125 L225,125\" stroke=\"darkred\" stroke-width=\"3\" fill=\"none\" />\n",
       "<path d=\"M125,175 L225,175\" stroke=\"darkred\" stroke-width=\"3\" fill=\"none\" />\n",
       "<path d=\"M125,225 L225,225\" stroke=\"darkred\" stroke-width=\"3\" fill=\"none\" />\n",
       "<path d=\"M125,275 L225,275\" stroke=\"darkred\" stroke-width=\"3\" fill=\"none\" />\n",
       "<path d=\"M125,325 L225,325\" stroke=\"darkred\" stroke-width=\"3\" fill=\"none\" />\n",
       "<path d=\"M125,375 L225,375\" stroke=\"darkred\" stroke-width=\"3\" fill=\"none\" />\n",
       "<path d=\"M127.5,2.5 L222.5,2.5 L222.5,397.5 L127.5,397.5 Z\" stroke=\"darkred\" fill=\"lightpink\" stroke-linejoin=\"miter\" />\n",
       "<text x=\"135\" y=\"24\" font-size=\"8\" text-anchor=\"start\" font-weight=\"bold\"><tspan x=\"135\" dy=\"0em\">HERALDED</tspan><tspan x=\"135\" dy=\"1em\">CNOT</tspan></text>\n",
       "<path d=\"M225,25 L325,25\" stroke=\"darkred\" stroke-width=\"3\" fill=\"none\" />\n",
       "<path d=\"M225,75 L325,75\" stroke=\"darkred\" stroke-width=\"3\" fill=\"none\" />\n",
       "<path d=\"M225,125 L325,125\" stroke=\"darkred\" stroke-width=\"3\" fill=\"none\" />\n",
       "<path d=\"M225,175 L325,175\" stroke=\"darkred\" stroke-width=\"3\" fill=\"none\" />\n",
       "<path d=\"M225,225 L325,225\" stroke=\"darkred\" stroke-width=\"3\" fill=\"none\" />\n",
       "<path d=\"M225,275 L325,275\" stroke=\"darkred\" stroke-width=\"3\" fill=\"none\" />\n",
       "<path d=\"M225,325 L325,325\" stroke=\"darkred\" stroke-width=\"3\" fill=\"none\" />\n",
       "<path d=\"M225,375 L325,375\" stroke=\"darkred\" stroke-width=\"3\" fill=\"none\" />\n",
       "<path d=\"M227.5,2.5 L322.5,2.5 L322.5,397.5 L227.5,397.5 Z\" stroke=\"darkred\" fill=\"lightpink\" stroke-linejoin=\"miter\" />\n",
       "<text x=\"235\" y=\"40\" font-size=\"8\" text-anchor=\"start\" font-weight=\"bold\"><tspan x=\"235\" dy=\"0em\">PASSAGE</tspan><tspan x=\"235\" dy=\"1em\">BELL</tspan><tspan x=\"235\" dy=\"1em\">-&gt;</tspan><tspan x=\"235\" dy=\"1em\">CANONIQUE</tspan></text>\n",
       "<path d=\"M325,25 L340,25\" stroke-width=\"3\" stroke=\"darkred\" stroke-linejoin=\"miter\" fill=\"none\" />\n",
       "<path d=\"M325,75 L340,75\" stroke-width=\"3\" stroke=\"darkred\" stroke-linejoin=\"miter\" fill=\"none\" />\n",
       "<path d=\"M325,125 L340,125\" stroke-width=\"3\" stroke=\"darkred\" stroke-linejoin=\"miter\" fill=\"none\" />\n",
       "<path d=\"M325,175 L340,175\" stroke-width=\"3\" stroke=\"darkred\" stroke-linejoin=\"miter\" fill=\"none\" />\n",
       "<path d=\"M107,225 C107,225,107,215,117,215 L125,215 L125,235 L117,235 C107,235,107,225,107,225 L107,225\" stroke-width=\"1\" stroke=\"black\" stroke-linejoin=\"miter\" fill=\"white\" />\n",
       "<text x=\"113\" y=\"241\" font-size=\"6\" text-anchor=\"middle\" font-style=\"italic\">[herald0]</text>\n",
       "<text x=\"117\" y=\"228\" font-size=\"7\" text-anchor=\"middle\">0</text>\n",
       "<path d=\"M107,275 C107,275,107,265,117,265 L125,265 L125,285 L117,285 C107,285,107,275,107,275 L107,275\" stroke-width=\"1\" stroke=\"black\" stroke-linejoin=\"miter\" fill=\"white\" />\n",
       "<text x=\"113\" y=\"291\" font-size=\"6\" text-anchor=\"middle\" font-style=\"italic\">[herald1]</text>\n",
       "<text x=\"117\" y=\"278\" font-size=\"7\" text-anchor=\"middle\">1</text>\n",
       "<path d=\"M107,325 C107,325,107,315,117,315 L125,315 L125,335 L117,335 C107,335,107,325,107,325 L107,325\" stroke-width=\"1\" stroke=\"black\" stroke-linejoin=\"miter\" fill=\"white\" />\n",
       "<text x=\"113\" y=\"341\" font-size=\"6\" text-anchor=\"middle\" font-style=\"italic\">[herald2]</text>\n",
       "<text x=\"117\" y=\"328\" font-size=\"7\" text-anchor=\"middle\">0</text>\n",
       "<path d=\"M107,375 C107,375,107,365,117,365 L125,365 L125,385 L117,385 C107,385,107,375,107,375 L107,375\" stroke-width=\"1\" stroke=\"black\" stroke-linejoin=\"miter\" fill=\"white\" />\n",
       "<text x=\"113\" y=\"391\" font-size=\"6\" text-anchor=\"middle\" font-style=\"italic\">[herald3]</text>\n",
       "<text x=\"117\" y=\"378\" font-size=\"7\" text-anchor=\"middle\">1</text>\n",
       "<path d=\"M-2,15 L10,15 L10,85 L-2,85 Z\" stroke=\"black\" fill=\"lightgray\" stroke-linejoin=\"miter\" />\n",
       "<text x=\"4\" y=\"27\" font-size=\"7\" text-anchor=\"middle\">0</text>\n",
       "<text x=\"4\" y=\"77\" font-size=\"7\" text-anchor=\"middle\">1</text>\n",
       "<text x=\"-2\" y=\"91\" font-size=\"6\" text-anchor=\"start\" font-style=\"italic\">[0]</text>\n",
       "<path d=\"M-2,115 L10,115 L10,185 L-2,185 Z\" stroke=\"black\" fill=\"lightgray\" stroke-linejoin=\"miter\" />\n",
       "<text x=\"4\" y=\"127\" font-size=\"7\" text-anchor=\"middle\">2</text>\n",
       "<text x=\"4\" y=\"177\" font-size=\"7\" text-anchor=\"middle\">3</text>\n",
       "<text x=\"-2\" y=\"191\" font-size=\"6\" text-anchor=\"start\" font-style=\"italic\">[1]</text>\n",
       "<path d=\"M233,235 L225,235 L225,215 L233,215 C233,215,243,215,243,225 C243,235,233,235,233,235 L233,235\" stroke-width=\"1\" stroke=\"black\" stroke-linejoin=\"miter\" fill=\"white\" />\n",
       "<text x=\"238\" y=\"241\" font-size=\"6\" text-anchor=\"middle\" font-style=\"italic\">[herald0]</text>\n",
       "<text x=\"233\" y=\"228\" font-size=\"7\" text-anchor=\"middle\">0</text>\n",
       "<path d=\"M233,285 L225,285 L225,265 L233,265 C233,265,243,265,243,275 C243,285,233,285,233,285 L233,285\" stroke-width=\"1\" stroke=\"black\" stroke-linejoin=\"miter\" fill=\"white\" />\n",
       "<text x=\"238\" y=\"291\" font-size=\"6\" text-anchor=\"middle\" font-style=\"italic\">[herald1]</text>\n",
       "<text x=\"233\" y=\"278\" font-size=\"7\" text-anchor=\"middle\">1</text>\n",
       "<path d=\"M233,335 L225,335 L225,315 L233,315 C233,315,243,315,243,325 C243,335,233,335,233,335 L233,335\" stroke-width=\"1\" stroke=\"black\" stroke-linejoin=\"miter\" fill=\"white\" />\n",
       "<text x=\"238\" y=\"341\" font-size=\"6\" text-anchor=\"middle\" font-style=\"italic\">[herald2]</text>\n",
       "<text x=\"233\" y=\"328\" font-size=\"7\" text-anchor=\"middle\">0</text>\n",
       "<path d=\"M233,385 L225,385 L225,365 L233,365 C233,365,243,365,243,375 C243,385,233,385,233,385 L233,385\" stroke-width=\"1\" stroke=\"black\" stroke-linejoin=\"miter\" fill=\"white\" />\n",
       "<text x=\"238\" y=\"391\" font-size=\"6\" text-anchor=\"middle\" font-style=\"italic\">[herald3]</text>\n",
       "<text x=\"233\" y=\"378\" font-size=\"7\" text-anchor=\"middle\">1</text>\n",
       "<path d=\"M340,15 L352,15 L352,85 L340,85 Z\" stroke=\"black\" fill=\"lightgray\" stroke-linejoin=\"miter\" />\n",
       "<text x=\"346\" y=\"27\" font-size=\"7\" text-anchor=\"middle\">0</text>\n",
       "<text x=\"346\" y=\"77\" font-size=\"7\" text-anchor=\"middle\">1</text>\n",
       "<text x=\"352\" y=\"91\" font-size=\"6\" text-anchor=\"end\" font-style=\"italic\">[0]</text>\n",
       "<path d=\"M340,115 L352,115 L352,185 L340,185 Z\" stroke=\"black\" fill=\"lightgray\" stroke-linejoin=\"miter\" />\n",
       "<text x=\"346\" y=\"127\" font-size=\"7\" text-anchor=\"middle\">2</text>\n",
       "<text x=\"346\" y=\"177\" font-size=\"7\" text-anchor=\"middle\">3</text>\n",
       "<text x=\"352\" y=\"191\" font-size=\"6\" text-anchor=\"end\" font-style=\"italic\">[1]</text>\n",
       "</svg>"
      ],
      "text/plain": [
       "<drawsvg.drawing.Drawing at 0x7df239f7b590>"
      ]
     },
     "execution_count": 17,
     "metadata": {},
     "output_type": "execute_result"
    }
   ],
   "source": [
    "test_passage = Circuit(8).add(0, BS.H()).add(0, cnot).add(0, step_two)\n",
    "p_test_passage = pcvl.Processor(\"Naive\", test_passage)\n",
    "p_test_passage.min_detected_photons_filter(0)\n",
    "p_test_passage.add_herald(4, 0)\n",
    "p_test_passage.add_herald(5, 1)\n",
    "p_test_passage.add_herald(6, 0)\n",
    "p_test_passage.add_herald(7, 1)\n",
    "p_test_passage.add_port(0, pcvl.Port(pcvl.Encoding.DUAL_RAIL, \"0\"))\n",
    "p_test_passage.add_port(2, pcvl.Port(pcvl.Encoding.DUAL_RAIL, \"1\"))\n",
    "pdisplay(p_test_passage, recursive=True)"
   ]
  },
  {
   "cell_type": "markdown",
   "id": "d79e41cf2e10b985",
   "metadata": {
    "collapsed": false,
    "jupyter": {
     "outputs_hidden": false
    }
   },
   "source": [
    "The test circuit transitions to the Bell basis, then returns to the canonical basis. We therefore expect to find the identity (with some rounding errors).\n",
    "\n",
    "***Warning***, for the moment the tests require the circuit to have 8 rails."
   ]
  },
  {
   "cell_type": "code",
   "execution_count": 18,
   "id": "fea7ef60f93aa278",
   "metadata": {
    "ExecuteTime": {
     "end_time": "2024-05-01T20:07:15.960434Z",
     "start_time": "2024-05-01T20:07:15.928637Z"
    },
    "collapsed": false,
    "jupyter": {
     "outputs_hidden": false
    }
   },
   "outputs": [
    {
     "name": "stdout",
     "output_type": "stream",
     "text": [
      "Avec l'entrée : 00\n",
      "> 00: 0.96\n",
      "> 01: 0.02\n",
      "> 10: 0.02\n",
      "> 11: 0.0\n"
     ]
    }
   ],
   "source": [
    "measure2p(p_test_passage)"
   ]
  },
  {
   "cell_type": "code",
   "execution_count": 19,
   "id": "94d3cf319484139c",
   "metadata": {
    "ExecuteTime": {
     "end_time": "2024-05-01T20:07:15.981377Z",
     "start_time": "2024-05-01T20:07:15.961390Z"
    },
    "collapsed": false,
    "jupyter": {
     "outputs_hidden": false
    }
   },
   "outputs": [
    {
     "name": "stdout",
     "output_type": "stream",
     "text": [
      "Avec l'entrée : 01\n",
      "> 00: 0.02\n",
      "> 01: 0.96\n",
      "> 10: 0.0\n",
      "> 11: 0.02\n"
     ]
    }
   ],
   "source": [
    "measure2p(p_test_passage, qubits[\"01\"])"
   ]
  },
  {
   "cell_type": "code",
   "execution_count": 20,
   "id": "55c96e62355a7bd5",
   "metadata": {
    "ExecuteTime": {
     "end_time": "2024-05-01T20:07:16.014659Z",
     "start_time": "2024-05-01T20:07:15.982929Z"
    },
    "collapsed": false,
    "jupyter": {
     "outputs_hidden": false
    }
   },
   "outputs": [
    {
     "name": "stdout",
     "output_type": "stream",
     "text": [
      "Avec l'entrée : 10\n",
      "> 00: 0.02\n",
      "> 01: 0.0\n",
      "> 10: 0.96\n",
      "> 11: 0.02\n"
     ]
    }
   ],
   "source": [
    "measure2p(p_test_passage, qubits[\"10\"])"
   ]
  },
  {
   "cell_type": "code",
   "execution_count": 21,
   "id": "132549d8febbb7d",
   "metadata": {
    "ExecuteTime": {
     "end_time": "2024-05-01T20:07:16.040965Z",
     "start_time": "2024-05-01T20:07:16.016190Z"
    },
    "collapsed": false,
    "jupyter": {
     "outputs_hidden": false
    }
   },
   "outputs": [
    {
     "name": "stdout",
     "output_type": "stream",
     "text": [
      "Avec l'entrée : 11\n",
      "> 00: 0.0\n",
      "> 01: 0.02\n",
      "> 10: 0.02\n",
      "> 11: 0.96\n"
     ]
    }
   ],
   "source": [
    "measure2p(p_test_passage, qubits[\"11\"])"
   ]
  },
  {
   "cell_type": "markdown",
   "id": "05e0af16-8dbd-48d8-93c2-9c75a5ced999",
   "metadata": {},
   "source": [
    "*It was also possible to create the circuit on 12 rails to avoid reusing the heralds and get exact outputs, but this was not required.*"
   ]
  },
  {
   "cell_type": "code",
   "execution_count": 22,
   "id": "488ade18-608a-4e1c-8137-d60a0bb4924d",
   "metadata": {},
   "outputs": [
    {
     "data": {
      "image/svg+xml": [
       "<?xml version=\"1.0\" encoding=\"UTF-8\"?>\n",
       "<svg xmlns=\"http://www.w3.org/2000/svg\" xmlns:xlink=\"http://www.w3.org/1999/xlink\"\n",
       "     width=\"775.0\" height=\"656.25\" viewBox=\"-25 0 620.0 525.0\">\n",
       "<defs>\n",
       "</defs>\n",
       "<path d=\"M10,25 L25,25\" stroke-width=\"3\" stroke=\"darkred\" stroke-linejoin=\"miter\" fill=\"none\" />\n",
       "<path d=\"M10,75 L25,75\" stroke-width=\"3\" stroke=\"darkred\" stroke-linejoin=\"miter\" fill=\"none\" />\n",
       "<path d=\"M10,125 L25,125\" stroke-width=\"3\" stroke=\"darkred\" stroke-linejoin=\"miter\" fill=\"none\" />\n",
       "<path d=\"M10,175 L25,175\" stroke-width=\"3\" stroke=\"darkred\" stroke-linejoin=\"miter\" fill=\"none\" />\n",
       "<path d=\"M25,25 L53,25 L72,44\" stroke=\"darkred\" stroke-width=\"3\" fill=\"none\" />\n",
       "<path d=\"M78,44 L97,25 L125,25\" stroke=\"darkred\" stroke-width=\"3\" fill=\"none\" />\n",
       "<path d=\"M25,75 L53,75 L72,56\" stroke=\"darkred\" stroke-width=\"3\" fill=\"none\" />\n",
       "<path d=\"M78,56 L97,75 L125,75\" stroke=\"darkred\" stroke-width=\"3\" fill=\"none\" />\n",
       "<path d=\"M50,43 L100,43 L100,57 L50,57 Z\" stroke=\"black\" fill=\"black\" stroke-linejoin=\"miter\" />\n",
       "<text x=\"75\" y=\"85\" font-size=\"7\" text-anchor=\"middle\"></text>\n",
       "<text x=\"75\" y=\"26\" font-size=\"7\" text-anchor=\"middle\"></text>\n",
       "<path d=\"M50,43 L100,43 L100,47 L50,47 Z\" stroke=\"black\" fill=\"lightgray\" stroke-linejoin=\"miter\" />\n",
       "<path d=\"M93,50 L103,50 L103,60 L93,60 Z\" stroke=\"black\" fill=\"aquamarine\" stroke-linejoin=\"miter\" />\n",
       "<text x=\"98\" y=\"57\" font-size=\"6\" text-anchor=\"middle\">H</text>\n",
       "<path d=\"M25,125 L125,125\" stroke=\"darkred\" stroke-width=\"3\" fill=\"none\" />\n",
       "<path d=\"M25,175 L125,175\" stroke=\"darkred\" stroke-width=\"3\" fill=\"none\" />\n",
       "<path d=\"M125,25 L225,25\" stroke=\"darkred\" stroke-width=\"3\" fill=\"none\" />\n",
       "<path d=\"M125,75 L225,75\" stroke=\"darkred\" stroke-width=\"3\" fill=\"none\" />\n",
       "<path d=\"M125,125 L225,125\" stroke=\"darkred\" stroke-width=\"3\" fill=\"none\" />\n",
       "<path d=\"M125,175 L225,175\" stroke=\"darkred\" stroke-width=\"3\" fill=\"none\" />\n",
       "<path d=\"M125,225 L225,225\" stroke=\"darkred\" stroke-width=\"3\" fill=\"none\" />\n",
       "<path d=\"M125,275 L225,275\" stroke=\"darkred\" stroke-width=\"3\" fill=\"none\" />\n",
       "<path d=\"M125,325 L225,325\" stroke=\"darkred\" stroke-width=\"3\" fill=\"none\" />\n",
       "<path d=\"M125,375 L225,375\" stroke=\"darkred\" stroke-width=\"3\" fill=\"none\" />\n",
       "<path d=\"M127.5,2.5 L222.5,2.5 L222.5,397.5 L127.5,397.5 Z\" stroke=\"darkred\" fill=\"lightpink\" stroke-linejoin=\"miter\" />\n",
       "<text x=\"135\" y=\"24\" font-size=\"8\" text-anchor=\"start\" font-weight=\"bold\"><tspan x=\"135\" dy=\"0em\">HERALDED</tspan><tspan x=\"135\" dy=\"1em\">CNOT</tspan></text>\n",
       "<path d=\"M225,25 L275,25\" stroke=\"darkred\" stroke-width=\"3\" fill=\"none\" />\n",
       "<path d=\"M225,75 L275,75\" stroke=\"darkred\" stroke-width=\"3\" fill=\"none\" />\n",
       "<path d=\"M225,125 L275,125\" stroke=\"darkred\" stroke-width=\"3\" fill=\"none\" />\n",
       "<path d=\"M225,175 L275,175\" stroke=\"darkred\" stroke-width=\"3\" fill=\"none\" />\n",
       "<path d=\"M275,25 L375,25\" stroke=\"darkred\" stroke-width=\"3\" fill=\"none\" />\n",
       "<path d=\"M275,75 L375,75\" stroke=\"darkred\" stroke-width=\"3\" fill=\"none\" />\n",
       "<path d=\"M275,125 L375,125\" stroke=\"darkred\" stroke-width=\"3\" fill=\"none\" />\n",
       "<path d=\"M275,175 L375,175\" stroke=\"darkred\" stroke-width=\"3\" fill=\"none\" />\n",
       "<path d=\"M275,225 L375,225\" stroke=\"darkred\" stroke-width=\"3\" fill=\"none\" />\n",
       "<path d=\"M275,275 L375,275\" stroke=\"darkred\" stroke-width=\"3\" fill=\"none\" />\n",
       "<path d=\"M275,325 L375,325\" stroke=\"darkred\" stroke-width=\"3\" fill=\"none\" />\n",
       "<path d=\"M275,375 L375,375\" stroke=\"darkred\" stroke-width=\"3\" fill=\"none\" />\n",
       "<path d=\"M277.5,2.5 L372.5,2.5 L372.5,397.5 L277.5,397.5 Z\" stroke=\"darkred\" fill=\"lightpink\" stroke-linejoin=\"miter\" />\n",
       "<text x=\"285\" y=\"24\" font-size=\"8\" text-anchor=\"start\" font-weight=\"bold\"><tspan x=\"285\" dy=\"0em\">HERALDED</tspan><tspan x=\"285\" dy=\"1em\">CNOT</tspan></text>\n",
       "<path d=\"M375,25 L425,25\" stroke=\"darkred\" stroke-width=\"3\" fill=\"none\" />\n",
       "<path d=\"M375,75 L425,75\" stroke=\"darkred\" stroke-width=\"3\" fill=\"none\" />\n",
       "<path d=\"M375,125 L425,125\" stroke=\"darkred\" stroke-width=\"3\" fill=\"none\" />\n",
       "<path d=\"M375,175 L425,175\" stroke=\"darkred\" stroke-width=\"3\" fill=\"none\" />\n",
       "<path d=\"M425,25 L453,25 L472,44\" stroke=\"darkred\" stroke-width=\"3\" fill=\"none\" />\n",
       "<path d=\"M478,44 L497,25 L525,25\" stroke=\"darkred\" stroke-width=\"3\" fill=\"none\" />\n",
       "<path d=\"M425,75 L453,75 L472,56\" stroke=\"darkred\" stroke-width=\"3\" fill=\"none\" />\n",
       "<path d=\"M478,56 L497,75 L525,75\" stroke=\"darkred\" stroke-width=\"3\" fill=\"none\" />\n",
       "<path d=\"M450,43 L500,43 L500,57 L450,57 Z\" stroke=\"black\" fill=\"black\" stroke-linejoin=\"miter\" />\n",
       "<text x=\"475\" y=\"85\" font-size=\"7\" text-anchor=\"middle\"></text>\n",
       "<text x=\"475\" y=\"26\" font-size=\"7\" text-anchor=\"middle\"></text>\n",
       "<path d=\"M450,43 L500,43 L500,47 L450,47 Z\" stroke=\"black\" fill=\"lightgray\" stroke-linejoin=\"miter\" />\n",
       "<path d=\"M493,50 L503,50 L503,60 L493,60 Z\" stroke=\"black\" fill=\"aquamarine\" stroke-linejoin=\"miter\" />\n",
       "<text x=\"498\" y=\"57\" font-size=\"6\" text-anchor=\"middle\">H</text>\n",
       "<path d=\"M425,125 L525,125\" stroke=\"darkred\" stroke-width=\"3\" fill=\"none\" />\n",
       "<path d=\"M425,175 L525,175\" stroke=\"darkred\" stroke-width=\"3\" fill=\"none\" />\n",
       "<path d=\"M525,25 L540,25\" stroke-width=\"3\" stroke=\"darkred\" stroke-linejoin=\"miter\" fill=\"none\" />\n",
       "<path d=\"M525,75 L540,75\" stroke-width=\"3\" stroke=\"darkred\" stroke-linejoin=\"miter\" fill=\"none\" />\n",
       "<path d=\"M525,125 L540,125\" stroke-width=\"3\" stroke=\"darkred\" stroke-linejoin=\"miter\" fill=\"none\" />\n",
       "<path d=\"M525,175 L540,175\" stroke-width=\"3\" stroke=\"darkred\" stroke-linejoin=\"miter\" fill=\"none\" />\n",
       "<path d=\"M107,225 C107,225,107,215,117,215 L125,215 L125,235 L117,235 C107,235,107,225,107,225 L107,225\" stroke-width=\"1\" stroke=\"black\" stroke-linejoin=\"miter\" fill=\"white\" />\n",
       "<text x=\"113\" y=\"241\" font-size=\"6\" text-anchor=\"middle\" font-style=\"italic\">[herald0]</text>\n",
       "<text x=\"117\" y=\"228\" font-size=\"7\" text-anchor=\"middle\">0</text>\n",
       "<path d=\"M107,275 C107,275,107,265,117,265 L125,265 L125,285 L117,285 C107,285,107,275,107,275 L107,275\" stroke-width=\"1\" stroke=\"black\" stroke-linejoin=\"miter\" fill=\"white\" />\n",
       "<text x=\"113\" y=\"291\" font-size=\"6\" text-anchor=\"middle\" font-style=\"italic\">[herald1]</text>\n",
       "<text x=\"117\" y=\"278\" font-size=\"7\" text-anchor=\"middle\">1</text>\n",
       "<path d=\"M107,325 C107,325,107,315,117,315 L125,315 L125,335 L117,335 C107,335,107,325,107,325 L107,325\" stroke-width=\"1\" stroke=\"black\" stroke-linejoin=\"miter\" fill=\"white\" />\n",
       "<text x=\"113\" y=\"341\" font-size=\"6\" text-anchor=\"middle\" font-style=\"italic\">[herald2]</text>\n",
       "<text x=\"117\" y=\"328\" font-size=\"7\" text-anchor=\"middle\">0</text>\n",
       "<path d=\"M107,375 C107,375,107,365,117,365 L125,365 L125,385 L117,385 C107,385,107,375,107,375 L107,375\" stroke-width=\"1\" stroke=\"black\" stroke-linejoin=\"miter\" fill=\"white\" />\n",
       "<text x=\"113\" y=\"391\" font-size=\"6\" text-anchor=\"middle\" font-style=\"italic\">[herald3]</text>\n",
       "<text x=\"117\" y=\"378\" font-size=\"7\" text-anchor=\"middle\">1</text>\n",
       "<path d=\"M257,225 C257,225,257,215,267,215 L275,215 L275,235 L267,235 C257,235,257,225,257,225 L257,225\" stroke-width=\"1\" stroke=\"black\" stroke-linejoin=\"miter\" fill=\"white\" />\n",
       "<text x=\"263\" y=\"241\" font-size=\"6\" text-anchor=\"middle\" font-style=\"italic\">[herald4]</text>\n",
       "<text x=\"267\" y=\"228\" font-size=\"7\" text-anchor=\"middle\">0</text>\n",
       "<path d=\"M257,275 C257,275,257,265,267,265 L275,265 L275,285 L267,285 C257,285,257,275,257,275 L257,275\" stroke-width=\"1\" stroke=\"black\" stroke-linejoin=\"miter\" fill=\"white\" />\n",
       "<text x=\"263\" y=\"291\" font-size=\"6\" text-anchor=\"middle\" font-style=\"italic\">[herald5]</text>\n",
       "<text x=\"267\" y=\"278\" font-size=\"7\" text-anchor=\"middle\">1</text>\n",
       "<path d=\"M257,325 C257,325,257,315,267,315 L275,315 L275,335 L267,335 C257,335,257,325,257,325 L257,325\" stroke-width=\"1\" stroke=\"black\" stroke-linejoin=\"miter\" fill=\"white\" />\n",
       "<text x=\"263\" y=\"341\" font-size=\"6\" text-anchor=\"middle\" font-style=\"italic\">[herald6]</text>\n",
       "<text x=\"267\" y=\"328\" font-size=\"7\" text-anchor=\"middle\">0</text>\n",
       "<path d=\"M257,375 C257,375,257,365,267,365 L275,365 L275,385 L267,385 C257,385,257,375,257,375 L257,375\" stroke-width=\"1\" stroke=\"black\" stroke-linejoin=\"miter\" fill=\"white\" />\n",
       "<text x=\"263\" y=\"391\" font-size=\"6\" text-anchor=\"middle\" font-style=\"italic\">[herald7]</text>\n",
       "<text x=\"267\" y=\"378\" font-size=\"7\" text-anchor=\"middle\">1</text>\n",
       "<path d=\"M540,15 L552,15 L552,85 L540,85 Z\" stroke=\"black\" fill=\"lightgray\" stroke-linejoin=\"miter\" />\n",
       "<text x=\"546\" y=\"27\" font-size=\"7\" text-anchor=\"middle\">0</text>\n",
       "<text x=\"546\" y=\"77\" font-size=\"7\" text-anchor=\"middle\">1</text>\n",
       "<text x=\"552\" y=\"91\" font-size=\"6\" text-anchor=\"end\" font-style=\"italic\">[ctrl]</text>\n",
       "<path d=\"M540,115 L552,115 L552,185 L540,185 Z\" stroke=\"black\" fill=\"lightgray\" stroke-linejoin=\"miter\" />\n",
       "<text x=\"546\" y=\"127\" font-size=\"7\" text-anchor=\"middle\">2</text>\n",
       "<text x=\"546\" y=\"177\" font-size=\"7\" text-anchor=\"middle\">3</text>\n",
       "<text x=\"552\" y=\"191\" font-size=\"6\" text-anchor=\"end\" font-style=\"italic\">[data]</text>\n",
       "<path d=\"M233,235 L225,235 L225,215 L233,215 C233,215,243,215,243,225 C243,235,233,235,233,235 L233,235\" stroke-width=\"1\" stroke=\"black\" stroke-linejoin=\"miter\" fill=\"white\" />\n",
       "<text x=\"238\" y=\"241\" font-size=\"6\" text-anchor=\"middle\" font-style=\"italic\">[herald0]</text>\n",
       "<text x=\"233\" y=\"228\" font-size=\"7\" text-anchor=\"middle\">0</text>\n",
       "<path d=\"M233,285 L225,285 L225,265 L233,265 C233,265,243,265,243,275 C243,285,233,285,233,285 L233,285\" stroke-width=\"1\" stroke=\"black\" stroke-linejoin=\"miter\" fill=\"white\" />\n",
       "<text x=\"238\" y=\"291\" font-size=\"6\" text-anchor=\"middle\" font-style=\"italic\">[herald1]</text>\n",
       "<text x=\"233\" y=\"278\" font-size=\"7\" text-anchor=\"middle\">1</text>\n",
       "<path d=\"M233,335 L225,335 L225,315 L233,315 C233,315,243,315,243,325 C243,335,233,335,233,335 L233,335\" stroke-width=\"1\" stroke=\"black\" stroke-linejoin=\"miter\" fill=\"white\" />\n",
       "<text x=\"238\" y=\"341\" font-size=\"6\" text-anchor=\"middle\" font-style=\"italic\">[herald2]</text>\n",
       "<text x=\"233\" y=\"328\" font-size=\"7\" text-anchor=\"middle\">0</text>\n",
       "<path d=\"M233,385 L225,385 L225,365 L233,365 C233,365,243,365,243,375 C243,385,233,385,233,385 L233,385\" stroke-width=\"1\" stroke=\"black\" stroke-linejoin=\"miter\" fill=\"white\" />\n",
       "<text x=\"238\" y=\"391\" font-size=\"6\" text-anchor=\"middle\" font-style=\"italic\">[herald3]</text>\n",
       "<text x=\"233\" y=\"378\" font-size=\"7\" text-anchor=\"middle\">1</text>\n",
       "<path d=\"M383,235 L375,235 L375,215 L383,215 C383,215,393,215,393,225 C393,235,383,235,383,235 L383,235\" stroke-width=\"1\" stroke=\"black\" stroke-linejoin=\"miter\" fill=\"white\" />\n",
       "<text x=\"388\" y=\"241\" font-size=\"6\" text-anchor=\"middle\" font-style=\"italic\">[herald4]</text>\n",
       "<text x=\"383\" y=\"228\" font-size=\"7\" text-anchor=\"middle\">0</text>\n",
       "<path d=\"M383,285 L375,285 L375,265 L383,265 C383,265,393,265,393,275 C393,285,383,285,383,285 L383,285\" stroke-width=\"1\" stroke=\"black\" stroke-linejoin=\"miter\" fill=\"white\" />\n",
       "<text x=\"388\" y=\"291\" font-size=\"6\" text-anchor=\"middle\" font-style=\"italic\">[herald5]</text>\n",
       "<text x=\"383\" y=\"278\" font-size=\"7\" text-anchor=\"middle\">1</text>\n",
       "<path d=\"M383,335 L375,335 L375,315 L383,315 C383,315,393,315,393,325 C393,335,383,335,383,335 L383,335\" stroke-width=\"1\" stroke=\"black\" stroke-linejoin=\"miter\" fill=\"white\" />\n",
       "<text x=\"388\" y=\"341\" font-size=\"6\" text-anchor=\"middle\" font-style=\"italic\">[herald6]</text>\n",
       "<text x=\"383\" y=\"328\" font-size=\"7\" text-anchor=\"middle\">0</text>\n",
       "<path d=\"M383,385 L375,385 L375,365 L383,365 C383,365,393,365,393,375 C393,385,383,385,383,385 L383,385\" stroke-width=\"1\" stroke=\"black\" stroke-linejoin=\"miter\" fill=\"white\" />\n",
       "<text x=\"388\" y=\"391\" font-size=\"6\" text-anchor=\"middle\" font-style=\"italic\">[herald7]</text>\n",
       "<text x=\"383\" y=\"378\" font-size=\"7\" text-anchor=\"middle\">1</text>\n",
       "</svg>"
      ],
      "text/plain": [
       "<drawsvg.drawing.Drawing at 0x7df1c87c0210>"
      ]
     },
     "execution_count": 24,
     "metadata": {},
     "output_type": "execute_result"
    }
   ],
   "source": [
    "# I am using the processor directly to avoid managing the heralds manually:\n",
    "CNOT = catalog['klm cnot'].build_processor()\n",
    "q1, q2 = [0,1], [2,3]\n",
    "\n",
    "p_better = pcvl.Processor(\"SLOS\",4)\n",
    "p_better.add(0, BS.H())\n",
    "p_better.add(q1+q2, CNOT)\n",
    "p_better.add(q1+q2, CNOT)\n",
    "p_better.add(0, BS.H())\n",
    "pcvl.pdisplay(p_better, recursive=False)"
   ]
  },
  {
   "cell_type": "code",
   "execution_count": 23,
   "id": "4533f6b0-c8fc-4564-86fc-370f796cfd84",
   "metadata": {},
   "outputs": [
    {
     "name": "stdout",
     "output_type": "stream",
     "text": [
      "Avec l'entrée : 00\n",
      "> 00: 1.0\n"
     ]
    }
   ],
   "source": [
    "measure2p(p_better, qubits[\"00\"])"
   ]
  },
  {
   "cell_type": "code",
   "execution_count": 24,
   "id": "03be352f-97b7-4df1-ad1d-32509e162756",
   "metadata": {},
   "outputs": [
    {
     "name": "stdout",
     "output_type": "stream",
     "text": [
      "Avec l'entrée : 01\n",
      "> 01: 1.0\n"
     ]
    }
   ],
   "source": [
    "measure2p(p_better, qubits[\"01\"])"
   ]
  },
  {
   "cell_type": "code",
   "execution_count": 25,
   "id": "9a1563f1-dd4f-4247-92c6-0424fd25a495",
   "metadata": {},
   "outputs": [
    {
     "name": "stdout",
     "output_type": "stream",
     "text": [
      "Avec l'entrée : 10\n",
      "> 10: 1.0\n"
     ]
    }
   ],
   "source": [
    "measure2p(p_better, qubits[\"10\"])"
   ]
  },
  {
   "cell_type": "code",
   "execution_count": 26,
   "id": "93476cf9-3b0d-4183-8b91-c5f18ec39f9c",
   "metadata": {},
   "outputs": [
    {
     "name": "stdout",
     "output_type": "stream",
     "text": [
      "Avec l'entrée : 11\n",
      "> 11: 1.0\n"
     ]
    }
   ],
   "source": [
    "measure2p(p_better, qubits[\"11\"])"
   ]
  },
  {
   "cell_type": "markdown",
   "id": "33c252f9-eb36-4e91-aa24-1b84b6eeaca3",
   "metadata": {},
   "source": [
    "## Step 3: Trivial?\n",
    "\n",
    "Create the following state:\n",
    "$$\n",
    "|\\psi\\rangle = \\frac{1}{\\sqrt{3}}(|01\\rangle + |10\\rangle + |11\\rangle)\n",
    "$$"
   ]
  },
  {
   "cell_type": "markdown",
   "id": "a794e125-b2c4-4ca2-8234-606113a27dfe",
   "metadata": {},
   "source": [
    "<h2 style=\"color: green\">Solution Step 3:</h2>\n",
    "\n",
    "One possibility for this step is to make an initial split $\\left(\\frac{1}{\\sqrt{3}}/\\frac{2}{\\sqrt{3}}\\right)$, followed by a second conditional split $\\left(\\frac{1}{\\sqrt{3}}/\\frac{1}{\\sqrt{3}}/\\frac{1}{\\sqrt{3}}\\right)$. To achieve this second conditional split, we need a Hadamard gate that applies to the second qubit only if the first qubit is 1, which is a controlled Hadamard gate (<i>CH</i>).\n",
    "\n",
    "To construct this gate from basic gates, we can look for the rotation $R_y(\\theta)$ such that:\n",
    "$$\n",
    "\\DeclareMathOperator{\\PS}{PS}\n",
    "$$\n",
    "$$\n",
    "R_y(\\theta)\\PS(\\pi)R_y(-\\theta) = H\n",
    "$$\n",
    "where:\n",
    "$$\n",
    "\\PS(\\theta) = \\begin{pmatrix}\n",
    "1 & 0 \\\\\n",
    "0 & e^{i\\theta}\n",
    "\\end{pmatrix}\n",
    "$$\n",
    "This gives:\n",
    "$$\n",
    "\\begin{cases}\n",
    "R_y(\\theta)\\PS(\\pi)R_y(-\\theta) = H, \\quad\\text{if the CNOT is activated} \\\\\n",
    "R_y(\\theta)I R_y(-\\theta) = I, \\quad\\text{otherwise}\n",
    "\\end{cases}\n",
    "$$\n",
    "\n",
    "We just need to find $\\theta$ with:\n",
    "$$\n",
    "R_y(\\theta) = \\begin{pmatrix}\n",
    "\\cos{\\frac{\\theta}{2}} & -\\sin{\\frac{\\theta}{2}} \\\\\n",
    "\\sin{\\frac{\\theta}{2}} & \\cos{\\frac{\\theta}{2}}\n",
    "\\end{pmatrix}\n",
    "$$\n",
    "This gives:\n",
    "$$\n",
    "R_y(\\theta)\\PS(\\pi)R_y(-\\theta) = \\begin{pmatrix}\n",
    "\\cos{\\frac{\\theta}{2}} & -\\sin{\\frac{\\theta}{2}} \\\\\n",
    "\\sin{\\frac{\\theta}{2}} & \\cos{\\frac{\\theta}{2}}\n",
    "\\end{pmatrix}\n",
    "\\begin{pmatrix}\n",
    "1 & 0 \\\\\n",
    "0 & -1\n",
    "\\end{pmatrix}\n",
    "\\begin{pmatrix}\n",
    "\\cos{\\frac{\\theta}{2}} & \\sin{\\frac{\\theta}{2}} \\\\\n",
    "- \\sin{\\frac{\\theta}{2}} & \\cos{\\frac{\\theta}{2}}\n",
    "\\end{pmatrix}\n",
    "=\n",
    "\\begin{pmatrix}\n",
    "\\cos{\\theta} & \\sin{\\theta} \\\\\n",
    "\\sin{\\theta} & -\\cos{\\theta}\n",
    "\\end{pmatrix}\n",
    "= H\n",
    "$$\n",
    "Thus:\n",
    "$$\n",
    "\\theta = \\frac{\\pi}{4}\n",
    "$$\n",
    "\n",
    "(For a better explanation, see: https://quantumcomputing.stackexchange.com/questions/15734/how-to-construct-a-controlled-hadamard-gate-using-single-qubit-gates-and-control)\n"
   ]
  },
  {
   "cell_type": "code",
   "execution_count": 27,
   "id": "6c763c90a834fde2",
   "metadata": {
    "ExecuteTime": {
     "end_time": "2024-05-01T20:09:06.834236Z",
     "start_time": "2024-05-01T20:09:06.716266Z"
    },
    "collapsed": false,
    "jupyter": {
     "outputs_hidden": false
    }
   },
   "outputs": [
    {
     "data": {
      "image/svg+xml": [
       "<?xml version=\"1.0\" encoding=\"UTF-8\"?>\n",
       "<svg xmlns=\"http://www.w3.org/2000/svg\" xmlns:xlink=\"http://www.w3.org/1999/xlink\"\n",
       "     width=\"573.75\" height=\"531.25\" viewBox=\"-29.5 0 459.0 425.0\">\n",
       "<defs>\n",
       "</defs>\n",
       "<path d=\"M10,25 L25,25\" stroke-width=\"3\" stroke=\"darkred\" stroke-linejoin=\"miter\" fill=\"none\" />\n",
       "<path d=\"M10,75 L25,75\" stroke-width=\"3\" stroke=\"darkred\" stroke-linejoin=\"miter\" fill=\"none\" />\n",
       "<path d=\"M10,125 L25,125\" stroke-width=\"3\" stroke=\"darkred\" stroke-linejoin=\"miter\" fill=\"none\" />\n",
       "<path d=\"M10,175 L25,175\" stroke-width=\"3\" stroke=\"darkred\" stroke-linejoin=\"miter\" fill=\"none\" />\n",
       "<path d=\"M10,225 L25,225\" stroke-width=\"3\" stroke=\"darkred\" stroke-linejoin=\"miter\" fill=\"none\" />\n",
       "<path d=\"M10,275 L25,275\" stroke-width=\"3\" stroke=\"darkred\" stroke-linejoin=\"miter\" fill=\"none\" />\n",
       "<path d=\"M10,325 L25,325\" stroke-width=\"3\" stroke=\"darkred\" stroke-linejoin=\"miter\" fill=\"none\" />\n",
       "<path d=\"M10,375 L25,375\" stroke-width=\"3\" stroke=\"darkred\" stroke-linejoin=\"miter\" fill=\"none\" />\n",
       "<path d=\"M28,25 L72,175\" stroke=\"white\" stroke-width=\"6\" fill=\"none\" />\n",
       "<path d=\"M25,25 L28,25 L72,175 L75,175\" stroke=\"darkred\" stroke-width=\"3\" fill=\"none\" />\n",
       "<path d=\"M28,75 L72,125\" stroke=\"white\" stroke-width=\"6\" fill=\"none\" />\n",
       "<path d=\"M25,75 L28,75 L72,125 L75,125\" stroke=\"darkred\" stroke-width=\"3\" fill=\"none\" />\n",
       "<path d=\"M28,125 L72,25\" stroke=\"white\" stroke-width=\"6\" fill=\"none\" />\n",
       "<path d=\"M25,125 L28,125 L72,25 L75,25\" stroke=\"darkred\" stroke-width=\"3\" fill=\"none\" />\n",
       "<path d=\"M28,175 L72,75\" stroke=\"white\" stroke-width=\"6\" fill=\"none\" />\n",
       "<path d=\"M25,175 L28,175 L72,75 L75,75\" stroke=\"darkred\" stroke-width=\"3\" fill=\"none\" />\n",
       "<path d=\"M75,25 L103,25 L122,44\" stroke=\"darkred\" stroke-width=\"3\" fill=\"none\" />\n",
       "<path d=\"M128,44 L147,25 L175,25\" stroke=\"darkred\" stroke-width=\"3\" fill=\"none\" />\n",
       "<path d=\"M75,75 L103,75 L122,56\" stroke=\"darkred\" stroke-width=\"3\" fill=\"none\" />\n",
       "<path d=\"M128,56 L147,75 L175,75\" stroke=\"darkred\" stroke-width=\"3\" fill=\"none\" />\n",
       "<path d=\"M100,43 L150,43 L150,57 L100,57 Z\" stroke=\"black\" fill=\"black\" stroke-linejoin=\"miter\" />\n",
       "<text x=\"125\" y=\"80\" font-size=\"7\" text-anchor=\"middle\"></text>\n",
       "<text x=\"125\" y=\"26\" font-size=\"7\" text-anchor=\"middle\">Θ=1.910633</text>\n",
       "<path d=\"M100,43 L150,43 L150,47 L100,47 Z\" stroke=\"black\" fill=\"lightgray\" stroke-linejoin=\"miter\" />\n",
       "<path d=\"M143,50 L153,50 L153,60 L143,60 Z\" stroke=\"black\" fill=\"thistle\" stroke-linejoin=\"miter\" />\n",
       "<text x=\"148\" y=\"57\" font-size=\"6\" text-anchor=\"middle\">Rx</text>\n",
       "<path d=\"M75,125 L103,125 L122,144\" stroke=\"darkred\" stroke-width=\"3\" fill=\"none\" />\n",
       "<path d=\"M128,144 L147,125 L175,125\" stroke=\"darkred\" stroke-width=\"3\" fill=\"none\" />\n",
       "<path d=\"M75,175 L103,175 L122,156\" stroke=\"darkred\" stroke-width=\"3\" fill=\"none\" />\n",
       "<path d=\"M128,156 L147,175 L175,175\" stroke=\"darkred\" stroke-width=\"3\" fill=\"none\" />\n",
       "<path d=\"M100,143 L150,143 L150,157 L100,157 Z\" stroke=\"black\" fill=\"black\" stroke-linejoin=\"miter\" />\n",
       "<text x=\"125\" y=\"180\" font-size=\"7\" text-anchor=\"middle\"></text>\n",
       "<text x=\"125\" y=\"126\" font-size=\"7\" text-anchor=\"middle\">Θ=pi/4</text>\n",
       "<path d=\"M100,143 L150,143 L150,147 L100,147 Z\" stroke=\"black\" fill=\"lightgray\" stroke-linejoin=\"miter\" />\n",
       "<path d=\"M143,150 L153,150 L153,160 L143,160 Z\" stroke=\"black\" fill=\"lightsalmon\" stroke-linejoin=\"miter\" />\n",
       "<text x=\"148\" y=\"157\" font-size=\"6\" text-anchor=\"middle\">Ry</text>\n",
       "<path d=\"M25,225 L175,225\" stroke=\"darkred\" stroke-width=\"3\" fill=\"none\" />\n",
       "<path d=\"M25,275 L175,275\" stroke=\"darkred\" stroke-width=\"3\" fill=\"none\" />\n",
       "<path d=\"M25,325 L175,325\" stroke=\"darkred\" stroke-width=\"3\" fill=\"none\" />\n",
       "<path d=\"M25,375 L175,375\" stroke=\"darkred\" stroke-width=\"3\" fill=\"none\" />\n",
       "<path d=\"M175,25 L275,25\" stroke=\"darkred\" stroke-width=\"3\" fill=\"none\" />\n",
       "<path d=\"M175,75 L275,75\" stroke=\"darkred\" stroke-width=\"3\" fill=\"none\" />\n",
       "<path d=\"M175,125 L275,125\" stroke=\"darkred\" stroke-width=\"3\" fill=\"none\" />\n",
       "<path d=\"M175,175 L275,175\" stroke=\"darkred\" stroke-width=\"3\" fill=\"none\" />\n",
       "<path d=\"M175,225 L275,225\" stroke=\"darkred\" stroke-width=\"3\" fill=\"none\" />\n",
       "<path d=\"M175,275 L275,275\" stroke=\"darkred\" stroke-width=\"3\" fill=\"none\" />\n",
       "<path d=\"M175,325 L275,325\" stroke=\"darkred\" stroke-width=\"3\" fill=\"none\" />\n",
       "<path d=\"M175,375 L275,375\" stroke=\"darkred\" stroke-width=\"3\" fill=\"none\" />\n",
       "<path d=\"M177.5,2.5 L272.5,2.5 L272.5,397.5 L177.5,397.5 Z\" stroke=\"darkred\" fill=\"lightpink\" stroke-linejoin=\"miter\" />\n",
       "<text x=\"185\" y=\"24\" font-size=\"8\" text-anchor=\"start\" font-weight=\"bold\"><tspan x=\"185\" dy=\"0em\">HERALDED</tspan><tspan x=\"185\" dy=\"1em\">CNOT</tspan></text>\n",
       "<path d=\"M275,125 L303,125 L322,144\" stroke=\"darkred\" stroke-width=\"3\" fill=\"none\" />\n",
       "<path d=\"M328,144 L347,125 L375,125\" stroke=\"darkred\" stroke-width=\"3\" fill=\"none\" />\n",
       "<path d=\"M275,175 L303,175 L322,156\" stroke=\"darkred\" stroke-width=\"3\" fill=\"none\" />\n",
       "<path d=\"M328,156 L347,175 L375,175\" stroke=\"darkred\" stroke-width=\"3\" fill=\"none\" />\n",
       "<path d=\"M300,143 L350,143 L350,157 L300,157 Z\" stroke=\"black\" fill=\"black\" stroke-linejoin=\"miter\" />\n",
       "<text x=\"325\" y=\"180\" font-size=\"7\" text-anchor=\"middle\"></text>\n",
       "<text x=\"325\" y=\"126\" font-size=\"7\" text-anchor=\"middle\">Θ=15*pi/4</text>\n",
       "<path d=\"M300,153 L350,153 L350,157 L300,157 Z\" stroke=\"black\" fill=\"lightgray\" stroke-linejoin=\"miter\" />\n",
       "<path d=\"M343,150 L353,150 L353,160 L343,160 Z\" stroke=\"black\" fill=\"lightsalmon\" stroke-linejoin=\"miter\" />\n",
       "<text x=\"348\" y=\"157\" font-size=\"6\" text-anchor=\"middle\">Ry</text>\n",
       "<path d=\"M275,25 L375,25\" stroke=\"darkred\" stroke-width=\"3\" fill=\"none\" />\n",
       "<path d=\"M275,75 L375,75\" stroke=\"darkred\" stroke-width=\"3\" fill=\"none\" />\n",
       "<path d=\"M275,225 L375,225\" stroke=\"darkred\" stroke-width=\"3\" fill=\"none\" />\n",
       "<path d=\"M275,275 L375,275\" stroke=\"darkred\" stroke-width=\"3\" fill=\"none\" />\n",
       "<path d=\"M275,325 L375,325\" stroke=\"darkred\" stroke-width=\"3\" fill=\"none\" />\n",
       "<path d=\"M275,375 L375,375\" stroke=\"darkred\" stroke-width=\"3\" fill=\"none\" />\n",
       "<path d=\"M375,25 L390,25\" stroke-width=\"3\" stroke=\"darkred\" stroke-linejoin=\"miter\" fill=\"none\" />\n",
       "<path d=\"M375,75 L390,75\" stroke-width=\"3\" stroke=\"darkred\" stroke-linejoin=\"miter\" fill=\"none\" />\n",
       "<path d=\"M375,125 L390,125\" stroke-width=\"3\" stroke=\"darkred\" stroke-linejoin=\"miter\" fill=\"none\" />\n",
       "<path d=\"M375,175 L390,175\" stroke-width=\"3\" stroke=\"darkred\" stroke-linejoin=\"miter\" fill=\"none\" />\n",
       "<path d=\"M375,225 L390,225\" stroke-width=\"3\" stroke=\"darkred\" stroke-linejoin=\"miter\" fill=\"none\" />\n",
       "<path d=\"M375,275 L390,275\" stroke-width=\"3\" stroke=\"darkred\" stroke-linejoin=\"miter\" fill=\"none\" />\n",
       "<path d=\"M375,325 L390,325\" stroke-width=\"3\" stroke=\"darkred\" stroke-linejoin=\"miter\" fill=\"none\" />\n",
       "<path d=\"M375,375 L390,375\" stroke-width=\"3\" stroke=\"darkred\" stroke-linejoin=\"miter\" fill=\"none\" />\n",
       "<text x=\"400\" y=\"28\" font-size=\"9\" text-anchor=\"end\">0</text>\n",
       "<text x=\"400\" y=\"78\" font-size=\"9\" text-anchor=\"end\">1</text>\n",
       "<text x=\"400\" y=\"128\" font-size=\"9\" text-anchor=\"end\">2</text>\n",
       "<text x=\"400\" y=\"178\" font-size=\"9\" text-anchor=\"end\">3</text>\n",
       "<text x=\"400\" y=\"228\" font-size=\"9\" text-anchor=\"end\">4</text>\n",
       "<text x=\"400\" y=\"278\" font-size=\"9\" text-anchor=\"end\">5</text>\n",
       "<text x=\"400\" y=\"328\" font-size=\"9\" text-anchor=\"end\">6</text>\n",
       "<text x=\"400\" y=\"378\" font-size=\"9\" text-anchor=\"end\">7</text>\n",
       "<text x=\"0\" y=\"28\" font-size=\"9\" text-anchor=\"start\">0</text>\n",
       "<text x=\"0\" y=\"78\" font-size=\"9\" text-anchor=\"start\">1</text>\n",
       "<text x=\"0\" y=\"128\" font-size=\"9\" text-anchor=\"start\">2</text>\n",
       "<text x=\"0\" y=\"178\" font-size=\"9\" text-anchor=\"start\">3</text>\n",
       "<text x=\"0\" y=\"228\" font-size=\"9\" text-anchor=\"start\">4</text>\n",
       "<text x=\"0\" y=\"278\" font-size=\"9\" text-anchor=\"start\">5</text>\n",
       "<text x=\"0\" y=\"328\" font-size=\"9\" text-anchor=\"start\">6</text>\n",
       "<text x=\"0\" y=\"378\" font-size=\"9\" text-anchor=\"start\">7</text>\n",
       "</svg>"
      ],
      "text/plain": [
       "<drawsvg.drawing.Drawing at 0x7df1c86822d0>"
      ]
     },
     "execution_count": 29,
     "metadata": {},
     "output_type": "execute_result"
    }
   ],
   "source": [
    "# With a few permutations:\n",
    "step_three = (Circuit(8).add(0, PERM([3, 2, 0, 1])).add(0, BS(BS.r_to_theta(1/3))).add(2, BS.Ry(pi/4)).add(0, cnot).add(2, BS.Ry(-pi/4)))\n",
    "\n",
    "pdisplay(step_three)"
   ]
  },
  {
   "cell_type": "code",
   "execution_count": 28,
   "id": "4b4e2d22-503a-4e28-aa5a-ab7743c68a08",
   "metadata": {
    "ExecuteTime": {
     "end_time": "2024-05-01T20:09:08.450891Z",
     "start_time": "2024-05-01T20:09:08.396987Z"
    }
   },
   "outputs": [
    {
     "data": {
      "image/svg+xml": [
       "<?xml version=\"1.0\" encoding=\"UTF-8\"?>\n",
       "<svg xmlns=\"http://www.w3.org/2000/svg\" xmlns:xlink=\"http://www.w3.org/1999/xlink\"\n",
       "     width=\"1607.5\" height=\"531.25\" viewBox=\"-36.0 0 1286.0 425.0\">\n",
       "<defs>\n",
       "</defs>\n",
       "<path d=\"M10,25 L25,25\" stroke-width=\"3\" stroke=\"darkred\" stroke-linejoin=\"miter\" fill=\"none\" />\n",
       "<path d=\"M10,75 L25,75\" stroke-width=\"3\" stroke=\"darkred\" stroke-linejoin=\"miter\" fill=\"none\" />\n",
       "<path d=\"M10,125 L25,125\" stroke-width=\"3\" stroke=\"darkred\" stroke-linejoin=\"miter\" fill=\"none\" />\n",
       "<path d=\"M10,175 L25,175\" stroke-width=\"3\" stroke=\"darkred\" stroke-linejoin=\"miter\" fill=\"none\" />\n",
       "<path d=\"M27,2 L1223,2 L1223,398 L27,398 Z\" stroke=\"black\" fill=\"lightblue\" stroke-dasharray=\"1,2\" stroke-linejoin=\"miter\" />\n",
       "<text x=\"29\" y=\"405\" font-size=\"8\" text-anchor=\"start\">CPLX</text>\n",
       "<path d=\"M28,25 L72,175\" stroke=\"white\" stroke-width=\"6\" fill=\"none\" />\n",
       "<path d=\"M25,25 L28,25 L72,175 L75,175\" stroke=\"darkred\" stroke-width=\"3\" fill=\"none\" />\n",
       "<path d=\"M28,75 L72,125\" stroke=\"white\" stroke-width=\"6\" fill=\"none\" />\n",
       "<path d=\"M25,75 L28,75 L72,125 L75,125\" stroke=\"darkred\" stroke-width=\"3\" fill=\"none\" />\n",
       "<path d=\"M28,125 L72,25\" stroke=\"white\" stroke-width=\"6\" fill=\"none\" />\n",
       "<path d=\"M25,125 L28,125 L72,25 L75,25\" stroke=\"darkred\" stroke-width=\"3\" fill=\"none\" />\n",
       "<path d=\"M28,175 L72,75\" stroke=\"white\" stroke-width=\"6\" fill=\"none\" />\n",
       "<path d=\"M25,175 L28,175 L72,75 L75,75\" stroke=\"darkred\" stroke-width=\"3\" fill=\"none\" />\n",
       "<path d=\"M75,25 L103,25 L122,44\" stroke=\"darkred\" stroke-width=\"3\" fill=\"none\" />\n",
       "<path d=\"M128,44 L147,25 L175,25\" stroke=\"darkred\" stroke-width=\"3\" fill=\"none\" />\n",
       "<path d=\"M75,75 L103,75 L122,56\" stroke=\"darkred\" stroke-width=\"3\" fill=\"none\" />\n",
       "<path d=\"M128,56 L147,75 L175,75\" stroke=\"darkred\" stroke-width=\"3\" fill=\"none\" />\n",
       "<path d=\"M100,43 L150,43 L150,57 L100,57 Z\" stroke=\"black\" fill=\"black\" stroke-linejoin=\"miter\" />\n",
       "<text x=\"125\" y=\"80\" font-size=\"7\" text-anchor=\"middle\"></text>\n",
       "<text x=\"125\" y=\"26\" font-size=\"7\" text-anchor=\"middle\">Θ=1.910633</text>\n",
       "<path d=\"M100,43 L150,43 L150,47 L100,47 Z\" stroke=\"black\" fill=\"lightgray\" stroke-linejoin=\"miter\" />\n",
       "<path d=\"M143,50 L153,50 L153,60 L143,60 Z\" stroke=\"black\" fill=\"thistle\" stroke-linejoin=\"miter\" />\n",
       "<text x=\"148\" y=\"57\" font-size=\"6\" text-anchor=\"middle\">Rx</text>\n",
       "<path d=\"M75,125 L103,125 L122,144\" stroke=\"darkred\" stroke-width=\"3\" fill=\"none\" />\n",
       "<path d=\"M128,144 L147,125 L175,125\" stroke=\"darkred\" stroke-width=\"3\" fill=\"none\" />\n",
       "<path d=\"M75,175 L103,175 L122,156\" stroke=\"darkred\" stroke-width=\"3\" fill=\"none\" />\n",
       "<path d=\"M128,156 L147,175 L175,175\" stroke=\"darkred\" stroke-width=\"3\" fill=\"none\" />\n",
       "<path d=\"M100,143 L150,143 L150,157 L100,157 Z\" stroke=\"black\" fill=\"black\" stroke-linejoin=\"miter\" />\n",
       "<text x=\"125\" y=\"180\" font-size=\"7\" text-anchor=\"middle\"></text>\n",
       "<text x=\"125\" y=\"126\" font-size=\"7\" text-anchor=\"middle\">Θ=pi/4</text>\n",
       "<path d=\"M100,143 L150,143 L150,147 L100,147 Z\" stroke=\"black\" fill=\"lightgray\" stroke-linejoin=\"miter\" />\n",
       "<path d=\"M143,150 L153,150 L153,160 L143,160 Z\" stroke=\"black\" fill=\"lightsalmon\" stroke-linejoin=\"miter\" />\n",
       "<text x=\"148\" y=\"157\" font-size=\"6\" text-anchor=\"middle\">Ry</text>\n",
       "<path d=\"M175,25 L275,25\" stroke=\"darkred\" stroke-width=\"3\" fill=\"none\" />\n",
       "<path d=\"M175,75 L275,75\" stroke=\"darkred\" stroke-width=\"3\" fill=\"none\" />\n",
       "<path d=\"M175,125 L275,125\" stroke=\"darkred\" stroke-width=\"3\" fill=\"none\" />\n",
       "<path d=\"M175,175 L275,175\" stroke=\"darkred\" stroke-width=\"3\" fill=\"none\" />\n",
       "<path d=\"M175,225 L275,225\" stroke=\"darkred\" stroke-width=\"3\" fill=\"none\" />\n",
       "<path d=\"M175,275 L275,275\" stroke=\"darkred\" stroke-width=\"3\" fill=\"none\" />\n",
       "<path d=\"M175,325 L275,325\" stroke=\"darkred\" stroke-width=\"3\" fill=\"none\" />\n",
       "<path d=\"M175,375 L275,375\" stroke=\"darkred\" stroke-width=\"3\" fill=\"none\" />\n",
       "<path d=\"M177.5,2.5 L272.5,2.5 L272.5,397.5 L177.5,397.5 Z\" stroke=\"darkred\" fill=\"lightpink\" stroke-linejoin=\"miter\" />\n",
       "<text x=\"185\" y=\"24\" font-size=\"8\" text-anchor=\"start\" font-weight=\"bold\"><tspan x=\"185\" dy=\"0em\">HERALDED</tspan><tspan x=\"185\" dy=\"1em\">CNOT</tspan></text>\n",
       "<path d=\"M275,125 L303,125 L322,144\" stroke=\"darkred\" stroke-width=\"3\" fill=\"none\" />\n",
       "<path d=\"M328,144 L347,125 L375,125\" stroke=\"darkred\" stroke-width=\"3\" fill=\"none\" />\n",
       "<path d=\"M275,175 L303,175 L322,156\" stroke=\"darkred\" stroke-width=\"3\" fill=\"none\" />\n",
       "<path d=\"M328,156 L347,175 L375,175\" stroke=\"darkred\" stroke-width=\"3\" fill=\"none\" />\n",
       "<path d=\"M300,143 L350,143 L350,157 L300,157 Z\" stroke=\"black\" fill=\"black\" stroke-linejoin=\"miter\" />\n",
       "<text x=\"325\" y=\"180\" font-size=\"7\" text-anchor=\"middle\"></text>\n",
       "<text x=\"325\" y=\"126\" font-size=\"7\" text-anchor=\"middle\">Θ=15*pi/4</text>\n",
       "<path d=\"M300,153 L350,153 L350,157 L300,157 Z\" stroke=\"black\" fill=\"lightgray\" stroke-linejoin=\"miter\" />\n",
       "<path d=\"M343,150 L353,150 L353,160 L343,160 Z\" stroke=\"black\" fill=\"lightsalmon\" stroke-linejoin=\"miter\" />\n",
       "<text x=\"348\" y=\"157\" font-size=\"6\" text-anchor=\"middle\">Ry</text>\n",
       "<path d=\"M275,25 L375,25\" stroke=\"darkred\" stroke-width=\"3\" fill=\"none\" />\n",
       "<path d=\"M275,75 L375,75\" stroke=\"darkred\" stroke-width=\"3\" fill=\"none\" />\n",
       "<path d=\"M375,25 L390,25\" stroke-width=\"3\" stroke=\"darkred\" stroke-linejoin=\"miter\" fill=\"none\" />\n",
       "<path d=\"M375,75 L390,75\" stroke-width=\"3\" stroke=\"darkred\" stroke-linejoin=\"miter\" fill=\"none\" />\n",
       "<path d=\"M375,125 L390,125\" stroke-width=\"3\" stroke=\"darkred\" stroke-linejoin=\"miter\" fill=\"none\" />\n",
       "<path d=\"M375,175 L390,175\" stroke-width=\"3\" stroke=\"darkred\" stroke-linejoin=\"miter\" fill=\"none\" />\n",
       "<path d=\"M157,225 C157,225,157,215,167,215 L175,215 L175,235 L167,235 C157,235,157,225,157,225 L157,225\" stroke-width=\"1\" stroke=\"black\" stroke-linejoin=\"miter\" fill=\"white\" />\n",
       "<text x=\"163\" y=\"241\" font-size=\"6\" text-anchor=\"middle\" font-style=\"italic\">[herald0]</text>\n",
       "<text x=\"167\" y=\"228\" font-size=\"7\" text-anchor=\"middle\">0</text>\n",
       "<path d=\"M157,275 C157,275,157,265,167,265 L175,265 L175,285 L167,285 C157,285,157,275,157,275 L157,275\" stroke-width=\"1\" stroke=\"black\" stroke-linejoin=\"miter\" fill=\"white\" />\n",
       "<text x=\"163\" y=\"291\" font-size=\"6\" text-anchor=\"middle\" font-style=\"italic\">[herald1]</text>\n",
       "<text x=\"167\" y=\"278\" font-size=\"7\" text-anchor=\"middle\">1</text>\n",
       "<path d=\"M157,325 C157,325,157,315,167,315 L175,315 L175,335 L167,335 C157,335,157,325,157,325 L157,325\" stroke-width=\"1\" stroke=\"black\" stroke-linejoin=\"miter\" fill=\"white\" />\n",
       "<text x=\"163\" y=\"341\" font-size=\"6\" text-anchor=\"middle\" font-style=\"italic\">[herald2]</text>\n",
       "<text x=\"167\" y=\"328\" font-size=\"7\" text-anchor=\"middle\">0</text>\n",
       "<path d=\"M157,375 C157,375,157,365,167,365 L175,365 L175,385 L167,385 C157,385,157,375,157,375 L157,375\" stroke-width=\"1\" stroke=\"black\" stroke-linejoin=\"miter\" fill=\"white\" />\n",
       "<text x=\"163\" y=\"391\" font-size=\"6\" text-anchor=\"middle\" font-style=\"italic\">[herald3]</text>\n",
       "<text x=\"167\" y=\"378\" font-size=\"7\" text-anchor=\"middle\">1</text>\n",
       "<path d=\"M-2,15 L10,15 L10,85 L-2,85 Z\" stroke=\"black\" fill=\"lightgray\" stroke-linejoin=\"miter\" />\n",
       "<text x=\"4\" y=\"27\" font-size=\"7\" text-anchor=\"middle\">0</text>\n",
       "<text x=\"4\" y=\"77\" font-size=\"7\" text-anchor=\"middle\">1</text>\n",
       "<text x=\"-2\" y=\"91\" font-size=\"6\" text-anchor=\"start\" font-style=\"italic\">[0]</text>\n",
       "<path d=\"M-2,115 L10,115 L10,185 L-2,185 Z\" stroke=\"black\" fill=\"lightgray\" stroke-linejoin=\"miter\" />\n",
       "<text x=\"4\" y=\"127\" font-size=\"7\" text-anchor=\"middle\">2</text>\n",
       "<text x=\"4\" y=\"177\" font-size=\"7\" text-anchor=\"middle\">3</text>\n",
       "<text x=\"-2\" y=\"191\" font-size=\"6\" text-anchor=\"start\" font-style=\"italic\">[1]</text>\n",
       "<path d=\"M283,235 L275,235 L275,215 L283,215 C283,215,293,215,293,225 C293,235,283,235,283,235 L283,235\" stroke-width=\"1\" stroke=\"black\" stroke-linejoin=\"miter\" fill=\"white\" />\n",
       "<text x=\"288\" y=\"241\" font-size=\"6\" text-anchor=\"middle\" font-style=\"italic\">[herald0]</text>\n",
       "<text x=\"283\" y=\"228\" font-size=\"7\" text-anchor=\"middle\">0</text>\n",
       "<path d=\"M283,285 L275,285 L275,265 L283,265 C283,265,293,265,293,275 C293,285,283,285,283,285 L283,285\" stroke-width=\"1\" stroke=\"black\" stroke-linejoin=\"miter\" fill=\"white\" />\n",
       "<text x=\"288\" y=\"291\" font-size=\"6\" text-anchor=\"middle\" font-style=\"italic\">[herald1]</text>\n",
       "<text x=\"283\" y=\"278\" font-size=\"7\" text-anchor=\"middle\">1</text>\n",
       "<path d=\"M283,335 L275,335 L275,315 L283,315 C283,315,293,315,293,325 C293,335,283,335,283,335 L283,335\" stroke-width=\"1\" stroke=\"black\" stroke-linejoin=\"miter\" fill=\"white\" />\n",
       "<text x=\"288\" y=\"341\" font-size=\"6\" text-anchor=\"middle\" font-style=\"italic\">[herald2]</text>\n",
       "<text x=\"283\" y=\"328\" font-size=\"7\" text-anchor=\"middle\">0</text>\n",
       "<path d=\"M283,385 L275,385 L275,365 L283,365 C283,365,293,365,293,375 C293,385,283,385,283,385 L283,385\" stroke-width=\"1\" stroke=\"black\" stroke-linejoin=\"miter\" fill=\"white\" />\n",
       "<text x=\"288\" y=\"391\" font-size=\"6\" text-anchor=\"middle\" font-style=\"italic\">[herald3]</text>\n",
       "<text x=\"283\" y=\"378\" font-size=\"7\" text-anchor=\"middle\">1</text>\n",
       "<path d=\"M390,15 L402,15 L402,85 L390,85 Z\" stroke=\"black\" fill=\"lightgray\" stroke-linejoin=\"miter\" />\n",
       "<text x=\"396\" y=\"27\" font-size=\"7\" text-anchor=\"middle\">0</text>\n",
       "<text x=\"396\" y=\"77\" font-size=\"7\" text-anchor=\"middle\">1</text>\n",
       "<text x=\"402\" y=\"91\" font-size=\"6\" text-anchor=\"end\" font-style=\"italic\">[0]</text>\n",
       "<path d=\"M390,115 L402,115 L402,185 L390,185 Z\" stroke=\"black\" fill=\"lightgray\" stroke-linejoin=\"miter\" />\n",
       "<text x=\"396\" y=\"127\" font-size=\"7\" text-anchor=\"middle\">2</text>\n",
       "<text x=\"396\" y=\"177\" font-size=\"7\" text-anchor=\"middle\">3</text>\n",
       "<text x=\"402\" y=\"191\" font-size=\"6\" text-anchor=\"end\" font-style=\"italic\">[1]</text>\n",
       "</svg>"
      ],
      "text/plain": [
       "<drawsvg.drawing.Drawing at 0x7df1c87c93d0>"
      ]
     },
     "execution_count": 30,
     "metadata": {},
     "output_type": "execute_result"
    }
   ],
   "source": [
    "p_step_three = Processor(\"Naive\", step_three)\n",
    "p_step_three.min_detected_photons_filter(0)\n",
    "p_step_three.add_herald(4, 0)\n",
    "p_step_three.add_herald(5, 1)\n",
    "p_step_three.add_herald(6, 0)\n",
    "p_step_three.add_herald(7, 1)\n",
    "p_step_three.add_port(0, pcvl.Port(pcvl.Encoding.DUAL_RAIL, \"0\"))\n",
    "p_step_three.add_port(2, pcvl.Port(pcvl.Encoding.DUAL_RAIL, \"1\"))\n",
    "pdisplay(p_step_three, recursive=True)"
   ]
  },
  {
   "cell_type": "code",
   "execution_count": 29,
   "id": "43109a9c-5913-4c24-a0ad-819bee6aa21d",
   "metadata": {
    "ExecuteTime": {
     "end_time": "2024-05-01T20:09:09.389191Z",
     "start_time": "2024-05-01T20:09:09.357860Z"
    }
   },
   "outputs": [
    {
     "name": "stdout",
     "output_type": "stream",
     "text": [
      "Avec l'entrée : 00\n",
      "> 01: 0.33\n",
      "> 10: 0.33\n",
      "> 11: 0.33\n"
     ]
    }
   ],
   "source": [
    "measure2p(p_step_three)"
   ]
  },
  {
   "cell_type": "markdown",
   "id": "74de1998-8db4-4d1d-bc80-a8a8f1626dc6",
   "metadata": {},
   "source": [
    "## Flag recovery"
   ]
  },
  {
   "cell_type": "code",
   "execution_count": 30,
   "id": "75026fe43581b978",
   "metadata": {
    "ExecuteTime": {
     "end_time": "2024-05-01T20:09:10.854218Z",
     "start_time": "2024-05-01T20:09:10.843492Z"
    },
    "collapsed": false,
    "jupyter": {
     "outputs_hidden": false
    }
   },
   "outputs": [],
   "source": [
    "def circuit_to_list(circuit: Circuit) -> List[List[Tuple[float, float]]]:\n",
    "    return [[(x.real, x.imag) for x in l] for l in np.array(circuit.compute_unitary())]\n",
    "\n",
    "d = {\n",
    "    \"step_one\": circuit_to_list(step_one),\n",
    "    \"step_one_more\": circuit_to_list(step_one_more),\n",
    "    \"step_two\": circuit_to_list(step_two),\n",
    "    \"step_three\": circuit_to_list(step_three)\n",
    "}"
   ]
  },
  {
   "cell_type": "code",
   "execution_count": 31,
   "id": "caddbdda1ebf3061",
   "metadata": {
    "ExecuteTime": {
     "end_time": "2024-05-01T20:09:11.675070Z",
     "start_time": "2024-05-01T20:09:11.609501Z"
    },
    "collapsed": false,
    "jupyter": {
     "outputs_hidden": false
    }
   },
   "outputs": [
    {
     "data": {
      "text/plain": [
       "{'message': 'Statut : en pleine forme !'}"
      ]
     },
     "execution_count": 33,
     "metadata": {},
     "output_type": "execute_result"
    }
   ],
   "source": [
    "import requests as rq\n",
    "\n",
    "URL = ...\n",
    "# URL = \"https://perceval.challenges.404ctf.fr\"\n",
    "rq.get(URL + \"/healthcheck\").json()"
   ]
  },
  {
   "cell_type": "code",
   "execution_count": 32,
   "id": "4e70a551c7208c4a",
   "metadata": {
    "ExecuteTime": {
     "end_time": "2024-05-01T20:09:12.375373Z",
     "start_time": "2024-05-01T20:09:12.130394Z"
    },
    "collapsed": false,
    "jupyter": {
     "outputs_hidden": false
    }
   },
   "outputs": [
    {
     "data": {
      "text/plain": [
       "{'message': 'GG ! Voici le drapeau : 404CTF{d_Un3_tR1v14l1t3_AbS0lu3}'}"
      ]
     },
     "execution_count": 34,
     "metadata": {},
     "output_type": "execute_result"
    }
   ],
   "source": [
    "rq.post(URL + \"/challenges/3\", json=d).json()"
   ]
  },
  {
   "cell_type": "markdown",
   "id": "c647bc16-bab6-408b-831b-083fa94bf703",
   "metadata": {},
   "source": [
    "`d_Un3_tR1v14l1t3_AbS0lu3`, *d'une trivialité absolue* means \"of absolute triviality...\""
   ]
  }
 ],
 "metadata": {
  "kernelspec": {
   "display_name": "Python 3 (ipykernel)",
   "language": "python",
   "name": "python3"
  },
  "language_info": {
   "codemirror_mode": {
    "name": "ipython",
    "version": 3
   },
   "file_extension": ".py",
   "mimetype": "text/x-python",
   "name": "python",
   "nbconvert_exporter": "python",
   "pygments_lexer": "ipython3",
   "version": "3.12.5"
  }
 },
 "nbformat": 4,
 "nbformat_minor": 5
}
