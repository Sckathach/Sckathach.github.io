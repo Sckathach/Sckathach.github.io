{
 "cells": [
  {
   "cell_type": "raw",
   "id": "83e48883-ef8a-4727-9417-337772f4ed52",
   "metadata": {},
   "source": [
    "---\n",
    "title: \"Challenge 2: Quantum Woman-In-The-Middle Attack\"\n",
    "author: \"Le magicien quantique\"\n",
    "format: html\n",
    "toc: true\n",
    "number-sections: true\n",
    "date: \"05/12/2024\"\n",
    "date-format: long\n",
    "---"
   ]
  },
  {
   "cell_type": "code",
   "execution_count": null,
   "id": "initial_id",
   "metadata": {},
   "outputs": [],
   "source": [
    "import numpy as np\n",
    "import perceval as pcvl"
   ]
  },
  {
   "cell_type": "markdown",
   "id": "1c4265d7-595a-482a-bde5-f513ba688dce",
   "metadata": {},
   "source": [
    "## Before we begin\n",
    "Here are some utilities:"
   ]
  },
  {
   "cell_type": "code",
   "execution_count": null,
   "id": "fcd0864c-b449-4f8d-b81e-6749d8241f1d",
   "metadata": {},
   "outputs": [],
   "source": [
    "from perceval import pdisplay, PS, BS, Circuit, BasicState, Processor, StateVector\n",
    "from perceval.backends import BackendFactory\n",
    "from perceval.algorithm import Analyzer\n",
    "from exqalibur import FockState\n",
    "from qiskit.visualization import plot_bloch_multivector\n",
    "from qiskit.quantum_info import Statevector\n",
    "import matplotlib.pyplot as plt\n",
    "from numpy import pi, cos, sin\n",
    "from typing import Optional\n",
    "\n",
    "\n",
    "# Let's go back to our rail encoding\n",
    "qubits = {\n",
    "    \"0\": BasicState([1, 0]),\n",
    "    \"1\": BasicState([0, 1])\n",
    "}\n",
    "qubits_ = {qubits[k]: k for k in qubits}\n",
    "sqlist = [qubits[\"0\"], qubits[\"1\"]]\n",
    "\n",
    "# Circuit analysis\n",
    "def analyze(circuit: Circuit, input_states: Optional[FockState] = None, output_states: Optional[FockState] = None) \\\n",
    "        -> None:\n",
    "    if input_states is None:\n",
    "        input_states = sqlist\n",
    "    if output_states is None:\n",
    "        output_states = sqlist\n",
    "    p = Processor(\"Naive\", circuit)\n",
    "    a = Analyzer(p, input_states, output_states, mapping=qubits_)\n",
    "    pdisplay(a)\n",
    "\n",
    "# Circuit analysis by calculating the amplitudes\n",
    "def amplitudes(circuit: Circuit, input_state: Optional[FockState] = None, output_states: Optional[FockState] = None) \\\n",
    "        -> (complex, complex):\n",
    "    if input_state is None:\n",
    "        input_state = qubits[\"0\"]\n",
    "    if output_states is None:\n",
    "        output_states = sqlist\n",
    "    b = BackendFactory.get_backend(\"Naive\")\n",
    "    b.set_circuit(circuit)\n",
    "    b.set_input_state(input_state)\n",
    "    return {qubits_[k]: roundc(b.prob_amplitude(k)) for k in output_states}\n",
    "\n",
    "# Display of the Bloch sphere\n",
    "def circuit_to_state_vector(circuit: Circuit) -> Statevector:\n",
    "    ampl0, ampl1 = amplitudes(circuit)\n",
    "    return Statevector([ampl0, ampl1])\n",
    "plot_bloch = lambda circuit : plot_bloch_multivector(circuit_to_state_vector(circuit))\n",
    "\n",
    "# Rotations\n",
    "x_rot = lambda x: Circuit(2) // (0, PS(pi)) // BS.Rx(theta=x) // (0, PS(pi)) \n",
    "y_rot = lambda x: BS.Ry(theta=x)\n",
    "z_rot = lambda x: BS.H() // x_rot(x) // BS.H() \n",
    "\n",
    "# Trigonometry with Matplotlib\n",
    "def plot_trig(angles, colors=None, annotations=None):\n",
    "    r = 1.5\n",
    "    if colors is None:\n",
    "        colors = [\"blue\"] * len(angles)\n",
    "    if annotations is None:\n",
    "        annotations = [\"\"] * len(angles)\n",
    "    for angle, color, annotation in zip(angles, colors, annotations):\n",
    "        pos_x = r * cos(angle)\n",
    "        pos_y = r * sin(angle)\n",
    "        plt.plot([0, pos_x], [0, pos_y], color=color)\n",
    "        pos_x_a = pos_x + np.sign(pos_x) * 0.1 - (0.05 * len(annotation) if np.sign(pos_x) < 0 else 0)\n",
    "        pos_y_a = pos_y + np.sign(pos_y) * 0.1\n",
    "        plt.gca().annotate(annotation, xy=(pos_x_a, pos_y_a), xycoords='data', fontsize=10)\n",
    "\n",
    "    plt.plot(0, 0, color='black', marker='o')\n",
    "    a = np.linspace(0 * pi, 2 * pi, 100)\n",
    "    xs, ys = r * cos(a), r * sin(a)\n",
    "    plt.plot(xs, ys, color=\"black\")\n",
    "    plt.xlim(-2, 2)\n",
    "    plt.ylim(-2, 2)\n",
    "    plt.gca().set_aspect('equal')\n",
    "    plt.show()\n",
    "\n",
    "# Version of `round()` for complex numbers\n",
    "def roundc(c: complex, decimals: int = 2) -> complex:\n",
    "    return round(c.real, decimals) + round(c.imag, decimals) * 1j"
   ]
  },
  {
   "cell_type": "markdown",
   "id": "533cbe33-3ac9-4c12-95ef-ebd3f6cf1b81",
   "metadata": {},
   "source": [
    "### Examples"
   ]
  },
  {
   "cell_type": "code",
   "execution_count": null,
   "id": "719ee610-4df9-40ce-9293-acf55ad256f7",
   "metadata": {},
   "outputs": [],
   "source": [
    "hadamard_gate = BS.H()\n",
    "print(amplitudes(hadamard_gate))\n",
    "analyze(hadamard_gate)\n",
    "plot_bloch(hadamard_gate)"
   ]
  },
  {
   "cell_type": "markdown",
   "id": "e08eaa4f-2037-4719-9198-8078ac486f65",
   "metadata": {},
   "source": [
    "Not only the Bloch sphere can be used to represent qubits, we can simply use a trigonometric circle. The transition is explicit: **the abscissa corresponds to $|0\\rangle$ and the ordinate to $|1\\rangle$**, so $|+\\rangle$ is at $\\frac{\\pi}{4}$. All states are on the circle, as the sum of probabilities, which here is an amplitude, is always $1$. However, with this display, we lose information about the global phase.\n",
    "\n",
    "For example, here are the canonical basis (in blue) and the Hadamard basis (in red):"
   ]
  },
  {
   "cell_type": "code",
   "execution_count": null,
   "id": "5b10e24f-e65a-431e-914a-6b2524ecc8a4",
   "metadata": {},
   "outputs": [],
   "source": [
    "plot_trig([0, pi/2, pi/4, -pi/4], [\"blue\", \"blue\", \"red\", \"red\"], [\"|0>\", \"|1>\", \"|+>\", \"|->\"])"
   ]
  },
  {
   "cell_type": "markdown",
   "id": "550863ce-5fff-4bd2-bb16-741469708347",
   "metadata": {},
   "source": [
    "For this challenge, as we don't need phase but want to visualize multiple bases at the same time, we will use only the representation with the trigonometric circle."
   ]
  },
  {
   "cell_type": "markdown",
   "id": "4c0737cc-07b8-4c57-b59f-d978ae8c4c22",
   "metadata": {},
   "source": [
    "## Woman in the middle ? \n",
    "You all know the classic Man-In-The-Middle attack, where an attacker intercepts communication between two entities who are unaware that their conversation is being eavesdropped. Today, I propose you to discover the **quantum version!** **Alice** and **Bob** (yes, them again, even physicists are fans) decide to exchange a secret key using the **BB84 protocol**. Being confident in the reliability of their protocol, they tolerate some noise. However, **Eve** manages to intercept the communication channel. Will she succeed in going unnoticed?\n",
    "\n",
    "![table_cat_meme.jpg](memes/challenge_2-english.jpg)\n",
    "\n",
    "## BB84 Protocol: Normal Usage\n",
    "The BB84 protocol allows the exchange of a key of $n$ bits with $4n$ qubits. It is based on the principle that if someone were to eavesdrop on the conversation, that person would be forced to **measure** the qubits, thus collapsing the associated wave functions (a measurement is a projection and thus a loss of information). **This collapse is thus visible**, introducing a $25\\%$ error rate during the verification step.\n",
    "\n",
    "### Step 1: Alice prepares her qubits to send\n",
    "**1.a)** First, a key is needed, for which a random binary string of size $4n$ is generated.\n",
    "\n",
    "*It is possible to generate this string using a quantum computer for better quality randomness.*"
   ]
  },
  {
   "cell_type": "code",
   "execution_count": null,
   "id": "790d1fbb-389d-4b59-be10-65b5ea092da5",
   "metadata": {},
   "outputs": [],
   "source": [
    "N = 100\n",
    "bits_alice = np.random.randint(low=0, high=2, size=(4 * N,))"
   ]
  },
  {
   "cell_type": "markdown",
   "id": "f717a67b-9d7b-44f6-8a0b-f3fd6d0b1c45",
   "metadata": {},
   "source": [
    "**1.b)** Alice will then choose $4n$ random bases from ${+, \\times}$, in which she will encode her qubits. *(Please excuse the confusion between the $+$ basis and the $|+\\rangle$ state, which are not related; I am following the same conventions as the literature)*.\n",
    "\n",
    "The + basis is the canonical basis:\n",
    "\n",
    "$$\n",
    "+ = \\left\\{ \\begin{pmatrix} 1 \\\\ 0 \\end{pmatrix}, \\begin{pmatrix} 0 \\\\ 1 \\end{pmatrix}\\right\\}\n",
    "$$\n",
    "\n",
    "While the × basis is defined by:\n",
    "\n",
    "$$\n",
    "\\times = \\left\\{\\frac{1}{\\sqrt{2}}\\begin{pmatrix} 1 \\\\ 1 \\end{pmatrix}, \\frac{1}{\\sqrt{2}}\\begin{pmatrix} -1 \\\\ 1 \\end{pmatrix}\\right\\}\n",
    "$$\n",
    "\n",
    "We can visualize them:"
   ]
  },
  {
   "cell_type": "code",
   "execution_count": null,
   "id": "cc8ff088-9aac-4987-b0dd-9afcf4563d55",
   "metadata": {},
   "outputs": [],
   "source": [
    "plot_trig([0, pi/2, pi/4, 3*pi/4], [\"blue\", \"blue\", \"red\", \"red\"], [\"0 (+)\", \"1 (+)\", \"0 (x)\", \"1 (x)\"])"
   ]
  },
  {
   "cell_type": "markdown",
   "id": "6d6b0e15-bddb-4698-a253-78ff8029dbcc",
   "metadata": {},
   "source": [
    "The encoding is fully represented in this diagram: $1$ in the $\\times$ basis will be encoded as:\n",
    "$$\n",
    "-\\frac{\\sqrt{2}}{2} \\begin{pmatrix} 1 \\\\ 0 \\end{pmatrix} + \\frac{\\sqrt{2}}{2} \\begin{pmatrix} 0 \\\\ 1 \\end{pmatrix} =  -\\frac{1}{\\sqrt{2}} |0\\rangle + \\frac{1}{\\sqrt{2}} |1\\rangle\n",
    "$$\n",
    "\n",
    "*As a reminder, with the rail encoding we saw earlier, this becomes:* \n",
    "$$\n",
    "-\\frac{1}{\\sqrt{2}} |1, 0\\rangle\\rangle + \\frac{1}{\\sqrt{2}} |0, 1\\rangle\\rangle\n",
    "$$\n",
    "*We use this notation for Fock states (the rails), to avoid confusion with the multi-state $|10\\rangle$ that we will discover later.*\n",
    "\n",
    "*No matter what name we give to our basis vectors, here the canonical one, it obviously doesn't change the calculations. I haven't specified it, but (almost) everything done in the context of this competition is reproducible on quantum computers with different technologies. You just need to adapt the qubit encoding, the calculations remain the same.*"
   ]
  },
  {
   "cell_type": "code",
   "execution_count": null,
   "id": "a7777d13-edb4-4356-ac2f-366b80687f8b",
   "metadata": {},
   "outputs": [],
   "source": [
    "bases_alice = np.array([\"+\" if b == 0 else \"x\" for b in np.random.randint(low=0, high=2, size=(4 * N,))])"
   ]
  },
  {
   "cell_type": "markdown",
   "id": "1a07f6e9-8135-4318-91b5-4ec0ee44786d",
   "metadata": {},
   "source": [
    "**1.c)** Alice can now encode her $4n$ qubits in her $4n$ bases. *I use `StateVector`, which is a generalization of `BasicState` we encountered. This allows me to perform operations on the states more easily, without worrying about normalization, which is done automatically.*\n",
    "\n",
    "***>> Be careful with `StateVector`s, they can be tricky, `3 * a + b` works, while `a + 3 * b` does not!***\n",
    "*Also, beware of confusion between Qiskit's `Statevector` and Perceval's `StateVector`, we use both...*"
   ]
  },
  {
   "cell_type": "code",
   "execution_count": null,
   "id": "a0983c22-6573-43c4-b681-4baeeb301c23",
   "metadata": {},
   "outputs": [],
   "source": [
    "qubits_alice = []\n",
    "\n",
    "# To test more easily, I define the values of 0 and 1 in the X basis, be careful, these are no longer \n",
    "# BasicState, but StateVector, so you need to use the measure function (see below) to manipulate them\n",
    "qubits[\"0x\"] = qubits[\"0\"] + qubits[\"1\"] \n",
    "qubits[\"1x\"] = qubits[\"1\"] - qubits[\"0\"] \n",
    "print(type(qubits[\"0\"]), type(qubits[\"0x\"]))\n",
    "\n",
    "for bit, basis  in zip(bits_alice, bases_alice):\n",
    "    if basis == \"+\":\n",
    "        s = pcvl.StateVector(qubits[\"0\"]) if bit == 0 else pcvl.StateVector(qubits[\"1\"])\n",
    "    else: \n",
    "        s = qubits[\"0x\"] if bit == 0 else qubits[\"1x\"]\n",
    "    qubits_alice.append(s)\n",
    "\n",
    "   # Displaying the first 9 to verify:\n",
    "    if len(qubits_alice) < 10: \n",
    "        print(f\"Bit à encoder : {bit}, base choisie : {basis}, qubit correspondant : {s}\")"
   ]
  },
  {
   "cell_type": "markdown",
   "id": "2eeb1b22-f20e-4b4b-a91f-3092e3ef56f0",
   "metadata": {
    "ExecuteTime": {
     "end_time": "2024-04-01T20:19:42.879285Z",
     "start_time": "2024-04-01T20:19:42.877588Z"
    }
   },
   "source": [
    "Now that Alice has prepared her qubits, she can send them to Bob. *For example, using a photon.*\n",
    "\n",
    "### Step 2: Retrieval by Bob and Decoding\n",
    "\n",
    "Bob **does not know the bases in which the qubits were encoded**, so he will randomly choose $4n$ bases like Alice, and will measure Alice's qubits. Only half of the bits will be correct, as he has a fifty-fifty chance each time of choosing the same basis as Alice.\n",
    "\n",
    "Once he has measured the photons, they have collapsed, and no one can have them anymore. This is an important concept to understand. In the classical world, we can send a message while keeping a version of its content on our side; it's not as if every message we send is erased from our phone and memory. In the quantum world, however, this is the case! There is even a dedicated theorem: the **no-cloning theorem.** We cannot take an arbitrary unknown quantum state and have a device that returns two copies of that state. This is obviously very practical in the cyber world. We can take actions after measurement with guarantees.\n",
    "\n",
    "**2.a)** Bob randomly chooses $4n$ bases:"
   ]
  },
  {
   "cell_type": "code",
   "execution_count": null,
   "id": "d267b387-433d-4856-99a9-a3ec2400a1b7",
   "metadata": {},
   "outputs": [],
   "source": [
    "bases_bob = np.array([\"+\" if b == 0 else \"x\" for b in np.random.randint(low=0, high=2, size=(4*N,))])"
   ]
  },
  {
   "cell_type": "markdown",
   "id": "df78904c-7cd8-4cd7-a81e-fe01573a7088",
   "metadata": {},
   "source": [
    "To simulate a measurement, we will use the \"SLOS\" processor:"
   ]
  },
  {
   "cell_type": "code",
   "execution_count": null,
   "id": "888492bd-b203-474e-b4bc-d88bd5b6577c",
   "metadata": {},
   "outputs": [],
   "source": [
    "def measure(input_state, circuit, full=False):\n",
    "    p = pcvl.Processor(\"SLOS\", circuit)\n",
    "    p.with_input(input_state)\n",
    "    sampler = pcvl.algorithm.Sampler(p)\n",
    "\n",
    "    # Complete measurement made with 1000 attempts, so we end up with a result similar to the Analyzer.\n",
    "    if full:\n",
    "        sample_count = sampler.sample_count(1000)\n",
    "        return sample_count['results']\n",
    "        \n",
    "    sample_count = sampler.sample_count(1)\n",
    "    return list(sample_count['results'].keys())[0]"
   ]
  },
  {
   "cell_type": "markdown",
   "id": "91935362-8779-4fd5-90d8-1ce4c1d3cd7f",
   "metadata": {},
   "source": [
    "**2.b)** Bob prepares the circuits necessary for these measurements.\n",
    "\n",
    "To measure in the $+$ basis, it is sufficient to take the identity since it is our canonical basis:"
   ]
  },
  {
   "cell_type": "code",
   "execution_count": null,
   "id": "5aef301b-f117-4f16-b9e9-73a5083dddce",
   "metadata": {},
   "outputs": [],
   "source": [
    "base_p = Circuit(2)"
   ]
  },
  {
   "cell_type": "markdown",
   "id": "cb5625de-9a2f-4e5a-ab4c-be543ccde5b3",
   "metadata": {},
   "source": [
    "One can verify:"
   ]
  },
  {
   "cell_type": "code",
   "execution_count": null,
   "id": "fe655c22-ac48-41ee-a450-65e9b918db25",
   "metadata": {},
   "outputs": [],
   "source": [
    "print(f\"\"\"\n",
    "0 in the + base: {measure(qubits[\"0\"], base_p, full=True)}\n",
    "1 in the + base: {measure(qubits[\"1\"], base_p, full=True)}\n",
    "0 in the x base ({qubits[\"0x\"]}) measured in the + base: {measure(qubits[\"0x\"], base_p, full=True)}\n",
    "1 in the x base ({qubits[\"1x\"]}) measured in the + base: {measure(qubits[\"1x\"], base_p, full=True)}\n",
    "\"\"\")"
   ]
  },
  {
   "cell_type": "markdown",
   "id": "59903df3-ea9f-4238-8cf5-f42c46a43dee",
   "metadata": {},
   "source": [
    "As expected, there's no way to determine Alice's bit if Bob chooses the wrong base. We do the same for the x base. This time, we use a rotation of $-\\frac{\\pi}{4}$ (transition from the x base to our canonical base). I use a rotation $y$ with an angle of $-\\frac{\\pi}{2}$ for this, due to differences in conventions between the Bloch sphere and our trigonometric circle."
   ]
  },
  {
   "cell_type": "code",
   "execution_count": null,
   "id": "34df1fad-ae2b-4c86-a346-043df65864be",
   "metadata": {},
   "outputs": [],
   "source": [
    "base_x = y_rot(-pi/2)\n",
    "\n",
    "print(f\"\"\"\n",
    "0 in the x base: {measure(qubits[\"0x\"], base_x, full=True)}\n",
    "1 in the x base: {measure(qubits[\"1x\"], base_x, full=True)}\n",
    "0 in the + base ({qubits[\"0\"]}) measured in the x base: {measure(qubits[\"0\"], base_x, full=True)}\n",
    "1 in the + base ({qubits[\"1\"]}) measured in the x base: {measure(qubits[\"1\"], base_x, full=True)}\n",
    "\"\"\")"
   ]
  },
  {
   "cell_type": "markdown",
   "id": "74d13b405a232671",
   "metadata": {
    "collapsed": false,
    "jupyter": {
     "outputs_hidden": false
    }
   },
   "source": [
    "**2.c)** Bob measures the qubits sent by Alice in his bases."
   ]
  },
  {
   "cell_type": "code",
   "execution_count": null,
   "id": "e2d788e3c72857b1",
   "metadata": {
    "collapsed": false,
    "jupyter": {
     "outputs_hidden": false
    }
   },
   "outputs": [],
   "source": [
    "bits_bob = []\n",
    "for q, b in zip(qubits_alice, bases_bob): \n",
    "    if b == \"+\":\n",
    "        bits_bob.append(0 if measure(q, base_p) == qubits[\"0\"] else 1)\n",
    "    else:\n",
    "        bits_bob.append(0 if measure(q, base_x) == qubits[\"0\"] else 1)\n",
    "bits_bob = np.array(bits_bob)"
   ]
  },
  {
   "cell_type": "markdown",
   "id": "b5307ebb4c97d8c5",
   "metadata": {
    "collapsed": false,
    "jupyter": {
     "outputs_hidden": false
    }
   },
   "source": [
    "On peut calculer la correspondance avec la clef d'Alice : "
   ]
  },
  {
   "cell_type": "code",
   "execution_count": null,
   "id": "5b2fd853543a310c",
   "metadata": {
    "collapsed": false,
    "jupyter": {
     "outputs_hidden": false
    }
   },
   "outputs": [],
   "source": [
    "correspondance_secret_key_bits_bob = bits_bob == bits_alice\n",
    "np.sum(correspondance_secret_key_bits_bob) / (4 * N)"
   ]
  },
  {
   "cell_type": "markdown",
   "id": "30832a97215d03c4",
   "metadata": {
    "collapsed": false,
    "jupyter": {
     "outputs_hidden": false
    }
   },
   "source": [
    "We have approximately $\\sim 75%$ equivalence: in $50%$ of the cases, Alice and Bob have the same basis, hence the same values. There is an additional $25%$ because when they do not have the same basis, there is a $50%$ success rate.\n",
    "\n",
    "### Step 3: Alice and Bob agree.\n",
    "\n",
    "Once the qubits have been measured by Bob, Bob will **make his bases public**, and Alice will then tell him where there is a match, and therefore where they can be sure to have the same values."
   ]
  },
  {
   "cell_type": "code",
   "execution_count": null,
   "id": "2f9d02c40f9e63e2",
   "metadata": {
    "collapsed": false,
    "jupyter": {
     "outputs_hidden": false
    }
   },
   "outputs": [],
   "source": [
    "correspondance_bases_alice_bob = bases_bob == bases_alice \n",
    "half_bits_bob = bits_bob[correspondance_bases_alice_bob]\n",
    "half_bits_alice = bits_alice[correspondance_bases_alice_bob]\n",
    "# CAUTION: Do not rerun this cell alone; rerun the entire notebook to refresh this cell correctly."
   ]
  },
  {
   "cell_type": "markdown",
   "id": "9a77d7f607102ba1",
   "metadata": {
    "collapsed": false,
    "jupyter": {
     "outputs_hidden": false
    }
   },
   "source": [
    "### Step 4: Verification of communication integrity.\n",
    "\n",
    "To verify that there has been no eavesdropping, Alice and Bob will **make half of their common key public**. If there is a total match, then we are sure that no one has eavesdropped. "
   ]
  },
  {
   "cell_type": "code",
   "execution_count": null,
   "id": "15de07ce-9159-4bd7-8752-ccbbd9dd3f72",
   "metadata": {},
   "outputs": [],
   "source": [
    "last_slice = len(half_bits_bob) // 2\n",
    "verification = half_bits_bob[:last_slice] == half_bits_alice[:last_slice]\n",
    "print(f\"Match percentage: {int(np.sum(verification) / last_slice * 100)}%\")"
   ]
  },
  {
   "cell_type": "markdown",
   "id": "915c47a9248bfe44",
   "metadata": {
    "collapsed": false,
    "jupyter": {
     "outputs_hidden": false
    }
   },
   "source": [
    "Hence, *in fine*, the secret key has a length approximately equal to $n$ (One can find an $n'$ such that the probability of having $|key| > n$ is arbitrarily large, then cut it to $n$):"
   ]
  },
  {
   "cell_type": "code",
   "execution_count": null,
   "id": "5e272b07c520896",
   "metadata": {
    "collapsed": false,
    "jupyter": {
     "outputs_hidden": false
    }
   },
   "outputs": [],
   "source": [
    "secret_key = half_bits_bob[last_slice:]\n",
    "print(f\"Secret key: {secret_key}, length: {len(secret_key)}\")"
   ]
  },
  {
   "cell_type": "markdown",
   "id": "1418e9946f11d5d7",
   "metadata": {
    "collapsed": false,
    "jupyter": {
     "outputs_hidden": false
    }
   },
   "source": [
    "## Protocol BB84: Eve enters the scene\n",
    "\n",
    "Everything is identical, except now Eve intercepts the communication and tries to deduce part of the exchanged key.\n",
    "\n",
    "### Step 1: Re-implement the protocol by adding Eve in the middle *(this step is not necessary to obtain the flag, but recommended to facilitate the rest)*\n",
    "\n",
    "Eve first uses the same strategy as Bob and Alice. She pretends to be Bob and then Alice, performing the same encoding/decoding actions."
   ]
  },
  {
   "cell_type": "code",
   "execution_count": null,
   "id": "39bc542994318f51",
   "metadata": {
    "collapsed": false,
    "jupyter": {
     "outputs_hidden": false
    }
   },
   "outputs": [],
   "source": [
    "N = 100\n",
    "\n",
    "# Alice prepares her qubits.\n",
    "bits_alice = np.random.randint(low=0, high=2, size=(4 * N,))\n",
    "bases_alice = np.array([\"+\" if b == 0 else \"x\" for b in np.random.randint(low=0, high=2, size=(4 * N,))])\n",
    "qubits_alice = []\n",
    "for bit, basis  in zip(bits_alice, bases_alice):\n",
    "    if basis == \"+\":\n",
    "        s = pcvl.StateVector(qubits[\"0\"]) if bit == 0 else pcvl.StateVector(qubits[\"1\"])\n",
    "    else:\n",
    "        s = qubits[\"0x\"] if bit == 0 else qubits[\"1x\"]\n",
    "    qubits_alice.append(s)\n",
    "\n",
    "\n",
    "# Eve intercepts them and applies the same method as Bob, pretending to be him. \n",
    "bits_eve = []\n",
    "raise NotImplementedError\n",
    "\n",
    "\n",
    "bits_eve = np.array(bits_eve)\n",
    "\n",
    "# She then sends the corresponding qubits to pretend to be Alice. \n",
    "qubits_eve = []\n",
    "raise NotImplementedError\n",
    "    \n",
    "\n",
    "# Bob receives the qubits from Eve and applies the same methods as before. \n",
    "bases_bob = np.array([\"+\" if b == 0 else \"x\" for b in np.random.randint(low=0, high=2, size=(4 * N,))])\n",
    "bits_bob = []\n",
    "for q, b in zip(qubits_eve, bases_bob):\n",
    "    if b == \"+\":\n",
    "        bits_bob.append(0 if measure(q, base_p) == qubits[\"0\"] else 1)\n",
    "    else:\n",
    "        bits_bob.append(0 if measure(q, base_x) == qubits[\"0\"] else 1)\n",
    "bits_bob = np.array(bits_bob)\n",
    "\n",
    "\n",
    "# Final step: sharing the results. \n",
    "correspondance_bases_alice_bob = bases_bob == bases_alice\n",
    "half_bits_alice = bits_alice[correspondance_bases_alice_bob]\n",
    "half_bits_bob = bits_bob[correspondance_bases_alice_bob]\n",
    "last_slice = len(half_bits_alice) // 2\n",
    "\n",
    "\n",
    "# Verification of proper execution. \n",
    "verification = half_bits_alice[:last_slice] == half_bits_bob[:last_slice]\n",
    "correspondance_percentage = int(np.sum(verification) / last_slice * 100)\n",
    "\n",
    "print(f\"Match percentage: {correspondance_percentage}%, error of: {100 - correspondance_percentage}%.\")\n",
    "\n",
    "secret_key_step_1 = half_bits_bob[:last_slice]"
   ]
  },
  {
   "cell_type": "markdown",
   "id": "847155a6b1c45da0",
   "metadata": {
    "collapsed": false,
    "jupyter": {
     "outputs_hidden": false
    }
   },
   "source": [
    "By performing the calculations, it is shown that the error rate averages $25\\%$. By exchanging a large number of bits, we approach this average, thereby detecting eavesdropping."
   ]
  },
  {
   "cell_type": "code",
   "execution_count": null,
   "id": "43fe14ffe2d88764",
   "metadata": {
    "collapsed": false,
    "jupyter": {
     "outputs_hidden": false
    }
   },
   "outputs": [],
   "source": [
    "print(secret_key_step_1)"
   ]
  },
  {
   "cell_type": "markdown",
   "id": "a54e35532baa1b64",
   "metadata": {
    "collapsed": false,
    "jupyter": {
     "outputs_hidden": false
    }
   },
   "source": [
    "It's not exactly the key yet; error correction codes will still be needed for Alice and Bob to end up with the same key. For the purposes of this challenge, we will stop here.\n",
    "\n",
    "In this case, Eve gets detected. However, it's possible to reduce the error, albeit slightly, to make it appear as noise. Let's simplify by assuming that an error rate below $20\\%$ is considered as noise.\n",
    "\n",
    "### Step 2: Eve counterattacks, find a way to bring down the average error rate to $20\\%$ (or below).\n",
    "\n",
    "The protocol remains the same; the only adjustable parameters are the measurement bases to measure Alice's qubits and the qubits to send to Bob. The matching percentage should be above $79$ for $N = 5000$ to pass the tests."
   ]
  },
  {
   "cell_type": "code",
   "execution_count": null,
   "id": "c1354aa7d6187475",
   "metadata": {
    "collapsed": false,
    "jupyter": {
     "outputs_hidden": false
    }
   },
   "outputs": [],
   "source": [
    "N = 100\n",
    "\n",
    "# Alice prepares her qubits.\n",
    "bits_alice = np.random.randint(low=0, high=2, size=(4 * N,))\n",
    "bases_alice = np.array([\"+\" if b == 0 else \"x\" for b in np.random.randint(low=0, high=2, size=(4 * N,))])\n",
    "qubits_alice = []\n",
    "for bit, basis  in zip(bits_alice, bases_alice):\n",
    "    if basis == \"+\":\n",
    "        s = pcvl.StateVector(qubits[\"0\"]) if bit == 0 else pcvl.StateVector(qubits[\"1\"])\n",
    "    else:\n",
    "        s = qubits[\"0x\"] if bit == 0 else qubits[\"1x\"]\n",
    "    qubits_alice.append(s)\n",
    "\n",
    "\n",
    "# Intercepting...\n",
    "bits_eve = ...\n",
    "raise NotImplementedError\n",
    "\n",
    "# Sending...\n",
    "qubits_eve = []\n",
    "raise NotImplementedError \n",
    "\n",
    "# Bob receives the qubits from Eve and applies the same methods as before. \n",
    "bases_bob = np.array([\"+\" if b == 0 else \"x\" for b in np.random.randint(low=0, high=2, size=(4 * N,))])\n",
    "bits_bob = []\n",
    "for q, b in zip(qubits_eve, bases_bob):\n",
    "    if b == \"+\":\n",
    "        bits_bob.append(0 if measure(q, base_p) == qubits[\"0\"] else 1)\n",
    "    else:\n",
    "        bits_bob.append(0 if measure(q, base_x) == qubits[\"0\"] else 1)\n",
    "bits_bob = np.array(bits_bob)\n",
    "\n",
    "\n",
    "# Final step: sharing the results. \n",
    "correspondance_bases_alice_bob = bases_bob == bases_alice\n",
    "half_bits_alice = bits_alice[correspondance_bases_alice_bob]\n",
    "half_bits_bob = bits_bob[correspondance_bases_alice_bob]\n",
    "last_slice = len(half_bits_alice) // 2\n",
    "\n",
    "\n",
    "# Verification of proper execution. \n",
    "verification = half_bits_alice[:last_slice] == half_bits_bob[:last_slice]\n",
    "correspondance_percentage = int(np.sum(verification) / last_slice * 100)\n",
    "\n",
    "print(f\"Match percentage: {correspondance_percentage}%, error of: {100 - correspondance_percentage}%.\")\n",
    "\n",
    "secret_key_step_2 = half_bits_bob[:last_slice]"
   ]
  },
  {
   "cell_type": "markdown",
   "id": "e982a7ae9cfad265",
   "metadata": {
    "collapsed": false,
    "jupyter": {
     "outputs_hidden": false
    }
   },
   "source": [
    "## Flag Recovery\n",
    "\n",
    "The day I manage to get `pcvl.random_seed(66)` to work, I will ask you for the keys. In the meantime, I would like the two bases used in step 2, as well as the two types of qubits sent by Eve.\n",
    "\n",
    "*Feel free to DM me if you encounter any issues (sckathach on Discord).*"
   ]
  },
  {
   "cell_type": "code",
   "execution_count": null,
   "id": "446ba3c812bf5057",
   "metadata": {
    "collapsed": false,
    "jupyter": {
     "outputs_hidden": false
    }
   },
   "outputs": [],
   "source": [
    "def circuit_to_list(circuit: Circuit) -> List[List[Tuple[float, float]]]:\n",
    "    return [[(x.real, x.imag) for x in l] for l in np.array(circuit.compute_unitary())]\n",
    "    \n",
    "def state_vector_to_list(sv: StateVector) -> List[Tuple[float, float]]:\n",
    "    if type(sv) is not StateVector:\n",
    "        sv = pcvl.StateVector(sv)\n",
    "    sv.normalize()\n",
    "    r = [(0., 0.), (0., 0.)]\n",
    "    for k, v in sv:\n",
    "        r[int(qubits_[k])] = (v.real, v.imag)\n",
    "    return r\n",
    "\n",
    "def list_to_state_vector(p: List[Tuple[float, float]]) -> StateVector:\n",
    "    return complex(p[0][0], p[0][1]) * StateVector([1, 0]) + complex(p[1][0], p[1][1]) * StateVector([0, 1]) "
   ]
  },
  {
   "cell_type": "code",
   "execution_count": null,
   "id": "17e4920685b492a8",
   "metadata": {
    "collapsed": false,
    "jupyter": {
     "outputs_hidden": false
    }
   },
   "outputs": [],
   "source": [
    "# Example with the protocol of step one: \n",
    "# example_base_eve_1 = base_p \n",
    "# example_base_eve_2 = base_x\n",
    "# example_qubit_eve_1 = qubits[\"0\"]\n",
    "# example_qubit_eve_2 = qubits[\"1\"]\n",
    "# example_qubit_eve_3 = qubits[\"0x\"]\n",
    "# example_qubit_eve_4 = qubits[\"1x\"]\n",
    "\n",
    "d = {\n",
    "    \"base_eve_1\": circuit_to_list(...),\n",
    "    \"base_eve_2\": circuit_to_list(...),\n",
    "    \"qubit_eve_1\": state_vector_to_list(...),\n",
    "    \"qubit_eve_2\": state_vector_to_list(...),\n",
    "    \"qubit_eve_3\": state_vector_to_list(...),\n",
    "    \"qubit_eve_4\": state_vector_to_list(...)\n",
    "}\n",
    "raise NotImplementedError"
   ]
  },
  {
   "cell_type": "code",
   "execution_count": null,
   "id": "936fd60ce121b3ac",
   "metadata": {
    "collapsed": false,
    "jupyter": {
     "outputs_hidden": false
    }
   },
   "outputs": [],
   "source": [
    "import requests as rq\n",
    "\n",
    "URL = ...\n",
    "# URL = \"https://perceval.challenges.404ctf.fr\"\n",
    "rq.get(URL + \"/healthcheck\").json()"
   ]
  },
  {
   "cell_type": "code",
   "execution_count": null,
   "id": "e7dd3ad532bdc49",
   "metadata": {
    "collapsed": false,
    "jupyter": {
     "outputs_hidden": false
    }
   },
   "outputs": [],
   "source": [
    "rq.post(URL + \"/challenges/2\", json=d).json()"
   ]
  }
 ],
 "metadata": {
  "kernelspec": {
   "display_name": "Python 3 (ipykernel)",
   "language": "python",
   "name": "python3"
  },
  "language_info": {
   "codemirror_mode": {
    "name": "ipython",
    "version": 3
   },
   "file_extension": ".py",
   "mimetype": "text/x-python",
   "name": "python",
   "nbconvert_exporter": "python",
   "pygments_lexer": "ipython3",
   "version": "3.12.5"
  }
 },
 "nbformat": 4,
 "nbformat_minor": 5
}
