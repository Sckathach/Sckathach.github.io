{
 "cells": [
  {
   "cell_type": "raw",
   "id": "640f551d-8dcd-4de1-bcee-b14265227110",
   "metadata": {},
   "source": [
    "---\n",
    "title: \"Challenge 4: Inversion\" \n",
    "author: \"Le magicien quantique\"\n",
    "format: html\n",
    "toc: true\n",
    "number-sections: true\n",
    "date: \"05/12/2024\"\n",
    "date-format: long\n",
    "---"
   ]
  },
  {
   "cell_type": "code",
   "execution_count": null,
   "id": "initial_id",
   "metadata": {
    "collapsed": true,
    "jupyter": {
     "outputs_hidden": true
    }
   },
   "outputs": [],
   "source": [
    "import perceval as pcvl\n",
    "from perceval import BS, catalog, PERM, Circuit, Processor, pdisplay, PS, BasicState\n",
    "from perceval.rendering.circuit import SymbSkin, DisplayConfig\n",
    "from exqalibur import FockState\n",
    "\n",
    "import numpy as np\n",
    "from numpy import pi\n",
    "from typing import Optional, Dict, List, Tuple \n",
    "\n",
    "DisplayConfig.select_skin(SymbSkin)"
   ]
  },
  {
   "cell_type": "markdown",
   "id": "f1f06308e517d631",
   "metadata": {
    "collapsed": false,
    "jupyter": {
     "outputs_hidden": false
    }
   },
   "source": [
    "## Before we begin..."
   ]
  },
  {
   "cell_type": "code",
   "execution_count": null,
   "id": "cbcfd3b9dffa619d",
   "metadata": {
    "collapsed": false,
    "jupyter": {
     "outputs_hidden": false
    }
   },
   "outputs": [],
   "source": [
    "qubits = {\n",
    "    \"00\": BasicState([1, 0, 1, 0]),\n",
    "}\n",
    "\n",
    "def measure2p(processor: Processor, input_state: Optional[FockState] = None) -> None:\n",
    "    if input_state is None:\n",
    "        input_state = qubits[\"00\"]\n",
    "\n",
    "    # We enforce the rule: the sum of photons per pair of rails must be equal to 1.\n",
    "    processor.set_postselection(pcvl.utils.PostSelect(\"[0,1]==1 & [2,3]==1\"))\n",
    "    processor.min_detected_photons_filter(0)\n",
    "\n",
    "    # Finally, we take the measurement:\n",
    "    processor.with_input(input_state)\n",
    "    measure2p_s = pcvl.algorithm.Sampler(processor)\n",
    "\n",
    "    print(f\"Input: {qubits_[input_state]}\")\n",
    "    for k, v in measure2p_s.probs()[\"results\"].items():\n",
    "        print(f\"> {qubits_[k]}: {round(v, 2)}\")\n",
    "\n",
    "H = BS.H()\n",
    "RX = BS.Rx\n",
    "RY = BS.Ry\n",
    "CNOT = catalog[\"klm cnot\"].build_processor()\n",
    "NOT = PERM([1, 0])\n",
    "HP = Circuit(2, \"HP\") // H // (1, PS(-pi/2))\n",
    "q = lambda x: [2*x, 2*x+1]\n",
    "theta = pi/3\n",
    "gamma = pi/5"
   ]
  },
  {
   "cell_type": "markdown",
   "id": "ddc37bdf22c76395",
   "metadata": {
    "collapsed": false,
    "jupyter": {
     "outputs_hidden": false
    }
   },
   "source": [
    "## The final scene\n",
    "\n",
    "It's time to finish this dreadful series of challenges. This time, no new concepts. Just two circuits and one goal: add the two missing parts to get the expected results. Good luck... may the odds be in your favor..."
   ]
  },
  {
   "cell_type": "code",
   "execution_count": null,
   "id": "6b44615dc556b30",
   "metadata": {
    "collapsed": false,
    "jupyter": {
     "outputs_hidden": false
    }
   },
   "outputs": [],
   "source": [
    "step_one = Circuit(2, \"S1\") \n",
    "p_step_one = Processor(\"SLOS\", 4)\n",
    "p_step_one.add(q(0), H)\n",
    "p_step_one.add(q(1), step_one)\n",
    "p_step_one.add(q(1), RX(-gamma))\n",
    "p_step_one.add(q(0) + q(1), CNOT)\n",
    "p_step_one.add([2], PS(theta))\n",
    "p_step_one.add(q(0) + q(1), CNOT)\n",
    "p_step_one.add(q(0), H)\n",
    "p_step_one.add(q(0), RX(theta))\n",
    "pdisplay(p_step_one)"
   ]
  },
  {
   "cell_type": "code",
   "execution_count": null,
   "id": "ca269cb81ffcfe56",
   "metadata": {
    "collapsed": false,
    "jupyter": {
     "outputs_hidden": false
    }
   },
   "outputs": [],
   "source": [
    "print(\"Expected result: {|1,0,0,1>: 1.0}\")\n",
    "measure2p(p_step_one, input_state=qubits[\"00\"])"
   ]
  },
  {
   "cell_type": "code",
   "execution_count": null,
   "id": "84dae4841f17180f",
   "metadata": {
    "collapsed": false,
    "jupyter": {
     "outputs_hidden": false
    }
   },
   "outputs": [],
   "source": [
    "step_two = Circuit(2, \"S2\")\n",
    "p_step_two = Processor(\"SLOS\", 4)\n",
    "p_step_two.add(q(0), H)\n",
    "p_step_two.add(q(1), HP)\n",
    "p_step_two.add(q(1), RY(theta))\n",
    "p_step_two.add(q(0) + q(1), CNOT)\n",
    "p_step_two.add(q(1), RY(-theta))\n",
    "p_step_two.add(q(0), H)\n",
    "p_step_two.add(q(1) + q(0), CNOT)\n",
    "p_step_two.add(q(1), step_two)\n",
    "pdisplay(p_step_two)"
   ]
  },
  {
   "cell_type": "code",
   "execution_count": null,
   "id": "ce01dfbadab95139",
   "metadata": {
    "collapsed": false,
    "jupyter": {
     "outputs_hidden": false
    }
   },
   "outputs": [],
   "source": [
    "print(\"Expected result: {|1,0,0,1>: 0.93, |0,1,0,1>: 0.07})\")\n",
    "measure2p(p_step_two, input_state=qubits[\"00\"])"
   ]
  },
  {
   "cell_type": "markdown",
   "id": "24b60c38d0705836",
   "metadata": {
    "collapsed": false,
    "jupyter": {
     "outputs_hidden": false
    }
   },
   "source": [
    "## Flag recovery"
   ]
  },
  {
   "cell_type": "code",
   "execution_count": null,
   "id": "3acc9fd2c5089e28",
   "metadata": {
    "collapsed": false,
    "jupyter": {
     "outputs_hidden": false
    }
   },
   "outputs": [],
   "source": [
    "import requests as rq\n",
    "\n",
    "def circuit_to_list(circuit: Circuit) -> List[List[Tuple[float, float]]]:\n",
    "    return [[(x.real, x.imag) for x in l] for l in np.array(circuit.compute_unitary())]\n",
    "\n",
    "\n",
    "d = {\n",
    "    \"step_one\": circuit_to_list(step_one),\n",
    "    \"step_two\": circuit_to_list(step_two),\n",
    "}\n",
    "\n",
    "URL = ...\n",
    "# URL = \"https://perceval.challenges.404ctf.fr\"\n",
    "rq.get(URL + \"/healthcheck\").json()"
   ]
  },
  {
   "cell_type": "code",
   "execution_count": null,
   "id": "687e2ac15d8bb38f",
   "metadata": {
    "collapsed": false,
    "jupyter": {
     "outputs_hidden": false
    }
   },
   "outputs": [],
   "source": [
    "rq.post(URL + \"/challenges/4\", json=d).json()"
   ]
  }
 ],
 "metadata": {
  "kernelspec": {
   "display_name": "Python 3 (ipykernel)",
   "language": "python",
   "name": "python3"
  },
  "language_info": {
   "codemirror_mode": {
    "name": "ipython",
    "version": 3
   },
   "file_extension": ".py",
   "mimetype": "text/x-python",
   "name": "python",
   "nbconvert_exporter": "python",
   "pygments_lexer": "ipython3",
   "version": "3.12.5"
  }
 },
 "nbformat": 4,
 "nbformat_minor": 5
}
