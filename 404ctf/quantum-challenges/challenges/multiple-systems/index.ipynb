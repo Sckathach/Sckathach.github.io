{
 "cells": [
  {
   "cell_type": "raw",
   "id": "094af96d-0d6b-4511-a984-6970259a8f06",
   "metadata": {},
   "source": [
    "---\n",
    "title: \"Challenge 3: Let's get serious\" \n",
    "author: \"Le magicien quantique\"\n",
    "format: html\n",
    "toc: true\n",
    "number-sections: true\n",
    "date: \"05/12/2024\"\n",
    "date-format: long\n",
    "---"
   ]
  },
  {
   "cell_type": "markdown",
   "id": "55349f7c-05fa-4a31-9c59-94705f93e507",
   "metadata": {},
   "source": [
    "## Before we begin\n",
    "\n",
    "Here are versions of the utility functions for 1 and 2 qubits."
   ]
  },
  {
   "cell_type": "code",
   "execution_count": null,
   "id": "d2ae73a7-84be-49d4-9a81-31f1aa0a3950",
   "metadata": {},
   "outputs": [],
   "source": [
    "from perceval import pdisplay, PS, BS, Circuit, BasicState, Processor, PERM\n",
    "from perceval.components import Unitary\n",
    "from perceval.backends import BackendFactory\n",
    "from perceval.algorithm import Analyzer, Sampler\n",
    "import perceval as pcvl\n",
    "from exqalibur import FockState\n",
    "\n",
    "from qiskit.visualization import plot_bloch_multivector\n",
    "from qiskit.quantum_info import Statevector\n",
    "\n",
    "import matplotlib.pyplot as plt\n",
    "from numpy import pi, cos, sin, sqrt\n",
    "import numpy as np\n",
    "\n",
    "from typing import List, Dict, Tuple, Union, Optional\n",
    "\n",
    "qubits = {\n",
    "    \"0\": BasicState([1, 0]),\n",
    "    \"1\": BasicState([0, 1]),\n",
    "    \"00\": BasicState([1, 0, 1, 0]),\n",
    "    \"01\": BasicState([1, 0, 0, 1]),\n",
    "    \"10\": BasicState([0, 1, 1, 0]),\n",
    "    \"11\": BasicState([0, 1, 0, 1])\n",
    "}\n",
    "qubits_ = {qubits[k]: k for k in qubits}\n",
    "sqlist = [qubits[\"0\"], qubits[\"1\"]]\n",
    "mqlist = [qubits[\"00\"], qubits[\"01\"], qubits[\"10\"], qubits[\"11\"]]\n",
    "\n",
    "def analyze(circuit: Circuit, input_states: Optional[FockState] = None, output_states: Optional[FockState] = None) \\\n",
    "        -> None:\n",
    "    if len(circuit.depths()) == 2:\n",
    "        states = sqlist\n",
    "    else:\n",
    "        states = mqlist\n",
    "\n",
    "    if input_states is None:\n",
    "        input_states = states\n",
    "    if output_states is None:\n",
    "        output_states = states\n",
    "\n",
    "    p = Processor(\"Naive\", circuit)\n",
    "    a = Analyzer(p, input_states, output_states, mapping=qubits_)\n",
    "    pdisplay(a)\n",
    "\n",
    "def amplitudes(circuit: Circuit, input_state: Optional[FockState] = None, output_states: Optional[FockState] = None) \\\n",
    "        -> (complex, complex):\n",
    "    if input_state is None:\n",
    "        if len(circuit.depths()) == 2:\n",
    "            input_state = qubits[\"0\"]\n",
    "        else:\n",
    "            input_state = qubits[\"00\"]\n",
    "\n",
    "    if output_states is None:\n",
    "        if len(circuit.depths()) == 2:\n",
    "            output_states = sqlist\n",
    "        else:\n",
    "            output_states = mqlist\n",
    "\n",
    "    b = BackendFactory.get_backend(\"Naive\")\n",
    "    b.set_circuit(circuit)\n",
    "    b.set_input_state(input_state)\n",
    "    return {qubits_[k]: roundc(b.prob_amplitude(k)) for k in output_states}\n",
    "\n",
    "def measure2p(processor: Processor, input_state: Optional[FockState] = None) -> None:\n",
    "    if input_state is None:\n",
    "        input_state = qubits[\"00\"]\n",
    "\n",
    "    # We enforce the rule: the sum of photons per pair of rails must be equal to 1.\n",
    "    processor.set_postselection(pcvl.utils.PostSelect(\"[0,1]==1 & [2,3]==1\"))\n",
    "    processor.min_detected_photons_filter(0)\n",
    "\n",
    "    # Finally, we take the measurement:\n",
    "    processor.with_input(input_state)\n",
    "    measure2p_s = pcvl.algorithm.Sampler(processor)\n",
    "\n",
    "    print(f\"Input: {qubits_[input_state]}\")\n",
    "    for k, v in measure2p_s.probs()[\"results\"].items():\n",
    "        print(f\"> {qubits_[k]}: {round(v, 2)}\")\n",
    "\n",
    "def roundc(c, decimals: int = 2):\n",
    "    return round(c.real, decimals) + round(c.imag, decimals) * 1j"
   ]
  },
  {
   "cell_type": "markdown",
   "id": "c205ecad-b578-4a2a-a27b-619ca4fc8a44",
   "metadata": {},
   "source": [
    "## Multiple Systems\n",
    "\n",
    "![dicaprio_laugh_meme.jpg](memes/challenge_3-english.jpg)\n",
    "\n",
    "The concepts discussed for simple systems, *concatenation of gates, measurements, probabilities*..., are still valid for **multiple systems**. To add a qubit, you will need to apply **tensor products to the gates** as well as to the basis states.\n",
    "\n",
    "Suppose we have a qubit $A$ and a qubit $B$, respectively in states $|\\psi\\rangle$ and $|\\phi\\rangle$. Then the system $(A, B)$ is in the state $|\\psi\\rangle \\otimes |\\phi\\rangle = |\\psi \\otimes \\phi\\rangle$ (depending on the writing conventions).\n",
    "\n",
    "The canonical basis then becomes:\n",
    "$$\n",
    "|00\\rangle = |0\\rangle \\otimes |0\\rangle = \\begin{pmatrix} 1 \\\\ 0 \\end{pmatrix}\\otimes \\begin{pmatrix} 1 \\\\ 0 \\end{pmatrix} = \\begin{pmatrix}\n",
    "1 \\times \\begin{pmatrix} 1 \\\\ 0 \\end{pmatrix} \\\\ \n",
    "0 \\times \\begin{pmatrix} 1 \\\\ 0 \\end{pmatrix} \n",
    "\\end{pmatrix} = \\begin{pmatrix} 1 \\\\ 0 \\\\ 0 \\\\ 0  \\end{pmatrix},\n",
    "$$\n",
    "$$\n",
    "|01\\rangle = \\begin{pmatrix} 0 \\\\ 1 \\\\ 0 \\\\ 0  \\end{pmatrix}, \n",
    "$$\n",
    "$$\n",
    "|10\\rangle = \\begin{pmatrix} 0 \\\\ 0 \\\\ 1 \\\\ 0  \\end{pmatrix},\n",
    "$$\n",
    "$$\n",
    "|11\\rangle = \\begin{pmatrix} 0 \\\\ 0 \\\\ 0 \\\\ 1  \\end{pmatrix}\n",
    "$$\n",
    "\n",
    "It's the same for logic gates: **if we apply $U_1$ to $A$ and $U_2$ to $B$, then we apply $U_1 \\otimes U_2$ to $A \\otimes B$.**\n",
    "\n",
    "For example, if we apply $H$ to $|0\\rangle$ and nothing (i.e., the identity) to $|1\\rangle$. The matrix of the operation on the system is thus $H \\otimes I$. The circuit is as follows:"
   ]
  },
  {
   "cell_type": "code",
   "execution_count": null,
   "id": "ed97f7ab-8076-4520-95b0-d4ca2ac73e8b",
   "metadata": {},
   "outputs": [],
   "source": [
    "c = Circuit(4) // (0, BS.H())\n",
    "pdisplay(c)"
   ]
  },
  {
   "cell_type": "markdown",
   "id": "b9965913-2c32-4fbb-8ca9-7cf41577fa39",
   "metadata": {},
   "source": [
    "We expect to have: \n",
    "$$\n",
    "\\DeclareMathOperator{\\H}{H}\n",
    "\\DeclareMathOperator{\\I}{I}\n",
    "$$\n",
    "\n",
    "$$\n",
    "|0\\rangle \\otimes |1\\rangle \\rightarrow \\begin{cases} \n",
    "    \\text{Top: } |0\\rangle \\longrightarrow \\H \\longrightarrow \\frac{1}{\\sqrt{2}}|0\\rangle+\\frac{1}{\\sqrt{2}}|1\\rangle \\\\\n",
    "    \\text{Bottom:  } |1\\rangle \\longrightarrow \\I \\longrightarrow |1\\rangle\n",
    "\\end{cases} \\rightarrow \\left(\\frac{1}{\\sqrt{2}}|0\\rangle+\\frac{1}{\\sqrt{2}}|1\\rangle\\right)\\otimes|1\\rangle \n",
    "$$\n",
    "\n",
    "This gives the state: \n",
    "$$\n",
    "\\left(\\frac{1}{\\sqrt{2}}|0\\rangle+\\frac{1}{\\sqrt{2}}|1\\rangle\\right)\\otimes|1\\rangle = \\frac{1}{\\sqrt{2}}|01\\rangle+\\frac{1}{\\sqrt{2}}|11\\rangle\n",
    "$$\n",
    "\n",
    "In practice, we determine the logic gate $U$, where $U = H \\otimes I$, so:\n",
    "$$\n",
    "U = \\frac{1}{\\sqrt{2}}\\begin{pmatrix}1 & 1 \\\\ 1& -1\\end{pmatrix} \\otimes \\begin{pmatrix} 1&0 \\\\ 0& 1 \\end{pmatrix} = \\frac{1}{\\sqrt{2}}\\begin{pmatrix} 1\\times\\begin{pmatrix} 1&0 \\\\ 0& 1 \\end{pmatrix}&1\\times\\begin{pmatrix} 1&0 \\\\ 0& 1 \\end{pmatrix}\\\\1\\times\\begin{pmatrix} 1&0 \\\\ 0& 1 \\end{pmatrix}&-1\\times\\begin{pmatrix} 1&0 \\\\ 0& 1 \\end{pmatrix} \\end{pmatrix}= \\frac{1}{\\sqrt{2}}\\begin{pmatrix} 1&0&1&0\\\\0&1&0&1\\\\1&0&-1&0\\\\0&1&0&-1\\end{pmatrix}\n",
    "$$\n",
    "\n",
    "This gives us with our input: \n",
    "$$\n",
    "|01\\rangle = \\begin{pmatrix} 0\\\\1\\\\0\\\\0\\end{pmatrix}, \n",
    "$$\n",
    "$$\n",
    "\\frac{1}{\\sqrt{2}}\\begin{pmatrix} 1&0&1&0\\\\0&1&0&1\\\\1&0&-1&0\\\\0&1&0&-1\\end{pmatrix} \\begin{pmatrix} 0\\\\1\\\\0\\\\0\\end{pmatrix} = \\frac{1}{\\sqrt{2}}\\begin{pmatrix} 0\\\\1\\\\0\\\\1\\end{pmatrix} = \\frac{1}{\\sqrt{2}} |01\\rangle + \\frac{1}{\\sqrt{2}} |11\\rangle\n",
    "$$\n",
    "\n",
    "Which corresponds exactly to the expected result.\n",
    "\n",
    "*If you would like a more detailed explanation, you can check out this course offered by IBM: https://learning.quantum.ibm.com/course/basics-of-quantum-information/multiple-systems.*\n",
    "\n",
    "### Quantum Entanglement\n",
    "\n",
    "A very interesting property of qubits is that they can be separated, but also **entangled**, meaning they are dependent on each other. This allows, for example, to act on one qubit and obtain information about the second one.\n",
    "\n",
    "If we take the entangled state $|\\psi\\rangle = \\frac{1}{\\sqrt{2}}(|00\\rangle + |11\\rangle)$, and we measure the first qubit (we have a 50% chance of getting $0$ and correspondingly $1$), the state of the second qubit is entirely determined without measuring it! Indeed, if we measure $0$ for the first qubit, then the second is necessarily also $0$. However, since the measurement of the first qubit is random, this does not allow information to be teleported faster than the speed of light, as from the other perspective, one does not know the state of the measurement (before receiving the information through a classical channel, for example).\n",
    "\n",
    "A counterexample is the state $|\\psi\\rangle = \\frac{1}{2}(|00\\rangle + |01\\rangle + |10\\rangle + |11\\rangle) = \\frac{1}{\\sqrt{2}}(|0\\rangle + |1\\rangle) \\otimes \\frac{1}{\\sqrt{2}}(|0\\rangle + |1\\rangle)$. Measuring the first qubit does not give any information about the second; the two qubits are **independent** or **separable**.\n",
    "\n",
    "### The Controlled-NOT (CNOT) Gate\n",
    "\n",
    "The flagship gate of quantum entanglement is the controlled NOT gate (or CNOT or cX). It acts on 2 qubits, and **performs the NOT operation on the second qubit only when the first qubit is $|1\\rangle$, otherwise it leaves it unchanged**. Its matrix is as follows:\n",
    "\n",
    "$$\n",
    "\\DeclareMathOperator{\\CNOT}{CNOT}\n",
    "$$\n",
    "\n",
    "$$\n",
    "\\CNOT = \\begin{pmatrix}1&0&0&0\\\\0&1&0&0\\\\0&0&0&1\\\\0&0&1&0\\end{pmatrix}\n",
    "$$\n",
    "Ou encore : \n",
    "$$\n",
    "\\CNOT = \n",
    "\\begin{cases}\n",
    "    |00 \\rangle \\xrightarrow[]{I \\otimes I} |00 \\rangle \\\\\n",
    "    |01 \\rangle \\xrightarrow[]{I \\otimes I} |01 \\rangle \\\\\n",
    "    |10 \\rangle \\xrightarrow[]{I \\otimes NOT} |11 \\rangle \\\\\n",
    "    |11 \\rangle \\xrightarrow[]{I \\otimes NOT} |10 \\rangle \n",
    "\\end{cases}\n",
    "$$\n",
    "\n",
    "Its implementation with photons is quite technical, and it hides problems related to our way of encoding qubits. Therefore, we will rely on the definition proposed by Quandela to use this gate in our circuits."
   ]
  },
  {
   "cell_type": "code",
   "execution_count": null,
   "id": "0a5ccea5-9e67-40ea-8568-274617c722f9",
   "metadata": {},
   "outputs": [],
   "source": [
    "from perceval.components import catalog\n",
    "cnot = catalog[\"klm cnot\"].build_circuit()\n",
    "# https://github.com/Quandela/Perceval/blob/main/perceval/components/core_catalog/klm_cnot.py"
   ]
  },
  {
   "cell_type": "code",
   "execution_count": null,
   "id": "65bb2208-9e10-4ff4-8ae8-1f0730845399",
   "metadata": {},
   "outputs": [],
   "source": [
    "pdisplay(cnot)"
   ]
  },
  {
   "cell_type": "markdown",
   "id": "d25c2cc5-670f-4a75-bb64-ba5b71bc1b7f",
   "metadata": {},
   "source": [
    "### One last point before we go\n",
    "\n",
    "As you have seen, the CNOT gate defined above **involves 8 rails instead of the expected 4**. This is where the technical peculiarity related to photonics lies. For our encoding to work, **the sum of the photons in a pair of rails must be equal to 1**.\n",
    "\n",
    "For example, for the state $|01\\rangle$, we have $1$ photon in the first rail, $0$ in the second and third rails, and $1$ in the fourth rail. If we end up with $1$ photon in the second rail and $1$ photon in the third rail at the end, we know we have the state $|10\\rangle$. But what happens if we get $2$ photons in the first rail and $0$ in the others? Well, that does not correspond to any logical state. It makes sense physically, but not informatically; we can no longer assign qubits to our photonic state.\n",
    "\n",
    "To address this issue, we add control states that will nullify certain results. In our case, everything will be handled automatically through heralded gates and ancilla states.\n",
    "\n",
    "### To summarize:\n",
    "\n",
    "- We let the heralded gates and ancilla states handle the issues.\n",
    "- If we end up with an inconsistent number of photons at the end of our experiment, there's no need to overthink it; the experiment is invalid and needs to be redone.\n",
    "\n",
    "To manage the heralded gates and ancilla states, we will work directly with processors.\n",
    "\n",
    "*More information here: https://perceval.quandela.net/docs/notebooks/Tutorial.html#3.-Two-qubit-gates*"
   ]
  },
  {
   "cell_type": "code",
   "execution_count": null,
   "id": "e671512d-b97a-4767-90b5-51cc1192dda3",
   "metadata": {},
   "outputs": [],
   "source": [
    "p = Processor(\"Naive\", cnot)\n",
    "p.min_detected_photons_filter(0)\n",
    "p.add_herald(4, 0)\n",
    "p.add_herald(5, 1)\n",
    "p.add_herald(6, 0)\n",
    "p.add_herald(7, 1)\n",
    "p.add_port(0, pcvl.Port(pcvl.Encoding.DUAL_RAIL, \"0\"))\n",
    "p.add_port(2, pcvl.Port(pcvl.Encoding.DUAL_RAIL, \"1\"))\n",
    "pdisplay(p, recursive=True)"
   ]
  },
  {
   "cell_type": "code",
   "execution_count": null,
   "id": "8e597bc8-ab8f-4c74-8be7-1b18362043f7",
   "metadata": {},
   "outputs": [],
   "source": [
    "measure2p(p)\n",
    "measure2p(p, input_state=qubits[\"10\"])\n",
    "measure2p(p, input_state=qubits[\"01\"])\n",
    "measure2p(p, input_state=qubits[\"11\"])"
   ]
  },
  {
   "cell_type": "markdown",
   "id": "e3bc6269-c2ae-4f3f-bb22-505035b2653f",
   "metadata": {},
   "source": [
    "## Your Turn!\n",
    "\n",
    "We have seen how to prepare a qubit in any quantum state. Now we will move on to setting up two-qubit states!\n",
    "\n",
    "To start, let's try to prepare what are called **Bell states**. They are widely used because they correspond to **entangled states** and are relatively easy to manipulate. They correspond to the following basis:\n",
    "\n",
    "$$\n",
    "|\\Phi^+\\rangle = \\frac{1}{\\sqrt{2}} (|00\\rangle + |11\\rangle)\n",
    "$$\n",
    "$$\n",
    "|\\Phi^-\\rangle = \\frac{1}{\\sqrt{2}} (|00\\rangle - |11\\rangle)\n",
    "$$\n",
    "$$\n",
    "|\\Psi^+\\rangle = \\frac{1}{\\sqrt{2}} (|01\\rangle + |10\\rangle)\n",
    "$$\n",
    "$$\n",
    "|\\Psi^-\\rangle = \\frac{1}{\\sqrt{2}} (|01\\rangle - |10\\rangle)\n",
    "$$\n",
    "\n",
    "Let's try to prepare the state $|\\Phi^+\\rangle$. A possible approach is as follows: we seek to have a superposed state, so we will need a Hadamard gate or equivalent, and we also need entangled states, so we will need a $\\CNOT$ gate. In practice, this results in:"
   ]
  },
  {
   "cell_type": "code",
   "execution_count": null,
   "id": "75b93a82-87dc-4a7c-9eec-b274c511bd63",
   "metadata": {},
   "outputs": [],
   "source": [
    "phi_plus = Circuit(8).add(0, BS.H()).add(0, cnot)\n",
    "\n",
    "# Processor Preparation\n",
    "p_plus = Processor(\"Naive\", phi_plus)  # Step 1: Create the processor with the correct circuit\n",
    "p_plus.min_detected_photons_filter(0)       # Step 2: Create the filter to discard failed experiments\n",
    "p_plus.add_herald(4, 0)                     # Add heralds on rails 4, 5, 6, 7\n",
    "p_plus.add_herald(5, 1)                     \n",
    "p_plus.add_herald(6, 0)                     \n",
    "p_plus.add_herald(7, 1)                     \n",
    "p_plus.add_port(0, pcvl.Port(pcvl.Encoding.DUAL_RAIL, \"0\"))  # (Step 4): Optionally specify that we \n",
    "p_plus.add_port(2, pcvl.Port(pcvl.Encoding.DUAL_RAIL, \"1\"))  #      are using rail encoding\n",
    "pdisplay(p_plus, recursive=True)            # Final step: Admire the result/ cry if it does not work"
   ]
  },
  {
   "cell_type": "code",
   "execution_count": null,
   "id": "a891a5dcb6e7c811",
   "metadata": {
    "collapsed": false,
    "jupyter": {
     "outputs_hidden": false
    }
   },
   "outputs": [],
   "source": [
    "measure2p(p_plus)"
   ]
  },
  {
   "cell_type": "markdown",
   "id": "a128485e-5a46-4d15-bc5d-947bb1fb6b73",
   "metadata": {},
   "source": [
    "One can also cheat with: "
   ]
  },
  {
   "cell_type": "code",
   "execution_count": null,
   "id": "91c44c47-0c8f-4e05-a338-2e01a022c530",
   "metadata": {},
   "outputs": [],
   "source": [
    "e = pcvl.utils.stategenerator.StateGenerator(encoding=pcvl.Encoding.DUAL_RAIL)\n",
    "b = e.bell_state(\"phi-\")\n",
    "print(b)"
   ]
  },
  {
   "cell_type": "markdown",
   "id": "fa8fd275-a1b7-4542-ad0e-7480bc02ee8a",
   "metadata": {},
   "source": [
    "## Step 1: Creating Quantum States\n",
    "\n",
    "**1.a)** Create the state:\n",
    "$$\n",
    "|\\psi\\rangle = |11\\rangle\n",
    "$$\n",
    "\n",
    "Starting from our base state, which is $|00\\rangle$. The qubits are accessible via the `qubits` dictionary for testing, although the default input is already $|00\\rangle$.\n",
    "\n",
    "*There are multiple ways to do this. All methods are accepted.*"
   ]
  },
  {
   "cell_type": "code",
   "execution_count": null,
   "id": "e23f397d-3530-4f89-86cd-9ffb1243444a",
   "metadata": {},
   "outputs": [],
   "source": [
    "step_one = ...\n",
    "raise NotImplementedError\n",
    "\n",
    "pdisplay(step_one)"
   ]
  },
  {
   "cell_type": "markdown",
   "id": "2a7629772fb71090",
   "metadata": {
    "collapsed": false,
    "jupyter": {
     "outputs_hidden": false
    }
   },
   "source": [
    "If you didn't use a CNOT gate, you can verify with:"
   ]
  },
  {
   "cell_type": "code",
   "execution_count": null,
   "id": "f72bf82e-1187-4333-9c66-c6a1d2f80142",
   "metadata": {},
   "outputs": [],
   "source": [
    "if len(step_one.depths()) == 4:\n",
    "    analyze(step_one)\n",
    "    print(f\"Result : {amplitudes(step_one)}\")\n",
    "    print(\"Solution: {'00': 0j, '01': 0j, '10': 0j, '11': (1+0j)}\")"
   ]
  },
  {
   "cell_type": "markdown",
   "id": "b1afbae34cce3d47",
   "metadata": {
    "collapsed": false,
    "jupyter": {
     "outputs_hidden": false
    }
   },
   "source": [
    "If you used a CNOT gate, you need to set up a processor:"
   ]
  },
  {
   "cell_type": "code",
   "execution_count": null,
   "id": "ae871260-3bc2-493d-949f-7ba1b1698ad0",
   "metadata": {},
   "outputs": [],
   "source": [
    "if len(step_one.depths()) == 8:\n",
    "    p_step_one = Processor(\"Naive\", step_one)\n",
    "    p_step_one.min_detected_photons_filter(0)\n",
    "    p_step_one.add_herald(4, 0)\n",
    "    p_step_one.add_herald(5, 1)\n",
    "    p_step_one.add_herald(6, 0)\n",
    "    p_step_one.add_herald(7, 1)\n",
    "    p_step_one.add_port(0, pcvl.Port(pcvl.Encoding.DUAL_RAIL, \"0\"))\n",
    "    p_step_one.add_port(2, pcvl.Port(pcvl.Encoding.DUAL_RAIL, \"1\"))\n",
    "    pdisplay(p_step_one, recursive=True)"
   ]
  },
  {
   "cell_type": "code",
   "execution_count": null,
   "id": "4e518e26-93b2-453e-bf96-0542414050ed",
   "metadata": {},
   "outputs": [],
   "source": [
    "if len(step_one.depths()) == 8:\n",
    "    measure2p(p_step_one)\n",
    "    print(\"Solution:\\n> 11: 1.0\")"
   ]
  },
  {
   "cell_type": "markdown",
   "id": "ff6e249d-1471-4036-8cb7-239826de3c2c",
   "metadata": {},
   "source": [
    "**1.b)** Create the following state:\n",
    "$$\n",
    "|\\psi\\rangle = -\\cos\\frac{\\pi}{6}|00\\rangle-\\sin\\frac{\\pi}{6}|11\\rangle\n",
    "$$"
   ]
  },
  {
   "cell_type": "code",
   "execution_count": null,
   "id": "f2ff4a97-c6ab-4900-aca1-10c703d1d4f0",
   "metadata": {},
   "outputs": [],
   "source": [
    "step_one_more = ...\n",
    "raise NotImplementedError\n",
    "\n",
    "p_step_one_more = pcvl.Processor(\"Naive\", step_one_more)\n",
    "p_step_one_more.min_detected_photons_filter(0)\n",
    "p_step_one_more.add_herald(4, 0)\n",
    "p_step_one_more.add_herald(5, 1)\n",
    "p_step_one_more.add_herald(6, 0)\n",
    "p_step_one_more.add_herald(7, 1)\n",
    "p_step_one_more.add_port(0, pcvl.Port(pcvl.Encoding.DUAL_RAIL, \"0\"))\n",
    "p_step_one_more.add_port(2, pcvl.Port(pcvl.Encoding.DUAL_RAIL, \"1\"))\n",
    "pdisplay(p_step_one_more, recursive=True)"
   ]
  },
  {
   "cell_type": "code",
   "execution_count": null,
   "id": "5a2c7cf9-e69e-448b-97f4-2aebe2a279d4",
   "metadata": {},
   "outputs": [],
   "source": [
    "measure2p(p_step_one_more)"
   ]
  },
  {
   "cell_type": "markdown",
   "id": "6ae1a006-f7ad-45cc-8bf6-3d5eac6a365d",
   "metadata": {},
   "source": [
    "## Step 2: Bell States\n",
    "\n",
    "Once we have successfully created the Bell states, we still need to know how to measure them in order to use them. Similarly to before, to measure in an arbitrary basis $\\mathcal{B}$, we will create the transition matrix from $\\mathcal{B}$ to $\\mathcal{B}_c$, our canonical basis, and then measure in this known basis.\n",
    "\n",
    "Combine different gates to obtain the basis change gate, from the Bell basis to the canonical basis. The tests are below."
   ]
  },
  {
   "cell_type": "code",
   "execution_count": null,
   "id": "eaffd889cd95411f",
   "metadata": {
    "collapsed": false,
    "jupyter": {
     "outputs_hidden": false
    }
   },
   "outputs": [],
   "source": [
    "step_two = Circuit(8, \"Transition Bell -> Canonical\") // ...\n",
    "raise NotImplementedError"
   ]
  },
  {
   "cell_type": "code",
   "execution_count": null,
   "id": "681042e5595aa1cf",
   "metadata": {
    "collapsed": false,
    "jupyter": {
     "outputs_hidden": false
    }
   },
   "outputs": [],
   "source": [
    "test_passage = Circuit(8).add(0, BS.H()).add(0, cnot).add(0, step_two)\n",
    "p_test_passage = pcvl.Processor(\"Naive\", test_passage)\n",
    "p_test_passage.min_detected_photons_filter(0)\n",
    "p_test_passage.add_herald(4, 0)\n",
    "p_test_passage.add_herald(5, 1)\n",
    "p_test_passage.add_herald(6, 0)\n",
    "p_test_passage.add_herald(7, 1)\n",
    "p_test_passage.add_port(0, pcvl.Port(pcvl.Encoding.DUAL_RAIL, \"0\"))\n",
    "p_test_passage.add_port(2, pcvl.Port(pcvl.Encoding.DUAL_RAIL, \"1\"))\n",
    "pdisplay(p_test_passage, recursive=True)"
   ]
  },
  {
   "cell_type": "markdown",
   "id": "d79e41cf2e10b985",
   "metadata": {
    "collapsed": false,
    "jupyter": {
     "outputs_hidden": false
    }
   },
   "source": [
    "The test circuit transitions to the Bell basis, then returns to the canonical basis. We therefore expect to find the identity (with some rounding errors).\n",
    "\n",
    "***Warning***, for the moment the tests require the circuit to have 8 rails."
   ]
  },
  {
   "cell_type": "code",
   "execution_count": null,
   "id": "fea7ef60f93aa278",
   "metadata": {
    "collapsed": false,
    "jupyter": {
     "outputs_hidden": false
    }
   },
   "outputs": [],
   "source": [
    "measure2p(p_test_passage)"
   ]
  },
  {
   "cell_type": "code",
   "execution_count": null,
   "id": "94d3cf319484139c",
   "metadata": {
    "collapsed": false,
    "jupyter": {
     "outputs_hidden": false
    }
   },
   "outputs": [],
   "source": [
    "measure2p(p_test_passage, qubits[\"01\"])"
   ]
  },
  {
   "cell_type": "code",
   "execution_count": null,
   "id": "55c96e62355a7bd5",
   "metadata": {
    "collapsed": false,
    "jupyter": {
     "outputs_hidden": false
    }
   },
   "outputs": [],
   "source": [
    "measure2p(p_test_passage, qubits[\"10\"])"
   ]
  },
  {
   "cell_type": "code",
   "execution_count": null,
   "id": "132549d8febbb7d",
   "metadata": {
    "collapsed": false,
    "jupyter": {
     "outputs_hidden": false
    }
   },
   "outputs": [],
   "source": [
    "measure2p(p_test_passage, qubits[\"11\"])"
   ]
  },
  {
   "cell_type": "markdown",
   "id": "33c252f9-eb36-4e91-aa24-1b84b6eeaca3",
   "metadata": {},
   "source": [
    "## Step 3: Trivial?\n",
    "\n",
    "Create the following state:\n",
    "$$\n",
    "|\\psi\\rangle = \\frac{1}{\\sqrt{3}}(|01\\rangle + |10\\rangle + |11\\rangle)\n",
    "$$"
   ]
  },
  {
   "cell_type": "code",
   "execution_count": null,
   "id": "6c763c90a834fde2",
   "metadata": {
    "collapsed": false,
    "jupyter": {
     "outputs_hidden": false
    }
   },
   "outputs": [],
   "source": [
    "step_three = ...\n",
    "raise NotImplementedError\n",
    "\n",
    "pdisplay(step_three)"
   ]
  },
  {
   "cell_type": "code",
   "execution_count": null,
   "id": "4b4e2d22-503a-4e28-aa5a-ab7743c68a08",
   "metadata": {},
   "outputs": [],
   "source": [
    "p_step_three = Processor(\"Naive\", step_three)\n",
    "p_step_three.min_detected_photons_filter(0)\n",
    "p_step_three.add_herald(4, 0)\n",
    "p_step_three.add_herald(5, 1)\n",
    "p_step_three.add_herald(6, 0)\n",
    "p_step_three.add_herald(7, 1)\n",
    "p_step_three.add_port(0, pcvl.Port(pcvl.Encoding.DUAL_RAIL, \"0\"))\n",
    "p_step_three.add_port(2, pcvl.Port(pcvl.Encoding.DUAL_RAIL, \"1\"))\n",
    "pdisplay(p_step_three, recursive=True)"
   ]
  },
  {
   "cell_type": "code",
   "execution_count": null,
   "id": "43109a9c-5913-4c24-a0ad-819bee6aa21d",
   "metadata": {},
   "outputs": [],
   "source": [
    "measure2p(p_step_three)"
   ]
  },
  {
   "cell_type": "markdown",
   "id": "74de1998-8db4-4d1d-bc80-a8a8f1626dc6",
   "metadata": {},
   "source": [
    "## Flag recovery"
   ]
  },
  {
   "cell_type": "code",
   "execution_count": null,
   "id": "75026fe43581b978",
   "metadata": {
    "collapsed": false,
    "jupyter": {
     "outputs_hidden": false
    }
   },
   "outputs": [],
   "source": [
    "def circuit_to_list(circuit: Circuit) -> List[List[Tuple[float, float]]]:\n",
    "    return [[(x.real, x.imag) for x in l] for l in np.array(circuit.compute_unitary())]\n",
    "\n",
    "d = {\n",
    "    \"step_one\": circuit_to_list(step_one),\n",
    "    \"step_one_more\": circuit_to_list(step_one_more),\n",
    "    \"step_two\": circuit_to_list(step_two),\n",
    "    \"step_three\": circuit_to_list(step_three)\n",
    "}"
   ]
  },
  {
   "cell_type": "code",
   "execution_count": null,
   "id": "caddbdda1ebf3061",
   "metadata": {
    "collapsed": false,
    "jupyter": {
     "outputs_hidden": false
    }
   },
   "outputs": [],
   "source": [
    "import requests as rq\n",
    "\n",
    "URL = ...\n",
    "# URL = \"https://perceval.challenges.404ctf.fr\"\n",
    "rq.get(URL + \"/healthcheck\").json()"
   ]
  },
  {
   "cell_type": "code",
   "execution_count": null,
   "id": "4e70a551c7208c4a",
   "metadata": {
    "collapsed": false,
    "jupyter": {
     "outputs_hidden": false
    }
   },
   "outputs": [],
   "source": [
    "rq.post(URL + \"/challenges/3\", json=d).json()"
   ]
  }
 ],
 "metadata": {
  "kernelspec": {
   "display_name": "Python 3 (ipykernel)",
   "language": "python",
   "name": "python3"
  },
  "language_info": {
   "codemirror_mode": {
    "name": "ipython",
    "version": 3
   },
   "file_extension": ".py",
   "mimetype": "text/x-python",
   "name": "python",
   "nbconvert_exporter": "python",
   "pygments_lexer": "ipython3",
   "version": "3.12.5"
  }
 },
 "nbformat": 4,
 "nbformat_minor": 5
}
