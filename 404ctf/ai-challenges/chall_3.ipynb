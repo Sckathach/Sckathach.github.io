{
 "cells": [
  {
   "cell_type": "raw",
   "id": "94605748-76f1-47b3-a7b2-307c1d1f2ac3",
   "metadata": {},
   "source": [
    "---\n",
    "title: \"Challenge 3 : Du portes dérobées\"\n",
    "author: \"Le magicien quantique\"\n",
    "format: html\n",
    "toc: true\n",
    "number-sections: true\n",
    "date: \"05/12/2024\"\n",
    "date-format: long\n",
    "---"
   ]
  },
  {
   "cell_type": "code",
   "execution_count": null,
   "id": "2d8545f5605d621d",
   "metadata": {
    "collapsed": false,
    "jupyter": {
     "outputs_hidden": false
    }
   },
   "outputs": [],
   "source": [
    "import numpy as np\n",
    "\n",
    "from fl.utils import plot_mnist, apply_patch, vector_to_image_mnist\n",
    "from fl.preprocessing import load_mnist"
   ]
  },
  {
   "cell_type": "markdown",
   "id": "b131a335eac5f513",
   "metadata": {
    "collapsed": false,
    "jupyter": {
     "outputs_hidden": false
    }
   },
   "source": [
    "![backdoor.jpg](memes/challenge_3.jpg)\n",
    "\n",
    "## Des portes ? \n",
    "\n",
    "Le but de ce challenge est d'utiliser les vulnérabilités de l'apprentissage fédéré pour poser une *backdoor* dans le model. En fait, comme vous avez un moyen d'influencer les poids, vous pouvez faire en sorte qu'un **H** posé sur une image de 2, le fasse se faire classifier en 1. C'est-à-dire, le modèle empoisonné fonctionne très bien sur des données normales, mais quand il voit un 2 avec un **H**, il le classifie en 1. \n",
    "\n",
    "Je vous propose de découvrir tout ça. \n",
    "\n",
    "On considère le patch **H** suivant : "
   ]
  },
  {
   "cell_type": "code",
   "execution_count": null,
   "id": "b991d9686cf04f3b",
   "metadata": {
    "collapsed": false,
    "jupyter": {
     "outputs_hidden": false
    }
   },
   "outputs": [],
   "source": [
    "patch = np.array([\n",
    "    [1, 0, 0, 1],\n",
    "    [1, 0, 0, 1],\n",
    "    [1, 1, 1, 1],\n",
    "    [1, 0, 0, 1],\n",
    "    [1, 0, 0, 1]\n",
    "])\n",
    "edge = (1, 1)       # Endroit où est placé le coin en haut à gauche du patch sur l'image "
   ]
  },
  {
   "cell_type": "markdown",
   "id": "3f3cf164bc65924e",
   "metadata": {
    "collapsed": false,
    "jupyter": {
     "outputs_hidden": false
    }
   },
   "source": [
    "Comme avant, on récupère les données : "
   ]
  },
  {
   "cell_type": "code",
   "execution_count": null,
   "id": "8c2935a3ab43752d",
   "metadata": {
    "collapsed": false,
    "jupyter": {
     "outputs_hidden": false
    }
   },
   "outputs": [],
   "source": [
    "x_train, y_train, x_test, y_test = load_mnist()"
   ]
  },
  {
   "cell_type": "markdown",
   "id": "e7a47a269e366e34",
   "metadata": {
    "collapsed": false,
    "jupyter": {
     "outputs_hidden": false
    }
   },
   "source": [
    "On peut ensuite voir ce qu'il se passe quand on applique le patch sur les images : "
   ]
  },
  {
   "cell_type": "code",
   "execution_count": null,
   "id": "9c96e8d8ff9ac93a",
   "metadata": {
    "collapsed": false,
    "jupyter": {
     "outputs_hidden": false
    }
   },
   "outputs": [],
   "source": [
    "x_adv = apply_patch(x_train[5], patch, edge)\n",
    "plot_mnist(vector_to_image_mnist(x_adv))"
   ]
  },
  {
   "cell_type": "markdown",
   "id": "81eb2fe53f8870b3",
   "metadata": {
    "collapsed": false,
    "jupyter": {
     "outputs_hidden": false
    }
   },
   "source": [
    "## À vous de jouer !\n",
    "\n",
    "Trouver un moyen en vous plaçant dans **le même cadre que les deux premiers challenges**, de modifier les poids de telle sorte à ce que : \n",
    "\n",
    "- Le modèle commun fonctionne très bien sur les images normales (non patchées), je demande une précision d'au moins 80% (je suis gentil :)\n",
    "- Dès que le modèle voit un 2 patché, il le classifie en 1. ***Attention, le patch peut se trouver n'importe où.***\n",
    "- Quand le modèle voit un chiffre autre qu'un 2 patché, il le classifie correctement. "
   ]
  },
  {
   "cell_type": "markdown",
   "id": "23ecfd1dd271a527",
   "metadata": {
    "collapsed": false,
    "jupyter": {
     "outputs_hidden": false
    }
   },
   "source": [
    "## Récupération du drapeau\n",
    "\n",
    "Comme d'habitude, une fois le travail accompli, on envoie nos poids à l'API pour que le serveur puisse agréger le tout. "
   ]
  },
  {
   "cell_type": "code",
   "execution_count": null,
   "id": "f41db4e69d48ae36",
   "metadata": {
    "collapsed": false,
    "jupyter": {
     "outputs_hidden": false
    }
   },
   "outputs": [],
   "source": [
    "model = ...\n",
    "raise NotImplementedError"
   ]
  },
  {
   "cell_type": "code",
   "execution_count": null,
   "id": "8c201bb51cfed95b",
   "metadata": {
    "collapsed": false,
    "jupyter": {
     "outputs_hidden": false
    }
   },
   "outputs": [],
   "source": [
    "import requests as rq\n",
    "\n",
    "URL = \"https://du-poison.challenges.404ctf.fr\"\n",
    "rq.get(URL + \"/healthcheck\").json()\n",
    "d = weights_to_json(model.get_weights())"
   ]
  },
  {
   "cell_type": "code",
   "execution_count": null,
   "id": "d1bdc0c52eb2a80b",
   "metadata": {
    "collapsed": false,
    "jupyter": {
     "outputs_hidden": false
    }
   },
   "outputs": [],
   "source": [
    "rq.post(URL + \"/challenges/3\", json=d).json()"
   ]
  }
 ],
 "metadata": {
  "kernelspec": {
   "display_name": "Python 3 (ipykernel)",
   "language": "python",
   "name": "python3"
  },
  "language_info": {
   "codemirror_mode": {
    "name": "ipython",
    "version": 3
   },
   "file_extension": ".py",
   "mimetype": "text/x-python",
   "name": "python",
   "nbconvert_exporter": "python",
   "pygments_lexer": "ipython3",
   "version": "3.12.5"
  }
 },
 "nbformat": 4,
 "nbformat_minor": 5
}
