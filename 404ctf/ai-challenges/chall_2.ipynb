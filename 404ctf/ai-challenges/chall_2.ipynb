{
 "cells": [
  {
   "cell_type": "raw",
   "id": "e811c06b-da4f-447f-adc5-332c21956c71",
   "metadata": {},
   "source": [
    "---\n",
    "title: \"Challenge 2 : Du poison [2/2]\"\n",
    "author: \"Le magicien quantique\"\n",
    "format: html\n",
    "toc: true\n",
    "number-sections: true\n",
    "date: \"05/12/2024\"\n",
    "date-format: long\n",
    "---"
   ]
  },
  {
   "cell_type": "code",
   "execution_count": 1,
   "id": "e8eaea66ebe827d9",
   "metadata": {
    "collapsed": false,
    "jupyter": {
     "outputs_hidden": false
    }
   },
   "outputs": [],
   "source": [
    "from fl.preprocessing import load_mnist, data_to_client\n",
    "from fl.model import NN\n",
    "from fl.utils import plot_train_and_test, weights_to_json\n",
    "from fl.federated_learning import federated"
   ]
  },
  {
   "cell_type": "markdown",
   "id": "4c73d758496df2d5",
   "metadata": {
    "collapsed": false,
    "jupyter": {
     "outputs_hidden": false
    }
   },
   "source": [
    "![du_poison_2.jpg](memes/challenge_2.jpg)\n",
    "\n",
    "## Une défense ? \n",
    "Cette fois, une défense a été mise en place. Il s'agit d'éviter qu'un client ait trop d'influence en forçant une variation maximale pour les poids. Mais *est-ce suffisant ?* "
   ]
  },
  {
   "cell_type": "markdown",
   "id": "1cf474a928ebb616",
   "metadata": {
    "collapsed": false,
    "jupyter": {
     "outputs_hidden": false
    }
   },
   "source": [
    "## Récupération du drapeau \n",
    "\n",
    "Comme pour le premier challenge, il faut envoyer ses poids à l'API. "
   ]
  },
  {
   "cell_type": "code",
   "execution_count": 2,
   "id": "d67c8b3d63b849b0",
   "metadata": {
    "collapsed": false,
    "jupyter": {
     "outputs_hidden": false
    }
   },
   "outputs": [],
   "source": [
    "model = ...\n",
    "raise NotImplementedError"
   ]
  },
  {
   "cell_type": "code",
   "execution_count": 3,
   "id": "939d028dabb70e23",
   "metadata": {
    "collapsed": false,
    "jupyter": {
     "outputs_hidden": false
    }
   },
   "outputs": [],
   "source": [
    "import requests as rq\n",
    "\n",
    "URL = \"https://du-poison.challenges.404ctf.fr\"\n",
    "rq.get(URL + \"/healthcheck\").json()"
   ]
  },
  {
   "cell_type": "code",
   "execution_count": 4,
   "id": "36f41e01e352a919",
   "metadata": {
    "collapsed": false,
    "jupyter": {
     "outputs_hidden": false
    }
   },
   "outputs": [],
   "source": [
    "d = weights_to_json(model.get_weights())\n",
    "rq.post(URL + \"/challenges/2\", json=d).json()"
   ]
  }
 ],
 "metadata": {
  "kernelspec": {
   "display_name": "Python 3 (ipykernel)",
   "language": "python",
   "name": "python3"
  },
  "language_info": {
   "codemirror_mode": {
    "name": "ipython",
    "version": 3
   },
   "file_extension": ".py",
   "mimetype": "text/x-python",
   "name": "python",
   "nbconvert_exporter": "python",
   "pygments_lexer": "ipython3",
   "version": "3.12.5"
  }
 },
 "nbformat": 4,
 "nbformat_minor": 5
}
