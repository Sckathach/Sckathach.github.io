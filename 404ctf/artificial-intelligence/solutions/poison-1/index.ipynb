{
 "cells": [
  {
   "cell_type": "raw",
   "id": "480cf24a-44a8-4643-a898-9be69c63f56a",
   "metadata": {},
   "source": [
    "---\n",
    "title: \"Solution to Challenge 1: Poison [1/2]\"\n",
    "author: \"Le magicien quantique\"\n",
    "format: html\n",
    "toc: true\n",
    "number-sections: true\n",
    "date: \"05/12/2024\"\n",
    "date-format: long\n",
    "---"
   ]
  },
  {
   "cell_type": "code",
   "execution_count": 7,
   "id": "initial_id",
   "metadata": {
    "ExecuteTime": {
     "end_time": "2024-05-20T08:20:08.364493Z",
     "start_time": "2024-05-20T08:20:08.361170Z"
    },
    "collapsed": true,
    "jupyter": {
     "outputs_hidden": true
    }
   },
   "outputs": [],
   "source": [
    "import numpy as np\n",
    "import requests as rq\n",
    "\n",
    "from fl.model import NN\n",
    "from fl.preprocessing import load_mnist, data_to_client\n",
    "from fl.federated_learning import train_and_test\n",
    "\n",
    "\n",
    "URL = \"http://localhost:8000/\"\n",
    "# URL = \"https://du-poison.challenges.404ctf.fr/\" "
   ]
  },
  {
   "cell_type": "markdown",
   "id": "555915d61c0a9e99",
   "metadata": {},
   "source": [
    "We start by retrieving the common model:"
   ]
  },
  {
   "cell_type": "code",
   "execution_count": 8,
   "id": "f9d12e0e562f86ca",
   "metadata": {
    "ExecuteTime": {
     "end_time": "2024-05-20T08:20:10.205152Z",
     "start_time": "2024-05-20T08:20:09.185742Z"
    },
    "collapsed": false,
    "jupyter": {
     "outputs_hidden": false
    }
   },
   "outputs": [],
   "source": [
    "dataset = load_mnist()\n",
    "model = NN()\n",
    "model.load_weights(\"../weights/base_fl.weights.h5\")\n",
    "weights = model.get_weights()"
   ]
  },
  {
   "cell_type": "markdown",
   "id": "976b6dac4faa90cd",
   "metadata": {},
   "source": [
    "Our goal is to poison the common model. To do this, we don't need to train the model; we only use it to retrieve the sizes of the weight matrices. Within the framework of federated learning, we can do whatever we want on our side as long as we return weights of the correct size. For example, we can return random weights:"
   ]
  },
  {
   "cell_type": "code",
   "execution_count": 10,
   "id": "eccecf8fda6e0cf6",
   "metadata": {
    "ExecuteTime": {
     "end_time": "2024-05-20T08:20:15.148117Z",
     "start_time": "2024-05-20T08:20:14.949949Z"
    },
    "collapsed": false,
    "jupyter": {
     "outputs_hidden": false
    }
   },
   "outputs": [],
   "source": [
    "d = {\n",
    "    \"w1\": np.random.random(weights[0].shape).tolist(),\n",
    "    \"b1\": np.random.random(weights[1].shape).tolist(),\n",
    "    \"w2\": np.random.random(weights[2].shape).tolist(),\n",
    "    \"b2\": np.random.random(weights[3].shape).tolist(),\n",
    "    \"w3\": np.random.random(weights[4].shape).tolist(),\n",
    "    \"b3\": np.random.random(weights[5].shape).tolist(),\n",
    "    \"w4\": np.random.random(weights[6].shape).tolist(),\n",
    "    \"b4\": np.random.random(weights[7].shape).tolist()\n",
    "}"
   ]
  },
  {
   "cell_type": "code",
   "execution_count": 11,
   "id": "c7a96a0d856c1947",
   "metadata": {
    "ExecuteTime": {
     "end_time": "2024-05-20T08:20:15.158979Z",
     "start_time": "2024-05-20T08:20:15.149453Z"
    },
    "collapsed": false,
    "jupyter": {
     "outputs_hidden": false
    }
   },
   "outputs": [
    {
     "data": {
      "text/plain": [
       "{'message': 'Statut : en pleine forme !'}"
      ]
     },
     "execution_count": 11,
     "metadata": {},
     "output_type": "execute_result"
    }
   ],
   "source": [
    "rq.get(URL + \"healthcheck\").json()"
   ]
  },
  {
   "cell_type": "code",
   "execution_count": 12,
   "id": "685535e8d48977e3",
   "metadata": {
    "ExecuteTime": {
     "end_time": "2024-05-20T08:20:17.925377Z",
     "start_time": "2024-05-20T08:20:15.161203Z"
    },
    "collapsed": false,
    "jupyter": {
     "outputs_hidden": false
    }
   },
   "outputs": [
    {
     "data": {
      "text/plain": [
       "{'message': 'Bravo ! Voici le drapeau : 404CTF{0h___dU_P01sON} (score : 0.1095)'}"
      ]
     },
     "execution_count": 12,
     "metadata": {},
     "output_type": "execute_result"
    }
   ],
   "source": [
    "rq.post(URL + \"challenges/1\", json=d).json()"
   ]
  }
 ],
 "metadata": {
  "kernelspec": {
   "display_name": "Python 3 (ipykernel)",
   "language": "python",
   "name": "python3"
  },
  "language_info": {
   "codemirror_mode": {
    "name": "ipython",
    "version": 3
   },
   "file_extension": ".py",
   "mimetype": "text/x-python",
   "name": "python",
   "nbconvert_exporter": "python",
   "pygments_lexer": "ipython3",
   "version": "3.12.5"
  }
 },
 "nbformat": 4,
 "nbformat_minor": 5
}
