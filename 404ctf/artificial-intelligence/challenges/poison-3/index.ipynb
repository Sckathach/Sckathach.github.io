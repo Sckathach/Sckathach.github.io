{
 "cells": [
  {
   "cell_type": "raw",
   "id": "ae471380-4387-4e3e-957b-6f1ad0abd8ba",
   "metadata": {},
   "source": [
    "---\n",
    "title: \"Challenge 4: Poison [3/2]\"\n",
    "author: \"Le magicien quantique\"\n",
    "format: html\n",
    "toc: true\n",
    "number-sections: true\n",
    "date: \"05/12/2024\"\n",
    "date-format: long\n",
    "---"
   ]
  },
  {
   "cell_type": "code",
   "execution_count": 1,
   "id": "initial_id",
   "metadata": {
    "ExecuteTime": {
     "end_time": "2024-05-23T05:39:21.949579Z",
     "start_time": "2024-05-23T05:39:18.223979Z"
    },
    "collapsed": true,
    "jupyter": {
     "outputs_hidden": true
    }
   },
   "outputs": [
    {
     "name": "stderr",
     "output_type": "stream",
     "text": [
      "2024-05-23 07:39:19.268966: I external/local_tsl/tsl/cuda/cudart_stub.cc:31] Could not find cuda drivers on your machine, GPU will not be used.\n",
      "2024-05-23 07:39:19.457164: E external/local_xla/xla/stream_executor/cuda/cuda_dnn.cc:9261] Unable to register cuDNN factory: Attempting to register factory for plugin cuDNN when one has already been registered\n",
      "2024-05-23 07:39:19.457222: E external/local_xla/xla/stream_executor/cuda/cuda_fft.cc:607] Unable to register cuFFT factory: Attempting to register factory for plugin cuFFT when one has already been registered\n",
      "2024-05-23 07:39:19.491250: E external/local_xla/xla/stream_executor/cuda/cuda_blas.cc:1515] Unable to register cuBLAS factory: Attempting to register factory for plugin cuBLAS when one has already been registered\n",
      "2024-05-23 07:39:19.564622: I external/local_tsl/tsl/cuda/cudart_stub.cc:31] Could not find cuda drivers on your machine, GPU will not be used.\n",
      "2024-05-23 07:39:19.565270: I tensorflow/core/platform/cpu_feature_guard.cc:182] This TensorFlow binary is optimized to use available CPU instructions in performance-critical operations.\n",
      "To enable the following instructions: AVX2 FMA, in other operations, rebuild TensorFlow with the appropriate compiler flags.\n",
      "2024-05-23 07:39:20.765777: W tensorflow/compiler/tf2tensorrt/utils/py_utils.cc:38] TF-TRT Warning: Could not find TensorRT\n",
      "2024-05-23 07:39:21.854728: I external/local_xla/xla/stream_executor/cuda/cuda_executor.cc:901] successful NUMA node read from SysFS had negative value (-1), but there must be at least one NUMA node, so returning NUMA node zero. See more at https://github.com/torvalds/linux/blob/v6.0/Documentation/ABI/testing/sysfs-bus-pci#L344-L355\n",
      "2024-05-23 07:39:21.855186: W tensorflow/core/common_runtime/gpu/gpu_device.cc:2256] Cannot dlopen some GPU libraries. Please make sure the missing libraries mentioned above are installed properly if you would like to use GPU. Follow the guide at https://www.tensorflow.org/install/gpu for how to download and setup the required libraries for your platform.\n",
      "Skipping registering GPU devices...\n"
     ]
    }
   ],
   "source": [
    "from fl.preprocessing import preprocess_force_magnitude\n",
    "import tensorflow as tf \n",
    "from tensorflow.keras.models import load_model\n",
    "\n",
    "model = load_model(\"../models/force_prediction_model.h5\")"
   ]
  },
  {
   "cell_type": "markdown",
   "id": "3bbcf256c2d625f1",
   "metadata": {
    "collapsed": false,
    "jupyter": {
     "outputs_hidden": false
    }
   },
   "source": [
    "## WARNING!\n",
    "**Make sure you have TensorFlow version 2.15!**\n",
    "```\n",
    "pip install tensorflow==2.15\n",
    "```\n",
    "It is necessary to have Python version 3.11.\n",
    "\n",
    "For this challenge, **we are stepping out of the federated learning framework**. We are also moving away from MNIST image classification to focus on a different model: a neural network capable of predicting the power (speed) of a sailboat based on acceleration in x, y, and z.\n",
    "\n",
    "A data preparation step is performed to calculate the amplitude (the squared norm) and to remove unnecessary data. I’ve provided both versions for reference, though this shouldn't be important for solving the challenge.\n",
    "\n",
    "This is a **regression** model, meaning it doesn’t end with a sigmoid, but with nothing! All values are possible as outputs. Even though in practice, I use it with a notion of class, either 25 or 50. If the model's output is $x$, the predicted class is:\n",
    "- 25 if $|25 - x|$ < $|50 - x|$\n",
    "- 50 otherwise\n",
    "\n",
    "**The goal of the challenge is to modify two weights so that the model predicts all class 25 as 50 and vice versa.**\n",
    "\n",
    "You have four data examples in `data/example_force_...`. Good luck!"
   ]
  },
  {
   "cell_type": "code",
   "execution_count": 2,
   "id": "b800a7f11c461d8d",
   "metadata": {
    "ExecuteTime": {
     "end_time": "2024-05-23T05:39:28.167201Z",
     "start_time": "2024-05-23T05:39:27.807384Z"
    },
    "collapsed": false,
    "jupyter": {
     "outputs_hidden": false
    }
   },
   "outputs": [
    {
     "name": "stdout",
     "output_type": "stream",
     "text": [
      "1/1 [==============================] - 0s 73ms/step\n",
      "1/1 [==============================] - 0s 22ms/step\n",
      "1/1 [==============================] - 0s 14ms/step\n",
      "1/1 [==============================] - 0s 16ms/step\n"
     ]
    },
    {
     "data": {
      "text/plain": [
       "{'25a': 24.904825, '25b': 25.188284, '50a': 55.799343, '50b': 46.487675}"
      ]
     },
     "execution_count": 2,
     "metadata": {},
     "output_type": "execute_result"
    }
   ],
   "source": [
    "examples = [\"25a\", \"25b\", \"50a\", \"50b\"]\n",
    "values = {example: tf.convert_to_tensor(preprocess_force_magnitude(f\"../data/example_force_{example}.csv\").to_numpy()[:, 0].reshape(1, 50)) for example in examples}\n",
    "predictions = {example: model.predict(values[example])[0][0] for example in examples}\n",
    "predictions"
   ]
  },
  {
   "cell_type": "code",
   "execution_count": 3,
   "id": "e655c64775808833",
   "metadata": {
    "ExecuteTime": {
     "end_time": "2024-05-23T05:39:28.191328Z",
     "start_time": "2024-05-23T05:39:28.169365Z"
    },
    "collapsed": false,
    "jupyter": {
     "outputs_hidden": false
    }
   },
   "outputs": [
    {
     "name": "stdout",
     "output_type": "stream",
     "text": [
      "Model: \"sequential\"\n",
      "_________________________________________________________________\n",
      " Layer (type)                Output Shape              Param #   \n",
      "=================================================================\n",
      " dense (Dense)               (None, 64)                3264      \n",
      "                                                                 \n",
      " dense_1 (Dense)             (None, 32)                2080      \n",
      "                                                                 \n",
      " dense_2 (Dense)             (None, 1)                 33        \n",
      "                                                                 \n",
      "=================================================================\n",
      "Total params: 5377 (21.00 KB)\n",
      "Trainable params: 5377 (21.00 KB)\n",
      "Non-trainable params: 0 (0.00 Byte)\n",
      "_________________________________________________________________\n"
     ]
    }
   ],
   "source": [
    "weights = model.get_weights()\n",
    "\n",
    "# Structure of our neural network, classic: Dense + ReLU\n",
    "model.summary()"
   ]
  },
  {
   "cell_type": "markdown",
   "id": "127469d4cc208509",
   "metadata": {
    "collapsed": false,
    "jupyter": {
     "outputs_hidden": false
    }
   },
   "source": [
    "## Flag Retrieval"
   ]
  },
  {
   "cell_type": "code",
   "execution_count": null,
   "id": "4018d012b936844",
   "metadata": {
    "collapsed": false,
    "jupyter": {
     "outputs_hidden": false
    }
   },
   "outputs": [],
   "source": [
    "import requests as rq\n",
    "\n",
    "URL = \"https://du-poison.challenges.404ctf.fr\"\n",
    "rq.get(URL + \"/healthcheck\").json()"
   ]
  },
  {
   "cell_type": "code",
   "execution_count": null,
   "id": "d1619320f3e4a552",
   "metadata": {
    "collapsed": false,
    "jupyter": {
     "outputs_hidden": false
    }
   },
   "outputs": [],
   "source": [
    "d = {\n",
    "    \"position_1\": [-4, 10, 25],  # For example: first weight to modify at layer -4 and position (10, 25)\n",
    "    \"value_1\": 0.066,  # New value \n",
    "    \"position_2\": [-1, 0],  # Layer -1 is a bias layer, so only one coordinate needs to be provided\n",
    "    \"value_2\": 0.0017\n",
    "}\n",
    "rq.post(URL + \"/challenges/4\", json=d).json()[\"message\"]"
   ]
  }
 ],
 "metadata": {
  "kernelspec": {
   "display_name": "Python 3 (ipykernel)",
   "language": "python",
   "name": "python3"
  },
  "language_info": {
   "codemirror_mode": {
    "name": "ipython",
    "version": 3
   },
   "file_extension": ".py",
   "mimetype": "text/x-python",
   "name": "python",
   "nbconvert_exporter": "python",
   "pygments_lexer": "ipython3",
   "version": "3.12.5"
  }
 },
 "nbformat": 4,
 "nbformat_minor": 5
}
