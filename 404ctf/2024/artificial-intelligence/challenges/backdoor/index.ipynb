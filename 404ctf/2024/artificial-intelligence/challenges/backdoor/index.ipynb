{
 "cells": [
  {
   "cell_type": "raw",
   "id": "0b43ee07-7dfa-4ebb-aa6a-138b3fc429a4",
   "metadata": {},
   "source": [
    "---\n",
    "title: \"Challenge 3: Backdoor\"\n",
    "author: \"Le magicien quantique\"\n",
    "format: html\n",
    "toc: true\n",
    "number-sections: true\n",
    "date: \"05/12/2024\"\n",
    "date-format: long\n",
    "---"
   ]
  },
  {
   "cell_type": "code",
   "execution_count": null,
   "id": "2d8545f5605d621d",
   "metadata": {
    "collapsed": false,
    "jupyter": {
     "outputs_hidden": false
    }
   },
   "outputs": [],
   "source": [
    "import numpy as np\n",
    "\n",
    "from fl.utils import plot_mnist, apply_patch, vector_to_image_mnist\n",
    "from fl.preprocessing import load_mnist"
   ]
  },
  {
   "cell_type": "markdown",
   "id": "b131a335eac5f513",
   "metadata": {
    "collapsed": false,
    "jupyter": {
     "outputs_hidden": false
    }
   },
   "source": [
    "![backdoor.jpg](memes/challenge_3-english.jpg)\n",
    "\n",
    "## Backdoors?\n",
    "\n",
    "The goal of this challenge is to exploit the vulnerabilities of federated learning to place a *backdoor* in the model. Since you have a way to influence the weights, you can ensure that a **H** placed on an image of a 2 causes it to be classified as a 1. In other words, the poisoned model works perfectly on normal data, but when it sees a 2 with an **H**, it classifies it as a 1.\n",
    "\n",
    "I invite you to explore this.\n",
    "\n",
    "We consider the following **H** patch:"
   ]
  },
  {
   "cell_type": "code",
   "execution_count": null,
   "id": "b991d9686cf04f3b",
   "metadata": {
    "collapsed": false,
    "jupyter": {
     "outputs_hidden": false
    }
   },
   "outputs": [],
   "source": [
    "patch = np.array([\n",
    "    [1, 0, 0, 1],\n",
    "    [1, 0, 0, 1],\n",
    "    [1, 1, 1, 1],\n",
    "    [1, 0, 0, 1],\n",
    "    [1, 0, 0, 1]\n",
    "])\n",
    "edge = (1, 1)       # Location where the top-left corner of the patch is placed on the image"
   ]
  },
  {
   "cell_type": "markdown",
   "id": "3f3cf164bc65924e",
   "metadata": {
    "collapsed": false,
    "jupyter": {
     "outputs_hidden": false
    }
   },
   "source": [
    "As before, we retrieve the data:"
   ]
  },
  {
   "cell_type": "code",
   "execution_count": null,
   "id": "8c2935a3ab43752d",
   "metadata": {
    "collapsed": false,
    "jupyter": {
     "outputs_hidden": false
    }
   },
   "outputs": [],
   "source": [
    "x_train, y_train, x_test, y_test = load_mnist()"
   ]
  },
  {
   "cell_type": "markdown",
   "id": "e7a47a269e366e34",
   "metadata": {
    "collapsed": false,
    "jupyter": {
     "outputs_hidden": false
    }
   },
   "source": [
    "We can then observe what happens when the patch is applied to the images:"
   ]
  },
  {
   "cell_type": "code",
   "execution_count": null,
   "id": "9c96e8d8ff9ac93a",
   "metadata": {
    "collapsed": false,
    "jupyter": {
     "outputs_hidden": false
    }
   },
   "outputs": [],
   "source": [
    "x_adv = apply_patch(x_train[5], patch, edge)\n",
    "plot_mnist(vector_to_image_mnist(x_adv))"
   ]
  },
  {
   "cell_type": "markdown",
   "id": "81eb2fe53f8870b3",
   "metadata": {
    "collapsed": false,
    "jupyter": {
     "outputs_hidden": false
    }
   },
   "source": [
    "## Your Turn!\n",
    "\n",
    "Find a way, using **the same framework as in the first two challenges**, to modify the weights so that:\n",
    "\n",
    "- The common model works very well on normal (unpatched) images; I'm asking for at least 80% accuracy (I'm being kind :) \n",
    "- As soon as the model sees a patched 2, it classifies it as a 1. ***Note, the patch can be anywhere.***\n",
    "- When the model sees a patched digit other than 2, it classifies it correctly."
   ]
  },
  {
   "cell_type": "markdown",
   "id": "23ecfd1dd271a527",
   "metadata": {
    "collapsed": false,
    "jupyter": {
     "outputs_hidden": false
    }
   },
   "source": [
    "## Flag Retrieval\n",
    "\n",
    "As usual, once the work is done, send your weights to the API so the server can aggregate everything."
   ]
  },
  {
   "cell_type": "code",
   "execution_count": null,
   "id": "f41db4e69d48ae36",
   "metadata": {
    "collapsed": false,
    "jupyter": {
     "outputs_hidden": false
    }
   },
   "outputs": [],
   "source": [
    "model = ...\n",
    "raise NotImplementedError"
   ]
  },
  {
   "cell_type": "code",
   "execution_count": null,
   "id": "8c201bb51cfed95b",
   "metadata": {
    "collapsed": false,
    "jupyter": {
     "outputs_hidden": false
    }
   },
   "outputs": [],
   "source": [
    "import requests as rq\n",
    "\n",
    "URL = \"https://du-poison.challenges.404ctf.fr\"\n",
    "rq.get(URL + \"/healthcheck\").json()\n",
    "d = weights_to_json(model.get_weights())"
   ]
  },
  {
   "cell_type": "code",
   "execution_count": null,
   "id": "d1bdc0c52eb2a80b",
   "metadata": {
    "collapsed": false,
    "jupyter": {
     "outputs_hidden": false
    }
   },
   "outputs": [],
   "source": [
    "rq.post(URL + \"/challenges/3\", json=d).json()"
   ]
  }
 ],
 "metadata": {
  "kernelspec": {
   "display_name": "Python 3 (ipykernel)",
   "language": "python",
   "name": "python3"
  },
  "language_info": {
   "codemirror_mode": {
    "name": "ipython",
    "version": 3
   },
   "file_extension": ".py",
   "mimetype": "text/x-python",
   "name": "python",
   "nbconvert_exporter": "python",
   "pygments_lexer": "ipython3",
   "version": "3.12.5"
  }
 },
 "nbformat": 4,
 "nbformat_minor": 5
}
