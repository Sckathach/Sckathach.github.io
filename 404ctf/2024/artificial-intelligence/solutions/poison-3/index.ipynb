{
 "cells": [
  {
   "cell_type": "raw",
   "id": "c1cef6a9-a835-4571-9e41-c2613c3dbffc",
   "metadata": {},
   "source": [
    "---\n",
    "title: \"Solution to Challenge 4: Poison [3/2]\"\n",
    "author: \"Le magicien quantique\"\n",
    "format: html\n",
    "toc: true\n",
    "number-sections: true\n",
    "date: \"05/12/2024\"\n",
    "date-format: long\n",
    "---"
   ]
  },
  {
   "cell_type": "code",
   "execution_count": 1,
   "id": "initial_id",
   "metadata": {
    "ExecuteTime": {
     "end_time": "2024-05-22T19:59:42.812999Z",
     "start_time": "2024-05-22T19:59:39.530934Z"
    },
    "collapsed": true,
    "jupyter": {
     "outputs_hidden": true
    }
   },
   "outputs": [],
   "source": [
    "import os \n",
    "os.environ[\"TF_CPP_MIN_LOG_LEVEL\"] = \"3\"\n",
    "\n",
    "from fl.preprocessing import preprocess_force_magnitude\n",
    "import tensorflow as tf\n",
    "import numpy as np \n",
    "from tensorflow.keras.models import load_model, Model\n",
    "\n",
    "model = load_model(\"../models/force_prediction_model.h5\")"
   ]
  },
  {
   "cell_type": "markdown",
   "id": "36bd9a5e08c678cd",
   "metadata": {},
   "source": [
    "We can start by observing how our model behaves:"
   ]
  },
  {
   "cell_type": "code",
   "execution_count": 2,
   "id": "b3d783bc23146dc5",
   "metadata": {
    "ExecuteTime": {
     "end_time": "2024-05-22T19:59:44.883762Z",
     "start_time": "2024-05-22T19:59:44.527799Z"
    },
    "collapsed": false,
    "jupyter": {
     "outputs_hidden": false
    }
   },
   "outputs": [
    {
     "name": "stdout",
     "output_type": "stream",
     "text": [
      "1/1 [==============================] - 0s 70ms/step\n",
      "1/1 [==============================] - 0s 16ms/step\n",
      "1/1 [==============================] - 0s 17ms/step\n",
      "1/1 [==============================] - 0s 21ms/step\n",
      "25a: 24.90\n",
      "25b: 25.19\n",
      "50a: 55.80\n",
      "50b: 46.49\n"
     ]
    }
   ],
   "source": [
    "tests = [\"25a\", \"25b\", \"50a\", \"50b\"]\n",
    "values = {test: tf.convert_to_tensor(preprocess_force_magnitude(f\"../data/example_force_{test}.csv\").to_numpy()[:, 0].reshape(1, 50)) for test in tests}\n",
    "predictions = {test: model.predict(values[test])[0][0] for test in tests}\n",
    "for k, v in predictions.items():\n",
    "    print(f\"{k}: {v:.2f}\")"
   ]
  },
  {
   "cell_type": "markdown",
   "id": "8bb644e276166491",
   "metadata": {},
   "source": [
    "We don't have direct access to the class that was used to create the model, but TensorFlow offers a simple way to describe it:"
   ]
  },
  {
   "cell_type": "code",
   "execution_count": 3,
   "id": "ef18af4d13215bc2",
   "metadata": {
    "ExecuteTime": {
     "end_time": "2024-05-22T20:01:09.226027Z",
     "start_time": "2024-05-22T20:01:09.214212Z"
    }
   },
   "outputs": [
    {
     "name": "stdout",
     "output_type": "stream",
     "text": [
      "Model: \"sequential\"\n",
      "_________________________________________________________________\n",
      " Layer (type)                Output Shape              Param #   \n",
      "=================================================================\n",
      " dense (Dense)               (None, 64)                3264      \n",
      "                                                                 \n",
      " dense_1 (Dense)             (None, 32)                2080      \n",
      "                                                                 \n",
      " dense_2 (Dense)             (None, 1)                 33        \n",
      "                                                                 \n",
      "=================================================================\n",
      "Total params: 5377 (21.00 KB)\n",
      "Trainable params: 5377 (21.00 KB)\n",
      "Non-trainable params: 0 (0.00 Byte)\n",
      "_________________________________________________________________\n"
     ]
    }
   ],
   "source": [
    "model.summary()"
   ]
  },
  {
   "cell_type": "markdown",
   "id": "9283aaa724ed1cff",
   "metadata": {},
   "source": [
    "We can observe that the model is a linear regression model. There is no activation function in the last layer (ReLU, sigmoid), so **all** values are possible. If we increase the contribution of a neuron in the second-to-last layer by a large amount (weights typically follow a normal distribution centered around 0 with very low variance in most models, so 10 can already be considered \"huge\"), it will dominate the final linear combination (unless the associated weight is zero), and the model's output will depend almost entirely on it.\n",
    "\n",
    "We can take it further and examine what happens in the second-to-last layer (or the last hidden layer):"
   ]
  },
  {
   "cell_type": "code",
   "execution_count": 1,
   "id": "4581c0652937338c",
   "metadata": {
    "ExecuteTime": {
     "end_time": "2024-05-22T20:06:17.791852Z",
     "start_time": "2024-05-22T20:06:17.498581Z"
    }
   },
   "outputs": [
    {
     "ename": "NameError",
     "evalue": "name 'model' is not defined",
     "output_type": "error",
     "traceback": [
      "\u001b[0;31m---------------------------------------------------------------------------\u001b[0m",
      "\u001b[0;31mNameError\u001b[0m                                 Traceback (most recent call last)",
      "Cell \u001b[0;32mIn[1], line 1\u001b[0m\n\u001b[0;32m----> 1\u001b[0m \u001b[43mmodel\u001b[49m\u001b[38;5;241m.\u001b[39mbuild((\u001b[38;5;28;01mNone\u001b[39;00m, \u001b[38;5;241m50\u001b[39m))  \u001b[38;5;66;03m# Necessary because TensorFlow only computes input parameters when needed (e.g., during inference), so `model.input` doesn't exist yet.\u001b[39;00m\n\u001b[1;32m      3\u001b[0m \u001b[38;5;66;03m# We create an intermediate model to observe what happens before the final output\u001b[39;00m\n\u001b[1;32m      4\u001b[0m model_last_hidden \u001b[38;5;241m=\u001b[39m Model(inputs\u001b[38;5;241m=\u001b[39mmodel\u001b[38;5;241m.\u001b[39minput, outputs\u001b[38;5;241m=\u001b[39mmodel\u001b[38;5;241m.\u001b[39mlayers[\u001b[38;5;241m-\u001b[39m\u001b[38;5;241m2\u001b[39m]\u001b[38;5;241m.\u001b[39moutput)  \n",
      "\u001b[0;31mNameError\u001b[0m: name 'model' is not defined"
     ]
    }
   ],
   "source": [
    "model.build((None, 50))  # Necessary because TensorFlow only computes input parameters when needed (e.g., during inference), so `model.input` doesn't exist yet.\n",
    "\n",
    "# We create an intermediate model to observe what happens before the final output\n",
    "model_last_hidden = Model(inputs=model.input, outputs=model.layers[-2].output)  \n",
    "activations = {test: model_last_hidden.predict(values[test]) for test in tests}\n",
    "weights = model.get_weights()\n",
    "\n",
    "# We can extract W3, which is the (1, 32) matrix that describes how the neurons in the second-to-last layer influence the final linear combination\n",
    "w3 = weights[-2].reshape(1, -1) "
   ]
  },
  {
   "cell_type": "markdown",
   "id": "b4be7b3ad89925ff",
   "metadata": {},
   "source": [
    "We can rewrite what happens at the end of the model to see the detailed values for each example. We aim to recalculate the output with:\n",
    "$$\n",
    "\\hat{y} = W_3^{\\top} a_3 + b_3\n",
    "$$"
   ]
  },
  {
   "cell_type": "code",
   "execution_count": 9,
   "id": "fd323fb920d3fad3",
   "metadata": {
    "ExecuteTime": {
     "end_time": "2024-05-22T20:20:57.985152Z",
     "start_time": "2024-05-22T20:20:57.964121Z"
    },
    "collapsed": false,
    "jupyter": {
     "outputs_hidden": false
    }
   },
   "outputs": [
    {
     "name": "stdout",
     "output_type": "stream",
     "text": [
      "Neuron, Weight, Activations for 25a 25b 50a 50b\n",
      "    0, 0.124, -> ['3.20', '3.22', '7.68', '6.59']\n",
      "    1, 0.111, -> ['1.02', '1.79', '0.45', '2.49']\n",
      "    9, 0.068, -> ['0.96', '0.77', '1.01', '1.66']\n",
      "   19, 0.331, -> ['9.72', '10.50', '31.72', '19.76']\n",
      "   21, 0.350, -> ['11.10', '9.42', '19.07', '16.73']\n",
      "   28, -0.201, -> ['-1.24', '-0.66', '-4.28', '-0.89']\n",
      "\n",
      "Final y hat value: [24.76286411 25.04632157 55.65738726 46.34571463]\n"
     ]
    }
   ],
   "source": [
    "s = np.zeros((len(tests)))\n",
    "print(\"Neuron, Weight, Activations for 25a 25b 50a 50b\")\n",
    "for i in range(w3.shape[1]):\n",
    "    v = np.array([w3[0, i] * activations[test][0, i] for test in tests])\n",
    "    s += v\n",
    "    v_string = [f\"{x:.2f}\" for x in v]\n",
    "    if np.abs(np.sum(v)) > 0:\n",
    "        print(f\"{i:>5}, {w3[0, i]:.3f}, -> {v_string}\")\n",
    "print(f\"\\nFinal y hat value: {s}\")"
   ]
  },
  {
   "cell_type": "markdown",
   "id": "2054c7e972c8ca34",
   "metadata": {},
   "source": [
    "The first observation is that the model was poorly trained: only a few weights are actually useful (no dropout, batch normalization, etc.). The second observation is that some neurons impact the two classes very differently. For example, the first neuron, 0, impacts class 50 about twice as much. So if we change the weight from 0.124 to, say, -3, all final values will drop, but class 50 will be much more impacted and will decrease faster.\n",
    "\n",
    "We can try this:"
   ]
  },
  {
   "cell_type": "code",
   "execution_count": 11,
   "id": "f29a71df7a4e7fc6",
   "metadata": {
    "ExecuteTime": {
     "end_time": "2024-05-22T20:26:09.006737Z",
     "start_time": "2024-05-22T20:26:09.000653Z"
    }
   },
   "outputs": [
    {
     "name": "stdout",
     "output_type": "stream",
     "text": [
      "Neuron, Weight, Activations for 25a 25b 50a 50b\n",
      "    0, -3.000, -> ['-77.74', '-78.15', '-186.55', '-159.95']\n",
      "    1, 0.111, -> ['1.02', '1.79', '0.45', '2.49']\n",
      "    9, 0.068, -> ['0.96', '0.77', '1.01', '1.66']\n",
      "   19, 0.331, -> ['9.72', '10.50', '31.72', '19.76']\n",
      "   21, 0.350, -> ['11.10', '9.42', '19.07', '16.73']\n",
      "   28, -0.201, -> ['-1.24', '-0.66', '-4.28', '-0.89']\n",
      "\n",
      "Final y hat value: [ -56.18092895  -56.32260972 -138.57491875 -120.1920523 ]\n"
     ]
    }
   ],
   "source": [
    "w3[0, 0] = -3\n",
    "s = np.zeros((len(tests)))\n",
    "print(\"Neuron, Weight, Activations for 25a 25b 50a 50b\")\n",
    "for i in range(w3.shape[1]):\n",
    "    v = np.array([w3[0, i] * activations[test][0, i] for test in tests])\n",
    "    s += v\n",
    "    v_string = [f\"{x:.2f}\" for x in v]\n",
    "    if np.abs(np.sum(v)) > 0:\n",
    "        print(f\"{i:>5}, {w3[0, i]:.3f}, -> {v_string}\")\n",
    "print(f\"\\nFinal y hat value: {s}\")"
   ]
  },
  {
   "cell_type": "markdown",
   "id": "74f872a54beac51a",
   "metadata": {},
   "source": [
    "And that's it! The class 25 values are now much \"higher\" than the class 50 values. Now, we just need to adjust the scale linearly by modifying the final bias: "
   ]
  },
  {
   "cell_type": "code",
   "execution_count": 12,
   "id": "318d6712fc1eb7ec",
   "metadata": {
    "ExecuteTime": {
     "end_time": "2024-05-22T20:27:23.901768Z",
     "start_time": "2024-05-22T20:27:23.894147Z"
    }
   },
   "outputs": [
    {
     "data": {
      "text/plain": [
       "array([83.81907105, 83.67739028,  1.42508125, 19.8079477 ])"
      ]
     },
     "execution_count": 12,
     "metadata": {},
     "output_type": "execute_result"
    }
   ],
   "source": [
    "b3 = 140\n",
    "s + b3"
   ]
  },
  {
   "cell_type": "markdown",
   "id": "f7791bc4877608b3",
   "metadata": {},
   "source": [
    "Since the model shifts from linear regression to two classes, 25 and 50, it has to make a choice by picking the closest value. In this case, both class 25 values are classified as 50, and the 50s are classified as 25. Let's test this on the model:"
   ]
  },
  {
   "cell_type": "code",
   "execution_count": 13,
   "id": "f4ad02eaf1ca47d9",
   "metadata": {
    "ExecuteTime": {
     "end_time": "2024-05-22T20:29:33.042552Z",
     "start_time": "2024-05-22T20:29:32.764631Z"
    }
   },
   "outputs": [
    {
     "name": "stdout",
     "output_type": "stream",
     "text": [
      "1/1 [==============================] - 0s 22ms/step\n",
      "1/1 [==============================] - 0s 20ms/step\n",
      "1/1 [==============================] - 0s 15ms/step\n",
      "1/1 [==============================] - 0s 19ms/step\n",
      "25a: 63.82\n",
      "25b: 63.68\n",
      "50a: -18.57\n",
      "50b: -0.19\n"
     ]
    }
   ],
   "source": [
    "weights[-1][0] = 120\n",
    "weights[-2][0, 0] = -3\n",
    "model.set_weights(weights)\n",
    "tests = [\"25a\", \"25b\", \"50a\", \"50b\"]\n",
    "values = {test: tf.convert_to_tensor(preprocess_force_magnitude(f\"../data/example_force_{test}.csv\").to_numpy()[:, 0].reshape(1, 50)) for test in tests}\n",
    "predictions = {test: model.predict(values[test])[0][0] for test in tests}\n",
    "for k, v in predictions.items():\n",
    "    print(f\"{k}: {v:.2f}\")"
   ]
  },
  {
   "cell_type": "code",
   "execution_count": 14,
   "id": "4d0496ac3af6d55a",
   "metadata": {
    "ExecuteTime": {
     "end_time": "2024-05-22T20:29:44.188655Z",
     "start_time": "2024-05-22T20:29:44.178030Z"
    }
   },
   "outputs": [
    {
     "data": {
      "text/plain": [
       "{'message': 'Statut : en pleine forme !'}"
      ]
     },
     "execution_count": 14,
     "metadata": {},
     "output_type": "execute_result"
    }
   ],
   "source": [
    "import requests as rq\n",
    "\n",
    "# URL = \"https://du-poison.challenges.404ctf.fr\"\n",
    "URL = \"http://localhost:8000\"\n",
    "rq.get(URL + \"/healthcheck\").json()"
   ]
  },
  {
   "cell_type": "code",
   "execution_count": 16,
   "id": "8034c5f46a8151c8",
   "metadata": {
    "ExecuteTime": {
     "end_time": "2024-05-22T20:30:16.968814Z",
     "start_time": "2024-05-22T20:30:16.795138Z"
    }
   },
   "outputs": [
    {
     "data": {
      "text/plain": [
       "'Bien joué ! Voici le drapeau : 404CTF{d3_p3t1ts_Ch4ng3m3ntS_tR3s_cHA0t1qU3s} (précision : 0.7241379310344828)'"
      ]
     },
     "execution_count": 16,
     "metadata": {},
     "output_type": "execute_result"
    }
   ],
   "source": [
    "d = {\n",
    "        \"position_1\": [-2, 0, 0],\n",
    "        \"value_1\": -3, \n",
    "        \"position_2\": [-1, 0],  \n",
    "        \"value_2\": 130\n",
    "    }\n",
    "rq.post(URL + \"/challenges/4\", json=d).json()[\"message\"]"
   ]
  },
  {
   "cell_type": "markdown",
   "id": "971b53fb0b868d64",
   "metadata": {},
   "source": [
    "# Second Solution: \"Intelligent\" Brute Force\n",
    "\n",
    "We can solve the challenge even without access to the model or the examples (just the structure), and without resorting to random brute force (yes, that was possible too—my bad on that one).\n",
    "\n",
    "We’ll start by sending requests to understand the model's structure and the tests being performed. If we change only the bias and force its value to, say, $\\pm 10000$, in one case, all examples will yield a negative value and be classified as 25, and in the other case, all examples will yield a massive value and be classified as 50. By this method, we can deduce how many examples are 25s and how many are 50s."
   ]
  },
  {
   "cell_type": "code",
   "execution_count": 17,
   "id": "69ffc58362ac1581",
   "metadata": {
    "ExecuteTime": {
     "end_time": "2024-05-22T20:35:36.526739Z",
     "start_time": "2024-05-22T20:35:36.375076Z"
    }
   },
   "outputs": [
    {
     "data": {
      "text/plain": [
       "'Raté ! Le modèle a obtenu une précision sur les classes inversée de 0.41379310344827586, il faut au moins 0.7'"
      ]
     },
     "execution_count": 17,
     "metadata": {},
     "output_type": "execute_result"
    }
   ],
   "source": [
    "d = {\n",
    "        \"position_1\": [-2, 0, 0],  \n",
    "        \"value_1\": 0.12,  # Original value, just to have something to send to the API\n",
    "        \"position_2\": [-1, 0],  \n",
    "        \"value_2\": -10000\n",
    "    }\n",
    "rq.post(URL + \"/challenges/4\", json=d).json()[\"message\"]"
   ]
  },
  {
   "cell_type": "code",
   "execution_count": 18,
   "id": "4bfcb9ef4a8a5201",
   "metadata": {
    "ExecuteTime": {
     "end_time": "2024-05-22T20:35:57.769916Z",
     "start_time": "2024-05-22T20:35:57.629157Z"
    }
   },
   "outputs": [
    {
     "data": {
      "text/plain": [
       "'Raté ! Le modèle a obtenu une précision sur les classes inversée de 0.5862068965517241, il faut au moins 0.7'"
      ]
     },
     "execution_count": 18,
     "metadata": {},
     "output_type": "execute_result"
    }
   ],
   "source": [
    "d = {\n",
    "        \"position_1\": [-2, 0, 0],  \n",
    "        \"value_1\": 0.12,  # Valeur originale, c'est juste pour avoir quelque chose à donner à l'API\n",
    "        \"position_2\": [-1, 0],  \n",
    "        \"value_2\": 10000\n",
    "    }\n",
    "rq.post(URL + \"/challenges/4\", json=d).json()[\"message\"]"
   ]
  },
  {
   "cell_type": "markdown",
   "id": "6c8e50590b35a81e",
   "metadata": {},
   "source": [
    "So, there are $41\\%$ of class 50 and $58\\%$ of class 25. We can then try to determine the importance of each weight in the second-to-last layer for incorrect classification and also check whether this weight is positive or negative:"
   ]
  },
  {
   "cell_type": "code",
   "execution_count": 19,
   "id": "c86c690f54d68113",
   "metadata": {
    "ExecuteTime": {
     "end_time": "2024-05-22T20:40:07.308982Z",
     "start_time": "2024-05-22T20:39:58.404935Z"
    }
   },
   "outputs": [
    {
     "name": "stdout",
     "output_type": "stream",
     "text": [
      "   0,    1,  0.4827586\n",
      "   0,   -1,  0.4137931\n",
      "   1,    1,  0.3103448\n",
      "   1,   -1,  0.4137931\n",
      "   2,    1,  0.0\n",
      "   2,   -1,  0.0\n",
      "   3,    1,  0.0\n",
      "   3,   -1,  0.0\n",
      "   4,    1,  0.0\n",
      "   4,   -1,  0.0\n",
      "   5,    1,  0.0\n",
      "   5,   -1,  0.0\n",
      "   6,    1,  0.0\n",
      "   6,   -1,  0.0\n",
      "   7,    1,  0.0\n",
      "   7,   -1,  0.0689655\n",
      "   8,    1,  0.0\n",
      "   8,   -1,  0.0\n",
      "   9,    1,  0.1724137\n",
      "   9,   -1,  0.4137931\n",
      "  10,    1,  0.0\n",
      "  10,   -1,  0.0\n",
      "  11,    1,  0.0\n",
      "  11,   -1,  0.0\n",
      "  12,    1,  0.0\n",
      "  12,   -1,  0.0\n",
      "  13,    1,  0.0\n",
      "  13,   -1,  0.0\n",
      "  14,    1,  0.0\n",
      "  14,   -1,  0.0\n",
      "  15,    1,  0.0\n",
      "  15,   -1,  0.0\n",
      "  16,    1,  0.0\n",
      "  16,   -1,  0.0\n",
      "  17,    1,  0.0\n",
      "  17,   -1,  0.0\n",
      "  18,    1,  0.0\n",
      "  18,   -1,  0.0\n",
      "  19,    1,  0.5862068\n",
      "  19,   -1,  0.4137931\n",
      "  20,    1,  0.0\n",
      "  20,   -1,  0.0\n",
      "  21,    1,  0.5862068\n",
      "  21,   -1,  0.4137931\n",
      "  22,    1,  0.0\n",
      "  22,   -1,  0.0\n",
      "  23,    1,  0.1034482\n",
      "  23,   -1,  0.0\n",
      "  24,    1,  0.0\n",
      "  24,   -1,  0.0\n",
      "  25,    1,  0.0\n",
      "  25,   -1,  0.0\n",
      "  26,    1,  0.0\n",
      "  26,   -1,  0.0\n",
      "  27,    1,  0.0\n",
      "  27,   -1,  0.0\n",
      "  28,    1,  0.5862068\n",
      "  28,   -1,  0.2068965\n",
      "  29,    1,  0.0\n",
      "  29,   -1,  0.0\n",
      "  30,    1,  0.0\n",
      "  30,   -1,  0.0\n",
      "  31,    1,  0.3448275\n",
      "  31,   -1,  0.0\n"
     ]
    }
   ],
   "source": [
    "for i in range(32):\n",
    "    for j in [1, -1]:\n",
    "        d = {\n",
    "            \"position_1\": [-2, i, 0],  \n",
    "            \"value_1\": j*1000, \n",
    "            \"position_2\": [-1, 0],\n",
    "            \"value_2\": 1\n",
    "        }\n",
    "        r = rq.post(URL + \"/challenges/4\", json=d).json()[\"message\"][67:77]\n",
    "        if \"il\" in r:\n",
    "            r = \" 0.0\"\n",
    "        print(f\"{i:>4}, {j:>4}, {r}\")"
   ]
  },
  {
   "cell_type": "markdown",
   "id": "7b2c4f657c1618b4",
   "metadata": {},
   "source": [
    "We notice something very interesting: weight number 9 significantly impacts class 50—all examples are misclassified when this weight is negative. However, it impacts class 25 less, with only $17\\%$ of examples being misclassified out of $58\\%$ when this weight is large.\n",
    "\n",
    "Therefore, I decide to modify this weight:"
   ]
  },
  {
   "cell_type": "code",
   "execution_count": 20,
   "id": "ca8d1579141afba8",
   "metadata": {
    "ExecuteTime": {
     "end_time": "2024-05-22T20:43:46.657087Z",
     "start_time": "2024-05-22T20:43:28.674751Z"
    }
   },
   "outputs": [
    {
     "name": "stdout",
     "output_type": "stream",
     "text": [
      "   0,    0, Raté ! Le modèle a obtenu une précision sur les classes inversée de 0.0, il faut au moins 0.7\n",
      "   0,   20, Raté ! Le modèle a obtenu une précision sur les classes inversée de 0.0, il faut au moins 0.7\n",
      "   0,   40, Raté ! Le modèle a obtenu une précision sur les classes inversée de 0.5862068965517241, il faut au moins 0.7\n",
      "   0,   60, Raté ! Le modèle a obtenu une précision sur les classes inversée de 0.5862068965517241, il faut au moins 0.7\n",
      "   0,   80, Raté ! Le modèle a obtenu une précision sur les classes inversée de 0.5862068965517241, il faut au moins 0.7\n",
      "  20,    0, Raté ! Le modèle a obtenu une précision sur les classes inversée de 0.41379310344827586, il faut au moins 0.7\n",
      "  20,   20, Raté ! Le modèle a obtenu une précision sur les classes inversée de 0.41379310344827586, il faut au moins 0.7\n",
      "  20,   40, Bien joué ! Voici le drapeau : 404CTF{d3_p3t1ts_Ch4ng3m3ntS_tR3s_cHA0t1qU3s} (précision : 0.8620689655172413)\n",
      "  20,   60, Bien joué ! Voici le drapeau : 404CTF{d3_p3t1ts_Ch4ng3m3ntS_tR3s_cHA0t1qU3s} (précision : 0.8620689655172413)\n",
      "  20,   80, Bien joué ! Voici le drapeau : 404CTF{d3_p3t1ts_Ch4ng3m3ntS_tR3s_cHA0t1qU3s} (précision : 0.8620689655172413)\n",
      "  40,    0, Raté ! Le modèle a obtenu une précision sur les classes inversée de 0.41379310344827586, il faut au moins 0.7\n",
      "  40,   20, Raté ! Le modèle a obtenu une précision sur les classes inversée de 0.41379310344827586, il faut au moins 0.7\n",
      "  40,   40, Bien joué ! Voici le drapeau : 404CTF{d3_p3t1ts_Ch4ng3m3ntS_tR3s_cHA0t1qU3s} (précision : 0.8620689655172413)\n",
      "  40,   60, Bien joué ! Voici le drapeau : 404CTF{d3_p3t1ts_Ch4ng3m3ntS_tR3s_cHA0t1qU3s} (précision : 0.8620689655172413)\n",
      "  40,   80, Bien joué ! Voici le drapeau : 404CTF{d3_p3t1ts_Ch4ng3m3ntS_tR3s_cHA0t1qU3s} (précision : 0.8620689655172413)\n",
      "  60,    0, Raté ! Le modèle a obtenu une précision sur les classes inversée de 0.41379310344827586, il faut au moins 0.7\n",
      "  60,   20, Raté ! Le modèle a obtenu une précision sur les classes inversée de 0.41379310344827586, il faut au moins 0.7\n",
      "  60,   40, Bien joué ! Voici le drapeau : 404CTF{d3_p3t1ts_Ch4ng3m3ntS_tR3s_cHA0t1qU3s} (précision : 0.8275862068965517)\n",
      "  60,   60, Bien joué ! Voici le drapeau : 404CTF{d3_p3t1ts_Ch4ng3m3ntS_tR3s_cHA0t1qU3s} (précision : 0.8620689655172413)\n",
      "  60,   80, Bien joué ! Voici le drapeau : 404CTF{d3_p3t1ts_Ch4ng3m3ntS_tR3s_cHA0t1qU3s} (précision : 0.8620689655172413)\n",
      "  80,    0, Raté ! Le modèle a obtenu une précision sur les classes inversée de 0.41379310344827586, il faut au moins 0.7\n",
      "  80,   20, Raté ! Le modèle a obtenu une précision sur les classes inversée de 0.41379310344827586, il faut au moins 0.7\n",
      "  80,   40, Bien joué ! Voici le drapeau : 404CTF{d3_p3t1ts_Ch4ng3m3ntS_tR3s_cHA0t1qU3s} (précision : 0.8275862068965517)\n",
      "  80,   60, Bien joué ! Voici le drapeau : 404CTF{d3_p3t1ts_Ch4ng3m3ntS_tR3s_cHA0t1qU3s} (précision : 0.8620689655172413)\n",
      "  80,   80, Bien joué ! Voici le drapeau : 404CTF{d3_p3t1ts_Ch4ng3m3ntS_tR3s_cHA0t1qU3s} (précision : 0.8620689655172413)\n",
      " 100,    0, Raté ! Le modèle a obtenu une précision sur les classes inversée de 0.41379310344827586, il faut au moins 0.7\n",
      " 100,   20, Raté ! Le modèle a obtenu une précision sur les classes inversée de 0.41379310344827586, il faut au moins 0.7\n",
      " 100,   40, Bien joué ! Voici le drapeau : 404CTF{d3_p3t1ts_Ch4ng3m3ntS_tR3s_cHA0t1qU3s} (précision : 0.8275862068965517)\n",
      " 100,   60, Bien joué ! Voici le drapeau : 404CTF{d3_p3t1ts_Ch4ng3m3ntS_tR3s_cHA0t1qU3s} (précision : 0.8620689655172413)\n",
      " 100,   80, Bien joué ! Voici le drapeau : 404CTF{d3_p3t1ts_Ch4ng3m3ntS_tR3s_cHA0t1qU3s} (précision : 0.8620689655172413)\n",
      " 120,    0, Raté ! Le modèle a obtenu une précision sur les classes inversée de 0.41379310344827586, il faut au moins 0.7\n",
      " 120,   20, Raté ! Le modèle a obtenu une précision sur les classes inversée de 0.41379310344827586, il faut au moins 0.7\n",
      " 120,   40, Bien joué ! Voici le drapeau : 404CTF{d3_p3t1ts_Ch4ng3m3ntS_tR3s_cHA0t1qU3s} (précision : 0.8275862068965517)\n",
      " 120,   60, Bien joué ! Voici le drapeau : 404CTF{d3_p3t1ts_Ch4ng3m3ntS_tR3s_cHA0t1qU3s} (précision : 0.8620689655172413)\n",
      " 120,   80, Bien joué ! Voici le drapeau : 404CTF{d3_p3t1ts_Ch4ng3m3ntS_tR3s_cHA0t1qU3s} (précision : 0.8620689655172413)\n",
      " 140,    0, Raté ! Le modèle a obtenu une précision sur les classes inversée de 0.41379310344827586, il faut au moins 0.7\n",
      " 140,   20, Raté ! Le modèle a obtenu une précision sur les classes inversée de 0.41379310344827586, il faut au moins 0.7\n",
      " 140,   40, Bien joué ! Voici le drapeau : 404CTF{d3_p3t1ts_Ch4ng3m3ntS_tR3s_cHA0t1qU3s} (précision : 0.8275862068965517)\n",
      " 140,   60, Bien joué ! Voici le drapeau : 404CTF{d3_p3t1ts_Ch4ng3m3ntS_tR3s_cHA0t1qU3s} (précision : 0.8620689655172413)\n",
      " 140,   80, Bien joué ! Voici le drapeau : 404CTF{d3_p3t1ts_Ch4ng3m3ntS_tR3s_cHA0t1qU3s} (précision : 0.8620689655172413)\n",
      " 160,    0, Raté ! Le modèle a obtenu une précision sur les classes inversée de 0.41379310344827586, il faut au moins 0.7\n",
      " 160,   20, Raté ! Le modèle a obtenu une précision sur les classes inversée de 0.41379310344827586, il faut au moins 0.7\n",
      " 160,   40, Bien joué ! Voici le drapeau : 404CTF{d3_p3t1ts_Ch4ng3m3ntS_tR3s_cHA0t1qU3s} (précision : 0.8275862068965517)\n",
      " 160,   60, Bien joué ! Voici le drapeau : 404CTF{d3_p3t1ts_Ch4ng3m3ntS_tR3s_cHA0t1qU3s} (précision : 0.8620689655172413)\n",
      " 160,   80, Bien joué ! Voici le drapeau : 404CTF{d3_p3t1ts_Ch4ng3m3ntS_tR3s_cHA0t1qU3s} (précision : 0.8620689655172413)\n",
      " 180,    0, Raté ! Le modèle a obtenu une précision sur les classes inversée de 0.41379310344827586, il faut au moins 0.7\n",
      " 180,   20, Raté ! Le modèle a obtenu une précision sur les classes inversée de 0.41379310344827586, il faut au moins 0.7\n",
      " 180,   40, Bien joué ! Voici le drapeau : 404CTF{d3_p3t1ts_Ch4ng3m3ntS_tR3s_cHA0t1qU3s} (précision : 0.8275862068965517)\n",
      " 180,   60, Bien joué ! Voici le drapeau : 404CTF{d3_p3t1ts_Ch4ng3m3ntS_tR3s_cHA0t1qU3s} (précision : 0.8275862068965517)\n",
      " 180,   80, Bien joué ! Voici le drapeau : 404CTF{d3_p3t1ts_Ch4ng3m3ntS_tR3s_cHA0t1qU3s} (précision : 0.8620689655172413)\n",
      " 200,    0, Raté ! Le modèle a obtenu une précision sur les classes inversée de 0.41379310344827586, il faut au moins 0.7\n",
      " 200,   20, Raté ! Le modèle a obtenu une précision sur les classes inversée de 0.41379310344827586, il faut au moins 0.7\n",
      " 200,   40, Bien joué ! Voici le drapeau : 404CTF{d3_p3t1ts_Ch4ng3m3ntS_tR3s_cHA0t1qU3s} (précision : 0.8275862068965517)\n",
      " 200,   60, Bien joué ! Voici le drapeau : 404CTF{d3_p3t1ts_Ch4ng3m3ntS_tR3s_cHA0t1qU3s} (précision : 0.8275862068965517)\n",
      " 200,   80, Bien joué ! Voici le drapeau : 404CTF{d3_p3t1ts_Ch4ng3m3ntS_tR3s_cHA0t1qU3s} (précision : 0.8620689655172413)\n",
      " 220,    0, Raté ! Le modèle a obtenu une précision sur les classes inversée de 0.41379310344827586, il faut au moins 0.7\n",
      " 220,   20, Raté ! Le modèle a obtenu une précision sur les classes inversée de 0.41379310344827586, il faut au moins 0.7\n",
      " 220,   40, Bien joué ! Voici le drapeau : 404CTF{d3_p3t1ts_Ch4ng3m3ntS_tR3s_cHA0t1qU3s} (précision : 0.8275862068965517)\n",
      " 220,   60, Bien joué ! Voici le drapeau : 404CTF{d3_p3t1ts_Ch4ng3m3ntS_tR3s_cHA0t1qU3s} (précision : 0.8275862068965517)\n",
      " 220,   80, Bien joué ! Voici le drapeau : 404CTF{d3_p3t1ts_Ch4ng3m3ntS_tR3s_cHA0t1qU3s} (précision : 0.8620689655172413)\n",
      " 240,    0, Raté ! Le modèle a obtenu une précision sur les classes inversée de 0.41379310344827586, il faut au moins 0.7\n",
      " 240,   20, Raté ! Le modèle a obtenu une précision sur les classes inversée de 0.41379310344827586, il faut au moins 0.7\n",
      " 240,   40, Bien joué ! Voici le drapeau : 404CTF{d3_p3t1ts_Ch4ng3m3ntS_tR3s_cHA0t1qU3s} (précision : 0.8275862068965517)\n",
      " 240,   60, Bien joué ! Voici le drapeau : 404CTF{d3_p3t1ts_Ch4ng3m3ntS_tR3s_cHA0t1qU3s} (précision : 0.8275862068965517)\n",
      " 240,   80, Bien joué ! Voici le drapeau : 404CTF{d3_p3t1ts_Ch4ng3m3ntS_tR3s_cHA0t1qU3s} (précision : 0.8620689655172413)\n",
      " 260,    0, Raté ! Le modèle a obtenu une précision sur les classes inversée de 0.41379310344827586, il faut au moins 0.7\n",
      " 260,   20, Raté ! Le modèle a obtenu une précision sur les classes inversée de 0.41379310344827586, il faut au moins 0.7\n",
      " 260,   40, Bien joué ! Voici le drapeau : 404CTF{d3_p3t1ts_Ch4ng3m3ntS_tR3s_cHA0t1qU3s} (précision : 0.8275862068965517)\n",
      " 260,   60, Bien joué ! Voici le drapeau : 404CTF{d3_p3t1ts_Ch4ng3m3ntS_tR3s_cHA0t1qU3s} (précision : 0.8275862068965517)\n",
      " 260,   80, Bien joué ! Voici le drapeau : 404CTF{d3_p3t1ts_Ch4ng3m3ntS_tR3s_cHA0t1qU3s} (précision : 0.8620689655172413)\n",
      " 280,    0, Raté ! Le modèle a obtenu une précision sur les classes inversée de 0.41379310344827586, il faut au moins 0.7\n",
      " 280,   20, Raté ! Le modèle a obtenu une précision sur les classes inversée de 0.41379310344827586, il faut au moins 0.7\n",
      " 280,   40, Bien joué ! Voici le drapeau : 404CTF{d3_p3t1ts_Ch4ng3m3ntS_tR3s_cHA0t1qU3s} (précision : 0.8275862068965517)\n",
      " 280,   60, Bien joué ! Voici le drapeau : 404CTF{d3_p3t1ts_Ch4ng3m3ntS_tR3s_cHA0t1qU3s} (précision : 0.8275862068965517)\n",
      " 280,   80, Bien joué ! Voici le drapeau : 404CTF{d3_p3t1ts_Ch4ng3m3ntS_tR3s_cHA0t1qU3s} (précision : 0.8275862068965517)\n",
      " 300,    0, Raté ! Le modèle a obtenu une précision sur les classes inversée de 0.41379310344827586, il faut au moins 0.7\n",
      " 300,   20, Raté ! Le modèle a obtenu une précision sur les classes inversée de 0.41379310344827586, il faut au moins 0.7\n",
      " 300,   40, Bien joué ! Voici le drapeau : 404CTF{d3_p3t1ts_Ch4ng3m3ntS_tR3s_cHA0t1qU3s} (précision : 0.8275862068965517)\n",
      " 300,   60, Bien joué ! Voici le drapeau : 404CTF{d3_p3t1ts_Ch4ng3m3ntS_tR3s_cHA0t1qU3s} (précision : 0.8275862068965517)\n",
      " 300,   80, Bien joué ! Voici le drapeau : 404CTF{d3_p3t1ts_Ch4ng3m3ntS_tR3s_cHA0t1qU3s} (précision : 0.8275862068965517)\n",
      " 320,    0, Raté ! Le modèle a obtenu une précision sur les classes inversée de 0.41379310344827586, il faut au moins 0.7\n",
      " 320,   20, Raté ! Le modèle a obtenu une précision sur les classes inversée de 0.41379310344827586, il faut au moins 0.7\n",
      " 320,   40, Bien joué ! Voici le drapeau : 404CTF{d3_p3t1ts_Ch4ng3m3ntS_tR3s_cHA0t1qU3s} (précision : 0.8275862068965517)\n",
      " 320,   60, Bien joué ! Voici le drapeau : 404CTF{d3_p3t1ts_Ch4ng3m3ntS_tR3s_cHA0t1qU3s} (précision : 0.8275862068965517)\n",
      " 320,   80, Bien joué ! Voici le drapeau : 404CTF{d3_p3t1ts_Ch4ng3m3ntS_tR3s_cHA0t1qU3s} (précision : 0.8275862068965517)\n",
      " 340,    0, Raté ! Le modèle a obtenu une précision sur les classes inversée de 0.41379310344827586, il faut au moins 0.7\n",
      " 340,   20, Raté ! Le modèle a obtenu une précision sur les classes inversée de 0.41379310344827586, il faut au moins 0.7\n",
      " 340,   40, Bien joué ! Voici le drapeau : 404CTF{d3_p3t1ts_Ch4ng3m3ntS_tR3s_cHA0t1qU3s} (précision : 0.8275862068965517)\n",
      " 340,   60, Bien joué ! Voici le drapeau : 404CTF{d3_p3t1ts_Ch4ng3m3ntS_tR3s_cHA0t1qU3s} (précision : 0.8275862068965517)\n",
      " 340,   80, Bien joué ! Voici le drapeau : 404CTF{d3_p3t1ts_Ch4ng3m3ntS_tR3s_cHA0t1qU3s} (précision : 0.8275862068965517)\n",
      " 360,    0, Raté ! Le modèle a obtenu une précision sur les classes inversée de 0.41379310344827586, il faut au moins 0.7\n",
      " 360,   20, Raté ! Le modèle a obtenu une précision sur les classes inversée de 0.41379310344827586, il faut au moins 0.7\n",
      " 360,   40, Bien joué ! Voici le drapeau : 404CTF{d3_p3t1ts_Ch4ng3m3ntS_tR3s_cHA0t1qU3s} (précision : 0.8275862068965517)\n",
      " 360,   60, Bien joué ! Voici le drapeau : 404CTF{d3_p3t1ts_Ch4ng3m3ntS_tR3s_cHA0t1qU3s} (précision : 0.8275862068965517)\n",
      " 360,   80, Bien joué ! Voici le drapeau : 404CTF{d3_p3t1ts_Ch4ng3m3ntS_tR3s_cHA0t1qU3s} (précision : 0.8275862068965517)\n",
      " 380,    0, Raté ! Le modèle a obtenu une précision sur les classes inversée de 0.41379310344827586, il faut au moins 0.7\n",
      " 380,   20, Raté ! Le modèle a obtenu une précision sur les classes inversée de 0.41379310344827586, il faut au moins 0.7\n",
      " 380,   40, Bien joué ! Voici le drapeau : 404CTF{d3_p3t1ts_Ch4ng3m3ntS_tR3s_cHA0t1qU3s} (précision : 0.8275862068965517)\n",
      " 380,   60, Bien joué ! Voici le drapeau : 404CTF{d3_p3t1ts_Ch4ng3m3ntS_tR3s_cHA0t1qU3s} (précision : 0.8275862068965517)\n",
      " 380,   80, Bien joué ! Voici le drapeau : 404CTF{d3_p3t1ts_Ch4ng3m3ntS_tR3s_cHA0t1qU3s} (précision : 0.8275862068965517)\n",
      " 400,    0, Raté ! Le modèle a obtenu une précision sur les classes inversée de 0.41379310344827586, il faut au moins 0.7\n",
      " 400,   20, Raté ! Le modèle a obtenu une précision sur les classes inversée de 0.41379310344827586, il faut au moins 0.7\n",
      " 400,   40, Bien joué ! Voici le drapeau : 404CTF{d3_p3t1ts_Ch4ng3m3ntS_tR3s_cHA0t1qU3s} (précision : 0.8275862068965517)\n",
      " 400,   60, Bien joué ! Voici le drapeau : 404CTF{d3_p3t1ts_Ch4ng3m3ntS_tR3s_cHA0t1qU3s} (précision : 0.8275862068965517)\n",
      " 400,   80, Bien joué ! Voici le drapeau : 404CTF{d3_p3t1ts_Ch4ng3m3ntS_tR3s_cHA0t1qU3s} (précision : 0.8275862068965517)\n",
      " 420,    0, Raté ! Le modèle a obtenu une précision sur les classes inversée de 0.41379310344827586, il faut au moins 0.7\n",
      " 420,   20, Raté ! Le modèle a obtenu une précision sur les classes inversée de 0.41379310344827586, il faut au moins 0.7\n",
      " 420,   40, Bien joué ! Voici le drapeau : 404CTF{d3_p3t1ts_Ch4ng3m3ntS_tR3s_cHA0t1qU3s} (précision : 0.8275862068965517)\n",
      " 420,   60, Bien joué ! Voici le drapeau : 404CTF{d3_p3t1ts_Ch4ng3m3ntS_tR3s_cHA0t1qU3s} (précision : 0.8275862068965517)\n",
      " 420,   80, Bien joué ! Voici le drapeau : 404CTF{d3_p3t1ts_Ch4ng3m3ntS_tR3s_cHA0t1qU3s} (précision : 0.8275862068965517)\n",
      " 440,    0, Raté ! Le modèle a obtenu une précision sur les classes inversée de 0.41379310344827586, il faut au moins 0.7\n",
      " 440,   20, Raté ! Le modèle a obtenu une précision sur les classes inversée de 0.41379310344827586, il faut au moins 0.7\n",
      " 440,   40, Bien joué ! Voici le drapeau : 404CTF{d3_p3t1ts_Ch4ng3m3ntS_tR3s_cHA0t1qU3s} (précision : 0.8275862068965517)\n",
      " 440,   60, Bien joué ! Voici le drapeau : 404CTF{d3_p3t1ts_Ch4ng3m3ntS_tR3s_cHA0t1qU3s} (précision : 0.8275862068965517)\n",
      " 440,   80, Bien joué ! Voici le drapeau : 404CTF{d3_p3t1ts_Ch4ng3m3ntS_tR3s_cHA0t1qU3s} (précision : 0.8275862068965517)\n",
      " 460,    0, Raté ! Le modèle a obtenu une précision sur les classes inversée de 0.41379310344827586, il faut au moins 0.7\n",
      " 460,   20, Raté ! Le modèle a obtenu une précision sur les classes inversée de 0.41379310344827586, il faut au moins 0.7\n",
      " 460,   40, Bien joué ! Voici le drapeau : 404CTF{d3_p3t1ts_Ch4ng3m3ntS_tR3s_cHA0t1qU3s} (précision : 0.8275862068965517)\n",
      " 460,   60, Bien joué ! Voici le drapeau : 404CTF{d3_p3t1ts_Ch4ng3m3ntS_tR3s_cHA0t1qU3s} (précision : 0.8275862068965517)\n",
      " 460,   80, Bien joué ! Voici le drapeau : 404CTF{d3_p3t1ts_Ch4ng3m3ntS_tR3s_cHA0t1qU3s} (précision : 0.8275862068965517)\n",
      " 480,    0, Raté ! Le modèle a obtenu une précision sur les classes inversée de 0.41379310344827586, il faut au moins 0.7\n",
      " 480,   20, Raté ! Le modèle a obtenu une précision sur les classes inversée de 0.41379310344827586, il faut au moins 0.7\n",
      " 480,   40, Bien joué ! Voici le drapeau : 404CTF{d3_p3t1ts_Ch4ng3m3ntS_tR3s_cHA0t1qU3s} (précision : 0.8275862068965517)\n",
      " 480,   60, Bien joué ! Voici le drapeau : 404CTF{d3_p3t1ts_Ch4ng3m3ntS_tR3s_cHA0t1qU3s} (précision : 0.8275862068965517)\n",
      " 480,   80, Bien joué ! Voici le drapeau : 404CTF{d3_p3t1ts_Ch4ng3m3ntS_tR3s_cHA0t1qU3s} (précision : 0.8275862068965517)\n"
     ]
    }
   ],
   "source": [
    "for i in range(0, 500, 20):\n",
    "    for j in range(0, 100, 20):\n",
    "        d = {\n",
    "                \"position_1\": [-2, 9, 0], \n",
    "                \"value_1\": -i,  \n",
    "                \"position_2\": [-1, 0],\n",
    "                \"value_2\": j\n",
    "            }\n",
    "        r = rq.post(URL + \"/challenges/4\", json=d).json()[\"message\"]\n",
    "        print(f\"{i:>4}, {j:>4}, {r}\")"
   ]
  }
 ],
 "metadata": {
  "kernelspec": {
   "display_name": "Python 3 (ipykernel)",
   "language": "python",
   "name": "python3"
  },
  "language_info": {
   "codemirror_mode": {
    "name": "ipython",
    "version": 3
   },
   "file_extension": ".py",
   "mimetype": "text/x-python",
   "name": "python",
   "nbconvert_exporter": "python",
   "pygments_lexer": "ipython3",
   "version": "3.12.5"
  }
 },
 "nbformat": 4,
 "nbformat_minor": 5
}
