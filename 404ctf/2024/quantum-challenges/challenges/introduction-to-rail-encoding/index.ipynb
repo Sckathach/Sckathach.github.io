{
 "cells": [
  {
   "cell_type": "raw",
   "id": "1d8ee50a-1c7d-4fbd-988c-91ece532f859",
   "metadata": {},
   "source": [
    "---\n",
    "title: \"Challenge 1: Introduction to the dual-rail or path encoding\"\n",
    "author: \"Le magicien quantique\"\n",
    "format: html\n",
    "toc: true\n",
    "number-sections: true\n",
    "date: \"05/12/2024\"\n",
    "date-format: long\n",
    "---"
   ]
  },
  {
   "cell_type": "code",
   "execution_count": null,
   "id": "e156d68cbc62a3bb",
   "metadata": {
    "collapsed": false,
    "jupyter": {
     "outputs_hidden": false
    }
   },
   "outputs": [],
   "source": [
    "import numpy as np\n",
    "import perceval as pcvl"
   ]
  },
  {
   "cell_type": "markdown",
   "id": "178a84418c881be2",
   "metadata": {
    "collapsed": false,
    "jupyter": {
     "outputs_hidden": false
    }
   },
   "source": [
    "![railway_meme.jpg](memes/challenge_1-english.jpg)\n",
    "\n",
    "## Encoding Qubits?\n",
    "The quantum information carried by a **qubit** can be represented in various ways. Here, we use the photonic quantum computer model, which operates with **photons** and **optical hardware**.\n",
    "\n",
    "*This is how the French startup Quandela operates. We will complete all the challenges of this edition using their framework: Perceval. (https://perceval.quandela.net/)* "
   ]
  },
  {
   "cell_type": "code",
   "execution_count": null,
   "id": "6706e4db218c5796",
   "metadata": {
    "collapsed": false,
    "jupyter": {
     "outputs_hidden": false
    }
   },
   "outputs": [],
   "source": [
    "# A beautiful gate\n",
    "x_gate = pcvl.PERM([1, 0])\n",
    "pcvl.pdisplay(x_gate)"
   ]
  },
  {
   "cell_type": "markdown",
   "id": "c0aec390bc1b0c9f",
   "metadata": {
    "collapsed": false,
    "jupyter": {
     "outputs_hidden": false
    }
   },
   "source": [
    "Working with photons has many advantages. All operations are possible, with direct applications in telecommunications. Scaling is easier and energy consumption is lower."
   ]
  },
  {
   "cell_type": "code",
   "execution_count": null,
   "id": "5150c9689952557a",
   "metadata": {
    "collapsed": false,
    "jupyter": {
     "outputs_hidden": false
    }
   },
   "outputs": [],
   "source": [
    "# Another beautiful gate\n",
    "hadamard_gate = pcvl.BS.H()\n",
    "pcvl.pdisplay(hadamard_gate)"
   ]
  },
  {
   "cell_type": "markdown",
   "id": "da8286d4ac8b5468",
   "metadata": {
    "collapsed": false,
    "jupyter": {
     "outputs_hidden": false
    }
   },
   "source": [
    "There are several ways to encode qubits with photons; we have chosen to focus on **dual-rail encoding** because it is easier to grasp."
   ]
  },
  {
   "cell_type": "code",
   "execution_count": null,
   "id": "b567e1429c2584c3",
   "metadata": {
    "collapsed": false,
    "jupyter": {
     "outputs_hidden": false
    }
   },
   "outputs": [],
   "source": [
    "qubits = {\n",
    "    \"0\": pcvl.BasicState([1, 0]),\n",
    "    \"1\": pcvl.BasicState([0, 1])\n",
    "}\n",
    "print(\"Qubit 0 on the first rail:\", qubits[\"0\"])\n",
    "print(\"Qubit 1 on the second rail:\", qubits[\"1\"])"
   ]
  },
  {
   "cell_type": "markdown",
   "id": "397696279265cba3",
   "metadata": {
    "collapsed": false,
    "jupyter": {
     "outputs_hidden": false
    }
   },
   "source": [
    "We can then perform operations on these rails to simulate **logic gates**. For example, a NOT gate (`x_gate`):"
   ]
  },
  {
   "cell_type": "code",
   "execution_count": null,
   "id": "3e82fbcf9632058b",
   "metadata": {
    "collapsed": false,
    "jupyter": {
     "outputs_hidden": false
    }
   },
   "outputs": [],
   "source": [
    "# We create a simulation of our circuit: `x_gate`\n",
    "p = pcvl.Processor(\"Naive\", x_gate)\n",
    "\n",
    "# We analyze the output produced with a qubit 0 at the input.\n",
    "analyser = pcvl.algorithm.Analyzer(p, [qubits[\"0\"]], '*')\n",
    "pcvl.pdisplay(analyser)"
   ]
  },
  {
   "cell_type": "markdown",
   "id": "ac530f9e-4cd5-4f4e-855b-eb9d18570997",
   "metadata": {},
   "source": [
    "We can also try with **multiple inputs:**"
   ]
  },
  {
   "cell_type": "code",
   "execution_count": null,
   "id": "5993db76-555d-45bf-b622-6a5d4558c914",
   "metadata": {},
   "outputs": [],
   "source": [
    "# Dictionary (inverse of qubit defined above) used to directly display qubits when using functions like \n",
    "# the analyzer.\n",
    "qubits_ = {qubits[k]: k for k in qubits}\n",
    "\n",
    "# The '*' in the previous definition of the analyzer was used to display all possible outputs. Here,\n",
    "# I specified which outputs I wanted to have them in the order I desire.\n",
    "analyser = pcvl.algorithm.Analyzer(\n",
    "    p, \n",
    "    input_states=list(qubits.values()), \n",
    "    output_states=list(qubits.values()), \n",
    "    mapping=qubits_\n",
    ")\n",
    "pcvl.pdisplay(analyser)"
   ]
  },
  {
   "cell_type": "markdown",
   "id": "78c7f827-b6b2-4f54-89e1-f46dea448e46",
   "metadata": {},
   "source": [
    "All operations can be represented by **unitary matrices**. For example, the previous circuit can be summarized by:"
   ]
  },
  {
   "cell_type": "code",
   "execution_count": null,
   "id": "708a3b33-19ee-4f9f-9d25-e35f7ec6bb57",
   "metadata": {},
   "outputs": [],
   "source": [
    "pcvl.pdisplay(x_gate.definition())"
   ]
  },
  {
   "cell_type": "markdown",
   "id": "9eaaa76c-de27-4f27-8d2d-1cd640405fc5",
   "metadata": {},
   "source": [
    "In general: \n",
    "$$\n",
    "|\\phi\\rangle = U|\\psi\\rangle\n",
    "$$\n",
    "\n",
    "For instance:\n",
    "$$\n",
    "|\\phi\\rangle = X|1\\rangle = \\begin{pmatrix} 0 & 1 \\\\ 1 & 0 \\end{pmatrix} \\begin{pmatrix} 0 \\\\ 1 \\end{pmatrix} = \\begin{pmatrix} 1 \\\\ 0 \\end{pmatrix} = |0\\rangle\n",
    "$$\n",
    "\n",
    "The **concatenation of circuits** translates to a simple **matrix multiplication**:"
   ]
  },
  {
   "cell_type": "code",
   "execution_count": null,
   "id": "c32699e7-ea9f-4648-b5b6-0adaa491f04b",
   "metadata": {},
   "outputs": [],
   "source": [
    "super_circuit = x_gate // x_gate\n",
    "pcvl.pdisplay(super_circuit.compute_unitary())  # We can no longer directly call .definition()"
   ]
  },
  {
   "cell_type": "markdown",
   "id": "944538d3-1cb1-43f9-baef-57b2cd4d71f5",
   "metadata": {},
   "source": [
    "We can try with the analyzer:"
   ]
  },
  {
   "cell_type": "code",
   "execution_count": null,
   "id": "a7ff9909-fe90-42d6-8321-84ec4aeeb8d4",
   "metadata": {},
   "outputs": [],
   "source": [
    "p = pcvl.Processor(\"Naive\", super_circuit)\n",
    "analyser = pcvl.algorithm.Analyzer(\n",
    "    p, \n",
    "    input_states=list(qubits.values()), \n",
    "    output_states=list(qubits.values()), \n",
    "    mapping=qubits_\n",
    ")\n",
    "pcvl.pdisplay(analyser)"
   ]
  },
  {
   "cell_type": "markdown",
   "id": "c272b7cd-e4e9-447c-bbe1-90e42f70edff",
   "metadata": {},
   "source": [
    "Without the mapping: "
   ]
  },
  {
   "cell_type": "code",
   "execution_count": null,
   "id": "cafe1373-54d1-4b91-9f27-ec72c4d7a0e6",
   "metadata": {},
   "outputs": [],
   "source": [
    "analyser = pcvl.algorithm.Analyzer(\n",
    "    p, \n",
    "    input_states=list(qubits.values()), \n",
    "    output_states=list(qubits.values())\n",
    ")\n",
    "pcvl.pdisplay(analyser)"
   ]
  },
  {
   "cell_type": "markdown",
   "id": "5bd04d16-adb6-4029-9dd0-0a95647e911d",
   "metadata": {},
   "source": [
    "Or even observe our magnificent super circuit that serves *no purpose*:"
   ]
  },
  {
   "cell_type": "code",
   "execution_count": null,
   "id": "0e6b8079-32ec-4c7f-8b94-b8adc18b6257",
   "metadata": {},
   "outputs": [],
   "source": [
    "pcvl.pdisplay(super_circuit)"
   ]
  },
  {
   "cell_type": "markdown",
   "id": "d31abceb-bd22-4d0e-9ba2-f2eaf23e73cb",
   "metadata": {},
   "source": [
    "## The Beginning of Problems...\n",
    "\n",
    "NOT gates are all well and good, but we won't get much done with just those. So, what happens if we try with another gate?"
   ]
  },
  {
   "cell_type": "code",
   "execution_count": null,
   "id": "6732f492-a9cd-43ff-80d3-67fc595b6653",
   "metadata": {},
   "outputs": [],
   "source": [
    "p = pcvl.Processor(\"Naive\", hadamard_gate)\n",
    "analyser = pcvl.algorithm.Analyzer(\n",
    "    p, \n",
    "    input_states=[qubits[\"0\"]], \n",
    "    output_states=list(qubits.values()), \n",
    "    mapping=qubits_\n",
    ")\n",
    "pcvl.pdisplay(analyser)"
   ]
  },
  {
   "cell_type": "markdown",
   "id": "565609d4-dda8-4084-88d2-18f9b1d0c26b",
   "metadata": {},
   "source": [
    "What happened? We used the superstar of quantum gates: **the Hadamard gate**. It's the *gateway* to the quantum world, allowing a qubit to be prepared in a **superposed** state, as shown here:\n",
    "\n",
    "$$\n",
    "H = \\frac{1}{\\sqrt{2}} \\begin{pmatrix} 1 & 1 \\\\ 1 & -1 \\end{pmatrix}\n",
    "$$\n",
    "\n",
    "If we add a $0$ at the input:\n",
    "$$\n",
    "|\\phi\\rangle = H|0\\rangle = \\frac{1}{\\sqrt{2}} \\begin{pmatrix} 1 & 1 \\\\ 1 & -1 \\end{pmatrix} \\begin{pmatrix} 1 \\\\ 0 \\end{pmatrix} = \\frac{1}{\\sqrt{2}} \\begin{pmatrix} 1 \\\\ 1 \\end{pmatrix} \n",
    "$$\n",
    "\n",
    "With: \n",
    "$$\n",
    "\\frac{1}{\\sqrt{2}} \\begin{pmatrix} 1 \\\\ 1 \\end{pmatrix} = \\frac{1}{\\sqrt{2}} \\begin{pmatrix} 1 \\\\ 0 \\end{pmatrix} + \\frac{1}{\\sqrt{2}} \\begin{pmatrix} 0 \\\\ 1 \\end{pmatrix} = \\frac{1}{\\sqrt{2}} |0\\rangle + \\frac{1}{\\sqrt{2}}|1\\rangle\n",
    "$$\n",
    "\n",
    "*We can create a Hadamard gate with a semi-reflective mirror!*\n",
    "\n",
    "*In practice, it will be a bit different though...*"
   ]
  },
  {
   "cell_type": "code",
   "execution_count": null,
   "id": "1aae6869-a24c-4f1a-958e-80839dec7593",
   "metadata": {},
   "outputs": [],
   "source": [
    "pcvl.pdisplay(hadamard_gate)"
   ]
  },
  {
   "cell_type": "markdown",
   "id": "6201b8ec-2d73-4d7a-a310-905465bd7994",
   "metadata": {
    "ExecuteTime": {
     "end_time": "2024-03-28T06:00:47.569455Z",
     "start_time": "2024-03-28T06:00:47.567823Z"
    }
   },
   "source": [
    "You may have noticed that the output from the analyzer is not the same as that of the equations. Indeed, $|\\phi\\rangle$ is a quantum state, which can be **complex**: $|\\phi\\rangle = \\frac{i}{\\sqrt{2}} |0\\rangle - \\frac{i}{\\sqrt{2}} |1\\rangle$, whereas the probabilities of observing one state over another are real! To convert to probabilities, we simply **square** the amplitudes. For instance, in the previous example: $\\Pr(|0\\rangle) = \\left|\\frac{1}{\\sqrt{2}}\\right|^2 = \\frac{1}{2}$. This matches the output of our analyzer.\n",
    "\n",
    "To obtain the complex amplitudes, we can use a backend:"
   ]
  },
  {
   "cell_type": "code",
   "execution_count": null,
   "id": "0827a191-607e-48b5-aa23-747f9bbbf6ec",
   "metadata": {},
   "outputs": [],
   "source": [
    "backend = pcvl.BackendFactory.get_backend(\"Naive\")\n",
    "backend.set_circuit(hadamard_gate)\n",
    "backend.set_input_state(qubits[\"0\"])\n",
    "ampl0, ampl1 = backend.prob_amplitude(qubits[\"0\"]), backend.prob_amplitude(qubits[\"1\"])\n",
    "print(f\"|phi> = {ampl0} |0> + {ampl1} |1>\")"
   ]
  },
  {
   "cell_type": "markdown",
   "id": "84a62735-0e0d-4196-ab3f-ece1f4f9a283",
   "metadata": {},
   "source": [
    "We indeed find the result of the equations:\n",
    "$$\n",
    "|\\phi\\rangle = \\frac{1}{\\sqrt{2}} |0\\rangle + \\frac{1}{\\sqrt{2}} |1\\rangle\n",
    "$$\n",
    "\n",
    "*This series of challenges is not intended to delve into theoretical details but to explore the ecosystem of quantum computers through practice. If you want to learn more, you can checkout IBM's quantum courses: https://learning.quantum.ibm.com/, which are a very good starting point.*"
   ]
  },
  {
   "cell_type": "markdown",
   "id": "f7b98e06-4de6-4d67-968c-783c13ec2f74",
   "metadata": {},
   "source": [
    "## A New Challenger: The Phase Shifter\n",
    "\n",
    "In addition to having complex amplitudes, we can manipulate them using a very powerful tool: the **phase shifter**. It applies to **one rail** and performs the operation: $e^{i\\theta}$."
   ]
  },
  {
   "cell_type": "code",
   "execution_count": null,
   "id": "79a8a80b-9161-4c2c-a9e9-62d724bbed9d",
   "metadata": {},
   "outputs": [],
   "source": [
    "phase_shifter = pcvl.PS(np.pi/3)\n",
    "pcvl.pdisplay(phase_shifter)"
   ]
  },
  {
   "cell_type": "markdown",
   "id": "cc5802a9-3b4a-46e6-93e8-c1a3a917fa0c",
   "metadata": {},
   "source": [
    "In a circuit, it looks like this:"
   ]
  },
  {
   "cell_type": "code",
   "execution_count": null,
   "id": "8640dbaa-9127-4605-96cf-13370095406c",
   "metadata": {},
   "outputs": [],
   "source": [
    "circuit_ps = pcvl.Circuit(2) // (0, phase_shifter)  # The 0 corresponds to the rail number where our \n",
    "                                                    # component is positioned.\n",
    "pcvl.pdisplay(circuit_ps)"
   ]
  },
  {
   "cell_type": "markdown",
   "id": "3ab226c4-c837-4c7f-b624-f7a883f21929",
   "metadata": {},
   "source": [
    "With its associated **unitary matrix**:"
   ]
  },
  {
   "cell_type": "code",
   "execution_count": null,
   "id": "24619349-f5f0-4dd0-ac3f-fcae98621df3",
   "metadata": {},
   "outputs": [],
   "source": [
    "pcvl.pdisplay(circuit_ps.compute_unitary())"
   ]
  },
  {
   "cell_type": "markdown",
   "id": "c87123db-2023-418a-b306-75b6c5b07618",
   "metadata": {},
   "source": [
    "It is also possible to directly observe the **amplitudes**:"
   ]
  },
  {
   "cell_type": "code",
   "execution_count": null,
   "id": "51793b16-9d59-4539-b888-aa30f998fe7f",
   "metadata": {},
   "outputs": [],
   "source": [
    "backend_ps = pcvl.BackendFactory.get_backend(\"Naive\")\n",
    "backend_ps.set_circuit(circuit_ps)\n",
    "backend_ps.set_input_state(qubits[\"0\"])\n",
    "ampl0, ampl1 = backend_ps.prob_amplitude(qubits[\"0\"]), backend_ps.prob_amplitude(qubits[\"1\"])\n",
    "print(f\"|phi> = {ampl0} |0> + {ampl1} |1>\")"
   ]
  },
  {
   "cell_type": "markdown",
   "id": "5ee23c26-2689-4bdc-991e-61a2f043a092",
   "metadata": {},
   "source": [
    "We can have fun reproducing known gates, like the NOT gate:"
   ]
  },
  {
   "cell_type": "code",
   "execution_count": null,
   "id": "5f0633c1-b887-4a75-b7fd-dd9a7dc086ae",
   "metadata": {},
   "outputs": [],
   "source": [
    "super_not = hadamard_gate // (1, pcvl.PS(np.pi)) // hadamard_gate\n",
    "pcvl.pdisplay(super_not)"
   ]
  },
  {
   "cell_type": "code",
   "execution_count": null,
   "id": "8f894007-6293-43d4-ad49-dc9d30f43626",
   "metadata": {},
   "outputs": [],
   "source": [
    "p = pcvl.Processor(\"Naive\", super_not)\n",
    "analyser = pcvl.algorithm.Analyzer(\n",
    "    p, \n",
    "    input_states=list(qubits.values()), \n",
    "    output_states=list(qubits.values()), \n",
    "    mapping=qubits_\n",
    ")\n",
    "pcvl.pdisplay(analyser)"
   ]
  },
  {
   "cell_type": "markdown",
   "id": "dbccc0b7-e6f3-48f1-b09d-22af70126531",
   "metadata": {},
   "source": [
    "*What happened? In the canonical basis $\\left(|0\\rangle = \\begin{pmatrix} 1 \\\\ 0 \\end{pmatrix}, |1\\rangle = \\begin{pmatrix} 0 \\\\ 1 \\end{pmatrix}\\right)$, applying a phase shift on one of the two rails would not have changed anything. However, in another basis:*\n",
    "$$\n",
    "H|0\\rangle = H \\begin{pmatrix} 1 \\\\ 0 \\end{pmatrix} = \\frac{1}{\\sqrt{2}} \\begin{pmatrix} 1 \\\\ 1 \\end{pmatrix} = |+\\rangle \n",
    "$$\n",
    "\n",
    "$$\n",
    "H|1\\rangle = H \\begin{pmatrix} 0 \\\\ 1 \\end{pmatrix} = \\frac{1}{\\sqrt{2}} \\begin{pmatrix} 1 \\\\ -1 \\end{pmatrix} = |-\\rangle\n",
    "$$\n",
    "\n",
    "*We notice that \"0\" and \"1\" differ only by a phase shift, here a shift of $e^{i\\pi}$ on the second rail. So, we simply switch to the new basis, phase shift the second rail, and return to the canonical basis ($H$ is its own inverse, so it's easy).*"
   ]
  },
  {
   "cell_type": "markdown",
   "id": "0be0f2d2-025e-49c5-ba45-4ae758751b5c",
   "metadata": {},
   "source": [
    "## Your Turn to Play!\n",
    "\n",
    "For this part, we will use the generalization of the Hadamard gate: a Beam Splitter. Here are its parameters:"
   ]
  },
  {
   "cell_type": "code",
   "execution_count": null,
   "id": "690a40b0-d839-435f-b8dd-676f965ee59c",
   "metadata": {},
   "outputs": [],
   "source": [
    "# We can define symbolic variables:\n",
    "symbolic_alpha = pcvl.P('α')\n",
    "simple_bs = pcvl.BS(theta=symbolic_alpha)\n",
    "pcvl.pdisplay(simple_bs.U)"
   ]
  },
  {
   "cell_type": "code",
   "execution_count": null,
   "id": "de2cf8e8-0f08-4e65-ac65-79c1e4e91c17",
   "metadata": {},
   "outputs": [],
   "source": [
    "# Then assign them a value:\n",
    "simple_bs.assign({'α': np.pi/2})\n",
    "pcvl.pdisplay(simple_bs.compute_unitary())"
   ]
  },
  {
   "cell_type": "code",
   "execution_count": null,
   "id": "12578527-e893-4ec3-bf47-04f6991dd0fb",
   "metadata": {},
   "outputs": [],
   "source": [
    "# Or change their value later:\n",
    "symbolic_alpha.set_value(np.pi)\n",
    "pcvl.pdisplay(simple_bs.compute_unitary())"
   ]
  },
  {
   "cell_type": "markdown",
   "id": "005e7295-720e-475a-8ee1-c8995405a6d2",
   "metadata": {},
   "source": [
    "### Step 1\n",
    "\n",
    "Considering the following circuit (which corresponds to the definition of the Beam Splitter above):"
   ]
  },
  {
   "cell_type": "code",
   "execution_count": null,
   "id": "56b004f0-b492-4432-a079-87603f193705",
   "metadata": {},
   "outputs": [],
   "source": [
    "step_one = simple_bs\n",
    "pcvl.pdisplay(step_one)"
   ]
  },
  {
   "cell_type": "markdown",
   "id": "99990002-5f9e-4a3f-93ab-d30b5a695659",
   "metadata": {},
   "source": [
    "And an input value: $|0\\rangle$,\n",
    "\n",
    "What value of $\\alpha$ should be chosen to have a 0.9 probability of getting $|1\\rangle$?"
   ]
  },
  {
   "cell_type": "code",
   "execution_count": null,
   "id": "85360ec3-9512-4f30-8651-515588e721e2",
   "metadata": {},
   "outputs": [],
   "source": [
    "alpha = ...\n",
    "raise NotImplementedError"
   ]
  },
  {
   "cell_type": "code",
   "execution_count": null,
   "id": "b6b45507-b041-43bd-8b09-fe96ee791766",
   "metadata": {},
   "outputs": [],
   "source": [
    "step_one.assign({'α': alpha})\n",
    "pcvl.pdisplay(step_one)"
   ]
  },
  {
   "cell_type": "code",
   "execution_count": null,
   "id": "2936ce07-6bc5-484d-a6f8-43ce5edc1ebf",
   "metadata": {},
   "outputs": [],
   "source": [
    "p_step_one = pcvl.Processor(\"Naive\", step_one)\n",
    "a_step_one = pcvl.algorithm.Analyzer(\n",
    "    p_step_one, \n",
    "    input_states=[qubits[\"0\"]], \n",
    "    output_states=list(qubits.values()),             \n",
    "    mapping=qubits_\n",
    ")\n",
    "\n",
    "print(\"Expected output: 1/10 for 0 and 9/10 for 1\")\n",
    "pcvl.pdisplay(a_step_one)\n",
    "# assert np.isclose(a_step_one.distribution[0][1].real, 0.9) "
   ]
  },
  {
   "cell_type": "markdown",
   "id": "d3f55d5f-480a-4f90-a2c6-dc284ba750c8",
   "metadata": {
    "ExecuteTime": {
     "end_time": "2024-03-30T06:23:55.276250Z",
     "start_time": "2024-03-30T06:23:55.274172Z"
    }
   },
   "source": [
    "### Step 2\n",
    "\n",
    "Considering the following circuit and an input value of $|0\\rangle$, find the values of $\\beta$ and $\\gamma$ to prepare a qubit in the state:\n",
    "$$\n",
    "|\\psi\\rangle = \\frac{\\sqrt{3}}{2} |0\\rangle + \\left(\\frac{\\sqrt{3}}{4} - \\frac{i}{4} \\right)|1\\rangle \n",
    "$$"
   ]
  },
  {
   "cell_type": "code",
   "execution_count": null,
   "id": "733cd719-d51a-4404-8ae3-c816d49460de",
   "metadata": {},
   "outputs": [],
   "source": [
    "symbolic_beta = pcvl.P(\"β\")\n",
    "symbolic_gamma = pcvl.P(\"γ\")\n",
    "step_two = pcvl.BS(theta=symbolic_beta) // (1, pcvl.PS(phi=symbolic_gamma))\n",
    "pcvl.pdisplay(step_two)"
   ]
  },
  {
   "cell_type": "code",
   "execution_count": null,
   "id": "643ab2bf-6f47-45bc-a997-99ec02bc6433",
   "metadata": {},
   "outputs": [],
   "source": [
    "beta = ...\n",
    "gamma = ...\n",
    "raise NotImplementedError"
   ]
  },
  {
   "cell_type": "code",
   "execution_count": null,
   "id": "446b475e-8d22-4d9a-b6b9-560d07eabafb",
   "metadata": {},
   "outputs": [],
   "source": [
    "step_two.assign({\"β\": beta, \"γ\": gamma})\n",
    "\n",
    "b_step_two = pcvl.BackendFactory.get_backend(\"Naive\")\n",
    "b_step_two.set_circuit(step_two)\n",
    "b_step_two.set_input_state(qubits[\"0\"])\n",
    "\n",
    "ampl0, ampl1 = b_step_two.prob_amplitude(qubits[\"0\"]), b_step_two.prob_amplitude(qubits[\"1\"])\n",
    "\n",
    "res = f\"|φ> = {np.round(ampl0, 2)} |0> + {np.round(ampl1, 2)} |1>\"\n",
    "sol = f\"|φ> = {np.round(np.sqrt(3) / 2 + 0j, 2)} |0> + {np.round(np.sqrt(3) / 4 - 1j / 4, 2)} |1>\"\n",
    "\n",
    "print(f\"Result  : {res}\")\n",
    "print(f\"Solution: {sol}\")\n",
    "\n",
    "# We ensure that the answer is indeed equal to the solution:\n",
    "# assert res == sol"
   ]
  },
  {
   "cell_type": "markdown",
   "id": "0526ad2e-5d4b-4941-bf02-385ddf575cbd",
   "metadata": {},
   "source": [
    "### One Last Tool for the Road: The Bloch Sphere\n",
    "\n",
    "It turns out that the previous two results can be generalized. With the following circuit, it is possible to prepare **any state.** *(https://perceval.quandela.net/docs/components.html#beam-splitter)*"
   ]
  },
  {
   "cell_type": "code",
   "execution_count": null,
   "id": "9c172d5d-5743-42b3-b07f-61d2976edefa",
   "metadata": {},
   "outputs": [],
   "source": [
    "super_preparator = pcvl.BS()\n",
    "pcvl.pdisplay(super_preparator)"
   ]
  },
  {
   "cell_type": "markdown",
   "id": "db366fee-62cf-478e-aeab-008c4a5afca2",
   "metadata": {},
   "source": [
    "The definition is actually much more general than what we used previously:"
   ]
  },
  {
   "cell_type": "code",
   "execution_count": null,
   "id": "15eabe55-3dbe-429b-8fe8-8946ca80d619",
   "metadata": {},
   "outputs": [],
   "source": [
    "pcvl.pdisplay(super_preparator.definition())"
   ]
  },
  {
   "cell_type": "markdown",
   "id": "d9f5ff9d-9929-4648-8c4c-f932ce5b4930",
   "metadata": {},
   "source": [
    "For example, with random values:"
   ]
  },
  {
   "cell_type": "code",
   "execution_count": null,
   "id": "268f11d7-2c1e-40ca-9b0e-b8cc8ca696c7",
   "metadata": {},
   "outputs": [],
   "source": [
    "import random\n",
    "phi_tl, phi_tr, phi_bl, phi_br, theta_ = [round(random.uniform(0, np.pi), 2) for _ in range(5)]\n",
    "super_preparator = pcvl.BS(phi_tl=phi_tl, phi_tr=phi_tr, phi_bl=phi_bl, phi_br=phi_br, theta=theta_)\n",
    "pcvl.pdisplay(super_preparator.U)"
   ]
  },
  {
   "cell_type": "markdown",
   "id": "4e2acf9c-d765-4334-84cc-e3cad2e10adf",
   "metadata": {},
   "source": [
    "Which allows us to prepare:"
   ]
  },
  {
   "cell_type": "code",
   "execution_count": null,
   "id": "e2168751-9c38-4771-900e-592ec4a7c790",
   "metadata": {},
   "outputs": [],
   "source": [
    "backend = pcvl.BackendFactory.get_backend(\"Naive\")\n",
    "backend.set_circuit(super_preparator)\n",
    "backend.set_input_state(qubits[\"0\"])\n",
    "\n",
    "ampl0, ampl1 = backend.prob_amplitude(qubits[\"0\"]), backend.prob_amplitude(qubits[\"1\"])\n",
    "\n",
    "print(f\"|φ> = {np.round(ampl0, 2)} |0> + {np.round(ampl1, 2)} |1>\")"
   ]
  },
  {
   "cell_type": "markdown",
   "id": "1cf3057d-6061-4308-87ca-de1311c3146d",
   "metadata": {},
   "source": [
    "To represent a qubit, it is possible to use the **Bloch sphere**.\n",
    "\n",
    "<img src=\"https://upload.wikimedia.org/wikipedia/commons/thumb/6/6b/Bloch_sphere.svg/800px-Bloch_sphere.svg.png\" alt=\"bloch_sphere_wikipedia.png\" width=\"200\" height=\"200\">\n",
    "\n",
    "The $Z$ axis corresponds to the states $|0\\rangle$ and $|1\\rangle$, the $X$ axis corresponds to the states $|+\\rangle$ and $|-\\rangle$ encountered earlier, and the $Y$ axis corresponds to the states $|i\\rangle$ and $|-i\\rangle$.\n",
    "\n",
    "We can easily visualize a state with the Qiskit library:"
   ]
  },
  {
   "cell_type": "code",
   "execution_count": null,
   "id": "03719bea-6d9d-4fd9-ba26-4c5a11b08721",
   "metadata": {},
   "outputs": [],
   "source": [
    "from qiskit.visualization import plot_bloch_multivector\n",
    "from qiskit.quantum_info import Statevector\n",
    "\n",
    "state_vector = Statevector([ampl0, ampl1])  # Not to be confused with StateVector from Perceval\n",
    "plot_bloch_multivector(state_vector)"
   ]
  },
  {
   "cell_type": "markdown",
   "id": "c670bb25-555a-41b1-87a9-bef1a2456851",
   "metadata": {},
   "source": [
    "A simple $|0\\rangle$ : "
   ]
  },
  {
   "cell_type": "code",
   "execution_count": null,
   "id": "4c6c37d9-02cc-4a1d-8124-d1be002dd883",
   "metadata": {},
   "outputs": [],
   "source": [
    "plot_bloch_multivector(np.array(qubits[\"0\"]))  # Same as `plot_bloch_multivector([1, 0])`"
   ]
  },
  {
   "cell_type": "markdown",
   "id": "4b03e9cd-e1dc-4d38-9feb-181981b4b149",
   "metadata": {},
   "source": [
    "A small utility for the next part:"
   ]
  },
  {
   "cell_type": "code",
   "execution_count": null,
   "id": "8cabfdf2-3e38-4703-a8de-4fb4e734770f",
   "metadata": {},
   "outputs": [],
   "source": [
    "def circuit_to_state_vector(circuit):\n",
    "    backend = pcvl.BackendFactory.get_backend(\"Naive\")\n",
    "    backend.set_circuit(circuit)\n",
    "    backend.set_input_state(qubits[\"0\"])\n",
    "    ampl0, ampl1 = backend.prob_amplitude(qubits[\"0\"]), backend.prob_amplitude(qubits[\"1\"])\n",
    "    return Statevector([ampl0, ampl1])\n",
    "plot_bloch = lambda circuit: plot_bloch_multivector(circuit_to_state_vector(circuit))"
   ]
  },
  {
   "cell_type": "markdown",
   "id": "1992ac43-3722-46d9-939e-b04905f7d2c9",
   "metadata": {},
   "source": [
    "Our state $|+\\rangle$, created by applying a Hadamard gate to $|0\\rangle$ $\\left(|+\\rangle = H|0\\rangle\\right)$:"
   ]
  },
  {
   "cell_type": "code",
   "execution_count": null,
   "id": "fc9fb535-254f-4ae5-bcd6-5e480fcc0cf9",
   "metadata": {},
   "outputs": [],
   "source": [
    "plot_bloch(hadamard_gate)"
   ]
  },
  {
   "cell_type": "markdown",
   "id": "eeee2b58-8fbc-4641-9f97-9a8e37f90bc2",
   "metadata": {},
   "source": [
    "Given that measurement is a projection, in our case, onto the basis $\\left\\{|0\\rangle, |1\\rangle\\right\\}$, it is easier to see with this representation that the state $|+\\rangle$, when measured, is equally likely to yield $0$ as it is to yield $1$. It is also straightforward to see that the global phase (a rotation around the $Z$ axis) will have no effect on the measurement. This is reflected in the calculation, for $|\\psi\\rangle = e^{i\\theta} \\alpha |0\\rangle + e^{i\\theta} \\beta |1\\rangle$:\n",
    "$$\n",
    "\\Pr(0) = \\left|e^{i\\theta}\\alpha\\right|^2 = |\\alpha|^2\n",
    "$$\n",
    "$$\n",
    "\\Pr(1) = \\left|e^{i\\theta}\\beta\\right|^2 = |\\beta|^2\n",
    "$$\n",
    "\n",
    "Furthermore, we can also understand why the NOT gate is called an $X$ gate: A rotation of $\\pi$ around the $X$ axis changes the state $|0\\rangle$ to $|1\\rangle$, and vice versa."
   ]
  },
  {
   "cell_type": "markdown",
   "id": "0a32e8ef-85cf-4e8a-ac9d-27ebe1c1d6ab",
   "metadata": {},
   "source": [
    "### Final Step:"
   ]
  },
  {
   "cell_type": "markdown",
   "id": "d4599ef4-c50b-4843-ac76-720940e55c9a",
   "metadata": {},
   "source": [
    "Again, a few utility functions. As their names indicate, these functions allow rotations around the different axes with a chosen angle. To combine them, simply use the // operator.\n",
    "\n",
    "*(PS: Remember the right-hand rule :)*"
   ]
  },
  {
   "cell_type": "code",
   "execution_count": null,
   "id": "2c33df13-bf92-4ed0-badb-cd76fdca18f9",
   "metadata": {},
   "outputs": [],
   "source": [
    "x_rot = lambda x: pcvl.Circuit(2) // (0, pcvl.PS(np.pi)) // pcvl.BS.Rx(theta=x) // (0, pcvl.PS(np.pi)) \n",
    "y_rot = lambda x: pcvl.BS.Ry(theta=x)\n",
    "z_rot = lambda x: pcvl.BS.H() // x_rot(x) // pcvl.BS.H() "
   ]
  },
  {
   "cell_type": "markdown",
   "id": "a85856ea-2716-4c0f-8cc8-ab32881c59b7",
   "metadata": {},
   "source": [
    "Moving around the sphere then becomes trivial!"
   ]
  },
  {
   "cell_type": "code",
   "execution_count": null,
   "id": "5392496d-09d8-4a9c-a161-7dde22930b32",
   "metadata": {},
   "outputs": [],
   "source": [
    "# (All paths start from |0> with the functions I've written)\n",
    "the_way = x_rot(-np.pi/4) // z_rot(-np.pi/4)\n",
    "plot_bloch(the_way)"
   ]
  },
  {
   "cell_type": "code",
   "execution_count": null,
   "id": "f33c2ff3-0265-44b3-8dfc-f816bc887b1d",
   "metadata": {},
   "outputs": [],
   "source": [
    "pcvl.pdisplay(the_way)"
   ]
  },
  {
   "cell_type": "markdown",
   "id": "79db2ddd-4b7b-4af9-98bc-d40ab6e8661e",
   "metadata": {},
   "source": [
    "Perform the following path:\n",
    "\n",
    "Starting point:\n",
    "$$\n",
    "|\\phi_{start}\\rangle = \\frac{\\sqrt{2+\\sqrt{2}}}{2} |0\\rangle + \\frac{\\sqrt{2-\\sqrt{2}}}{2} e^{-i\\frac{\\pi}{4}} |1\\rangle\n",
    "$$\n",
    "\n",
    "Step:\n",
    "$$\n",
    "|\\phi_{step}\\rangle = |-\\rangle\n",
    "$$\n",
    "\n",
    "Endpoint:\n",
    "$$\n",
    "|\\phi_{finish}\\rangle = \\frac{\\sqrt{2-\\sqrt{2}}}{2} |0\\rangle + \\frac{\\sqrt{2+\\sqrt{2}}}{2} e^{i\\frac{\\pi}{4}} |1\\rangle\n",
    "$$\n",
    "\n",
    "Coordinates of the starting point:"
   ]
  },
  {
   "cell_type": "code",
   "execution_count": null,
   "id": "3c6a942d-aa46-4333-bb39-3cd70e7f7818",
   "metadata": {},
   "outputs": [],
   "source": [
    "start_state = np.array([np.sqrt(2+np.sqrt(2))/2, np.sqrt(2-np.sqrt(2))/2 * (np.sqrt(2)/2 - 1j * np.sqrt(2)/2)])\n",
    "plot_bloch_multivector(start_state)"
   ]
  },
  {
   "cell_type": "markdown",
   "id": "3f1040ea-8d28-432e-ada0-2efcc9b3bc3b",
   "metadata": {},
   "source": [
    "Coordinates of the step:"
   ]
  },
  {
   "cell_type": "code",
   "execution_count": null,
   "id": "59a22c75-595d-4afa-bd1e-a12a43e85884",
   "metadata": {},
   "outputs": [],
   "source": [
    "step_state = np.array([np.sqrt(2)/2, -np.sqrt(2)/2])\n",
    "plot_bloch_multivector(step_state)"
   ]
  },
  {
   "cell_type": "markdown",
   "id": "a888510a-efa5-4ac6-a049-07c439fbbc49",
   "metadata": {},
   "source": [
    "Coordinates of the end:"
   ]
  },
  {
   "cell_type": "code",
   "execution_count": null,
   "id": "bcbf060d-9d12-48a9-b074-b4f0b3a6ed4f",
   "metadata": {},
   "outputs": [],
   "source": [
    "finish_state = np.array([np.sqrt(2-np.sqrt(2))/2, np.sqrt(2+np.sqrt(2))/2 * (np.sqrt(2)/2 + 1j * np.sqrt(2)/2)])\n",
    "plot_bloch_multivector(finish_state)"
   ]
  },
  {
   "cell_type": "code",
   "execution_count": null,
   "id": "20bcda1a-008f-400c-aca7-844251aa8a97",
   "metadata": {},
   "outputs": [],
   "source": [
    "start = y_rot(np.pi/4) // z_rot(-np.pi/4)  # To position oneself at the starting point:\n",
    "\n",
    "delta = ...\n",
    "epsilon = ...\n",
    "zeta = ...\n",
    "eta = ... \n",
    "raise NotImplementedError\n",
    "\n",
    "# Another way to chain the gates\n",
    "final_step = (start\n",
    "                .add(0, z_rot(delta))\n",
    "                .add(0, y_rot(epsilon))  # Arrived at the Hadamard step\n",
    "                .add(0, y_rot(zeta))\n",
    "                .add(0, z_rot(eta))  # End of the journey!\n",
    "             )\n",
    "plot_bloch(final_step)"
   ]
  },
  {
   "cell_type": "markdown",
   "id": "395b26552e8ebea3",
   "metadata": {
    "collapsed": false,
    "jupyter": {
     "outputs_hidden": false
    }
   },
   "source": [
    "## Did You Notice?\n",
    "***This is a non-important physical point for the validation of the challenge, I just mention it for those who wonder.***\n",
    "\n",
    "The amplitudes of `start` and `start_state` are not the same!\n",
    "\n",
    "Indeed, this is a point I haven't addressed: **global phases** and **relative phases**. A global phase is a phase of the form $e^{i\\theta}|\\phi\\rangle$, it doesn't change anything in our calculations because it doesn't allow us to distinguish between $|0\\rangle$ and $|1\\rangle$. It **is not visible on the Bloch sphere but is in calculating the amplitudes**.\n",
    "\n",
    "On the other hand, the relative phase, a phase of the form $|\\psi\\rangle = \\alpha|0\\rangle +\\beta e^{i\\theta}|1\\rangle$, may have an impact depending on the following calculations (*see for example the **phase kickback** technique, central in Shor's algorithm*). It **is visible on the Bloch sphere and in calculating the amplitudes**.\n",
    "\n",
    "So, when I defined:\n",
    "```python\n",
    "start_state = np.array([np.sqrt(2+np.sqrt(2))/2, np.sqrt(2-np.sqrt(2))/2 * (np.sqrt(2)/2 - 1j * np.sqrt(2)/2)])\n",
    "``` \n",
    "The amplitudes are: $0.92|0\\rangle + (0.27 - 0.27i)|1\\rangle$. That is:\n",
    "$$\n",
    "|\\phi_{start}\\rangle = \\frac{\\sqrt{2+\\sqrt{2}}}{2} |0\\rangle + \\frac{\\sqrt{2-\\sqrt{2}}}{2} e^{-i\\frac{\\pi}{4}} |1\\rangle\n",
    "$$\n",
    "\n",
    "While when I defined:\n",
    "```python \n",
    "start = y_rot(np.pi/4) // z_rot(-np.pi/4) \n",
    "```\n",
    "The amplitudes are: $(-0.35+0.15i)|0\\rangle+ (-0.85-0.35i)|1\\rangle$. That is:\n",
    "$$\n",
    "|\\phi_{start}'\\rangle = \\frac{\\sqrt{2+\\sqrt{2}}}{2} e^{i\\frac{\\pi}{8}} |0\\rangle + \\frac{\\sqrt{2-\\sqrt{2}}}{2} e^{-i\\frac{\\pi}{8}} |1\\rangle\n",
    "$$\n",
    "\n",
    "We notice that $|\\phi_{start}\\rangle$ and $|\\phi_{start}'\\rangle$ differ only by a global phase:\n",
    "\n",
    "$$\n",
    "|\\phi_{start}'\\rangle = e^{i\\frac{\\pi}{8}} |\\phi_{start}\\rangle\n",
    "$$\n",
    "\n",
    "In my example of `super_not` above, I used a relative phase, whereas when I explained the $X$ and $Z$ rotations just before the final step, I was talking about global phase!"
   ]
  },
  {
   "cell_type": "markdown",
   "id": "70ceea6f-d339-4bb1-b08e-023ca762af27",
   "metadata": {},
   "source": [
    "## Flag Retrieval\n",
    "\n",
    "Run the cell below by providing the *URL* given in the statement. The tests performed are the same as in this *notebook*, but there may be issues if you have run the cells multiple times. **Feel free to restart the entire *notebook* at once.**"
   ]
  },
  {
   "cell_type": "code",
   "execution_count": null,
   "id": "7a4737eb-c1bb-4741-a405-e71a07a7068b",
   "metadata": {},
   "outputs": [],
   "source": [
    "import requests as rq\n",
    "\n",
    "def circuit_to_list(circuit):\n",
    "    return [[(x.real, x.imag) for x in l] for l in np.array(circuit.compute_unitary())]\n",
    "    \n",
    "d = {\n",
    "    \"step_one\": circuit_to_list(step_one),\n",
    "    \"step_two\": circuit_to_list(step_two),\n",
    "    \"final_step\": circuit_to_list(final_step)\n",
    "}\n",
    "\n",
    "URL = ...\n",
    "# URL = \"http://localhost:8000\"  \n",
    "# URL = \"https://perceval.challenges.404ctf.fr\"\n",
    "rq.get(URL + \"/healthcheck\").json()"
   ]
  },
  {
   "cell_type": "code",
   "execution_count": null,
   "id": "9a00a10057d77566",
   "metadata": {
    "collapsed": false,
    "jupyter": {
     "outputs_hidden": false
    }
   },
   "outputs": [],
   "source": [
    "rq.post(URL + \"/challenges/1\", json=d).json()"
   ]
  }
 ],
 "metadata": {
  "kernelspec": {
   "display_name": "Python 3 (ipykernel)",
   "language": "python",
   "name": "python3"
  },
  "language_info": {
   "codemirror_mode": {
    "name": "ipython",
    "version": 3
   },
   "file_extension": ".py",
   "mimetype": "text/x-python",
   "name": "python",
   "nbconvert_exporter": "python",
   "pygments_lexer": "ipython3",
   "version": "3.12.5"
  }
 },
 "nbformat": 4,
 "nbformat_minor": 5
}
