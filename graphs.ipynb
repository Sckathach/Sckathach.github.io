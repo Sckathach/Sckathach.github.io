{
 "cells": [
  {
   "metadata": {},
   "cell_type": "raw",
   "source": [
    "---\n",
    "title: Graphs\n",
    "execute:\n",
    "  echo: false\n",
    "---"
   ],
   "id": "a54898756960fecb"
  },
  {
   "metadata": {
    "collapsed": true,
    "ExecuteTime": {
     "end_time": "2024-09-12T20:44:36.913679Z",
     "start_time": "2024-09-12T20:44:36.882112Z"
    }
   },
   "cell_type": "code",
   "source": [
    "import networkx as nx\n",
    "from pyvis import network as net\n",
    "\n",
    "g = net.Network(notebook=True, cdn_resources=\"remote\", width=\"100%\", select_menu=True)\n",
    "\n",
    "nxg = nx.random_geometric_graph(20, 0.525, seed=666)\n",
    "g.from_nx(nxg)\n",
    "g.show_buttons()\n",
    "g.show(\"graph.html\")\n",
    "\n"
   ],
   "id": "initial_id",
   "outputs": [
    {
     "name": "stdout",
     "output_type": "stream",
     "text": [
      "graph.html\n"
     ]
    },
    {
     "data": {
      "text/plain": [
       "<IPython.lib.display.IFrame at 0x7bed35770470>"
      ],
      "text/html": [
       "\n",
       "        <iframe\n",
       "            width=\"100%\"\n",
       "            height=\"600px\"\n",
       "            src=\"graph.html\"\n",
       "            frameborder=\"0\"\n",
       "            allowfullscreen\n",
       "            \n",
       "        ></iframe>\n",
       "        "
      ]
     },
     "execution_count": 11,
     "metadata": {},
     "output_type": "execute_result"
    }
   ],
   "execution_count": 11
  },
  {
   "metadata": {},
   "cell_type": "code",
   "outputs": [],
   "execution_count": null,
   "source": "",
   "id": "95e210b2a3214dc5"
  }
 ],
 "metadata": {
  "kernelspec": {
   "display_name": "Python 3",
   "language": "python",
   "name": "python3"
  },
  "language_info": {
   "codemirror_mode": {
    "name": "ipython",
    "version": 2
   },
   "file_extension": ".py",
   "mimetype": "text/x-python",
   "name": "python",
   "nbconvert_exporter": "python",
   "pygments_lexer": "ipython2",
   "version": "2.7.6"
  }
 },
 "nbformat": 4,
 "nbformat_minor": 5
}
